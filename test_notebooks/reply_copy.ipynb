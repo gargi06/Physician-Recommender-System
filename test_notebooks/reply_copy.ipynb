{
 "cells": [
  {
   "cell_type": "code",
   "execution_count": 1,
   "metadata": {},
   "outputs": [],
   "source": [
    "import pandas as pd\n",
    "import numpy as np\n",
    "import re\n",
    "\n",
    "# from wordcloud import WordCloud, STOPWORDS\n",
    "# from collections import Counter\n",
    "#import scispacy\n",
    "#import spacy"
   ]
  },
  {
   "cell_type": "markdown",
   "metadata": {},
   "source": [
    "### Pre-Processing"
   ]
  },
  {
   "cell_type": "code",
   "execution_count": 2,
   "metadata": {},
   "outputs": [],
   "source": [
    "#importing\n",
    "df = pd.read_csv('df_diseases.csv')"
   ]
  },
  {
   "cell_type": "code",
   "execution_count": 3,
   "metadata": {},
   "outputs": [
    {
     "data": {
      "text/html": [
       "<div>\n",
       "<style scoped>\n",
       "    .dataframe tbody tr th:only-of-type {\n",
       "        vertical-align: middle;\n",
       "    }\n",
       "\n",
       "    .dataframe tbody tr th {\n",
       "        vertical-align: top;\n",
       "    }\n",
       "\n",
       "    .dataframe thead th {\n",
       "        text-align: right;\n",
       "    }\n",
       "</style>\n",
       "<table border=\"1\" class=\"dataframe\">\n",
       "  <thead>\n",
       "    <tr style=\"text-align: right;\">\n",
       "      <th></th>\n",
       "      <th>Unnamed: 0</th>\n",
       "      <th>name</th>\n",
       "      <th>link</th>\n",
       "      <th>symptoms</th>\n",
       "      <th>causes</th>\n",
       "      <th>risk_factor</th>\n",
       "      <th>overview</th>\n",
       "      <th>treatment</th>\n",
       "      <th>medication</th>\n",
       "      <th>home_remedies</th>\n",
       "    </tr>\n",
       "  </thead>\n",
       "  <tbody>\n",
       "    <tr>\n",
       "      <th>0</th>\n",
       "      <td>0</td>\n",
       "      <td>Acanthosis nigricans</td>\n",
       "      <td>https://www.mayoclinic.org/diseases-conditions...</td>\n",
       "      <td>[\"Skin changes are the only signs of acanthosi...</td>\n",
       "      <td>['Acanthosis nigricans has been associated wit...</td>\n",
       "      <td>['Acanthosis nigricans risk factors include:',...</td>\n",
       "      <td>['Acanthosis nigricans is a skin condition tha...</td>\n",
       "      <td>['In many situations, treating the underlying ...</td>\n",
       "      <td>NaN</td>\n",
       "      <td>NaN</td>\n",
       "    </tr>\n",
       "    <tr>\n",
       "      <th>1</th>\n",
       "      <td>1</td>\n",
       "      <td>Achalasia</td>\n",
       "      <td>https://www.mayoclinic.org/diseases-conditions...</td>\n",
       "      <td>NaN</td>\n",
       "      <td>NaN</td>\n",
       "      <td>NaN</td>\n",
       "      <td>[\"Achalasia is a rare disorder that makes it d...</td>\n",
       "      <td>['Achalasia treatment focuses on relaxing or f...</td>\n",
       "      <td>NaN</td>\n",
       "      <td>NaN</td>\n",
       "    </tr>\n",
       "  </tbody>\n",
       "</table>\n",
       "</div>"
      ],
      "text/plain": [
       "   Unnamed: 0                  name  \\\n",
       "0           0  Acanthosis nigricans   \n",
       "1           1             Achalasia   \n",
       "\n",
       "                                                link  \\\n",
       "0  https://www.mayoclinic.org/diseases-conditions...   \n",
       "1  https://www.mayoclinic.org/diseases-conditions...   \n",
       "\n",
       "                                            symptoms  \\\n",
       "0  [\"Skin changes are the only signs of acanthosi...   \n",
       "1                                                NaN   \n",
       "\n",
       "                                              causes  \\\n",
       "0  ['Acanthosis nigricans has been associated wit...   \n",
       "1                                                NaN   \n",
       "\n",
       "                                         risk_factor  \\\n",
       "0  ['Acanthosis nigricans risk factors include:',...   \n",
       "1                                                NaN   \n",
       "\n",
       "                                            overview  \\\n",
       "0  ['Acanthosis nigricans is a skin condition tha...   \n",
       "1  [\"Achalasia is a rare disorder that makes it d...   \n",
       "\n",
       "                                           treatment medication home_remedies  \n",
       "0  ['In many situations, treating the underlying ...        NaN           NaN  \n",
       "1  ['Achalasia treatment focuses on relaxing or f...        NaN           NaN  "
      ]
     },
     "execution_count": 3,
     "metadata": {},
     "output_type": "execute_result"
    }
   ],
   "source": [
    "df.head(2)"
   ]
  },
  {
   "cell_type": "code",
   "execution_count": 4,
   "metadata": {},
   "outputs": [],
   "source": [
    "# dropping col's\n",
    "df.drop([df.columns[0],df.columns[2]],axis=1,inplace=True)"
   ]
  },
  {
   "cell_type": "code",
   "execution_count": 5,
   "metadata": {},
   "outputs": [],
   "source": [
    "# Filling NaN values with empty string\n",
    "df.fillna('',inplace=True)"
   ]
  },
  {
   "cell_type": "code",
   "execution_count": 6,
   "metadata": {},
   "outputs": [],
   "source": [
    "## some pre-processing\n",
    "for i in range(len(df)):\n",
    "    \n",
    "    df.loc[i,'symptoms']=re.sub('[^A-Za-z0-9., ]+', '', df.loc[i,'symptoms'])\n",
    "    df.loc[i,'causes']=re.sub('[^A-Za-z0-9., ]+', '', df.loc[i,'causes'])\n",
    "    df.loc[i,'risk_factor']=re.sub('[^A-Za-z0-9., ]+', '', df.loc[i,'risk_factor'])\n",
    "    \n",
    "    df.loc[i,'overview']=re.sub('[^A-Za-z0-9., ]+', '', df.loc[i,'overview'])\n",
    "    df.loc[i,'treatment']=re.sub('[^A-Za-z0-9., ]+', '', df.loc[i,'treatment'])\n",
    "    df.loc[i,'medication']=re.sub('[^A-Za-z0-9., ]+', '', df.loc[i,'medication'])\n",
    "    \n",
    "    df.loc[i,'home_remedies']=re.sub('[^A-Za-z0-9., ]+', '', df.loc[i,'home_remedies'])"
   ]
  },
  {
   "cell_type": "code",
   "execution_count": 7,
   "metadata": {},
   "outputs": [],
   "source": [
    "#some more preprocessing\n",
    "df['name']=df['name'].str.lower()\n",
    "df['symptoms']=df['symptoms'].str.lower()\n",
    "df['causes']=df['causes'].str.lower()\n",
    "\n",
    "df['risk_factor']=df['risk_factor'].str.lower()\n",
    "df['overview']=df['overview'].str.lower()\n",
    "df['treatment']=df['treatment'].str.lower()\n",
    "\n",
    "df['medication']=df['medication'].str.lower()\n",
    "df['home_remedies']=df['home_remedies'].str.lower()"
   ]
  },
  {
   "cell_type": "markdown",
   "metadata": {},
   "source": [
    "### Creating Classes"
   ]
  },
  {
   "cell_type": "code",
   "execution_count": 8,
   "metadata": {},
   "outputs": [],
   "source": [
    "#adding a new column named 'class' which will contain the category of the disease\n",
    "df['class'] = -1"
   ]
  },
  {
   "cell_type": "code",
   "execution_count": 9,
   "metadata": {},
   "outputs": [],
   "source": [
    "def create_classes(row):\n",
    "    if((row['medication']=='') and (row['home_remedies']=='')):\n",
    "        return 1\n",
    "    elif((row['medication']!='') and (row['home_remedies']=='')):\n",
    "        return 2\n",
    "    elif((row['medication']!='') and (row['home_remedies']!='')):\n",
    "        return 3\n",
    "    elif((row['medication']=='') and (row['home_remedies']!='')):\n",
    "        return 4"
   ]
  },
  {
   "cell_type": "code",
   "execution_count": 10,
   "metadata": {},
   "outputs": [],
   "source": [
    "df['class'] = df.apply(create_classes, axis=1)"
   ]
  },
  {
   "cell_type": "markdown",
   "metadata": {},
   "source": [
    "## Creating columns - 'organs', 'systems' and 'final_system' using dictionary"
   ]
  },
  {
   "cell_type": "code",
   "execution_count": 11,
   "metadata": {},
   "outputs": [],
   "source": [
    "organ_dict={\"muscular system\": [\"human skeleton\", \"joints\", \"ligaments\", \"muscular system\", \"tendons\"],\n",
    " \"digestive system\": [\"mouth\", \"teeth\", \"tongue\", \"salivary glands\", \"parotid glands\", \"submandibular glands\", \"sublingual glands\", \"pharynx\", \"esophagus\", \"stomach\", \"small intestine\", \"duodenum\", \"jejunum\", \"ileum\", \"large intestine\", \"liver\", \"gallbladder\", \"mesentery\", \"pancreas\", \"anal canal\", \"anus\", \"blood cells\"],\n",
    " \"respiratory system\": [\"nasal cavity\", \"pharynx\", \"larynx\", \"trachea\", \"bronchi\", \"lungs\", \"diaphragm\"],\n",
    " \"urinary system\": [\"kidneys\", \"ureter\", \"bladder\", \"urethra\"],\n",
    " \"reproductive system\": [\"testes\", \"epididymis\", \"vas deferens\", \"seminal vesicles\", \"prostate\", \"bulbourethral glands\", \"ovaries\", \"fallopian tubes\", \"uterus\", \"vagina\", \"vulva\", \"clitoris\", \"placenta\", \"penis\", \"scrotum\"],\n",
    " \"endocrine system\": [\"pituitary gland\", \"pineal gland\", \"thyroid gland\", \"parathyroid glands\", \"adrenal glands\", \"pancreas\"],\n",
    " \"circulatory system\": [\"heart\", \"patent foramen ovale\", \"arteries\", \"veins\", \"capillaries\", \"lymphatic vessel\", \"lymph node\", \"bone marrow\", \"thymus\", \"spleen\", \"gut-associated lymphoid tissue\", \"tonsils\", \"interstitium\"],\n",
    " \"nervous system\": [\"brain\", \"cerebrum\", \"cerebral hemispheres\", \"diencephalon\", \"the brainstem\", \"midbrain\", \"pons\", \"medulla oblongata\", \"cerebellum\", \"the spinal cord\", \"the ventricular system\", \"choroid plexus\", \"nerves\", \"cranial nerves\", \"spinal nerves\", \"ganglia\", \"enteric nervous system\", \"eye\", \"cornea\", \"iris\", \"ciliary body\", \"lens\", \"retina\", \"ear\", \"outer ear\", \"earlobe\", \"eardrum\", \"middle ear\", \"ossicles\", \"inner ear\", \"cochlea\", \"vestibule of the ear\", \"semicircular canals\", \"olfactory epithelium\", \"tongue\", \"taste buds\"],\n",
    " \"integumentary system\": [\"mammary glands\", \"skin\", \"subcutaneous tissue\"]}"
   ]
  },
  {
   "cell_type": "code",
   "execution_count": 12,
   "metadata": {},
   "outputs": [],
   "source": [
    "organ_keys = organ_dict.keys()"
   ]
  },
  {
   "cell_type": "code",
   "execution_count": 13,
   "metadata": {},
   "outputs": [
    {
     "data": {
      "text/plain": [
       "dict_keys(['muscular system', 'digestive system', 'respiratory system', 'urinary system', 'reproductive system', 'endocrine system', 'circulatory system', 'nervous system', 'integumentary system'])"
      ]
     },
     "execution_count": 13,
     "metadata": {},
     "output_type": "execute_result"
    }
   ],
   "source": [
    "organ_keys"
   ]
  },
  {
   "cell_type": "code",
   "execution_count": 14,
   "metadata": {},
   "outputs": [],
   "source": [
    "df['organs'] = [[] for _ in range(len(df))]"
   ]
  },
  {
   "cell_type": "code",
   "execution_count": 15,
   "metadata": {},
   "outputs": [],
   "source": [
    "for i in range(len(df)):\n",
    "    \n",
    "    s = df['symptoms'][i] + df['causes'][i] + df['risk_factor'][i] + df['overview'][i]\n",
    "    s_tokens = s.split(' ')\n",
    "    \n",
    "    for value in organ_keys:\n",
    "        val = organ_dict.get(value)\n",
    "        for j in val:\n",
    "            if(j in s_tokens):\n",
    "                df.loc[i,'organs'].append(j)"
   ]
  },
  {
   "cell_type": "code",
   "execution_count": 16,
   "metadata": {},
   "outputs": [],
   "source": [
    "df['systems'] = [[] for _ in range(len(df))]"
   ]
  },
  {
   "cell_type": "code",
   "execution_count": 17,
   "metadata": {},
   "outputs": [],
   "source": [
    "key_list = list(organ_dict.keys()) \n",
    "val_list = list(organ_dict.values()) "
   ]
  },
  {
   "cell_type": "code",
   "execution_count": 18,
   "metadata": {},
   "outputs": [],
   "source": [
    "#val_list"
   ]
  },
  {
   "cell_type": "code",
   "execution_count": 19,
   "metadata": {},
   "outputs": [],
   "source": [
    "#key_list"
   ]
  },
  {
   "cell_type": "code",
   "execution_count": 20,
   "metadata": {},
   "outputs": [],
   "source": [
    "for i in range(len(df)):\n",
    "    for val in df['organs'][i]:\n",
    "        for k in range(len(val_list)):\n",
    "            if(val in val_list[k]):\n",
    "                df['systems'][i].append(key_list[k])"
   ]
  },
  {
   "cell_type": "code",
   "execution_count": 21,
   "metadata": {},
   "outputs": [
    {
     "data": {
      "text/html": [
       "<div>\n",
       "<style scoped>\n",
       "    .dataframe tbody tr th:only-of-type {\n",
       "        vertical-align: middle;\n",
       "    }\n",
       "\n",
       "    .dataframe tbody tr th {\n",
       "        vertical-align: top;\n",
       "    }\n",
       "\n",
       "    .dataframe thead th {\n",
       "        text-align: right;\n",
       "    }\n",
       "</style>\n",
       "<table border=\"1\" class=\"dataframe\">\n",
       "  <thead>\n",
       "    <tr style=\"text-align: right;\">\n",
       "      <th></th>\n",
       "      <th>name</th>\n",
       "      <th>symptoms</th>\n",
       "      <th>causes</th>\n",
       "      <th>risk_factor</th>\n",
       "      <th>overview</th>\n",
       "      <th>treatment</th>\n",
       "      <th>medication</th>\n",
       "      <th>home_remedies</th>\n",
       "      <th>class</th>\n",
       "      <th>organs</th>\n",
       "      <th>systems</th>\n",
       "    </tr>\n",
       "  </thead>\n",
       "  <tbody>\n",
       "    <tr>\n",
       "      <th>0</th>\n",
       "      <td>acanthosis nigricans</td>\n",
       "      <td>skin changes are the only signs of acanthosis ...</td>\n",
       "      <td>acanthosis nigricans has been associated with,...</td>\n",
       "      <td>acanthosis nigricans risk factors include, obe...</td>\n",
       "      <td>acanthosis nigricans is a skin condition that ...</td>\n",
       "      <td>in many situations, treating the underlying pr...</td>\n",
       "      <td></td>\n",
       "      <td></td>\n",
       "      <td>1</td>\n",
       "      <td>[stomach, pancreas, pancreas, skin]</td>\n",
       "      <td>[digestive system, digestive system, endocrine...</td>\n",
       "    </tr>\n",
       "    <tr>\n",
       "      <th>1</th>\n",
       "      <td>achalasia</td>\n",
       "      <td></td>\n",
       "      <td></td>\n",
       "      <td></td>\n",
       "      <td>achalasia is a rare disorder that makes it dif...</td>\n",
       "      <td>achalasia treatment focuses on relaxing or for...</td>\n",
       "      <td></td>\n",
       "      <td></td>\n",
       "      <td>1</td>\n",
       "      <td>[mouth, esophagus, stomach, nerves]</td>\n",
       "      <td>[digestive system, digestive system, digestive...</td>\n",
       "    </tr>\n",
       "  </tbody>\n",
       "</table>\n",
       "</div>"
      ],
      "text/plain": [
       "                   name                                           symptoms  \\\n",
       "0  acanthosis nigricans  skin changes are the only signs of acanthosis ...   \n",
       "1             achalasia                                                      \n",
       "\n",
       "                                              causes  \\\n",
       "0  acanthosis nigricans has been associated with,...   \n",
       "1                                                      \n",
       "\n",
       "                                         risk_factor  \\\n",
       "0  acanthosis nigricans risk factors include, obe...   \n",
       "1                                                      \n",
       "\n",
       "                                            overview  \\\n",
       "0  acanthosis nigricans is a skin condition that ...   \n",
       "1  achalasia is a rare disorder that makes it dif...   \n",
       "\n",
       "                                           treatment medication home_remedies  \\\n",
       "0  in many situations, treating the underlying pr...                            \n",
       "1  achalasia treatment focuses on relaxing or for...                            \n",
       "\n",
       "   class                               organs  \\\n",
       "0      1  [stomach, pancreas, pancreas, skin]   \n",
       "1      1  [mouth, esophagus, stomach, nerves]   \n",
       "\n",
       "                                             systems  \n",
       "0  [digestive system, digestive system, endocrine...  \n",
       "1  [digestive system, digestive system, digestive...  "
      ]
     },
     "execution_count": 21,
     "metadata": {},
     "output_type": "execute_result"
    }
   ],
   "source": [
    "df.head(2)"
   ]
  },
  {
   "cell_type": "markdown",
   "metadata": {},
   "source": [
    "### Manual Entries"
   ]
  },
  {
   "cell_type": "code",
   "execution_count": 22,
   "metadata": {},
   "outputs": [],
   "source": [
    "#apurv\n",
    "\n",
    "df.at[525,'organs']=['large intestine']\n",
    "df.at[525,'systems']=['digestive system']\n",
    "\n",
    "df.at[537,'organs']=['nose','eyes','throat','skin']\n",
    "df.at[537,'systems']=['respiratory system']\n",
    "\n",
    "df.at[539,'organs']=['blood']\n",
    "df.at[539,'systems']=['circulatory system']\n",
    "\n",
    "df.at[541,'organs']=['brain']\n",
    "df.at[541,'systems']=['nervous system'] #psycological disorder\n",
    "\n",
    "df.at[550,'organs']=['blood cells']\n",
    "df.at[550,'systems']=['circulatory system'] #type of blood cancer\n",
    "\n",
    "df.at[551,'organs']=['brain']\n",
    "df.at[551,'systems']=['nervous system'] #psycological disorder\n",
    "\n",
    "df.at[552,'organs']=['salivary gland'] #infection in salivary glands due to bacteria\n",
    "df.at[552,'systems']=['digestive system']\n",
    "\n",
    "df.at[554,'organs']=['muscles']\n",
    "df.at[554,'systems']=['muscular system']\n",
    "\n",
    "df.at[555,'organs']=['muscles']\n",
    "df.at[555,'systems']=['muscular system']\n",
    "\n",
    "df.at[558,'organs']=['muscles']\n",
    "df.at[558,'systems']=['muscular system'] #bone marrow cancer\n",
    "\n",
    "df.at[563,'organs']=['muscles']\n",
    "df.at[563,'systems']=['muscular system'] #extreme pain in muscles due to various reasons\n",
    "\n",
    "df.at[564,'organs']=['legs','arms']\n",
    "df.at[564,'systems']=['muscular system'] #cancer that develops lump in legs or arms\n",
    "\n",
    "df.at[566,'organs']=['nose','eyes','mouth']\n",
    "df.at[566,'systems']=['respiratory system'] #cancer developing in nose\n",
    "\n",
    "df.at[576,'organs']=['nerves'] #tumor nerves in peripheral nervous system\n",
    "df.at[576,'systems']=['nervous system']\n",
    "\n",
    "#the disease is classified as a disease of the respiratory sytem, but actually for nose fracture the \n",
    "#patient must be recommended to an orthopedic\n",
    "df.at[593,'organs']=['nose']\n",
    "df.at[593,'systems']=['respiratory system'] #nose fracture\n",
    "\n",
    "df.at[594,'organs']=['fat']\n",
    "df.at[594,'systems']=['integumentary system'] #obesity\n",
    "\n",
    "df.at[603,'organs']=['brain']\n",
    "df.at[603,'systems']=['nervous system'] #a type of brain tumor\n",
    "\n",
    "df.at[609,'organs']=['joints']\n",
    "df.at[609,'systems']=['muscular system']\n",
    "\n",
    "df.at[614,'organs']=['joints','bones']\n",
    "df.at[614,'systems']=['muscular system']\n",
    "\n",
    "df.at[617,'organs']=['bone']\n",
    "df.at[617,'systems']=['muscular system'] #bone cancer\n",
    "\n",
    "df.at[623,'organs']=['thyroid gland']\n",
    "df.at[623,'systems']=['endocrine system'] #cancer that occurs in the cells of thyroid gland\n",
    "\n",
    "df.at[637,'organs']=['nerves']\n",
    "df.at[637,'systems']=['nervous system'] #tumor in certain nerves\n",
    "\n",
    "df.at[640,'organs']=['salivary glands']\n",
    "df.at[640,'systems']=['digestive system'] #tumor in salivary glands\n",
    "\n",
    "df.at[641,'organs']=['pumonary veins']\n",
    "df.at[641,'systems']=['circulatory system'] #defect in pulmonary veins of the heart\n",
    "\n",
    "df.at[643,'organs']=['brain']\n",
    "df.at[643,'systems']=['nervous system'] #mental disorder\n",
    "\n",
    "df.at[647,'organs']=['chest']\n",
    "df.at[647,'systems']=['circulatory system'] \n",
    "\n",
    "df.at[649,'organs']=['hair','scalp']\n",
    "df.at[649,'systems']=['integumentary system'] #tiny insects infect the scalp\n",
    "\n",
    "df.at[670,'organs']=['foot']\n",
    "df.at[670,'systems']=['muscular system'] \n",
    "\n",
    "df.at[679,'organs']=['brain','pineal gland']\n",
    "df.at[679,'systems']=['nervous system'] #cancer develops in the pineal gland of brain\n",
    "\n",
    "df.at[689,'organs']=['tissue']\n",
    "df.at[689,'systems']=['muscular system']\n",
    "\n",
    "df.at[694,'organs']=['lungs']\n",
    "df.at[694,'systems']=['respiratory system']\n",
    "\n",
    "df.at[700,'organs']=['muscles']\n",
    "df.at[700,'systems']=['muscular system']\n",
    "\n",
    "df.at[701,'organs']=['rectum','large intestine']\n",
    "df.at[701,'systems']=['digestive system']\n",
    "\n",
    "df.at[702,'organs']=['sinus','nose']\n",
    "df.at[702,'systems']=['respiratory system']\n",
    "\n",
    "df.at[704,'organs']=['popliteal artery','knee joint']\n",
    "df.at[704,'systems']=['circulatory system']\n",
    "\n",
    "df.at[706,'organs']=['knee','joint']\n",
    "df.at[706,'systems']=['muscular system']\n",
    "\n",
    "df.at[714,'organs']=['brain']\n",
    "df.at[714,'systems']=['nervous system'] #psycological disorder\n",
    "\n",
    "df.at[715,'organs']=['urine']\n",
    "df.at[715,'systems']=['reproductive system']\n",
    "\n",
    "df.at[716,'organs']=['thyroid gland']\n",
    "df.at[716,'systems']=['endocrine system']\n",
    "\n",
    "df.at[722,'organs']=['None']\n",
    "df.at[722,'systems']=['Reproductive system']\n",
    "\n",
    "df.at[728,'organs']=['brain']\n",
    "df.at[728,'systems']=['nervous system'] #psycological disorder, addiction\n",
    "\n",
    "df.at[735,'organs']=['adrenal gland']\n",
    "df.at[735,'systems']=['endocrine system']\n",
    "\n",
    "df.at[748,'organs']=['muscles']\n",
    "df.at[748,'systems']=['muscular system']\n",
    "\n",
    "df.at[750,'organs']=['large intestine']\n",
    "df.at[750,'systems']=['digestive system'] #swelling of large intestine due to bacteria\n",
    "\n",
    "df.at[757,'organs']=['pulmonary valve']\n",
    "df.at[757,'systems']=['cirulatory system']\n",
    "\n",
    "df.at[758,'organs']=['heart']\n",
    "df.at[758,'systems']=['ciruclatory system']\n",
    "\n",
    "df.at[769,'organs']=['body']\n",
    "df.at[769,'systems']=['nervous system']\n",
    "\n",
    "df.at[775,'organs']=['brain']\n",
    "df.at[775,'systems']=['nervous system']\n",
    "\n",
    "df.at[776,'organs']=['rectum']\n",
    "df.at[776,'systems']=['reproductive system']\n",
    "\n",
    "#end of apurv code\n",
    "\n",
    "#Gargi\n",
    "\n",
    "#df['name'][270] = 'fibrocystic breasts'\n",
    "df.at[270,'organs']=['breasts']\n",
    "df.at[270,'systems']=['reproductive system']\n",
    "\n",
    "#df['name'][274] = 'fibrous dysplasia'\n",
    "df.at[274,'organs']=['bone']\n",
    "df.at[274,'systems']=['muscular system']\n",
    "\n",
    "#df['name'][281] = 'foot fracture (see: broken foot)'\n",
    "df.at[281,'organs']=['foot', 'bones']\n",
    "df.at[281,'systems']=['muscular system']\n",
    "\n",
    "#df['name'][282] = 'fracture, arm (see: broken arm)'\n",
    "df.at[282,'organs']=['bone']\n",
    "df.at[282,'systems']=['muscular system']\n",
    "\n",
    "#df['name'][298] = 'gastrointestinal stromal tumor (gist)'\n",
    "df.at[298,'organs']=['stomach', 'intestine']\n",
    "df.at[298,'systems']=['digestive system']\n",
    "\n",
    "#df['name'][300] = 'gender identity disorder (see: gender dysphoria)'\n",
    "df.at[300,'organs']=['reproductive system']\n",
    "df.at[300,'systems']=['reproductive system']\n",
    "\n",
    "#df['name'][306] = 'giardia infection (giardiasis)'\n",
    "df.at[306,'organs']=['stomach', 'intestine']\n",
    "df.at[306,'systems']=['digestive system']\n",
    "\n",
    "#df['name'][309] = 'glioblastoma'\n",
    "df.at[309,'organs']=['brain', 'spine']\n",
    "df.at[309,'systems']=['nervous system']\n",
    "\n",
    "#df['name'][318] = 'growing pains'\n",
    "df.at[318,'organs']=['legs','thighs','knees','calves']\n",
    "df.at[318,'systems']=['muscular system']\n",
    "\n",
    "#df['name'][325] = 'hamstring injury'\n",
    "df.at[325,'organs']=['thigh']\n",
    "df.at[325,'systems']=['muscular system']\n",
    "\n",
    "#df['name'][326] = 'hand fracture (see: broken hand)'\n",
    "df.at[326,'organs']=['hand']\n",
    "df.at[326,'systems']=['muscular system']\n",
    "\n",
    "#df['name'][330] = 'head and neck cancers'\n",
    "df.at[330,'organs']=['mouth', 'sinuses', 'nose', 'throat']\n",
    "df.at[330,'systems']=['respiratory system']\n",
    "\n",
    "#df['name'][346] = 'hemifacial spasm\n",
    "df.at[346,'organs']=['facial muscles']\n",
    "df.at[346,'systems']=['muscular system']\n",
    "\n",
    "#df['name'][353] = 'hepatocellular carcinoma'\n",
    "df.at[353,'organs']=['liver']\n",
    "df.at[353,'systems']=['digestive system']\n",
    "\n",
    "#df['name'][361] = 'hip dysplasia'\n",
    "df.at[361,'organs']=['hip']\n",
    "df.at[361,'systems']=['muscular system']\n",
    "\n",
    "#df['name'][363] = 'hip impingement'\n",
    "df.at[363,'organs']=['hip']\n",
    "df.at[363,'systems']=['muscular system']\n",
    "\n",
    "#df['name'][364] = 'hip labral tear'\n",
    "df.at[364,'organs']=['labrum', 'hip']\n",
    "df.at[364,'systems']=['muscular system']\n",
    "\n",
    "#df['name'][374] = 'hydronephrosis'\n",
    "df.at[374,'organs']=['abdomen', 'kidney']\n",
    "df.at[374,'systems']=['digestive system', 'urinary system']\n",
    "\n",
    "#df['name'][386] = 'hypoglycemia, diabetic (see: diabetic hypoglycemia)'\n",
    "df.at[386,'organs']=['low sugar']\n",
    "df.at[386,'systems']=['digestive system']\n",
    "\n",
    "#df['name'][395] = 'idiopathic hypersomnia'\n",
    "df.at[395,'organs']=['neurological sleep disorder']\n",
    "df.at[395,'systems']=['nervous system']\n",
    "\n",
    "#df['name'][402] = 'ncomplete fracture (see: greenstick fractures)'\n",
    "df.at[402,'organs']=['bones', 'forearm', 'legs']\n",
    "df.at[402,'systems']=['muscular system']\n",
    "\n",
    "#df['name'][408] = 'inflammatory bowel disease (ibd)'\n",
    "df.at[408,'organs']=['digestive tract']\n",
    "df.at[408,'systems']=['digestive system']\n",
    "\n",
    "#df['name'][413] = 'ingrown toenails'\n",
    "df.at[413,'organs']=['toenails', 'nails', 'finger']\n",
    "df.at[413,'systems']=['integumentary system']\n",
    "\n",
    "#df['name'][416] = 'intestinal obstruction'\n",
    "df.at[416,'organs']=['abdomen', 'intestine']\n",
    "df.at[416,'systems']=['digestive system']\n",
    "\n",
    "#df['name'][418] = 'intraductal carcinoma (see: ductal carcinoma in situ (dcis))'\n",
    "df.at[418,'organs']=['breasts']\n",
    "df.at[418,'systems']=['reproductive system']\n",
    "\n",
    "#df['name'][419] = 'intussusception'\n",
    "df.at[419,'organs']=['intestine']\n",
    "df.at[419,'systems']=['digestive system']\n",
    "\n",
    "#df['name'][432] = 'Kaposi sarcoma'\n",
    "df.at[432,'organs']=['skin', 'lymph nodes', 'mucous membranes lining the mouth', 'nose', 'throat']\n",
    "df.at[432,'systems']=['integumentary system']\n",
    "\n",
    "#df['name'][436] = 'kidney cysts'\n",
    "df.at[436,'organs']=['kidney']\n",
    "df.at[436,'systems']=['urinary system']\n",
    "\n",
    "#df['name'][438] = 'klatskin tumor (see: hilar cholangiocarcinoma)'\n",
    "df.at[438,'organs']=['hepatic duct', 'liver']\n",
    "df.at[438,'systems']=['digestive system']\n",
    "\n",
    "#df['name'][439] = 'klinefelter syndrome'\n",
    "df.at[439,'organs']=['genetic', 'reproductive']\n",
    "df.at[439,'systems']=['reproductive system']\n",
    "\n",
    "#df['name'][450] = 'leg fracture (see: broken leg)'\n",
    "df.at[450,'organs']=['leg', 'bone']\n",
    "df.at[450,'systems']=['muscular system']\n",
    "\n",
    "#df['name'][451] = 'legg-calve-perthes disease'\n",
    "df.at[451,'organs']=['femur', 'hip', 'bone', 'thigh bone']\n",
    "df.at[451,'systems']=['circulatory system']\n",
    "\n",
    "#df['name'][452] = 'legionnaires disease'\n",
    "df.at[452,'organs']=['heart' , 'lungs' ,'muscles']\n",
    "df.at[452,'systems']=['muscular system','respiratory system', 'circulatory system']\n",
    "\n",
    "#df['name'][453] = 'leiomyosarcoma'\n",
    "df.at[453,'organs']=['stomach','bladder', 'intestine', 'uterus']\n",
    "df.at[453,'systems']=['reproductive system','urinary system']\n",
    "\n",
    "#df['name'][454] = 'leukemia, acute lymphocytic (see: acute lymphocytic leukemia)'\n",
    "df.at[454,'organs']=['blood', 'bone marrow']\n",
    "df.at[454,'systems']=['circulatory system']\n",
    "\n",
    "#df['name'][455] = 'leukemia, acute myelogenous (see: acute myelogenous leukemia)'\n",
    "df.at[455,'organs']=['blood', 'bone marrow']\n",
    "df.at[455,'systems']=['circulatory system']\n",
    "\n",
    "#df['name'][456] = 'leukemia, chronic lymphocytic (see: chronic lymphocytic leukemia)'\n",
    "df.at[456,'organs']=['blood', 'bone marrow']\n",
    "df.at[456,'systems']=['circulatory system']\n",
    "\n",
    "#df['name'][457] = 'leukemia, chronic myelogenous (see: chronic myelogenous leukemia)'\n",
    "df.at[457,'organs']=['blood', 'bone marrow']\n",
    "df.at[457,'systems']=['circulatory system']\n",
    "\n",
    "#df['name'][459] = 'leukemia, hairy cell (see: hairy cell leukemia)'\n",
    "df.at[459,'organs']=['blood', 'bone marrow']\n",
    "df.at[459,'systems']=['circulatory system']\n",
    "\n",
    "#df['name'][469] = 'liposarcoma'\n",
    "df.at[469,'organs']=['abdomen', 'thigh', 'knee', 'fat cells']\n",
    "df.at[469,'systems']=['muscular system']\n",
    "\n",
    "#df['name'][470] = 'listeriosis (see: listeria infection)'\n",
    "df.at[470,'organs']=['brain', 'spinal cord', 'bloodstream']\n",
    "df.at[470,'systems']=['nervous system','circulatory system']\n",
    "\n",
    "#df['name'][476] = 'lobular carcinoma in situ (lcis)'\n",
    "df.at[476,'organs']=['breasts']\n",
    "df.at[476,'systems']=['reproductive system']\n",
    "\n",
    "#df['name'][481] = 'low sex drive in women'\n",
    "df.at[481,'organs']=['reproductive system']\n",
    "df.at[481,'systems']=['reproductive system']\n",
    "\n",
    "#df['name'][501] = 'mammary duct ectasia'\n",
    "df.at[501,'organs']=['breasts']\n",
    "df.at[501,'systems']=['reproductive system']\n",
    "\n",
    "#df['name'][502] = 'manic-depressive illness (see: bipolar disorder)'\n",
    "df.at[502,'organs']=['nervous system']\n",
    "df.at[502,'systems']=['nervous system']\n",
    "\n",
    "#df['name'][507] = 'mcad deficiency'\n",
    "df.at[507,'organs']=['skeletal- and heart muscle', 'liver', 'brain']\n",
    "df.at[507,'systems']=['circulatory system', 'digestive system', 'nervous system']\n",
    "\n",
    "#df['name'][509] = 'medulloblastoma'\n",
    "df.at[509,'organs']=['cerebellum', 'brain']\n",
    "df.at[509,'systems']=['nervous system']\n",
    "\n",
    "#df['name'][523] = 'metatarsalgia'\n",
    "df.at[523,'organs']=['foot']\n",
    "df.at[523,'systems']=['muscular system']\n",
    "\n",
    "#end of gargi code\n",
    "                     \n",
    "\n",
    "#pradeumna\n",
    "\n",
    "df.at[779,'organs']=['anus']\n",
    "df.at[779,'systems']=['digestive system']\n",
    "\n",
    "df.at[791,'organs']=['human skeleton']\n",
    "df.at[791,'systems']=['muscular system']\n",
    "\n",
    "df.at[808,'organs']=['brain']\n",
    "df.at[808,'systems']=['nervous system']\n",
    "\n",
    "df.at[810,'organs']=['stomach']\n",
    "df.at[810,'systems']=['digestive system']\n",
    "\n",
    "df.at[811,'organs']=['tendons']\n",
    "df.at[811,'systems']=['muscular system']\n",
    "\n",
    "df.at[815,'organs']=['joints']\n",
    "df.at[815,'systems']=['muscular system']\n",
    "\n",
    "df.at[823,'organs']=['human skeleton']\n",
    "df.at[823,'systems']=['nervous system']\n",
    "\n",
    "df.at[826,'organs']=['brain']\n",
    "df.at[826,'systems']=['nervous system']\n",
    "\n",
    "df.at[827,'organs']=['brain']\n",
    "df.at[827,'systems']=['nervous system']\n",
    "\n",
    "df.at[831,'organs']=['brain']\n",
    "df.at[831,'systems']=['nervous system']\n",
    "\n",
    "df.at[841,'organs']=['skin']\n",
    "df.at[841,'systems']=['integumentary system']\n",
    "\n",
    "df.at[848,'organs']=['brain']\n",
    "df.at[848,'systems']=['nervous system']\n",
    "\n",
    "df.at[849,'organs']=['brain']\n",
    "df.at[849,'systems']=['nervous system']\n",
    "\n",
    "df.at[853,'organs']=['brain']\n",
    "df.at[853,'systems']=['nervous system']\n",
    "\n",
    "df.at[859,'organs']=['lungs']\n",
    "df.at[859,'systems']=['respiratory system']\n",
    "\n",
    "df.at[867,'organs']=['large intestine']\n",
    "df.at[867,'systems']=['digestive system']\n",
    "\n",
    "df.at[876,'organs']=['brain']\n",
    "df.at[876,'systems']=['nervous system']\n",
    "\n",
    "df.at[889,'organs']=['brain']\n",
    "df.at[889,'systems']=['nervous system']\n",
    "\n",
    "df.at[905,'organs']=['muscular']\n",
    "df.at[905,'systems']=['muscular system']\n",
    "\n",
    "df.at[928,'organs']=['vagina']\n",
    "df.at[928,'systems']=['reproductive system']\n",
    "\n",
    "df.at[949,'organs']=['muscular system']\n",
    "df.at[949,'systems']=['muscular system']\n",
    "\n",
    "df.at[962,'organs']=['brain']\n",
    "df.at[962,'systems']=['nervous system']\n",
    "\n",
    "df.at[969,'organs']=['skin']\n",
    "df.at[969,'systems']=['integumentary system']\n",
    "\n",
    "df.at[977,'organs']=['joints']\n",
    "df.at[977,'systems']=['muscular system']\n",
    "\n",
    "df.at[982,'organs']=['bone marrow']\n",
    "df.at[982,'systems']=['circulatory system']\n",
    "\n",
    "df.at[995,'organs']=['muscular system']\n",
    "df.at[995,'systems']=['muscular system']\n",
    "\n",
    "df.at[996,'organs']=['joints']\n",
    "df.at[996,'systems']=['muscular system']\n",
    "\n",
    "df.at[1006,'organs']=['kidneys']\n",
    "df.at[1006,'systems']=['urinary system']\n",
    "\n",
    "df.at[1009,'organs']=['skin']\n",
    "df.at[1009,'systems']=['integumentary system']\n",
    "\n",
    "df.at[1014,'organs']=['bone marrow']\n",
    "df.at[1014,'systems']=['circulatory system']\n",
    "\n",
    "df.at[1015,'organs']=['blood']\n",
    "df.at[1015,'systems']=['circulatory system']\n",
    "\n",
    "df.at[1022,'organs']=['thyroid gland']\n",
    "df.at[1022,'systems']=['endocrine system']\n",
    "\n",
    "df.at[1024,'organs']=['thyroid gland']\n",
    "df.at[1024,'systems']=['endocrine system']\n",
    "\n",
    "df.at[1029,'organs']=['human skeleton']\n",
    "df.at[1029,'systems']=['muscular system']\n",
    "\n",
    "df.at[1042,'organs']=['human skeleton']\n",
    "df.at[1042,'systems']=['muscular system']\n",
    "\n",
    "df.at[1045,'organs']=['heart']\n",
    "df.at[1045,'systems']=['circulatory system']\n",
    "\n",
    "df.at[1057,'organs']=['brain']\n",
    "df.at[1057,'systems']=['nervous system']\n",
    "\n",
    "df.at[1060,'organs']=['vagina']\n",
    "df.at[1060,'systems']=['reproductive system']\n",
    "\n",
    "df.at[1061,'organs']=['brain']\n",
    "df.at[1061,'systems']=['nervous system']\n",
    "\n",
    "df.at[1080,'organs']=['intestines']\n",
    "df.at[1080,'systems']=['digestive system']\n",
    "\n",
    "df.at[1083,'organs']=['anus']\n",
    "df.at[1083,'systems']=['digestive system']\n",
    "\n",
    "df.at[1086,'organs']=['muscular system']\n",
    "df.at[1086,'systems']=['muscular system']\n",
    "\n",
    "df.at[1124,'organs']=['trachea']\n",
    "df.at[1124,'systems']=['respiratory system']\n",
    "\n",
    "df.at[1143,'organs']=['blood']\n",
    "df.at[1143,'systems']=['circulatory system']\n",
    "\n",
    "df.at[1147,'organs']=['blood']\n",
    "df.at[1147,'systems']=['circulatory system']\n",
    "\n",
    "df.at[1159,'organs']=['blood']\n",
    "df.at[1159,'systems']=['circulatory system']\n",
    "\n",
    "df.at[1167,'organs']=['human skeleton']\n",
    "df.at[1167,'systems']=['muscular system']\n",
    "\n",
    "df.at[1177,'organs']=['muscular system']\n",
    "df.at[1177,'systems']=['muscular system']\n",
    "\n",
    "#end of praduemna code\n",
    "                     \n",
    "#prathamesh\n",
    "df.at[5,'organs']=['brain']\n",
    "df.at[5,'systems']=['nervous system']\n",
    "\n",
    "df.at[7,'organs']=['adrenal gland']\n",
    "df.at[7,'systems']=['endocrine system']\n",
    "\n",
    "df.at[17,'organs']=['jaw']\n",
    "df.at[17,'systems']=['muscular system']\n",
    "\n",
    "df.at[32,'organs']=['uterus','vagina']\n",
    "df.at[32,'systems']=['reproductive system']\n",
    "\n",
    "df.at[41,'organs']=['appendix']  ###which system??\n",
    "df.at[41,'systems']=['digestive system']\n",
    "\n",
    "df.at[50,'organs']=['lungs']\n",
    "df.at[50,'systems']=['respiratory system']\n",
    "\n",
    "df.at[52,'organs']=['brain']\n",
    "df.at[52,'systems']=['nervous system']\n",
    "\n",
    "df.at[56,'organs']=['heart']\n",
    "df.at[56,'systems']=['circulatory system']\n",
    "\n",
    "df.at[57,'organs']=['brain']\n",
    "df.at[57,'systems']=['nervous system']\n",
    "\n",
    "df.at[58,'organs']=['brain']\n",
    "df.at[58,'systems']=['nervous system']\n",
    "\n",
    "df.at[60,'organs']=['breasts']#add breast as an organ of the reproductive system in the val_list\n",
    "df.at[60,'systems']=['reproductive system']\n",
    "\n",
    "df.at[63,'organs']=['heart']\n",
    "df.at[63,'systems']=['circulatory system']\n",
    "\n",
    "df.at[64,'organs']=['skin']\n",
    "df.at[64,'systems']=['integumentary system']\n",
    "\n",
    "df.at[72,'organs']=['adrenal gland']\n",
    "df.at[72,'systems']=['endocrine system']\n",
    "\n",
    "df.at[74,'organs']=['heart']\n",
    "df.at[74,'systems']=['circulatory system']\n",
    "\n",
    "df.at[78,'organs']=['stomach','small intestine','large intestine']\n",
    "df.at[78,'systems']=['digestive system']\n",
    "\n",
    "df.at[86,'organs']=['breats']#add breast as an organ of the reproductive system in the val_list\n",
    "df.at[86,'systems']=['reproductive system']\n",
    "\n",
    "df.at[87,'organs']=['ligament','joints']\n",
    "df.at[87,'systems']=['muscular system']\n",
    "\n",
    "df.at[88,'organs']=['ligament']\n",
    "df.at[88,'systems']=['muscular system']\n",
    "\n",
    "df.at[89,'organs']=['human skeleton','joint']\n",
    "df.at[89,'systems']=['muscular system']\n",
    "\n",
    "df.at[91,'organs']=['lungs']\n",
    "df.at[91,'systems']=['respiratory system']\n",
    "\n",
    "df.at[124,'organs']=['brain']\n",
    "df.at[124,'systems']=['nervous system']\n",
    "\n",
    "df.at[130,'organs']=['human skeleton','joints']\n",
    "df.at[130,'systems']=['muscular system']\n",
    "\n",
    "df.at[131,'organs']=['brain','pinal nerves']\n",
    "df.at[131,'systems']=['nervous system']\n",
    "\n",
    "df.at[132,'organs']=['brain']\n",
    "df.at[132,'systems']=['nervous system']\n",
    "\n",
    "df.at[133,'organs']=['brain']\n",
    "df.at[133,'systems']=['nervous system']\n",
    "\n",
    "df.at[144,'organs']=['large intestine']\n",
    "df.at[144,'systems']=['digestive system']\n",
    "\n",
    "df.at[147,'organs']=['lungs']\n",
    "df.at[147,'systems']=['respiratory system']\n",
    "\n",
    "df.at[148,'organs']=['muscular system']\n",
    "df.at[148,'systems']=['muscular system']\n",
    "\n",
    "df.at[152,'organs']=['heart']\n",
    "df.at[152,'systems']=['circulatory system']\n",
    "\n",
    "df.at[153,'organs']=['muscular system']\n",
    "df.at[153,'systems']=['muscular system']\n",
    "\n",
    "df.at[165,'organs']=['brain']\n",
    "df.at[165,'systems']=['nervous system']\n",
    "\n",
    "df.at[172,'organs']=['skin']\n",
    "df.at[172,'systems']=['integumentary system']\n",
    "\n",
    "df.at[173,'organs']=['UNKNOWN']#vomiting vala problem\n",
    "df.at[173,'systems']=['digestive system']\n",
    "\n",
    "df.at[185,'organs']=['brain']\n",
    "df.at[185,'systems']=['nervous system']\n",
    "\n",
    "df.at[190,'organs']=['muscular system']\n",
    "df.at[190,'systems']=['muscular system']\n",
    "\n",
    "df.at[191,'organs']=['ligament']\n",
    "df.at[191,'systems']=['muscular system']\n",
    "\n",
    "df.at[192,'organs']=['skin']\n",
    "df.at[192,'systems']=['integumentary system']\n",
    "\n",
    "df.at[200,'organs']=['UNKNOWN']#watery stools due to indigestion\n",
    "df.at[200,'systems']=['digestive system']\n",
    "\n",
    "df.at[206,'organs']=['stomach','large intestine']\n",
    "df.at[206,'systems']=['digestive system']\n",
    "\n",
    "df.at[208,'organs']=['heart']\n",
    "df.at[208,'systems']=['circulatory system']\n",
    "\n",
    "df.at[212,'organs']=['brain']#sleep deprivation\n",
    "df.at[212,'systems']=['nervous system']\n",
    "\n",
    "df.at[213,'organs']=['stomach','small intestine','pancreas'] \n",
    "df.at[213,'systems']=['digestive system']\n",
    "\n",
    "df.at[225,'organs']=['brain']\n",
    "df.at[225,'systems']=['nervous system']\n",
    "\n",
    "df.at[236,'organs']=['brain']\n",
    "df.at[236,'systems']=['nervous system']\n",
    "\n",
    "df.at[247,'organs']=['brain']\n",
    "df.at[247,'systems']=['nervous system']\n",
    "\n",
    "df.at[251,'organs']=['bones']\n",
    "df.at[251,'systems']=['muscular system']\n",
    "\n",
    "df.at[255,'organs']=['muscular system','human skeleton']\n",
    "df.at[255,'systems']=['muscular system']\n",
    "\n",
    "df.at[256,'organs']=['skin']\n",
    "df.at[256,'systems']=['integumentary system']\n",
    "\n",
    "df.at[270,'organs']=['breasts']\n",
    "df.at[270,'systems']=['reproductive system']\n",
    "\n",
    "#end of prathamesh code\n",
    "\n",
    "df.at[171,'organs']=['skin']\n",
    "df.at[171,'systems']=['integumentary system']\n",
    "\n",
    "df.at[390,'organs']=['parathyroid gland']\n",
    "df.at[390,'systems']=['endocrine system']\n",
    "\n",
    "df.at[987,'organs']=['stomach','intestine']\n",
    "df.at[987,'systems']=['digestive system']"
   ]
  },
  {
   "cell_type": "markdown",
   "metadata": {},
   "source": [
    "### Finding the final system"
   ]
  },
  {
   "cell_type": "code",
   "execution_count": 23,
   "metadata": {},
   "outputs": [],
   "source": [
    "from statistics import mode, StatisticsError"
   ]
  },
  {
   "cell_type": "code",
   "execution_count": 24,
   "metadata": {},
   "outputs": [],
   "source": [
    "df['final_system'] = [[] for _ in range(len(df))]"
   ]
  },
  {
   "cell_type": "markdown",
   "metadata": {},
   "source": [
    "<font color='red'>**We discussed the cases where the value is \"no system\". Ideally based on the exercise there should not be any such cases, did you guys checked it?**</font>"
   ]
  },
  {
   "cell_type": "markdown",
   "metadata": {},
   "source": [
    "<font color='blue'>**There are no cases where there is \"no system\". We forgot to erase that part of the code from below cell.**</font>"
   ]
  },
  {
   "cell_type": "code",
   "execution_count": 25,
   "metadata": {},
   "outputs": [],
   "source": [
    "for i in range(len(df)):\n",
    "    \n",
    "#     if(len(df.loc[i,'systems'])==0):\n",
    "#         df.loc[i,'final_system']='no system'\n",
    "#         continue\n",
    "    try:\n",
    "        var=mode(df['systems'][i])\n",
    "        df.loc[i,'final_system']=var\n",
    "    except StatisticsError:\n",
    "        df.loc[i,'final_system']='ambigious'"
   ]
  },
  {
   "cell_type": "code",
   "execution_count": 26,
   "metadata": {},
   "outputs": [
    {
     "data": {
      "text/html": [
       "<div>\n",
       "<style scoped>\n",
       "    .dataframe tbody tr th:only-of-type {\n",
       "        vertical-align: middle;\n",
       "    }\n",
       "\n",
       "    .dataframe tbody tr th {\n",
       "        vertical-align: top;\n",
       "    }\n",
       "\n",
       "    .dataframe thead th {\n",
       "        text-align: right;\n",
       "    }\n",
       "</style>\n",
       "<table border=\"1\" class=\"dataframe\">\n",
       "  <thead>\n",
       "    <tr style=\"text-align: right;\">\n",
       "      <th></th>\n",
       "      <th>name</th>\n",
       "      <th>symptoms</th>\n",
       "      <th>causes</th>\n",
       "      <th>risk_factor</th>\n",
       "      <th>overview</th>\n",
       "      <th>treatment</th>\n",
       "      <th>medication</th>\n",
       "      <th>home_remedies</th>\n",
       "      <th>class</th>\n",
       "      <th>organs</th>\n",
       "      <th>systems</th>\n",
       "      <th>final_system</th>\n",
       "    </tr>\n",
       "  </thead>\n",
       "  <tbody>\n",
       "    <tr>\n",
       "      <th>0</th>\n",
       "      <td>acanthosis nigricans</td>\n",
       "      <td>skin changes are the only signs of acanthosis ...</td>\n",
       "      <td>acanthosis nigricans has been associated with,...</td>\n",
       "      <td>acanthosis nigricans risk factors include, obe...</td>\n",
       "      <td>acanthosis nigricans is a skin condition that ...</td>\n",
       "      <td>in many situations, treating the underlying pr...</td>\n",
       "      <td></td>\n",
       "      <td></td>\n",
       "      <td>1</td>\n",
       "      <td>[stomach, pancreas, pancreas, skin]</td>\n",
       "      <td>[digestive system, digestive system, endocrine...</td>\n",
       "      <td>digestive system</td>\n",
       "    </tr>\n",
       "    <tr>\n",
       "      <th>1</th>\n",
       "      <td>achalasia</td>\n",
       "      <td></td>\n",
       "      <td></td>\n",
       "      <td></td>\n",
       "      <td>achalasia is a rare disorder that makes it dif...</td>\n",
       "      <td>achalasia treatment focuses on relaxing or for...</td>\n",
       "      <td></td>\n",
       "      <td></td>\n",
       "      <td>1</td>\n",
       "      <td>[mouth, esophagus, stomach, nerves]</td>\n",
       "      <td>[digestive system, digestive system, digestive...</td>\n",
       "      <td>digestive system</td>\n",
       "    </tr>\n",
       "  </tbody>\n",
       "</table>\n",
       "</div>"
      ],
      "text/plain": [
       "                   name                                           symptoms  \\\n",
       "0  acanthosis nigricans  skin changes are the only signs of acanthosis ...   \n",
       "1             achalasia                                                      \n",
       "\n",
       "                                              causes  \\\n",
       "0  acanthosis nigricans has been associated with,...   \n",
       "1                                                      \n",
       "\n",
       "                                         risk_factor  \\\n",
       "0  acanthosis nigricans risk factors include, obe...   \n",
       "1                                                      \n",
       "\n",
       "                                            overview  \\\n",
       "0  acanthosis nigricans is a skin condition that ...   \n",
       "1  achalasia is a rare disorder that makes it dif...   \n",
       "\n",
       "                                           treatment medication home_remedies  \\\n",
       "0  in many situations, treating the underlying pr...                            \n",
       "1  achalasia treatment focuses on relaxing or for...                            \n",
       "\n",
       "   class                               organs  \\\n",
       "0      1  [stomach, pancreas, pancreas, skin]   \n",
       "1      1  [mouth, esophagus, stomach, nerves]   \n",
       "\n",
       "                                             systems      final_system  \n",
       "0  [digestive system, digestive system, endocrine...  digestive system  \n",
       "1  [digestive system, digestive system, digestive...  digestive system  "
      ]
     },
     "execution_count": 26,
     "metadata": {},
     "output_type": "execute_result"
    }
   ],
   "source": [
    "df.head(2)"
   ]
  },
  {
   "cell_type": "markdown",
   "metadata": {},
   "source": [
    "To check if there is any empty entry in 'systems' column"
   ]
  },
  {
   "cell_type": "code",
   "execution_count": 27,
   "metadata": {},
   "outputs": [],
   "source": [
    "temp=[]\n",
    "\n",
    "for i in range(len(df)):\n",
    "    if(len(df.loc[i,'systems'])==0):\n",
    "        temp.append(True)\n",
    "    else:\n",
    "        temp.append(False)"
   ]
  },
  {
   "cell_type": "code",
   "execution_count": 28,
   "metadata": {},
   "outputs": [
    {
     "data": {
      "text/plain": [
       "name             0\n",
       "symptoms         0\n",
       "causes           0\n",
       "risk_factor      0\n",
       "overview         0\n",
       "treatment        0\n",
       "medication       0\n",
       "home_remedies    0\n",
       "class            0\n",
       "organs           0\n",
       "systems          0\n",
       "final_system     0\n",
       "dtype: int64"
      ]
     },
     "execution_count": 28,
     "metadata": {},
     "output_type": "execute_result"
    }
   ],
   "source": [
    "df[temp].count()"
   ]
  },
  {
   "cell_type": "markdown",
   "metadata": {},
   "source": [
    "### Creating a column 'input' having concatenated entries of 'symptoms'+'causes'+'risk_factor'+'overview'"
   ]
  },
  {
   "cell_type": "code",
   "execution_count": 29,
   "metadata": {},
   "outputs": [],
   "source": [
    "test_df = df.copy()"
   ]
  },
  {
   "cell_type": "code",
   "execution_count": 30,
   "metadata": {},
   "outputs": [],
   "source": [
    "test_df['input']=''"
   ]
  },
  {
   "cell_type": "code",
   "execution_count": 31,
   "metadata": {},
   "outputs": [],
   "source": [
    "for i in range(len(test_df)):\n",
    "    test_df.loc[i,'input']=test_df.loc[i,'symptoms']+test_df.loc[i,'causes']+test_df.loc[i,'risk_factor']+test_df.loc[i,'overview']"
   ]
  },
  {
   "cell_type": "code",
   "execution_count": 32,
   "metadata": {
    "scrolled": true
   },
   "outputs": [
    {
     "data": {
      "text/html": [
       "<div>\n",
       "<style scoped>\n",
       "    .dataframe tbody tr th:only-of-type {\n",
       "        vertical-align: middle;\n",
       "    }\n",
       "\n",
       "    .dataframe tbody tr th {\n",
       "        vertical-align: top;\n",
       "    }\n",
       "\n",
       "    .dataframe thead th {\n",
       "        text-align: right;\n",
       "    }\n",
       "</style>\n",
       "<table border=\"1\" class=\"dataframe\">\n",
       "  <thead>\n",
       "    <tr style=\"text-align: right;\">\n",
       "      <th></th>\n",
       "      <th>name</th>\n",
       "      <th>symptoms</th>\n",
       "      <th>causes</th>\n",
       "      <th>risk_factor</th>\n",
       "      <th>overview</th>\n",
       "      <th>treatment</th>\n",
       "      <th>medication</th>\n",
       "      <th>home_remedies</th>\n",
       "      <th>class</th>\n",
       "      <th>organs</th>\n",
       "      <th>systems</th>\n",
       "      <th>final_system</th>\n",
       "      <th>input</th>\n",
       "    </tr>\n",
       "  </thead>\n",
       "  <tbody>\n",
       "    <tr>\n",
       "      <th>0</th>\n",
       "      <td>acanthosis nigricans</td>\n",
       "      <td>skin changes are the only signs of acanthosis ...</td>\n",
       "      <td>acanthosis nigricans has been associated with,...</td>\n",
       "      <td>acanthosis nigricans risk factors include, obe...</td>\n",
       "      <td>acanthosis nigricans is a skin condition that ...</td>\n",
       "      <td>in many situations, treating the underlying pr...</td>\n",
       "      <td></td>\n",
       "      <td></td>\n",
       "      <td>1</td>\n",
       "      <td>[stomach, pancreas, pancreas, skin]</td>\n",
       "      <td>[digestive system, digestive system, endocrine...</td>\n",
       "      <td>digestive system</td>\n",
       "      <td>skin changes are the only signs of acanthosis ...</td>\n",
       "    </tr>\n",
       "    <tr>\n",
       "      <th>1</th>\n",
       "      <td>achalasia</td>\n",
       "      <td></td>\n",
       "      <td></td>\n",
       "      <td></td>\n",
       "      <td>achalasia is a rare disorder that makes it dif...</td>\n",
       "      <td>achalasia treatment focuses on relaxing or for...</td>\n",
       "      <td></td>\n",
       "      <td></td>\n",
       "      <td>1</td>\n",
       "      <td>[mouth, esophagus, stomach, nerves]</td>\n",
       "      <td>[digestive system, digestive system, digestive...</td>\n",
       "      <td>digestive system</td>\n",
       "      <td>achalasia is a rare disorder that makes it dif...</td>\n",
       "    </tr>\n",
       "  </tbody>\n",
       "</table>\n",
       "</div>"
      ],
      "text/plain": [
       "                   name                                           symptoms  \\\n",
       "0  acanthosis nigricans  skin changes are the only signs of acanthosis ...   \n",
       "1             achalasia                                                      \n",
       "\n",
       "                                              causes  \\\n",
       "0  acanthosis nigricans has been associated with,...   \n",
       "1                                                      \n",
       "\n",
       "                                         risk_factor  \\\n",
       "0  acanthosis nigricans risk factors include, obe...   \n",
       "1                                                      \n",
       "\n",
       "                                            overview  \\\n",
       "0  acanthosis nigricans is a skin condition that ...   \n",
       "1  achalasia is a rare disorder that makes it dif...   \n",
       "\n",
       "                                           treatment medication home_remedies  \\\n",
       "0  in many situations, treating the underlying pr...                            \n",
       "1  achalasia treatment focuses on relaxing or for...                            \n",
       "\n",
       "   class                               organs  \\\n",
       "0      1  [stomach, pancreas, pancreas, skin]   \n",
       "1      1  [mouth, esophagus, stomach, nerves]   \n",
       "\n",
       "                                             systems      final_system  \\\n",
       "0  [digestive system, digestive system, endocrine...  digestive system   \n",
       "1  [digestive system, digestive system, digestive...  digestive system   \n",
       "\n",
       "                                               input  \n",
       "0  skin changes are the only signs of acanthosis ...  \n",
       "1  achalasia is a rare disorder that makes it dif...  "
      ]
     },
     "execution_count": 32,
     "metadata": {},
     "output_type": "execute_result"
    }
   ],
   "source": [
    "test_df.head(2)"
   ]
  },
  {
   "cell_type": "markdown",
   "metadata": {},
   "source": [
    "## Training The Dataset"
   ]
  },
  {
   "cell_type": "markdown",
   "metadata": {},
   "source": [
    "#### Some preprocessing before building the model"
   ]
  },
  {
   "cell_type": "markdown",
   "metadata": {},
   "source": [
    "Following are the counts of each class in the entire dataset:"
   ]
  },
  {
   "cell_type": "code",
   "execution_count": 34,
   "metadata": {},
   "outputs": [
    {
     "data": {
      "text/plain": [
       "1    509\n",
       "4    379\n",
       "3    191\n",
       "2    103\n",
       "Name: class, dtype: int64"
      ]
     },
     "execution_count": 34,
     "metadata": {},
     "output_type": "execute_result"
    }
   ],
   "source": [
    "test_df['class'].value_counts()"
   ]
  },
  {
   "cell_type": "code",
   "execution_count": 35,
   "metadata": {},
   "outputs": [],
   "source": [
    "# from sklearn.model_selection import train_test_split"
   ]
  },
  {
   "cell_type": "code",
   "execution_count": 36,
   "metadata": {},
   "outputs": [],
   "source": [
    "# X_train,X_test,Y_train,Y_test=train_test_split(test_df['input'],test_df['class'],test_size=0.2,random_state=1)"
   ]
  },
  {
   "cell_type": "code",
   "execution_count": 37,
   "metadata": {},
   "outputs": [],
   "source": [
    "x=test_df['input'].values"
   ]
  },
  {
   "cell_type": "code",
   "execution_count": 38,
   "metadata": {},
   "outputs": [],
   "source": [
    "y=test_df['class'].values"
   ]
  },
  {
   "cell_type": "markdown",
   "metadata": {},
   "source": [
    "### Splitting the data into train and test sets using Stratified sampling"
   ]
  },
  {
   "cell_type": "code",
   "execution_count": 39,
   "metadata": {},
   "outputs": [],
   "source": [
    "from sklearn.model_selection import StratifiedShuffleSplit"
   ]
  },
  {
   "cell_type": "markdown",
   "metadata": {},
   "source": [
    "<font color='blue'>**A split of 80:20 is good. You can also try to increase the split ratio so that the model has more data to train on. One experiment could be to try with a ratio of 90:10**</font>"
   ]
  },
  {
   "cell_type": "code",
   "execution_count": 40,
   "metadata": {},
   "outputs": [],
   "source": [
    "sss = StratifiedShuffleSplit(n_splits=10, test_size=0.2, random_state=1)"
   ]
  },
  {
   "cell_type": "code",
   "execution_count": 41,
   "metadata": {},
   "outputs": [],
   "source": [
    "for train_index,test_index in sss.split(x,y):\n",
    "    X_train,X_test=x[train_index],x[test_index]\n",
    "    Y_train,Y_test=y[train_index],y[test_index]"
   ]
  },
  {
   "cell_type": "markdown",
   "metadata": {},
   "source": [
    "The next 3 cells are used to know the count of each class after stratified split"
   ]
  },
  {
   "cell_type": "code",
   "execution_count": 42,
   "metadata": {},
   "outputs": [],
   "source": [
    "# class1_count=0\n",
    "# class2_count=0\n",
    "# class3_count=0\n",
    "# class4_count=0"
   ]
  },
  {
   "cell_type": "code",
   "execution_count": 43,
   "metadata": {},
   "outputs": [],
   "source": [
    "# for i in range(len(Y_train)):\n",
    "#     if(Y_train[i]==1):\n",
    "#         class1_count+=1\n",
    "#     elif(Y_train[i]==2):\n",
    "#         class2_count+=1\n",
    "#     elif(Y_train[i]==3):\n",
    "#         class3_count+=1\n",
    "#     else:\n",
    "#         class4_count+=1"
   ]
  },
  {
   "cell_type": "code",
   "execution_count": 44,
   "metadata": {},
   "outputs": [],
   "source": [
    "# print('class1_count: ',class1_count)\n",
    "# print('class2_count: ',class2_count)\n",
    "# print('class3_count: ',class3_count)\n",
    "# print('class4_count: ',class4_count)"
   ]
  },
  {
   "cell_type": "markdown",
   "metadata": {},
   "source": [
    "### Making string data suitable for modelling using TFIDF"
   ]
  },
  {
   "cell_type": "code",
   "execution_count": 45,
   "metadata": {},
   "outputs": [],
   "source": [
    "from sklearn.feature_extraction.text import CountVectorizer"
   ]
  },
  {
   "cell_type": "code",
   "execution_count": 46,
   "metadata": {},
   "outputs": [],
   "source": [
    "count_vect = CountVectorizer().fit(X_train)"
   ]
  },
  {
   "cell_type": "code",
   "execution_count": 47,
   "metadata": {},
   "outputs": [
    {
     "data": {
      "text/plain": [
       "(945, 16439)"
      ]
     },
     "execution_count": 47,
     "metadata": {},
     "output_type": "execute_result"
    }
   ],
   "source": [
    "X_train_counts = count_vect.transform(X_train)\n",
    "X_train_counts.shape"
   ]
  },
  {
   "cell_type": "code",
   "execution_count": 48,
   "metadata": {},
   "outputs": [],
   "source": [
    "# TF-IDF\n",
    "from sklearn.feature_extraction.text import TfidfTransformer\n",
    "tfidf_transformer = TfidfTransformer().fit(X_train_counts)"
   ]
  },
  {
   "cell_type": "code",
   "execution_count": 49,
   "metadata": {},
   "outputs": [
    {
     "data": {
      "text/plain": [
       "(945, 16439)"
      ]
     },
     "execution_count": 49,
     "metadata": {},
     "output_type": "execute_result"
    }
   ],
   "source": [
    "X_train_tfidf = tfidf_transformer.transform(X_train_counts)\n",
    "X_train_tfidf.shape"
   ]
  },
  {
   "cell_type": "code",
   "execution_count": 50,
   "metadata": {},
   "outputs": [
    {
     "data": {
      "text/plain": [
       "(237, 16439)"
      ]
     },
     "execution_count": 50,
     "metadata": {},
     "output_type": "execute_result"
    }
   ],
   "source": [
    "X_test_counts = count_vect.transform(X_test)\n",
    "X_test_counts.shape"
   ]
  },
  {
   "cell_type": "code",
   "execution_count": 51,
   "metadata": {},
   "outputs": [
    {
     "data": {
      "text/plain": [
       "(237, 16439)"
      ]
     },
     "execution_count": 51,
     "metadata": {},
     "output_type": "execute_result"
    }
   ],
   "source": [
    "X_test_tfidf = tfidf_transformer.transform(X_test_counts)\n",
    "X_test_tfidf.shape"
   ]
  },
  {
   "cell_type": "markdown",
   "metadata": {},
   "source": [
    "## Modelling the data using various clasification models"
   ]
  },
  {
   "cell_type": "markdown",
   "metadata": {},
   "source": [
    "## Using Logistic Regression"
   ]
  },
  {
   "cell_type": "code",
   "execution_count": 52,
   "metadata": {},
   "outputs": [],
   "source": [
    "from sklearn.linear_model import LogisticRegression"
   ]
  },
  {
   "cell_type": "code",
   "execution_count": 53,
   "metadata": {},
   "outputs": [],
   "source": [
    "logistic_clf=LogisticRegression(C=0.01,solver='liblinear',multi_class='auto').fit(X_train_tfidf,Y_train)"
   ]
  },
  {
   "cell_type": "code",
   "execution_count": 54,
   "metadata": {},
   "outputs": [],
   "source": [
    "logistic_predicted=logistic_clf.predict(X_test_tfidf)"
   ]
  },
  {
   "cell_type": "code",
   "execution_count": 55,
   "metadata": {},
   "outputs": [],
   "source": [
    "# # Building a pipeline: We can write less code and do all of the above, by building a pipeline as follows:\n",
    "# # The names ‘vect’ , ‘tfidf’ and ‘clf’ are arbitrary but will be used later.\n",
    "# # We will be using the 'text_clf' going forward.\n",
    "# from sklearn.pipeline import Pipeline\n",
    "\n",
    "# text_clf = Pipeline([('vect', CountVectorizer()), ('tfidf', TfidfTransformer()), ('classifier', LogisticRegression(C=0.01,solver='liblinear',multi_class='auto'))])\n",
    "\n",
    "# text_clf = text_clf.fit(X_train, Y_train)"
   ]
  },
  {
   "cell_type": "code",
   "execution_count": 56,
   "metadata": {},
   "outputs": [],
   "source": [
    "# predicted = text_clf.predict(X_test)"
   ]
  },
  {
   "cell_type": "code",
   "execution_count": 57,
   "metadata": {},
   "outputs": [],
   "source": [
    "from sklearn import metrics"
   ]
  },
  {
   "cell_type": "code",
   "execution_count": 58,
   "metadata": {},
   "outputs": [],
   "source": [
    "from sklearn.metrics import confusion_matrix"
   ]
  },
  {
   "cell_type": "code",
   "execution_count": 59,
   "metadata": {},
   "outputs": [],
   "source": [
    "logistic_cm=confusion_matrix(Y_test,logistic_predicted)"
   ]
  },
  {
   "cell_type": "code",
   "execution_count": 60,
   "metadata": {},
   "outputs": [
    {
     "data": {
      "text/plain": [
       "array([[102,   0,   0,   0],\n",
       "       [ 21,   0,   0,   0],\n",
       "       [ 38,   0,   0,   0],\n",
       "       [ 76,   0,   0,   0]], dtype=int64)"
      ]
     },
     "execution_count": 60,
     "metadata": {},
     "output_type": "execute_result"
    }
   ],
   "source": [
    "logistic_cm"
   ]
  },
  {
   "cell_type": "code",
   "execution_count": 61,
   "metadata": {},
   "outputs": [],
   "source": [
    "from sklearn.metrics import jaccard_score"
   ]
  },
  {
   "cell_type": "code",
   "execution_count": 62,
   "metadata": {},
   "outputs": [],
   "source": [
    "# jaccard_score?"
   ]
  },
  {
   "cell_type": "code",
   "execution_count": 63,
   "metadata": {},
   "outputs": [
    {
     "data": {
      "text/plain": [
       "0.18522672648614005"
      ]
     },
     "execution_count": 63,
     "metadata": {},
     "output_type": "execute_result"
    }
   ],
   "source": [
    "jaccard_score(Y_test,logistic_predicted,average='weighted')"
   ]
  },
  {
   "cell_type": "code",
   "execution_count": 64,
   "metadata": {},
   "outputs": [],
   "source": [
    "from sklearn.metrics import classification_report"
   ]
  },
  {
   "cell_type": "code",
   "execution_count": 65,
   "metadata": {},
   "outputs": [
    {
     "data": {
      "text/plain": [
       "array([1, 1, 1, 1, 1, 1, 1, 1, 1, 1, 1, 1, 1, 1, 1, 1, 1, 1, 1, 1, 1, 1,\n",
       "       1, 1, 1, 1, 1, 1, 1, 1, 1, 1, 1, 1, 1, 1, 1, 1, 1, 1, 1, 1, 1, 1,\n",
       "       1, 1, 1, 1, 1, 1, 1, 1, 1, 1, 1, 1, 1, 1, 1, 1, 1, 1, 1, 1, 1, 1,\n",
       "       1, 1, 1, 1, 1, 1, 1, 1, 1, 1, 1, 1, 1, 1, 1, 1, 1, 1, 1, 1, 1, 1,\n",
       "       1, 1, 1, 1, 1, 1, 1, 1, 1, 1, 1, 1, 1, 1, 1, 1, 1, 1, 1, 1, 1, 1,\n",
       "       1, 1, 1, 1, 1, 1, 1, 1, 1, 1, 1, 1, 1, 1, 1, 1, 1, 1, 1, 1, 1, 1,\n",
       "       1, 1, 1, 1, 1, 1, 1, 1, 1, 1, 1, 1, 1, 1, 1, 1, 1, 1, 1, 1, 1, 1,\n",
       "       1, 1, 1, 1, 1, 1, 1, 1, 1, 1, 1, 1, 1, 1, 1, 1, 1, 1, 1, 1, 1, 1,\n",
       "       1, 1, 1, 1, 1, 1, 1, 1, 1, 1, 1, 1, 1, 1, 1, 1, 1, 1, 1, 1, 1, 1,\n",
       "       1, 1, 1, 1, 1, 1, 1, 1, 1, 1, 1, 1, 1, 1, 1, 1, 1, 1, 1, 1, 1, 1,\n",
       "       1, 1, 1, 1, 1, 1, 1, 1, 1, 1, 1, 1, 1, 1, 1, 1, 1], dtype=int64)"
      ]
     },
     "execution_count": 65,
     "metadata": {},
     "output_type": "execute_result"
    }
   ],
   "source": [
    "logistic_predicted"
   ]
  },
  {
   "cell_type": "code",
   "execution_count": 66,
   "metadata": {},
   "outputs": [
    {
     "name": "stdout",
     "output_type": "stream",
     "text": [
      "              precision    recall  f1-score   support\n",
      "\n",
      "           1       0.43      1.00      0.60       102\n",
      "\n",
      "   micro avg       0.43      1.00      0.60       102\n",
      "   macro avg       0.43      1.00      0.60       102\n",
      "weighted avg       0.43      1.00      0.60       102\n",
      "\n"
     ]
    }
   ],
   "source": [
    "print(classification_report(Y_test, logistic_predicted,labels=np.unique(logistic_predicted)))"
   ]
  },
  {
   "cell_type": "code",
   "execution_count": 67,
   "metadata": {},
   "outputs": [
    {
     "data": {
      "text/plain": [
       "0.43037974683544306"
      ]
     },
     "execution_count": 67,
     "metadata": {},
     "output_type": "execute_result"
    }
   ],
   "source": [
    "logistic_accuracy=metrics.accuracy_score(Y_test,logistic_predicted)\n",
    "logistic_accuracy"
   ]
  },
  {
   "cell_type": "code",
   "execution_count": 68,
   "metadata": {},
   "outputs": [
    {
     "data": {
      "text/plain": [
       "0.6017699115044248"
      ]
     },
     "execution_count": 68,
     "metadata": {},
     "output_type": "execute_result"
    }
   ],
   "source": [
    "metrics.f1_score(Y_test,logistic_predicted,average='weighted',labels=np.unique(logistic_predicted))"
   ]
  },
  {
   "cell_type": "markdown",
   "metadata": {},
   "source": [
    "## Using Naive Bayes"
   ]
  },
  {
   "cell_type": "code",
   "execution_count": 69,
   "metadata": {},
   "outputs": [],
   "source": [
    "from sklearn.naive_bayes import MultinomialNB"
   ]
  },
  {
   "cell_type": "code",
   "execution_count": 70,
   "metadata": {},
   "outputs": [],
   "source": [
    "naive_bayes_clf = MultinomialNB().fit(X_train_tfidf, Y_train)"
   ]
  },
  {
   "cell_type": "code",
   "execution_count": 71,
   "metadata": {},
   "outputs": [],
   "source": [
    "naive_bayes_predicted=naive_bayes_clf.predict(X_test_tfidf)"
   ]
  },
  {
   "cell_type": "code",
   "execution_count": 72,
   "metadata": {},
   "outputs": [
    {
     "data": {
      "text/plain": [
       "array([4, 1, 1, 1, 4, 1, 1, 1, 1, 1, 1, 1, 1, 1, 4, 4, 1, 1, 1, 1, 1, 1,\n",
       "       1, 1, 1, 1, 1, 1, 1, 1, 1, 1, 1, 4, 1, 4, 1, 1, 1, 1, 1, 4, 1, 1,\n",
       "       1, 4, 1, 1, 4, 1, 1, 1, 1, 1, 1, 1, 1, 1, 1, 4, 1, 1, 1, 4, 1, 1,\n",
       "       1, 1, 1, 1, 1, 1, 1, 4, 1, 4, 1, 1, 1, 1, 1, 1, 1, 4, 1, 1, 1, 1,\n",
       "       1, 1, 1, 1, 1, 1, 1, 4, 1, 1, 1, 1, 1, 1, 1, 4, 1, 1, 1, 1, 4, 4,\n",
       "       1, 1, 1, 1, 1, 1, 1, 1, 1, 4, 1, 1, 1, 1, 4, 1, 1, 1, 4, 1, 4, 1,\n",
       "       4, 4, 1, 1, 1, 4, 1, 4, 1, 1, 1, 1, 1, 1, 1, 1, 1, 1, 1, 1, 4, 4,\n",
       "       1, 1, 1, 1, 4, 1, 4, 1, 1, 1, 1, 1, 1, 1, 1, 1, 4, 1, 1, 1, 1, 1,\n",
       "       1, 4, 1, 1, 4, 1, 1, 4, 1, 1, 1, 1, 1, 1, 1, 1, 4, 1, 1, 1, 1, 1,\n",
       "       1, 1, 4, 1, 4, 1, 1, 1, 1, 1, 1, 1, 4, 1, 1, 1, 1, 1, 1, 1, 1, 1,\n",
       "       1, 1, 1, 1, 1, 4, 1, 1, 1, 1, 1, 1, 1, 1, 4, 1, 1], dtype=int64)"
      ]
     },
     "execution_count": 72,
     "metadata": {},
     "output_type": "execute_result"
    }
   ],
   "source": [
    "naive_bayes_predicted"
   ]
  },
  {
   "cell_type": "code",
   "execution_count": 73,
   "metadata": {},
   "outputs": [
    {
     "data": {
      "text/plain": [
       "0.24634530963644885"
      ]
     },
     "execution_count": 73,
     "metadata": {},
     "output_type": "execute_result"
    }
   ],
   "source": [
    "jaccard_score(Y_test,naive_bayes_predicted,average='weighted')"
   ]
  },
  {
   "cell_type": "code",
   "execution_count": 74,
   "metadata": {},
   "outputs": [
    {
     "name": "stdout",
     "output_type": "stream",
     "text": [
      "              precision    recall  f1-score   support\n",
      "\n",
      "           1       0.47      0.90      0.62       102\n",
      "           4       0.42      0.22      0.29        76\n",
      "\n",
      "   micro avg       0.46      0.61      0.53       178\n",
      "   macro avg       0.45      0.56      0.45       178\n",
      "weighted avg       0.45      0.61      0.48       178\n",
      "\n"
     ]
    }
   ],
   "source": [
    "print(classification_report(Y_test, naive_bayes_predicted,labels=np.unique(naive_bayes_predicted)))"
   ]
  },
  {
   "cell_type": "code",
   "execution_count": 75,
   "metadata": {},
   "outputs": [],
   "source": [
    "naive_bayes_cm=confusion_matrix(Y_test,naive_bayes_predicted)"
   ]
  },
  {
   "cell_type": "code",
   "execution_count": 76,
   "metadata": {},
   "outputs": [
    {
     "data": {
      "text/plain": [
       "array([[92,  0,  0, 10],\n",
       "       [18,  0,  0,  3],\n",
       "       [28,  0,  0, 10],\n",
       "       [59,  0,  0, 17]], dtype=int64)"
      ]
     },
     "execution_count": 76,
     "metadata": {},
     "output_type": "execute_result"
    }
   ],
   "source": [
    "naive_bayes_cm"
   ]
  },
  {
   "cell_type": "code",
   "execution_count": 77,
   "metadata": {},
   "outputs": [
    {
     "data": {
      "text/plain": [
       "0.459915611814346"
      ]
     },
     "execution_count": 77,
     "metadata": {},
     "output_type": "execute_result"
    }
   ],
   "source": [
    "naive_bayes_accuracy=metrics.accuracy_score(Y_test,naive_bayes_predicted)\n",
    "naive_bayes_accuracy"
   ]
  },
  {
   "cell_type": "code",
   "execution_count": 78,
   "metadata": {},
   "outputs": [
    {
     "data": {
      "text/plain": [
       "0.47778142043930505"
      ]
     },
     "execution_count": 78,
     "metadata": {},
     "output_type": "execute_result"
    }
   ],
   "source": [
    "metrics.f1_score(Y_test,naive_bayes_predicted,average='weighted',labels=np.unique(naive_bayes_predicted))"
   ]
  },
  {
   "cell_type": "markdown",
   "metadata": {},
   "source": [
    "## Using K-Nearest Neighbors"
   ]
  },
  {
   "cell_type": "code",
   "execution_count": 79,
   "metadata": {},
   "outputs": [],
   "source": [
    "from sklearn.neighbors import KNeighborsClassifier"
   ]
  },
  {
   "cell_type": "markdown",
   "metadata": {},
   "source": [
    "### First we need to check which value of k will give best results"
   ]
  },
  {
   "cell_type": "code",
   "execution_count": 80,
   "metadata": {},
   "outputs": [
    {
     "data": {
      "text/plain": [
       "array([0.44725738, 0.45147679, 0.46835443, 0.4556962 , 0.43881857,\n",
       "       0.43459916, 0.43459916, 0.43459916, 0.43881857])"
      ]
     },
     "execution_count": 80,
     "metadata": {},
     "output_type": "execute_result"
    }
   ],
   "source": [
    "k_max=10\n",
    "\n",
    "mean_acc=np.zeros((k_max-1))\n",
    "\n",
    "for i in range(1,k_max):\n",
    "    knn_clf_test=KNeighborsClassifier(n_neighbors=i).fit(X_train_tfidf,Y_train)\n",
    "    knn_test_predicted=knn_clf_test.predict(X_test_tfidf)\n",
    "    \n",
    "    mean_acc[i-1]=metrics.accuracy_score(Y_test,knn_test_predicted)\n",
    "    \n",
    "mean_acc"
   ]
  },
  {
   "cell_type": "code",
   "execution_count": 81,
   "metadata": {},
   "outputs": [],
   "source": [
    "import matplotlib.pyplot as plt"
   ]
  },
  {
   "cell_type": "code",
   "execution_count": 82,
   "metadata": {},
   "outputs": [
    {
     "data": {
      "image/png": "[encoded data removed]",
      "text/plain": [
       "<Figure size 432x288 with 1 Axes>"
      ]
     },
     "metadata": {
      "needs_background": "light"
     },
     "output_type": "display_data"
    }
   ],
   "source": [
    "plt.figure()\n",
    "plt.plot(np.arange(1,10),mean_acc)\n",
    "plt.xlabel('Value of k')\n",
    "plt.ylabel('accuracy')\n",
    "plt.show()"
   ]
  },
  {
   "cell_type": "markdown",
   "metadata": {},
   "source": [
    "### Using k=4 as per results from above graph"
   ]
  },
  {
   "cell_type": "code",
   "execution_count": 83,
   "metadata": {},
   "outputs": [],
   "source": [
    "neighbors=4"
   ]
  },
  {
   "cell_type": "code",
   "execution_count": 84,
   "metadata": {},
   "outputs": [],
   "source": [
    "knn_clf=KNeighborsClassifier(n_neighbors=neighbors).fit(X_train_tfidf,Y_train)"
   ]
  },
  {
   "cell_type": "code",
   "execution_count": 85,
   "metadata": {},
   "outputs": [],
   "source": [
    "knn_predicted=knn_clf.predict(X_test_tfidf)"
   ]
  },
  {
   "cell_type": "code",
   "execution_count": 86,
   "metadata": {},
   "outputs": [
    {
     "data": {
      "text/plain": [
       "array([1, 1, 1, 1, 1, 1, 1, 1, 1, 1, 1, 1, 1, 1, 1, 4, 1, 1, 1, 1, 1, 1,\n",
       "       1, 1, 1, 1, 1, 1, 1, 1, 1, 1, 1, 1, 1, 1, 1, 1, 1, 1, 1, 1, 1, 3,\n",
       "       1, 1, 1, 1, 1, 1, 3, 1, 1, 1, 1, 1, 1, 1, 1, 1, 1, 1, 1, 1, 1, 1,\n",
       "       1, 1, 1, 1, 1, 1, 4, 4, 1, 4, 1, 1, 1, 1, 1, 1, 1, 1, 1, 1, 1, 1,\n",
       "       1, 1, 1, 1, 1, 1, 1, 3, 1, 1, 1, 1, 1, 1, 1, 3, 1, 1, 1, 1, 4, 1,\n",
       "       1, 3, 1, 1, 1, 1, 1, 1, 1, 4, 1, 4, 1, 1, 4, 3, 1, 1, 1, 1, 4, 1,\n",
       "       1, 1, 1, 1, 1, 1, 1, 3, 1, 1, 1, 1, 1, 1, 1, 1, 1, 1, 1, 1, 1, 1,\n",
       "       1, 1, 3, 1, 1, 1, 1, 1, 1, 1, 1, 4, 1, 1, 1, 1, 1, 1, 1, 1, 1, 1,\n",
       "       1, 1, 1, 1, 4, 1, 1, 3, 1, 1, 1, 1, 1, 1, 1, 1, 1, 1, 1, 1, 1, 1,\n",
       "       2, 1, 1, 1, 1, 1, 3, 1, 1, 1, 1, 1, 4, 1, 1, 1, 1, 1, 4, 1, 1, 1,\n",
       "       1, 1, 1, 1, 1, 1, 1, 1, 1, 1, 1, 1, 1, 1, 1, 1, 1], dtype=int64)"
      ]
     },
     "execution_count": 86,
     "metadata": {},
     "output_type": "execute_result"
    }
   ],
   "source": [
    "knn_predicted"
   ]
  },
  {
   "cell_type": "code",
   "execution_count": 87,
   "metadata": {},
   "outputs": [
    {
     "data": {
      "text/plain": [
       "0.23490737156613883"
      ]
     },
     "execution_count": 87,
     "metadata": {},
     "output_type": "execute_result"
    }
   ],
   "source": [
    "jaccard_score(Y_test,knn_predicted,average='weighted')"
   ]
  },
  {
   "cell_type": "code",
   "execution_count": 88,
   "metadata": {},
   "outputs": [
    {
     "name": "stdout",
     "output_type": "stream",
     "text": [
      "              precision    recall  f1-score   support\n",
      "\n",
      "           1       0.45      0.94      0.61       102\n",
      "           2       0.00      0.00      0.00        21\n",
      "           3       0.40      0.11      0.17        38\n",
      "           4       0.62      0.11      0.18        76\n",
      "\n",
      "    accuracy                           0.46       237\n",
      "   macro avg       0.37      0.29      0.24       237\n",
      "weighted avg       0.46      0.46      0.35       237\n",
      "\n"
     ]
    }
   ],
   "source": [
    "print(classification_report(Y_test, knn_predicted,labels=np.unique(knn_predicted)))"
   ]
  },
  {
   "cell_type": "code",
   "execution_count": 89,
   "metadata": {},
   "outputs": [
    {
     "data": {
      "text/plain": [
       "array([[96,  0,  3,  3],\n",
       "       [20,  0,  1,  0],\n",
       "       [31,  1,  4,  2],\n",
       "       [66,  0,  2,  8]], dtype=int64)"
      ]
     },
     "execution_count": 89,
     "metadata": {},
     "output_type": "execute_result"
    }
   ],
   "source": [
    "knn_cm=confusion_matrix(Y_test,knn_predicted)\n",
    "knn_cm"
   ]
  },
  {
   "cell_type": "code",
   "execution_count": 90,
   "metadata": {},
   "outputs": [
    {
     "data": {
      "text/plain": [
       "0.45569620253164556"
      ]
     },
     "execution_count": 90,
     "metadata": {},
     "output_type": "execute_result"
    }
   ],
   "source": [
    "knn_accuracy=metrics.accuracy_score(Y_test,knn_predicted)\n",
    "knn_accuracy"
   ]
  },
  {
   "cell_type": "code",
   "execution_count": 91,
   "metadata": {},
   "outputs": [
    {
     "data": {
      "text/plain": [
       "0.346699085456019"
      ]
     },
     "execution_count": 91,
     "metadata": {},
     "output_type": "execute_result"
    }
   ],
   "source": [
    "metrics.f1_score(Y_test,knn_predicted,average='weighted',labels=np.unique(knn_predicted))"
   ]
  },
  {
   "cell_type": "markdown",
   "metadata": {},
   "source": [
    "## Using Support Vector Machines"
   ]
  },
  {
   "cell_type": "code",
   "execution_count": 92,
   "metadata": {},
   "outputs": [],
   "source": [
    "from sklearn import svm"
   ]
  },
  {
   "cell_type": "code",
   "execution_count": 93,
   "metadata": {},
   "outputs": [],
   "source": [
    "svm_clf= svm.SVC(kernel='rbf',gamma='auto').fit(X_train_tfidf,Y_train)"
   ]
  },
  {
   "cell_type": "code",
   "execution_count": 94,
   "metadata": {},
   "outputs": [],
   "source": [
    "svm_predicted=svm_clf.predict(X_test_tfidf)"
   ]
  },
  {
   "cell_type": "code",
   "execution_count": 95,
   "metadata": {},
   "outputs": [
    {
     "data": {
      "text/plain": [
       "array([1, 1, 1, 1, 1, 1, 1, 1, 1, 1, 1, 1, 1, 1, 1, 1, 1, 1, 1, 1, 1, 1,\n",
       "       1, 1, 1, 1, 1, 1, 1, 1, 1, 1, 1, 1, 1, 1, 1, 1, 1, 1, 1, 1, 1, 1,\n",
       "       1, 1, 1, 1, 1, 1, 1, 1, 1, 1, 1, 1, 1, 1, 1, 1, 1, 1, 1, 1, 1, 1,\n",
       "       1, 1, 1, 1, 1, 1, 1, 1, 1, 1, 1, 1, 1, 1, 1, 1, 1, 1, 1, 1, 1, 1,\n",
       "       1, 1, 1, 1, 1, 1, 1, 1, 1, 1, 1, 1, 1, 1, 1, 1, 1, 1, 1, 1, 1, 1,\n",
       "       1, 1, 1, 1, 1, 1, 1, 1, 1, 1, 1, 1, 1, 1, 1, 1, 1, 1, 1, 1, 1, 1,\n",
       "       1, 1, 1, 1, 1, 1, 1, 1, 1, 1, 1, 1, 1, 1, 1, 1, 1, 1, 1, 1, 1, 1,\n",
       "       1, 1, 1, 1, 1, 1, 1, 1, 1, 1, 1, 1, 1, 1, 1, 1, 1, 1, 1, 1, 1, 1,\n",
       "       1, 1, 1, 1, 1, 1, 1, 1, 1, 1, 1, 1, 1, 1, 1, 1, 1, 1, 1, 1, 1, 1,\n",
       "       1, 1, 1, 1, 1, 1, 1, 1, 1, 1, 1, 1, 1, 1, 1, 1, 1, 1, 1, 1, 1, 1,\n",
       "       1, 1, 1, 1, 1, 1, 1, 1, 1, 1, 1, 1, 1, 1, 1, 1, 1], dtype=int64)"
      ]
     },
     "execution_count": 95,
     "metadata": {},
     "output_type": "execute_result"
    }
   ],
   "source": [
    "svm_predicted"
   ]
  },
  {
   "cell_type": "code",
   "execution_count": 96,
   "metadata": {},
   "outputs": [
    {
     "data": {
      "text/plain": [
       "0.18522672648614005"
      ]
     },
     "execution_count": 96,
     "metadata": {},
     "output_type": "execute_result"
    }
   ],
   "source": [
    "jaccard_score(Y_test,svm_predicted,average='weighted')"
   ]
  },
  {
   "cell_type": "code",
   "execution_count": 97,
   "metadata": {},
   "outputs": [
    {
     "name": "stdout",
     "output_type": "stream",
     "text": [
      "              precision    recall  f1-score   support\n",
      "\n",
      "           1       0.43      1.00      0.60       102\n",
      "\n",
      "   micro avg       0.43      1.00      0.60       102\n",
      "   macro avg       0.43      1.00      0.60       102\n",
      "weighted avg       0.43      1.00      0.60       102\n",
      "\n"
     ]
    }
   ],
   "source": [
    "print(classification_report(Y_test, svm_predicted,labels=np.unique(svm_predicted)))"
   ]
  },
  {
   "cell_type": "code",
   "execution_count": 98,
   "metadata": {},
   "outputs": [
    {
     "data": {
      "text/plain": [
       "array([[102,   0,   0,   0],\n",
       "       [ 21,   0,   0,   0],\n",
       "       [ 38,   0,   0,   0],\n",
       "       [ 76,   0,   0,   0]], dtype=int64)"
      ]
     },
     "execution_count": 98,
     "metadata": {},
     "output_type": "execute_result"
    }
   ],
   "source": [
    "svm_cm=confusion_matrix(Y_test,svm_predicted)\n",
    "svm_cm"
   ]
  },
  {
   "cell_type": "code",
   "execution_count": 99,
   "metadata": {},
   "outputs": [
    {
     "data": {
      "text/plain": [
       "0.43037974683544306"
      ]
     },
     "execution_count": 99,
     "metadata": {},
     "output_type": "execute_result"
    }
   ],
   "source": [
    "svm_accuracy=metrics.accuracy_score(Y_test,svm_predicted)\n",
    "svm_accuracy"
   ]
  },
  {
   "cell_type": "code",
   "execution_count": 100,
   "metadata": {},
   "outputs": [
    {
     "data": {
      "text/plain": [
       "0.6017699115044248"
      ]
     },
     "execution_count": 100,
     "metadata": {},
     "output_type": "execute_result"
    }
   ],
   "source": [
    "metrics.f1_score(Y_test,svm_predicted,average='weighted',labels=np.unique(svm_predicted))"
   ]
  },
  {
   "cell_type": "markdown",
   "metadata": {},
   "source": [
    "## Decision Trees"
   ]
  },
  {
   "cell_type": "code",
   "execution_count": 101,
   "metadata": {},
   "outputs": [],
   "source": [
    "from sklearn.tree import DecisionTreeClassifier"
   ]
  },
  {
   "cell_type": "code",
   "execution_count": 102,
   "metadata": {},
   "outputs": [],
   "source": [
    "decision_tree_clf=DecisionTreeClassifier(criterion='entropy',max_depth=4).fit(X_train_tfidf,Y_train)"
   ]
  },
  {
   "cell_type": "code",
   "execution_count": 103,
   "metadata": {},
   "outputs": [],
   "source": [
    "decision_tree_predicted=decision_tree_clf.predict(X_test_tfidf)"
   ]
  },
  {
   "cell_type": "code",
   "execution_count": 104,
   "metadata": {},
   "outputs": [
    {
     "data": {
      "text/plain": [
       "array([4, 1, 1, 1, 1, 1, 1, 1, 1, 1, 1, 1, 1, 1, 1, 1, 1, 1, 4, 1, 1, 1,\n",
       "       3, 1, 4, 1, 1, 1, 4, 1, 1, 1, 1, 4, 1, 4, 1, 1, 1, 1, 1, 4, 1, 1,\n",
       "       1, 4, 1, 1, 1, 3, 1, 1, 1, 1, 1, 1, 1, 1, 1, 4, 2, 1, 1, 4, 1, 1,\n",
       "       1, 1, 1, 1, 1, 1, 1, 4, 1, 1, 1, 1, 1, 1, 1, 1, 1, 4, 4, 1, 1, 3,\n",
       "       1, 1, 1, 1, 1, 1, 1, 1, 1, 1, 1, 1, 1, 1, 1, 4, 1, 1, 1, 4, 4, 1,\n",
       "       1, 4, 1, 1, 4, 1, 1, 1, 4, 1, 4, 1, 1, 4, 4, 1, 1, 1, 1, 1, 1, 1,\n",
       "       1, 1, 3, 1, 1, 1, 4, 4, 1, 4, 1, 4, 1, 1, 4, 1, 1, 1, 1, 1, 4, 1,\n",
       "       1, 1, 4, 1, 1, 1, 1, 1, 1, 4, 1, 1, 4, 1, 1, 1, 1, 1, 1, 1, 1, 1,\n",
       "       1, 4, 1, 1, 1, 1, 4, 1, 4, 1, 4, 1, 1, 1, 1, 4, 1, 1, 1, 1, 1, 1,\n",
       "       4, 1, 4, 1, 1, 1, 1, 1, 1, 1, 1, 1, 1, 4, 1, 1, 1, 3, 1, 1, 1, 1,\n",
       "       1, 4, 4, 1, 1, 1, 1, 1, 1, 1, 1, 1, 1, 3, 1, 1, 1], dtype=int64)"
      ]
     },
     "execution_count": 104,
     "metadata": {},
     "output_type": "execute_result"
    }
   ],
   "source": [
    "decision_tree_predicted"
   ]
  },
  {
   "cell_type": "code",
   "execution_count": 105,
   "metadata": {},
   "outputs": [
    {
     "data": {
      "text/plain": [
       "0.2586470355221536"
      ]
     },
     "execution_count": 105,
     "metadata": {},
     "output_type": "execute_result"
    }
   ],
   "source": [
    "jaccard_score(Y_test,decision_tree_predicted,average='weighted')"
   ]
  },
  {
   "cell_type": "code",
   "execution_count": 106,
   "metadata": {},
   "outputs": [
    {
     "name": "stdout",
     "output_type": "stream",
     "text": [
      "              precision    recall  f1-score   support\n",
      "\n",
      "           1       0.48      0.88      0.62       102\n",
      "           2       0.00      0.00      0.00        21\n",
      "           3       0.33      0.05      0.09        38\n",
      "           4       0.44      0.24      0.31        76\n",
      "\n",
      "    accuracy                           0.46       237\n",
      "   macro avg       0.31      0.29      0.25       237\n",
      "weighted avg       0.40      0.46      0.38       237\n",
      "\n"
     ]
    }
   ],
   "source": [
    "print(classification_report(Y_test, decision_tree_predicted,labels=np.unique(decision_tree_predicted)))"
   ]
  },
  {
   "cell_type": "code",
   "execution_count": 107,
   "metadata": {},
   "outputs": [
    {
     "data": {
      "text/plain": [
       "array([[90,  1,  1, 10],\n",
       "       [18,  0,  0,  3],\n",
       "       [26,  0,  2, 10],\n",
       "       [55,  0,  3, 18]], dtype=int64)"
      ]
     },
     "execution_count": 107,
     "metadata": {},
     "output_type": "execute_result"
    }
   ],
   "source": [
    "decision_tree_cm=confusion_matrix(Y_test,decision_tree_predicted)\n",
    "decision_tree_cm"
   ]
  },
  {
   "cell_type": "code",
   "execution_count": 108,
   "metadata": {},
   "outputs": [
    {
     "data": {
      "text/plain": [
       "0.4641350210970464"
      ]
     },
     "execution_count": 108,
     "metadata": {},
     "output_type": "execute_result"
    }
   ],
   "source": [
    "decision_tree_accuracy=metrics.accuracy_score(Y_test,decision_tree_predicted)\n",
    "decision_tree_accuracy"
   ]
  },
  {
   "cell_type": "code",
   "execution_count": 109,
   "metadata": {},
   "outputs": [
    {
     "data": {
      "text/plain": [
       "0.3794596807777024"
      ]
     },
     "execution_count": 109,
     "metadata": {},
     "output_type": "execute_result"
    }
   ],
   "source": [
    "metrics.f1_score(Y_test,decision_tree_predicted,average='weighted',labels=np.unique(decision_tree_predicted))"
   ]
  },
  {
   "cell_type": "markdown",
   "metadata": {},
   "source": [
    "## Random Forest Classification"
   ]
  },
  {
   "cell_type": "code",
   "execution_count": 110,
   "metadata": {},
   "outputs": [],
   "source": [
    "from sklearn.ensemble import RandomForestClassifier"
   ]
  },
  {
   "cell_type": "code",
   "execution_count": 111,
   "metadata": {},
   "outputs": [],
   "source": [
    "random_forest_clf = RandomForestClassifier(n_estimators=1000, \n",
    "                               bootstrap = True,\n",
    "                               max_features = 'sqrt').fit(X_train_tfidf,Y_train)"
   ]
  },
  {
   "cell_type": "code",
   "execution_count": 112,
   "metadata": {},
   "outputs": [],
   "source": [
    "random_forest_predicted=random_forest_clf.predict(X_test_tfidf)"
   ]
  },
  {
   "cell_type": "code",
   "execution_count": 113,
   "metadata": {},
   "outputs": [
    {
     "data": {
      "text/plain": [
       "array([4, 1, 1, 1, 1, 1, 1, 4, 1, 4, 1, 1, 4, 1, 1, 4, 1, 1, 4, 1, 1, 1,\n",
       "       3, 1, 4, 4, 1, 1, 4, 1, 4, 1, 4, 1, 1, 4, 1, 1, 1, 1, 1, 4, 1, 4,\n",
       "       1, 4, 4, 1, 4, 4, 4, 1, 1, 1, 1, 1, 1, 4, 1, 4, 1, 1, 1, 4, 1, 1,\n",
       "       1, 1, 1, 1, 4, 1, 1, 4, 4, 4, 1, 1, 1, 4, 1, 1, 1, 4, 4, 4, 1, 1,\n",
       "       1, 4, 1, 1, 1, 1, 1, 1, 1, 1, 1, 1, 4, 1, 4, 4, 1, 1, 1, 4, 4, 1,\n",
       "       4, 3, 1, 1, 1, 1, 1, 1, 4, 4, 1, 4, 1, 1, 4, 1, 4, 1, 4, 1, 4, 1,\n",
       "       4, 4, 1, 1, 1, 4, 4, 4, 4, 4, 1, 4, 1, 1, 1, 1, 4, 1, 1, 1, 4, 1,\n",
       "       1, 1, 4, 1, 4, 1, 4, 1, 1, 4, 4, 1, 4, 1, 1, 1, 1, 4, 4, 4, 1, 1,\n",
       "       1, 4, 1, 1, 4, 4, 4, 4, 1, 4, 4, 1, 4, 4, 1, 4, 4, 1, 1, 1, 1, 1,\n",
       "       3, 1, 4, 4, 1, 1, 1, 1, 1, 1, 1, 1, 4, 3, 1, 3, 1, 4, 4, 1, 1, 3,\n",
       "       1, 4, 4, 1, 1, 1, 1, 1, 1, 1, 1, 4, 4, 1, 4, 1, 1], dtype=int64)"
      ]
     },
     "execution_count": 113,
     "metadata": {},
     "output_type": "execute_result"
    }
   ],
   "source": [
    "random_forest_predicted"
   ]
  },
  {
   "cell_type": "code",
   "execution_count": 114,
   "metadata": {},
   "outputs": [
    {
     "data": {
      "text/plain": [
       "0.36217066075591764"
      ]
     },
     "execution_count": 114,
     "metadata": {},
     "output_type": "execute_result"
    }
   ],
   "source": [
    "jaccard_score(Y_test,random_forest_predicted,average='weighted')"
   ]
  },
  {
   "cell_type": "code",
   "execution_count": 115,
   "metadata": {},
   "outputs": [
    {
     "name": "stdout",
     "output_type": "stream",
     "text": [
      "              precision    recall  f1-score   support\n",
      "\n",
      "           1       0.59      0.85      0.70       102\n",
      "           3       0.83      0.13      0.23        38\n",
      "           4       0.49      0.54      0.51        76\n",
      "\n",
      "   micro avg       0.56      0.62      0.59       216\n",
      "   macro avg       0.64      0.51      0.48       216\n",
      "weighted avg       0.60      0.62      0.55       216\n",
      "\n"
     ]
    }
   ],
   "source": [
    "print(classification_report(Y_test,random_forest_predicted,labels=np.unique(random_forest_predicted) ))"
   ]
  },
  {
   "cell_type": "code",
   "execution_count": 116,
   "metadata": {},
   "outputs": [
    {
     "data": {
      "text/plain": [
       "array([[87,  0,  0, 15],\n",
       "       [12,  0,  1,  8],\n",
       "       [13,  0,  5, 20],\n",
       "       [35,  0,  0, 41]], dtype=int64)"
      ]
     },
     "execution_count": 116,
     "metadata": {},
     "output_type": "execute_result"
    }
   ],
   "source": [
    "random_forest_cm=confusion_matrix(Y_test,random_forest_predicted)\n",
    "random_forest_cm"
   ]
  },
  {
   "cell_type": "code",
   "execution_count": 117,
   "metadata": {},
   "outputs": [
    {
     "data": {
      "text/plain": [
       "0.5611814345991561"
      ]
     },
     "execution_count": 117,
     "metadata": {},
     "output_type": "execute_result"
    }
   ],
   "source": [
    "random_forest_accuracy=metrics.accuracy_score(Y_test,random_forest_predicted)\n",
    "random_forest_accuracy"
   ]
  },
  {
   "cell_type": "code",
   "execution_count": 118,
   "metadata": {},
   "outputs": [
    {
     "data": {
      "text/plain": [
       "0.5502938521763823"
      ]
     },
     "execution_count": 118,
     "metadata": {},
     "output_type": "execute_result"
    }
   ],
   "source": [
    "metrics.f1_score(Y_test,random_forest_predicted,average='weighted',labels=np.unique(random_forest_predicted))"
   ]
  },
  {
   "cell_type": "markdown",
   "metadata": {},
   "source": [
    "## Notes\n",
    "\n",
    "-  The performance metrics for the algorithms are OK with Random Forest outperforming the other algorithms.\n",
    "    - The **reason for this subpar performance** is **class imbalance**. The distribution of data points in each of the four classes (1 - 4) is not balanced, which creates a biased scenario to the classes which have a higher number of samples.\n",
    "    - Possible solution to mititgate this is to get more training data.\n",
    "\n",
    "<hr>\n",
    "\n",
    "-  There are some algorithms that might perform slightly better on this kind of dataset. Take a look at [Isolation Forest](https://scikit-learn.org/stable/modules/generated/sklearn.ensemble.IsolationForest.html) and see how it performs. I am not sure if it's applicable to multiclass scenario but you can try it out."
   ]
  },
  {
   "cell_type": "markdown",
   "metadata": {},
   "source": [
    "### Isolation Forest"
   ]
  },
  {
   "cell_type": "code",
   "execution_count": 119,
   "metadata": {},
   "outputs": [],
   "source": [
    "from sklearn.ensemble import IsolationForest"
   ]
  },
  {
   "cell_type": "code",
   "execution_count": 120,
   "metadata": {},
   "outputs": [],
   "source": [
    "isolation_clf=IsolationForest(random_state=1,behaviour=\"new\",contamination='auto').fit(X_train_tfidf)"
   ]
  },
  {
   "cell_type": "code",
   "execution_count": 121,
   "metadata": {},
   "outputs": [
    {
     "data": {
      "text/plain": [
       "array([1, 1, 1, 1, 1, 1, 1, 1, 1, 1, 1, 1, 1, 1, 1, 1, 1, 1, 1, 1, 1, 1,\n",
       "       1, 1, 1, 1, 1, 1, 1, 1, 1, 1, 1, 1, 1, 1, 1, 1, 1, 1, 1, 1, 1, 1,\n",
       "       1, 1, 1, 1, 1, 1, 1, 1, 1, 1, 1, 1, 1, 1, 1, 1, 1, 1, 1, 1, 1, 1,\n",
       "       1, 1, 1, 1, 1, 1, 1, 1, 1, 1, 1, 1, 1, 1, 1, 1, 1, 1, 1, 1, 1, 1,\n",
       "       1, 1, 1, 1, 1, 1, 1, 1, 1, 1, 1, 1, 1, 1, 1, 1, 1, 1, 1, 1, 1, 1,\n",
       "       1, 1, 1, 1, 1, 1, 1, 1, 1, 1, 1, 1, 1, 1, 1, 1, 1, 1, 1, 1, 1, 1,\n",
       "       1, 1, 1, 1, 1, 1, 1, 1, 1, 1, 1, 1, 1, 1, 1, 1, 1, 1, 1, 1, 1, 1,\n",
       "       1, 1, 1, 1, 1, 1, 1, 1, 1, 1, 1, 1, 1, 1, 1, 1, 1, 1, 1, 1, 1, 1,\n",
       "       1, 1, 1, 1, 1, 1, 1, 1, 1, 1, 1, 1, 1, 1, 1, 1, 1, 1, 1, 1, 1, 1,\n",
       "       1, 1, 1, 1, 1, 1, 1, 1, 1, 1, 1, 1, 1, 1, 1, 1, 1, 1, 1, 1, 1, 1,\n",
       "       1, 1, 1, 1, 1, 1, 1, 1, 1, 1, 1, 1, 1, 1, 1, 1, 1])"
      ]
     },
     "execution_count": 121,
     "metadata": {},
     "output_type": "execute_result"
    }
   ],
   "source": [
    "isolation_predicted=isolation_clf.predict(X_test_tfidf)\n",
    "isolation_predicted"
   ]
  },
  {
   "cell_type": "code",
   "execution_count": 122,
   "metadata": {
    "scrolled": true
   },
   "outputs": [
    {
     "data": {
      "text/plain": [
       "0.18522672648614005"
      ]
     },
     "execution_count": 122,
     "metadata": {},
     "output_type": "execute_result"
    }
   ],
   "source": [
    "jaccard_score(Y_test,isolation_predicted,average='weighted')"
   ]
  },
  {
   "cell_type": "code",
   "execution_count": 123,
   "metadata": {},
   "outputs": [
    {
     "name": "stdout",
     "output_type": "stream",
     "text": [
      "              precision    recall  f1-score   support\n",
      "\n",
      "           1       0.43      1.00      0.60       102\n",
      "\n",
      "   micro avg       0.43      1.00      0.60       102\n",
      "   macro avg       0.43      1.00      0.60       102\n",
      "weighted avg       0.43      1.00      0.60       102\n",
      "\n"
     ]
    }
   ],
   "source": [
    "print(classification_report(Y_test,isolation_predicted,labels=np.unique(isolation_predicted)))"
   ]
  },
  {
   "cell_type": "code",
   "execution_count": 124,
   "metadata": {},
   "outputs": [
    {
     "data": {
      "text/plain": [
       "0.43037974683544306"
      ]
     },
     "execution_count": 124,
     "metadata": {},
     "output_type": "execute_result"
    }
   ],
   "source": [
    "isolation_accuracy=metrics.accuracy_score(Y_test,isolation_predicted)\n",
    "isolation_accuracy"
   ]
  },
  {
   "cell_type": "code",
   "execution_count": 125,
   "metadata": {},
   "outputs": [
    {
     "data": {
      "text/plain": [
       "array([[102,   0,   0,   0],\n",
       "       [ 21,   0,   0,   0],\n",
       "       [ 38,   0,   0,   0],\n",
       "       [ 76,   0,   0,   0]], dtype=int64)"
      ]
     },
     "execution_count": 125,
     "metadata": {},
     "output_type": "execute_result"
    }
   ],
   "source": [
    "isolation_cm=confusion_matrix(Y_test,isolation_predicted)\n",
    "isolation_cm"
   ]
  },
  {
   "cell_type": "code",
   "execution_count": 126,
   "metadata": {},
   "outputs": [
    {
     "data": {
      "text/plain": [
       "0.6017699115044248"
      ]
     },
     "execution_count": 126,
     "metadata": {},
     "output_type": "execute_result"
    }
   ],
   "source": [
    "metrics.f1_score(Y_test,isolation_predicted,average='weighted',labels=np.unique(isolation_predicted))"
   ]
  },
  {
   "cell_type": "markdown",
   "metadata": {},
   "source": [
    "### Some data visualization"
   ]
  },
  {
   "cell_type": "markdown",
   "metadata": {},
   "source": [
    "## Accuracy Graph"
   ]
  },
  {
   "cell_type": "code",
   "execution_count": 127,
   "metadata": {},
   "outputs": [],
   "source": [
    "accuracy_list=[logistic_accuracy,isolation_accuracy,naive_bayes_accuracy,knn_accuracy,svm_accuracy,decision_tree_accuracy,random_forest_accuracy]"
   ]
  },
  {
   "cell_type": "code",
   "execution_count": 128,
   "metadata": {},
   "outputs": [],
   "source": [
    "%matplotlib notebook"
   ]
  },
  {
   "cell_type": "code",
   "execution_count": 129,
   "metadata": {},
   "outputs": [],
   "source": [
    "accuracy_x_labels=['logistic','isolation','naive_bayes','knn','svm','decision_tree','random_forest']"
   ]
  },
  {
   "cell_type": "code",
   "execution_count": 130,
   "metadata": {},
   "outputs": [
    {
     "data": {
      "application/javascript": [
       "/* Put everything inside the global mpl namespace */\n",
       "window.mpl = {};\n",
       "\n",
       "\n",
       "mpl.get_websocket_type = function() {\n",
       "    if (typeof(WebSocket) !== 'undefined') {\n",
       "        return WebSocket;\n",
       "    } else if (typeof(MozWebSocket) !== 'undefined') {\n",
       "        return MozWebSocket;\n",
       "    } else {\n",
       "        alert('Your browser does not have WebSocket support. ' +\n",
       "              'Please try Chrome, Safari or Firefox ≥ 6. ' +\n",
       "              'Firefox 4 and 5 are also supported but you ' +\n",
       "              'have to enable WebSockets in about:config.');\n",
       "    };\n",
       "}\n",
       "\n",
       "mpl.figure = function(figure_id, websocket, ondownload, parent_element) {\n",
       "    this.id = figure_id;\n",
       "\n",
       "    this.ws = websocket;\n",
       "\n",
       "    this.supports_binary = (this.ws.binaryType != undefined);\n",
       "\n",
       "    if (!this.supports_binary) {\n",
       "        var warnings = document.getElementById(\"mpl-warnings\");\n",
       "        if (warnings) {\n",
       "            warnings.style.display = 'block';\n",
       "            warnings.textContent = (\n",
       "                \"This browser does not support binary websocket messages. \" +\n",
       "                    \"Performance may be slow.\");\n",
       "        }\n",
       "    }\n",
       "\n",
       "    this.imageObj = new Image();\n",
       "\n",
       "    this.context = undefined;\n",
       "    this.message = undefined;\n",
       "    this.canvas = undefined;\n",
       "    this.rubberband_canvas = undefined;\n",
       "    this.rubberband_context = undefined;\n",
       "    this.format_dropdown = undefined;\n",
       "\n",
       "    this.image_mode = 'full';\n",
       "\n",
       "    this.root = $('<div/>');\n",
       "    this._root_extra_style(this.root)\n",
       "    this.root.attr('style', 'display: inline-block');\n",
       "\n",
       "    $(parent_element).append(this.root);\n",
       "\n",
       "    this._init_header(this);\n",
       "    this._init_canvas(this);\n",
       "    this._init_toolbar(this);\n",
       "\n",
       "    var fig = this;\n",
       "\n",
       "    this.waiting = false;\n",
       "\n",
       "    this.ws.onopen =  function () {\n",
       "            fig.send_message(\"supports_binary\", {value: fig.supports_binary});\n",
       "            fig.send_message(\"send_image_mode\", {});\n",
       "            if (mpl.ratio != 1) {\n",
       "                fig.send_message(\"set_dpi_ratio\", {'dpi_ratio': mpl.ratio});\n",
       "            }\n",
       "            fig.send_message(\"refresh\", {});\n",
       "        }\n",
       "\n",
       "    this.imageObj.onload = function() {\n",
       "            if (fig.image_mode == 'full') {\n",
       "                // Full images could contain transparency (where diff images\n",
       "                // almost always do), so we need to clear the canvas so that\n",
       "                // there is no ghosting.\n",
       "                fig.context.clearRect(0, 0, fig.canvas.width, fig.canvas.height);\n",
       "            }\n",
       "            fig.context.drawImage(fig.imageObj, 0, 0);\n",
       "        };\n",
       "\n",
       "    this.imageObj.onunload = function() {\n",
       "        fig.ws.close();\n",
       "    }\n",
       "\n",
       "    this.ws.onmessage = this._make_on_message_function(this);\n",
       "\n",
       "    this.ondownload = ondownload;\n",
       "}\n",
       "\n",
       "mpl.figure.prototype._init_header = function() {\n",
       "    var titlebar = $(\n",
       "        '<div class=\"ui-dialog-titlebar ui-widget-header ui-corner-all ' +\n",
       "        'ui-helper-clearfix\"/>');\n",
       "    var titletext = $(\n",
       "        '<div class=\"ui-dialog-title\" style=\"width: 100%; ' +\n",
       "        'text-align: center; padding: 3px;\"/>');\n",
       "    titlebar.append(titletext)\n",
       "    this.root.append(titlebar);\n",
       "    this.header = titletext[0];\n",
       "}\n",
       "\n",
       "\n",
       "\n",
       "mpl.figure.prototype._canvas_extra_style = function(canvas_div) {\n",
       "\n",
       "}\n",
       "\n",
       "\n",
       "mpl.figure.prototype._root_extra_style = function(canvas_div) {\n",
       "\n",
       "}\n",
       "\n",
       "mpl.figure.prototype._init_canvas = function() {\n",
       "    var fig = this;\n",
       "\n",
       "    var canvas_div = $('<div/>');\n",
       "\n",
       "    canvas_div.attr('style', 'position: relative; clear: both; outline: 0');\n",
       "\n",
       "    function canvas_keyboard_event(event) {\n",
       "        return fig.key_event(event, event['data']);\n",
       "    }\n",
       "\n",
       "    canvas_div.keydown('key_press', canvas_keyboard_event);\n",
       "    canvas_div.keyup('key_release', canvas_keyboard_event);\n",
       "    this.canvas_div = canvas_div\n",
       "    this._canvas_extra_style(canvas_div)\n",
       "    this.root.append(canvas_div);\n",
       "\n",
       "    var canvas = $('<canvas/>');\n",
       "    canvas.addClass('mpl-canvas');\n",
       "    canvas.attr('style', \"left: 0; top: 0; z-index: 0; outline: 0\")\n",
       "\n",
       "    this.canvas = canvas[0];\n",
       "    this.context = canvas[0].getContext(\"2d\");\n",
       "\n",
       "    var backingStore = this.context.backingStorePixelRatio ||\n",
       "\tthis.context.webkitBackingStorePixelRatio ||\n",
       "\tthis.context.mozBackingStorePixelRatio ||\n",
       "\tthis.context.msBackingStorePixelRatio ||\n",
       "\tthis.context.oBackingStorePixelRatio ||\n",
       "\tthis.context.backingStorePixelRatio || 1;\n",
       "\n",
       "    mpl.ratio = (window.devicePixelRatio || 1) / backingStore;\n",
       "\n",
       "    var rubberband = $('<canvas/>');\n",
       "    rubberband.attr('style', \"position: absolute; left: 0; top: 0; z-index: 1;\")\n",
       "\n",
       "    var pass_mouse_events = true;\n",
       "\n",
       "    canvas_div.resizable({\n",
       "        start: function(event, ui) {\n",
       "            pass_mouse_events = false;\n",
       "        },\n",
       "        resize: function(event, ui) {\n",
       "            fig.request_resize(ui.size.width, ui.size.height);\n",
       "        },\n",
       "        stop: function(event, ui) {\n",
       "            pass_mouse_events = true;\n",
       "            fig.request_resize(ui.size.width, ui.size.height);\n",
       "        },\n",
       "    });\n",
       "\n",
       "    function mouse_event_fn(event) {\n",
       "        if (pass_mouse_events)\n",
       "            return fig.mouse_event(event, event['data']);\n",
       "    }\n",
       "\n",
       "    rubberband.mousedown('button_press', mouse_event_fn);\n",
       "    rubberband.mouseup('button_release', mouse_event_fn);\n",
       "    // Throttle sequential mouse events to 1 every 20ms.\n",
       "    rubberband.mousemove('motion_notify', mouse_event_fn);\n",
       "\n",
       "    rubberband.mouseenter('figure_enter', mouse_event_fn);\n",
       "    rubberband.mouseleave('figure_leave', mouse_event_fn);\n",
       "\n",
       "    canvas_div.on(\"wheel\", function (event) {\n",
       "        event = event.originalEvent;\n",
       "        event['data'] = 'scroll'\n",
       "        if (event.deltaY < 0) {\n",
       "            event.step = 1;\n",
       "        } else {\n",
       "            event.step = -1;\n",
       "        }\n",
       "        mouse_event_fn(event);\n",
       "    });\n",
       "\n",
       "    canvas_div.append(canvas);\n",
       "    canvas_div.append(rubberband);\n",
       "\n",
       "    this.rubberband = rubberband;\n",
       "    this.rubberband_canvas = rubberband[0];\n",
       "    this.rubberband_context = rubberband[0].getContext(\"2d\");\n",
       "    this.rubberband_context.strokeStyle = \"#000000\";\n",
       "\n",
       "    this._resize_canvas = function(width, height) {\n",
       "        // Keep the size of the canvas, canvas container, and rubber band\n",
       "        // canvas in synch.\n",
       "        canvas_div.css('width', width)\n",
       "        canvas_div.css('height', height)\n",
       "\n",
       "        canvas.attr('width', width * mpl.ratio);\n",
       "        canvas.attr('height', height * mpl.ratio);\n",
       "        canvas.attr('style', 'width: ' + width + 'px; height: ' + height + 'px;');\n",
       "\n",
       "        rubberband.attr('width', width);\n",
       "        rubberband.attr('height', height);\n",
       "    }\n",
       "\n",
       "    // Set the figure to an initial 600x600px, this will subsequently be updated\n",
       "    // upon first draw.\n",
       "    this._resize_canvas(600, 600);\n",
       "\n",
       "    // Disable right mouse context menu.\n",
       "    $(this.rubberband_canvas).bind(\"contextmenu\",function(e){\n",
       "        return false;\n",
       "    });\n",
       "\n",
       "    function set_focus () {\n",
       "        canvas.focus();\n",
       "        canvas_div.focus();\n",
       "    }\n",
       "\n",
       "    window.setTimeout(set_focus, 100);\n",
       "}\n",
       "\n",
       "mpl.figure.prototype._init_toolbar = function() {\n",
       "    var fig = this;\n",
       "\n",
       "    var nav_element = $('<div/>');\n",
       "    nav_element.attr('style', 'width: 100%');\n",
       "    this.root.append(nav_element);\n",
       "\n",
       "    // Define a callback function for later on.\n",
       "    function toolbar_event(event) {\n",
       "        return fig.toolbar_button_onclick(event['data']);\n",
       "    }\n",
       "    function toolbar_mouse_event(event) {\n",
       "        return fig.toolbar_button_onmouseover(event['data']);\n",
       "    }\n",
       "\n",
       "    for(var toolbar_ind in mpl.toolbar_items) {\n",
       "        var name = mpl.toolbar_items[toolbar_ind][0];\n",
       "        var tooltip = mpl.toolbar_items[toolbar_ind][1];\n",
       "        var image = mpl.toolbar_items[toolbar_ind][2];\n",
       "        var method_name = mpl.toolbar_items[toolbar_ind][3];\n",
       "\n",
       "        if (!name) {\n",
       "            // put a spacer in here.\n",
       "            continue;\n",
       "        }\n",
       "        var button = $('<button/>');\n",
       "        button.addClass('ui-button ui-widget ui-state-default ui-corner-all ' +\n",
       "                        'ui-button-icon-only');\n",
       "        button.attr('role', 'button');\n",
       "        button.attr('aria-disabled', 'false');\n",
       "        button.click(method_name, toolbar_event);\n",
       "        button.mouseover(tooltip, toolbar_mouse_event);\n",
       "\n",
       "        var icon_img = $('<span/>');\n",
       "        icon_img.addClass('ui-button-icon-primary ui-icon');\n",
       "        icon_img.addClass(image);\n",
       "        icon_img.addClass('ui-corner-all');\n",
       "\n",
       "        var tooltip_span = $('<span/>');\n",
       "        tooltip_span.addClass('ui-button-text');\n",
       "        tooltip_span.html(tooltip);\n",
       "\n",
       "        button.append(icon_img);\n",
       "        button.append(tooltip_span);\n",
       "\n",
       "        nav_element.append(button);\n",
       "    }\n",
       "\n",
       "    var fmt_picker_span = $('<span/>');\n",
       "\n",
       "    var fmt_picker = $('<select/>');\n",
       "    fmt_picker.addClass('mpl-toolbar-option ui-widget ui-widget-content');\n",
       "    fmt_picker_span.append(fmt_picker);\n",
       "    nav_element.append(fmt_picker_span);\n",
       "    this.format_dropdown = fmt_picker[0];\n",
       "\n",
       "    for (var ind in mpl.extensions) {\n",
       "        var fmt = mpl.extensions[ind];\n",
       "        var option = $(\n",
       "            '<option/>', {selected: fmt === mpl.default_extension}).html(fmt);\n",
       "        fmt_picker.append(option);\n",
       "    }\n",
       "\n",
       "    // Add hover states to the ui-buttons\n",
       "    $( \".ui-button\" ).hover(\n",
       "        function() { $(this).addClass(\"ui-state-hover\");},\n",
       "        function() { $(this).removeClass(\"ui-state-hover\");}\n",
       "    );\n",
       "\n",
       "    var status_bar = $('<span class=\"mpl-message\"/>');\n",
       "    nav_element.append(status_bar);\n",
       "    this.message = status_bar[0];\n",
       "}\n",
       "\n",
       "mpl.figure.prototype.request_resize = function(x_pixels, y_pixels) {\n",
       "    // Request matplotlib to resize the figure. Matplotlib will then trigger a resize in the client,\n",
       "    // which will in turn request a refresh of the image.\n",
       "    this.send_message('resize', {'width': x_pixels, 'height': y_pixels});\n",
       "}\n",
       "\n",
       "mpl.figure.prototype.send_message = function(type, properties) {\n",
       "    properties['type'] = type;\n",
       "    properties['figure_id'] = this.id;\n",
       "    this.ws.send(JSON.stringify(properties));\n",
       "}\n",
       "\n",
       "mpl.figure.prototype.send_draw_message = function() {\n",
       "    if (!this.waiting) {\n",
       "        this.waiting = true;\n",
       "        this.ws.send(JSON.stringify({type: \"draw\", figure_id: this.id}));\n",
       "    }\n",
       "}\n",
       "\n",
       "\n",
       "mpl.figure.prototype.handle_save = function(fig, msg) {\n",
       "    var format_dropdown = fig.format_dropdown;\n",
       "    var format = format_dropdown.options[format_dropdown.selectedIndex].value;\n",
       "    fig.ondownload(fig, format);\n",
       "}\n",
       "\n",
       "\n",
       "mpl.figure.prototype.handle_resize = function(fig, msg) {\n",
       "    var size = msg['size'];\n",
       "    if (size[0] != fig.canvas.width || size[1] != fig.canvas.height) {\n",
       "        fig._resize_canvas(size[0], size[1]);\n",
       "        fig.send_message(\"refresh\", {});\n",
       "    };\n",
       "}\n",
       "\n",
       "mpl.figure.prototype.handle_rubberband = function(fig, msg) {\n",
       "    var x0 = msg['x0'] / mpl.ratio;\n",
       "    var y0 = (fig.canvas.height - msg['y0']) / mpl.ratio;\n",
       "    var x1 = msg['x1'] / mpl.ratio;\n",
       "    var y1 = (fig.canvas.height - msg['y1']) / mpl.ratio;\n",
       "    x0 = Math.floor(x0) + 0.5;\n",
       "    y0 = Math.floor(y0) + 0.5;\n",
       "    x1 = Math.floor(x1) + 0.5;\n",
       "    y1 = Math.floor(y1) + 0.5;\n",
       "    var min_x = Math.min(x0, x1);\n",
       "    var min_y = Math.min(y0, y1);\n",
       "    var width = Math.abs(x1 - x0);\n",
       "    var height = Math.abs(y1 - y0);\n",
       "\n",
       "    fig.rubberband_context.clearRect(\n",
       "        0, 0, fig.canvas.width, fig.canvas.height);\n",
       "\n",
       "    fig.rubberband_context.strokeRect(min_x, min_y, width, height);\n",
       "}\n",
       "\n",
       "mpl.figure.prototype.handle_figure_label = function(fig, msg) {\n",
       "    // Updates the figure title.\n",
       "    fig.header.textContent = msg['label'];\n",
       "}\n",
       "\n",
       "mpl.figure.prototype.handle_cursor = function(fig, msg) {\n",
       "    var cursor = msg['cursor'];\n",
       "    switch(cursor)\n",
       "    {\n",
       "    case 0:\n",
       "        cursor = 'pointer';\n",
       "        break;\n",
       "    case 1:\n",
       "        cursor = 'default';\n",
       "        break;\n",
       "    case 2:\n",
       "        cursor = 'crosshair';\n",
       "        break;\n",
       "    case 3:\n",
       "        cursor = 'move';\n",
       "        break;\n",
       "    }\n",
       "    fig.rubberband_canvas.style.cursor = cursor;\n",
       "}\n",
       "\n",
       "mpl.figure.prototype.handle_message = function(fig, msg) {\n",
       "    fig.message.textContent = msg['message'];\n",
       "}\n",
       "\n",
       "mpl.figure.prototype.handle_draw = function(fig, msg) {\n",
       "    // Request the server to send over a new figure.\n",
       "    fig.send_draw_message();\n",
       "}\n",
       "\n",
       "mpl.figure.prototype.handle_image_mode = function(fig, msg) {\n",
       "    fig.image_mode = msg['mode'];\n",
       "}\n",
       "\n",
       "mpl.figure.prototype.updated_canvas_event = function() {\n",
       "    // Called whenever the canvas gets updated.\n",
       "    this.send_message(\"ack\", {});\n",
       "}\n",
       "\n",
       "// A function to construct a web socket function for onmessage handling.\n",
       "// Called in the figure constructor.\n",
       "mpl.figure.prototype._make_on_message_function = function(fig) {\n",
       "    return function socket_on_message(evt) {\n",
       "        if (evt.data instanceof Blob) {\n",
       "            /* FIXME: We get \"Resource interpreted as Image but\n",
       "             * transferred with MIME type text/plain:\" errors on\n",
       "             * Chrome.  But how to set the MIME type?  It doesn't seem\n",
       "             * to be part of the websocket stream */\n",
       "            evt.data.type = \"image/png\";\n",
       "\n",
       "            /* Free the memory for the previous frames */\n",
       "            if (fig.imageObj.src) {\n",
       "                (window.URL || window.webkitURL).revokeObjectURL(\n",
       "                    fig.imageObj.src);\n",
       "            }\n",
       "\n",
       "            fig.imageObj.src = (window.URL || window.webkitURL).createObjectURL(\n",
       "                evt.data);\n",
       "            fig.updated_canvas_event();\n",
       "            fig.waiting = false;\n",
       "            return;\n",
       "        }\n",
       "        else if (typeof evt.data === 'string' && evt.data.slice(0, 21) == \"data:image/png;base64\") {\n",
       "            fig.imageObj.src = evt.data;\n",
       "            fig.updated_canvas_event();\n",
       "            fig.waiting = false;\n",
       "            return;\n",
       "        }\n",
       "\n",
       "        var msg = JSON.parse(evt.data);\n",
       "        var msg_type = msg['type'];\n",
       "\n",
       "        // Call the  \"handle_{type}\" callback, which takes\n",
       "        // the figure and JSON message as its only arguments.\n",
       "        try {\n",
       "            var callback = fig[\"handle_\" + msg_type];\n",
       "        } catch (e) {\n",
       "            console.log(\"No handler for the '\" + msg_type + \"' message type: \", msg);\n",
       "            return;\n",
       "        }\n",
       "\n",
       "        if (callback) {\n",
       "            try {\n",
       "                // console.log(\"Handling '\" + msg_type + \"' message: \", msg);\n",
       "                callback(fig, msg);\n",
       "            } catch (e) {\n",
       "                console.log(\"Exception inside the 'handler_\" + msg_type + \"' callback:\", e, e.stack, msg);\n",
       "            }\n",
       "        }\n",
       "    };\n",
       "}\n",
       "\n",
       "// from http://stackoverflow.com/questions/1114465/getting-mouse-location-in-canvas\n",
       "mpl.findpos = function(e) {\n",
       "    //this section is from http://www.quirksmode.org/js/events_properties.html\n",
       "    var targ;\n",
       "    if (!e)\n",
       "        e = window.event;\n",
       "    if (e.target)\n",
       "        targ = e.target;\n",
       "    else if (e.srcElement)\n",
       "        targ = e.srcElement;\n",
       "    if (targ.nodeType == 3) // defeat Safari bug\n",
       "        targ = targ.parentNode;\n",
       "\n",
       "    // jQuery normalizes the pageX and pageY\n",
       "    // pageX,Y are the mouse positions relative to the document\n",
       "    // offset() returns the position of the element relative to the document\n",
       "    var x = e.pageX - $(targ).offset().left;\n",
       "    var y = e.pageY - $(targ).offset().top;\n",
       "\n",
       "    return {\"x\": x, \"y\": y};\n",
       "};\n",
       "\n",
       "/*\n",
       " * return a copy of an object with only non-object keys\n",
       " * we need this to avoid circular references\n",
       " * http://stackoverflow.com/a/24161582/3208463\n",
       " */\n",
       "function simpleKeys (original) {\n",
       "  return Object.keys(original).reduce(function (obj, key) {\n",
       "    if (typeof original[key] !== 'object')\n",
       "        obj[key] = original[key]\n",
       "    return obj;\n",
       "  }, {});\n",
       "}\n",
       "\n",
       "mpl.figure.prototype.mouse_event = function(event, name) {\n",
       "    var canvas_pos = mpl.findpos(event)\n",
       "\n",
       "    if (name === 'button_press')\n",
       "    {\n",
       "        this.canvas.focus();\n",
       "        this.canvas_div.focus();\n",
       "    }\n",
       "\n",
       "    var x = canvas_pos.x * mpl.ratio;\n",
       "    var y = canvas_pos.y * mpl.ratio;\n",
       "\n",
       "    this.send_message(name, {x: x, y: y, button: event.button,\n",
       "                             step: event.step,\n",
       "                             guiEvent: simpleKeys(event)});\n",
       "\n",
       "    /* This prevents the web browser from automatically changing to\n",
       "     * the text insertion cursor when the button is pressed.  We want\n",
       "     * to control all of the cursor setting manually through the\n",
       "     * 'cursor' event from matplotlib */\n",
       "    event.preventDefault();\n",
       "    return false;\n",
       "}\n",
       "\n",
       "mpl.figure.prototype._key_event_extra = function(event, name) {\n",
       "    // Handle any extra behaviour associated with a key event\n",
       "}\n",
       "\n",
       "mpl.figure.prototype.key_event = function(event, name) {\n",
       "\n",
       "    // Prevent repeat events\n",
       "    if (name == 'key_press')\n",
       "    {\n",
       "        if (event.which === this._key)\n",
       "            return;\n",
       "        else\n",
       "            this._key = event.which;\n",
       "    }\n",
       "    if (name == 'key_release')\n",
       "        this._key = null;\n",
       "\n",
       "    var value = '';\n",
       "    if (event.ctrlKey && event.which != 17)\n",
       "        value += \"ctrl+\";\n",
       "    if (event.altKey && event.which != 18)\n",
       "        value += \"alt+\";\n",
       "    if (event.shiftKey && event.which != 16)\n",
       "        value += \"shift+\";\n",
       "\n",
       "    value += 'k';\n",
       "    value += event.which.toString();\n",
       "\n",
       "    this._key_event_extra(event, name);\n",
       "\n",
       "    this.send_message(name, {key: value,\n",
       "                             guiEvent: simpleKeys(event)});\n",
       "    return false;\n",
       "}\n",
       "\n",
       "mpl.figure.prototype.toolbar_button_onclick = function(name) {\n",
       "    if (name == 'download') {\n",
       "        this.handle_save(this, null);\n",
       "    } else {\n",
       "        this.send_message(\"toolbar_button\", {name: name});\n",
       "    }\n",
       "};\n",
       "\n",
       "mpl.figure.prototype.toolbar_button_onmouseover = function(tooltip) {\n",
       "    this.message.textContent = tooltip;\n",
       "};\n",
       "mpl.toolbar_items = [[\"Home\", \"Reset original view\", \"fa fa-home icon-home\", \"home\"], [\"Back\", \"Back to previous view\", \"fa fa-arrow-left icon-arrow-left\", \"back\"], [\"Forward\", \"Forward to next view\", \"fa fa-arrow-right icon-arrow-right\", \"forward\"], [\"\", \"\", \"\", \"\"], [\"Pan\", \"Pan axes with left mouse, zoom with right\", \"fa fa-arrows icon-move\", \"pan\"], [\"Zoom\", \"Zoom to rectangle\", \"fa fa-square-o icon-check-empty\", \"zoom\"], [\"\", \"\", \"\", \"\"], [\"Download\", \"Download plot\", \"fa fa-floppy-o icon-save\", \"download\"]];\n",
       "\n",
       "mpl.extensions = [\"eps\", \"jpeg\", \"pdf\", \"png\", \"ps\", \"raw\", \"svg\", \"tif\"];\n",
       "\n",
       "mpl.default_extension = \"png\";var comm_websocket_adapter = function(comm) {\n",
       "    // Create a \"websocket\"-like object which calls the given IPython comm\n",
       "    // object with the appropriate methods. Currently this is a non binary\n",
       "    // socket, so there is still some room for performance tuning.\n",
       "    var ws = {};\n",
       "\n",
       "    ws.close = function() {\n",
       "        comm.close()\n",
       "    };\n",
       "    ws.send = function(m) {\n",
       "        //console.log('sending', m);\n",
       "        comm.send(m);\n",
       "    };\n",
       "    // Register the callback with on_msg.\n",
       "    comm.on_msg(function(msg) {\n",
       "        //console.log('receiving', msg['content']['data'], msg);\n",
       "        // Pass the mpl event to the overridden (by mpl) onmessage function.\n",
       "        ws.onmessage(msg['content']['data'])\n",
       "    });\n",
       "    return ws;\n",
       "}\n",
       "\n",
       "mpl.mpl_figure_comm = function(comm, msg) {\n",
       "    // This is the function which gets called when the mpl process\n",
       "    // starts-up an IPython Comm through the \"matplotlib\" channel.\n",
       "\n",
       "    var id = msg.content.data.id;\n",
       "    // Get hold of the div created by the display call when the Comm\n",
       "    // socket was opened in Python.\n",
       "    var element = $(\"#\" + id);\n",
       "    var ws_proxy = comm_websocket_adapter(comm)\n",
       "\n",
       "    function ondownload(figure, format) {\n",
       "        window.open(figure.imageObj.src);\n",
       "    }\n",
       "\n",
       "    var fig = new mpl.figure(id, ws_proxy,\n",
       "                           ondownload,\n",
       "                           element.get(0));\n",
       "\n",
       "    // Call onopen now - mpl needs it, as it is assuming we've passed it a real\n",
       "    // web socket which is closed, not our websocket->open comm proxy.\n",
       "    ws_proxy.onopen();\n",
       "\n",
       "    fig.parent_element = element.get(0);\n",
       "    fig.cell_info = mpl.find_output_cell(\"<div id='\" + id + \"'></div>\");\n",
       "    if (!fig.cell_info) {\n",
       "        console.error(\"Failed to find cell for figure\", id, fig);\n",
       "        return;\n",
       "    }\n",
       "\n",
       "    var output_index = fig.cell_info[2]\n",
       "    var cell = fig.cell_info[0];\n",
       "\n",
       "};\n",
       "\n",
       "mpl.figure.prototype.handle_close = function(fig, msg) {\n",
       "    var width = fig.canvas.width/mpl.ratio\n",
       "    fig.root.unbind('remove')\n",
       "\n",
       "    // Update the output cell to use the data from the current canvas.\n",
       "    fig.push_to_output();\n",
       "    var dataURL = fig.canvas.toDataURL();\n",
       "    // Re-enable the keyboard manager in IPython - without this line, in FF,\n",
       "    // the notebook keyboard shortcuts fail.\n",
       "    IPython.keyboard_manager.enable()\n",
       "    $(fig.parent_element).html('<img src=\"' + dataURL + '\" width=\"' + width + '\">');\n",
       "    fig.close_ws(fig, msg);\n",
       "}\n",
       "\n",
       "mpl.figure.prototype.close_ws = function(fig, msg){\n",
       "    fig.send_message('closing', msg);\n",
       "    // fig.ws.close()\n",
       "}\n",
       "\n",
       "mpl.figure.prototype.push_to_output = function(remove_interactive) {\n",
       "    // Turn the data on the canvas into data in the output cell.\n",
       "    var width = this.canvas.width/mpl.ratio\n",
       "    var dataURL = this.canvas.toDataURL();\n",
       "    this.cell_info[1]['text/html'] = '<img src=\"' + dataURL + '\" width=\"' + width + '\">';\n",
       "}\n",
       "\n",
       "mpl.figure.prototype.updated_canvas_event = function() {\n",
       "    // Tell IPython that the notebook contents must change.\n",
       "    IPython.notebook.set_dirty(true);\n",
       "    this.send_message(\"ack\", {});\n",
       "    var fig = this;\n",
       "    // Wait a second, then push the new image to the DOM so\n",
       "    // that it is saved nicely (might be nice to debounce this).\n",
       "    setTimeout(function () { fig.push_to_output() }, 1000);\n",
       "}\n",
       "\n",
       "mpl.figure.prototype._init_toolbar = function() {\n",
       "    var fig = this;\n",
       "\n",
       "    var nav_element = $('<div/>');\n",
       "    nav_element.attr('style', 'width: 100%');\n",
       "    this.root.append(nav_element);\n",
       "\n",
       "    // Define a callback function for later on.\n",
       "    function toolbar_event(event) {\n",
       "        return fig.toolbar_button_onclick(event['data']);\n",
       "    }\n",
       "    function toolbar_mouse_event(event) {\n",
       "        return fig.toolbar_button_onmouseover(event['data']);\n",
       "    }\n",
       "\n",
       "    for(var toolbar_ind in mpl.toolbar_items){\n",
       "        var name = mpl.toolbar_items[toolbar_ind][0];\n",
       "        var tooltip = mpl.toolbar_items[toolbar_ind][1];\n",
       "        var image = mpl.toolbar_items[toolbar_ind][2];\n",
       "        var method_name = mpl.toolbar_items[toolbar_ind][3];\n",
       "\n",
       "        if (!name) { continue; };\n",
       "\n",
       "        var button = $('<button class=\"btn btn-default\" href=\"#\" title=\"' + name + '\"><i class=\"fa ' + image + ' fa-lg\"></i></button>');\n",
       "        button.click(method_name, toolbar_event);\n",
       "        button.mouseover(tooltip, toolbar_mouse_event);\n",
       "        nav_element.append(button);\n",
       "    }\n",
       "\n",
       "    // Add the status bar.\n",
       "    var status_bar = $('<span class=\"mpl-message\" style=\"text-align:right; float: right;\"/>');\n",
       "    nav_element.append(status_bar);\n",
       "    this.message = status_bar[0];\n",
       "\n",
       "    // Add the close button to the window.\n",
       "    var buttongrp = $('<div class=\"btn-group inline pull-right\"></div>');\n",
       "    var button = $('<button class=\"btn btn-mini btn-primary\" href=\"#\" title=\"Stop Interaction\"><i class=\"fa fa-power-off icon-remove icon-large\"></i></button>');\n",
       "    button.click(function (evt) { fig.handle_close(fig, {}); } );\n",
       "    button.mouseover('Stop Interaction', toolbar_mouse_event);\n",
       "    buttongrp.append(button);\n",
       "    var titlebar = this.root.find($('.ui-dialog-titlebar'));\n",
       "    titlebar.prepend(buttongrp);\n",
       "}\n",
       "\n",
       "mpl.figure.prototype._root_extra_style = function(el){\n",
       "    var fig = this\n",
       "    el.on(\"remove\", function(){\n",
       "\tfig.close_ws(fig, {});\n",
       "    });\n",
       "}\n",
       "\n",
       "mpl.figure.prototype._canvas_extra_style = function(el){\n",
       "    // this is important to make the div 'focusable\n",
       "    el.attr('tabindex', 0)\n",
       "    // reach out to IPython and tell the keyboard manager to turn it's self\n",
       "    // off when our div gets focus\n",
       "\n",
       "    // location in version 3\n",
       "    if (IPython.notebook.keyboard_manager) {\n",
       "        IPython.notebook.keyboard_manager.register_events(el);\n",
       "    }\n",
       "    else {\n",
       "        // location in version 2\n",
       "        IPython.keyboard_manager.register_events(el);\n",
       "    }\n",
       "\n",
       "}\n",
       "\n",
       "mpl.figure.prototype._key_event_extra = function(event, name) {\n",
       "    var manager = IPython.notebook.keyboard_manager;\n",
       "    if (!manager)\n",
       "        manager = IPython.keyboard_manager;\n",
       "\n",
       "    // Check for shift+enter\n",
       "    if (event.shiftKey && event.which == 13) {\n",
       "        this.canvas_div.blur();\n",
       "        event.shiftKey = false;\n",
       "        // Send a \"J\" for go to next cell\n",
       "        event.which = 74;\n",
       "        event.keyCode = 74;\n",
       "        manager.command_mode();\n",
       "        manager.handle_keydown(event);\n",
       "    }\n",
       "}\n",
       "\n",
       "mpl.figure.prototype.handle_save = function(fig, msg) {\n",
       "    fig.ondownload(fig, null);\n",
       "}\n",
       "\n",
       "\n",
       "mpl.find_output_cell = function(html_output) {\n",
       "    // Return the cell and output element which can be found *uniquely* in the notebook.\n",
       "    // Note - this is a bit hacky, but it is done because the \"notebook_saving.Notebook\"\n",
       "    // IPython event is triggered only after the cells have been serialised, which for\n",
       "    // our purposes (turning an active figure into a static one), is too late.\n",
       "    var cells = IPython.notebook.get_cells();\n",
       "    var ncells = cells.length;\n",
       "    for (var i=0; i<ncells; i++) {\n",
       "        var cell = cells[i];\n",
       "        if (cell.cell_type === 'code'){\n",
       "            for (var j=0; j<cell.output_area.outputs.length; j++) {\n",
       "                var data = cell.output_area.outputs[j];\n",
       "                if (data.data) {\n",
       "                    // IPython >= 3 moved mimebundle to data attribute of output\n",
       "                    data = data.data;\n",
       "                }\n",
       "                if (data['text/html'] == html_output) {\n",
       "                    return [cell, data, j];\n",
       "                }\n",
       "            }\n",
       "        }\n",
       "    }\n",
       "}\n",
       "\n",
       "// Register the function which deals with the matplotlib target/channel.\n",
       "// The kernel may be null if the page has been refreshed.\n",
       "if (IPython.notebook.kernel != null) {\n",
       "    IPython.notebook.kernel.comm_manager.register_target('matplotlib', mpl.mpl_figure_comm);\n",
       "}\n"
      ],
      "text/plain": [
       "<IPython.core.display.Javascript object>"
      ]
     },
     "metadata": {},
     "output_type": "display_data"
    },
    {
     "data": {
      "text/html": [
       "<img src=\"data:image/png;base64,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\" width=\"640\">"
      ],
      "text/plain": [
       "<IPython.core.display.HTML object>"
      ]
     },
     "metadata": {},
     "output_type": "display_data"
    }
   ],
   "source": [
    "plt.figure()\n",
    "plt.plot(accuracy_x_labels,accuracy_list,'-r')\n",
    "plt.xlabel('Classification Models')\n",
    "plt.ylabel('Accuracy')\n",
    "plt.xticks(rotation='vertical')\n",
    "plt.tight_layout()\n",
    "plt.show()"
   ]
  },
  {
   "cell_type": "markdown",
   "metadata": {},
   "source": [
    "## F1 Score Graph"
   ]
  },
  {
   "cell_type": "code",
   "execution_count": 131,
   "metadata": {},
   "outputs": [],
   "source": [
    "f1_random_forest=metrics.f1_score(Y_test,random_forest_predicted,average='weighted',labels=np.unique(random_forest_predicted))\n",
    "f1_decision_tree=metrics.f1_score(Y_test,decision_tree_predicted,average='weighted',labels=np.unique(decision_tree_predicted))\n",
    "f1_svm=metrics.f1_score(Y_test,svm_predicted,average='weighted',labels=np.unique(svm_predicted))\n",
    "f1_knn=metrics.f1_score(Y_test,knn_predicted,average='weighted',labels=np.unique(knn_predicted))\n",
    "f1_naive_bayes=metrics.f1_score(Y_test,naive_bayes_predicted,average='weighted',labels=np.unique(naive_bayes_predicted))\n",
    "f1_logistic=metrics.f1_score(Y_test,logistic_predicted,average='weighted',labels=np.unique(logistic_predicted))\n",
    "f1_isolation=metrics.f1_score(Y_test,isolation_predicted,average='weighted',labels=np.unique(isolation_predicted))"
   ]
  },
  {
   "cell_type": "code",
   "execution_count": 132,
   "metadata": {},
   "outputs": [],
   "source": [
    "f1_score_list=[f1_logistic,f1_isolation,f1_naive_bayes,f1_knn,f1_svm,f1_decision_tree,f1_random_forest]"
   ]
  },
  {
   "cell_type": "code",
   "execution_count": 133,
   "metadata": {},
   "outputs": [],
   "source": [
    "f1_score_x_labels=['logistic','isolation','naive_bayes','knn','svm','decision_tree','random_forest']"
   ]
  },
  {
   "cell_type": "code",
   "execution_count": 134,
   "metadata": {},
   "outputs": [
    {
     "data": {
      "application/javascript": [
       "/* Put everything inside the global mpl namespace */\n",
       "window.mpl = {};\n",
       "\n",
       "\n",
       "mpl.get_websocket_type = function() {\n",
       "    if (typeof(WebSocket) !== 'undefined') {\n",
       "        return WebSocket;\n",
       "    } else if (typeof(MozWebSocket) !== 'undefined') {\n",
       "        return MozWebSocket;\n",
       "    } else {\n",
       "        alert('Your browser does not have WebSocket support. ' +\n",
       "              'Please try Chrome, Safari or Firefox ≥ 6. ' +\n",
       "              'Firefox 4 and 5 are also supported but you ' +\n",
       "              'have to enable WebSockets in about:config.');\n",
       "    };\n",
       "}\n",
       "\n",
       "mpl.figure = function(figure_id, websocket, ondownload, parent_element) {\n",
       "    this.id = figure_id;\n",
       "\n",
       "    this.ws = websocket;\n",
       "\n",
       "    this.supports_binary = (this.ws.binaryType != undefined);\n",
       "\n",
       "    if (!this.supports_binary) {\n",
       "        var warnings = document.getElementById(\"mpl-warnings\");\n",
       "        if (warnings) {\n",
       "            warnings.style.display = 'block';\n",
       "            warnings.textContent = (\n",
       "                \"This browser does not support binary websocket messages. \" +\n",
       "                    \"Performance may be slow.\");\n",
       "        }\n",
       "    }\n",
       "\n",
       "    this.imageObj = new Image();\n",
       "\n",
       "    this.context = undefined;\n",
       "    this.message = undefined;\n",
       "    this.canvas = undefined;\n",
       "    this.rubberband_canvas = undefined;\n",
       "    this.rubberband_context = undefined;\n",
       "    this.format_dropdown = undefined;\n",
       "\n",
       "    this.image_mode = 'full';\n",
       "\n",
       "    this.root = $('<div/>');\n",
       "    this._root_extra_style(this.root)\n",
       "    this.root.attr('style', 'display: inline-block');\n",
       "\n",
       "    $(parent_element).append(this.root);\n",
       "\n",
       "    this._init_header(this);\n",
       "    this._init_canvas(this);\n",
       "    this._init_toolbar(this);\n",
       "\n",
       "    var fig = this;\n",
       "\n",
       "    this.waiting = false;\n",
       "\n",
       "    this.ws.onopen =  function () {\n",
       "            fig.send_message(\"supports_binary\", {value: fig.supports_binary});\n",
       "            fig.send_message(\"send_image_mode\", {});\n",
       "            if (mpl.ratio != 1) {\n",
       "                fig.send_message(\"set_dpi_ratio\", {'dpi_ratio': mpl.ratio});\n",
       "            }\n",
       "            fig.send_message(\"refresh\", {});\n",
       "        }\n",
       "\n",
       "    this.imageObj.onload = function() {\n",
       "            if (fig.image_mode == 'full') {\n",
       "                // Full images could contain transparency (where diff images\n",
       "                // almost always do), so we need to clear the canvas so that\n",
       "                // there is no ghosting.\n",
       "                fig.context.clearRect(0, 0, fig.canvas.width, fig.canvas.height);\n",
       "            }\n",
       "            fig.context.drawImage(fig.imageObj, 0, 0);\n",
       "        };\n",
       "\n",
       "    this.imageObj.onunload = function() {\n",
       "        fig.ws.close();\n",
       "    }\n",
       "\n",
       "    this.ws.onmessage = this._make_on_message_function(this);\n",
       "\n",
       "    this.ondownload = ondownload;\n",
       "}\n",
       "\n",
       "mpl.figure.prototype._init_header = function() {\n",
       "    var titlebar = $(\n",
       "        '<div class=\"ui-dialog-titlebar ui-widget-header ui-corner-all ' +\n",
       "        'ui-helper-clearfix\"/>');\n",
       "    var titletext = $(\n",
       "        '<div class=\"ui-dialog-title\" style=\"width: 100%; ' +\n",
       "        'text-align: center; padding: 3px;\"/>');\n",
       "    titlebar.append(titletext)\n",
       "    this.root.append(titlebar);\n",
       "    this.header = titletext[0];\n",
       "}\n",
       "\n",
       "\n",
       "\n",
       "mpl.figure.prototype._canvas_extra_style = function(canvas_div) {\n",
       "\n",
       "}\n",
       "\n",
       "\n",
       "mpl.figure.prototype._root_extra_style = function(canvas_div) {\n",
       "\n",
       "}\n",
       "\n",
       "mpl.figure.prototype._init_canvas = function() {\n",
       "    var fig = this;\n",
       "\n",
       "    var canvas_div = $('<div/>');\n",
       "\n",
       "    canvas_div.attr('style', 'position: relative; clear: both; outline: 0');\n",
       "\n",
       "    function canvas_keyboard_event(event) {\n",
       "        return fig.key_event(event, event['data']);\n",
       "    }\n",
       "\n",
       "    canvas_div.keydown('key_press', canvas_keyboard_event);\n",
       "    canvas_div.keyup('key_release', canvas_keyboard_event);\n",
       "    this.canvas_div = canvas_div\n",
       "    this._canvas_extra_style(canvas_div)\n",
       "    this.root.append(canvas_div);\n",
       "\n",
       "    var canvas = $('<canvas/>');\n",
       "    canvas.addClass('mpl-canvas');\n",
       "    canvas.attr('style', \"left: 0; top: 0; z-index: 0; outline: 0\")\n",
       "\n",
       "    this.canvas = canvas[0];\n",
       "    this.context = canvas[0].getContext(\"2d\");\n",
       "\n",
       "    var backingStore = this.context.backingStorePixelRatio ||\n",
       "\tthis.context.webkitBackingStorePixelRatio ||\n",
       "\tthis.context.mozBackingStorePixelRatio ||\n",
       "\tthis.context.msBackingStorePixelRatio ||\n",
       "\tthis.context.oBackingStorePixelRatio ||\n",
       "\tthis.context.backingStorePixelRatio || 1;\n",
       "\n",
       "    mpl.ratio = (window.devicePixelRatio || 1) / backingStore;\n",
       "\n",
       "    var rubberband = $('<canvas/>');\n",
       "    rubberband.attr('style', \"position: absolute; left: 0; top: 0; z-index: 1;\")\n",
       "\n",
       "    var pass_mouse_events = true;\n",
       "\n",
       "    canvas_div.resizable({\n",
       "        start: function(event, ui) {\n",
       "            pass_mouse_events = false;\n",
       "        },\n",
       "        resize: function(event, ui) {\n",
       "            fig.request_resize(ui.size.width, ui.size.height);\n",
       "        },\n",
       "        stop: function(event, ui) {\n",
       "            pass_mouse_events = true;\n",
       "            fig.request_resize(ui.size.width, ui.size.height);\n",
       "        },\n",
       "    });\n",
       "\n",
       "    function mouse_event_fn(event) {\n",
       "        if (pass_mouse_events)\n",
       "            return fig.mouse_event(event, event['data']);\n",
       "    }\n",
       "\n",
       "    rubberband.mousedown('button_press', mouse_event_fn);\n",
       "    rubberband.mouseup('button_release', mouse_event_fn);\n",
       "    // Throttle sequential mouse events to 1 every 20ms.\n",
       "    rubberband.mousemove('motion_notify', mouse_event_fn);\n",
       "\n",
       "    rubberband.mouseenter('figure_enter', mouse_event_fn);\n",
       "    rubberband.mouseleave('figure_leave', mouse_event_fn);\n",
       "\n",
       "    canvas_div.on(\"wheel\", function (event) {\n",
       "        event = event.originalEvent;\n",
       "        event['data'] = 'scroll'\n",
       "        if (event.deltaY < 0) {\n",
       "            event.step = 1;\n",
       "        } else {\n",
       "            event.step = -1;\n",
       "        }\n",
       "        mouse_event_fn(event);\n",
       "    });\n",
       "\n",
       "    canvas_div.append(canvas);\n",
       "    canvas_div.append(rubberband);\n",
       "\n",
       "    this.rubberband = rubberband;\n",
       "    this.rubberband_canvas = rubberband[0];\n",
       "    this.rubberband_context = rubberband[0].getContext(\"2d\");\n",
       "    this.rubberband_context.strokeStyle = \"#000000\";\n",
       "\n",
       "    this._resize_canvas = function(width, height) {\n",
       "        // Keep the size of the canvas, canvas container, and rubber band\n",
       "        // canvas in synch.\n",
       "        canvas_div.css('width', width)\n",
       "        canvas_div.css('height', height)\n",
       "\n",
       "        canvas.attr('width', width * mpl.ratio);\n",
       "        canvas.attr('height', height * mpl.ratio);\n",
       "        canvas.attr('style', 'width: ' + width + 'px; height: ' + height + 'px;');\n",
       "\n",
       "        rubberband.attr('width', width);\n",
       "        rubberband.attr('height', height);\n",
       "    }\n",
       "\n",
       "    // Set the figure to an initial 600x600px, this will subsequently be updated\n",
       "    // upon first draw.\n",
       "    this._resize_canvas(600, 600);\n",
       "\n",
       "    // Disable right mouse context menu.\n",
       "    $(this.rubberband_canvas).bind(\"contextmenu\",function(e){\n",
       "        return false;\n",
       "    });\n",
       "\n",
       "    function set_focus () {\n",
       "        canvas.focus();\n",
       "        canvas_div.focus();\n",
       "    }\n",
       "\n",
       "    window.setTimeout(set_focus, 100);\n",
       "}\n",
       "\n",
       "mpl.figure.prototype._init_toolbar = function() {\n",
       "    var fig = this;\n",
       "\n",
       "    var nav_element = $('<div/>');\n",
       "    nav_element.attr('style', 'width: 100%');\n",
       "    this.root.append(nav_element);\n",
       "\n",
       "    // Define a callback function for later on.\n",
       "    function toolbar_event(event) {\n",
       "        return fig.toolbar_button_onclick(event['data']);\n",
       "    }\n",
       "    function toolbar_mouse_event(event) {\n",
       "        return fig.toolbar_button_onmouseover(event['data']);\n",
       "    }\n",
       "\n",
       "    for(var toolbar_ind in mpl.toolbar_items) {\n",
       "        var name = mpl.toolbar_items[toolbar_ind][0];\n",
       "        var tooltip = mpl.toolbar_items[toolbar_ind][1];\n",
       "        var image = mpl.toolbar_items[toolbar_ind][2];\n",
       "        var method_name = mpl.toolbar_items[toolbar_ind][3];\n",
       "\n",
       "        if (!name) {\n",
       "            // put a spacer in here.\n",
       "            continue;\n",
       "        }\n",
       "        var button = $('<button/>');\n",
       "        button.addClass('ui-button ui-widget ui-state-default ui-corner-all ' +\n",
       "                        'ui-button-icon-only');\n",
       "        button.attr('role', 'button');\n",
       "        button.attr('aria-disabled', 'false');\n",
       "        button.click(method_name, toolbar_event);\n",
       "        button.mouseover(tooltip, toolbar_mouse_event);\n",
       "\n",
       "        var icon_img = $('<span/>');\n",
       "        icon_img.addClass('ui-button-icon-primary ui-icon');\n",
       "        icon_img.addClass(image);\n",
       "        icon_img.addClass('ui-corner-all');\n",
       "\n",
       "        var tooltip_span = $('<span/>');\n",
       "        tooltip_span.addClass('ui-button-text');\n",
       "        tooltip_span.html(tooltip);\n",
       "\n",
       "        button.append(icon_img);\n",
       "        button.append(tooltip_span);\n",
       "\n",
       "        nav_element.append(button);\n",
       "    }\n",
       "\n",
       "    var fmt_picker_span = $('<span/>');\n",
       "\n",
       "    var fmt_picker = $('<select/>');\n",
       "    fmt_picker.addClass('mpl-toolbar-option ui-widget ui-widget-content');\n",
       "    fmt_picker_span.append(fmt_picker);\n",
       "    nav_element.append(fmt_picker_span);\n",
       "    this.format_dropdown = fmt_picker[0];\n",
       "\n",
       "    for (var ind in mpl.extensions) {\n",
       "        var fmt = mpl.extensions[ind];\n",
       "        var option = $(\n",
       "            '<option/>', {selected: fmt === mpl.default_extension}).html(fmt);\n",
       "        fmt_picker.append(option);\n",
       "    }\n",
       "\n",
       "    // Add hover states to the ui-buttons\n",
       "    $( \".ui-button\" ).hover(\n",
       "        function() { $(this).addClass(\"ui-state-hover\");},\n",
       "        function() { $(this).removeClass(\"ui-state-hover\");}\n",
       "    );\n",
       "\n",
       "    var status_bar = $('<span class=\"mpl-message\"/>');\n",
       "    nav_element.append(status_bar);\n",
       "    this.message = status_bar[0];\n",
       "}\n",
       "\n",
       "mpl.figure.prototype.request_resize = function(x_pixels, y_pixels) {\n",
       "    // Request matplotlib to resize the figure. Matplotlib will then trigger a resize in the client,\n",
       "    // which will in turn request a refresh of the image.\n",
       "    this.send_message('resize', {'width': x_pixels, 'height': y_pixels});\n",
       "}\n",
       "\n",
       "mpl.figure.prototype.send_message = function(type, properties) {\n",
       "    properties['type'] = type;\n",
       "    properties['figure_id'] = this.id;\n",
       "    this.ws.send(JSON.stringify(properties));\n",
       "}\n",
       "\n",
       "mpl.figure.prototype.send_draw_message = function() {\n",
       "    if (!this.waiting) {\n",
       "        this.waiting = true;\n",
       "        this.ws.send(JSON.stringify({type: \"draw\", figure_id: this.id}));\n",
       "    }\n",
       "}\n",
       "\n",
       "\n",
       "mpl.figure.prototype.handle_save = function(fig, msg) {\n",
       "    var format_dropdown = fig.format_dropdown;\n",
       "    var format = format_dropdown.options[format_dropdown.selectedIndex].value;\n",
       "    fig.ondownload(fig, format);\n",
       "}\n",
       "\n",
       "\n",
       "mpl.figure.prototype.handle_resize = function(fig, msg) {\n",
       "    var size = msg['size'];\n",
       "    if (size[0] != fig.canvas.width || size[1] != fig.canvas.height) {\n",
       "        fig._resize_canvas(size[0], size[1]);\n",
       "        fig.send_message(\"refresh\", {});\n",
       "    };\n",
       "}\n",
       "\n",
       "mpl.figure.prototype.handle_rubberband = function(fig, msg) {\n",
       "    var x0 = msg['x0'] / mpl.ratio;\n",
       "    var y0 = (fig.canvas.height - msg['y0']) / mpl.ratio;\n",
       "    var x1 = msg['x1'] / mpl.ratio;\n",
       "    var y1 = (fig.canvas.height - msg['y1']) / mpl.ratio;\n",
       "    x0 = Math.floor(x0) + 0.5;\n",
       "    y0 = Math.floor(y0) + 0.5;\n",
       "    x1 = Math.floor(x1) + 0.5;\n",
       "    y1 = Math.floor(y1) + 0.5;\n",
       "    var min_x = Math.min(x0, x1);\n",
       "    var min_y = Math.min(y0, y1);\n",
       "    var width = Math.abs(x1 - x0);\n",
       "    var height = Math.abs(y1 - y0);\n",
       "\n",
       "    fig.rubberband_context.clearRect(\n",
       "        0, 0, fig.canvas.width, fig.canvas.height);\n",
       "\n",
       "    fig.rubberband_context.strokeRect(min_x, min_y, width, height);\n",
       "}\n",
       "\n",
       "mpl.figure.prototype.handle_figure_label = function(fig, msg) {\n",
       "    // Updates the figure title.\n",
       "    fig.header.textContent = msg['label'];\n",
       "}\n",
       "\n",
       "mpl.figure.prototype.handle_cursor = function(fig, msg) {\n",
       "    var cursor = msg['cursor'];\n",
       "    switch(cursor)\n",
       "    {\n",
       "    case 0:\n",
       "        cursor = 'pointer';\n",
       "        break;\n",
       "    case 1:\n",
       "        cursor = 'default';\n",
       "        break;\n",
       "    case 2:\n",
       "        cursor = 'crosshair';\n",
       "        break;\n",
       "    case 3:\n",
       "        cursor = 'move';\n",
       "        break;\n",
       "    }\n",
       "    fig.rubberband_canvas.style.cursor = cursor;\n",
       "}\n",
       "\n",
       "mpl.figure.prototype.handle_message = function(fig, msg) {\n",
       "    fig.message.textContent = msg['message'];\n",
       "}\n",
       "\n",
       "mpl.figure.prototype.handle_draw = function(fig, msg) {\n",
       "    // Request the server to send over a new figure.\n",
       "    fig.send_draw_message();\n",
       "}\n",
       "\n",
       "mpl.figure.prototype.handle_image_mode = function(fig, msg) {\n",
       "    fig.image_mode = msg['mode'];\n",
       "}\n",
       "\n",
       "mpl.figure.prototype.updated_canvas_event = function() {\n",
       "    // Called whenever the canvas gets updated.\n",
       "    this.send_message(\"ack\", {});\n",
       "}\n",
       "\n",
       "// A function to construct a web socket function for onmessage handling.\n",
       "// Called in the figure constructor.\n",
       "mpl.figure.prototype._make_on_message_function = function(fig) {\n",
       "    return function socket_on_message(evt) {\n",
       "        if (evt.data instanceof Blob) {\n",
       "            /* FIXME: We get \"Resource interpreted as Image but\n",
       "             * transferred with MIME type text/plain:\" errors on\n",
       "             * Chrome.  But how to set the MIME type?  It doesn't seem\n",
       "             * to be part of the websocket stream */\n",
       "            evt.data.type = \"image/png\";\n",
       "\n",
       "            /* Free the memory for the previous frames */\n",
       "            if (fig.imageObj.src) {\n",
       "                (window.URL || window.webkitURL).revokeObjectURL(\n",
       "                    fig.imageObj.src);\n",
       "            }\n",
       "\n",
       "            fig.imageObj.src = (window.URL || window.webkitURL).createObjectURL(\n",
       "                evt.data);\n",
       "            fig.updated_canvas_event();\n",
       "            fig.waiting = false;\n",
       "            return;\n",
       "        }\n",
       "        else if (typeof evt.data === 'string' && evt.data.slice(0, 21) == \"data:image/png;base64\") {\n",
       "            fig.imageObj.src = evt.data;\n",
       "            fig.updated_canvas_event();\n",
       "            fig.waiting = false;\n",
       "            return;\n",
       "        }\n",
       "\n",
       "        var msg = JSON.parse(evt.data);\n",
       "        var msg_type = msg['type'];\n",
       "\n",
       "        // Call the  \"handle_{type}\" callback, which takes\n",
       "        // the figure and JSON message as its only arguments.\n",
       "        try {\n",
       "            var callback = fig[\"handle_\" + msg_type];\n",
       "        } catch (e) {\n",
       "            console.log(\"No handler for the '\" + msg_type + \"' message type: \", msg);\n",
       "            return;\n",
       "        }\n",
       "\n",
       "        if (callback) {\n",
       "            try {\n",
       "                // console.log(\"Handling '\" + msg_type + \"' message: \", msg);\n",
       "                callback(fig, msg);\n",
       "            } catch (e) {\n",
       "                console.log(\"Exception inside the 'handler_\" + msg_type + \"' callback:\", e, e.stack, msg);\n",
       "            }\n",
       "        }\n",
       "    };\n",
       "}\n",
       "\n",
       "// from http://stackoverflow.com/questions/1114465/getting-mouse-location-in-canvas\n",
       "mpl.findpos = function(e) {\n",
       "    //this section is from http://www.quirksmode.org/js/events_properties.html\n",
       "    var targ;\n",
       "    if (!e)\n",
       "        e = window.event;\n",
       "    if (e.target)\n",
       "        targ = e.target;\n",
       "    else if (e.srcElement)\n",
       "        targ = e.srcElement;\n",
       "    if (targ.nodeType == 3) // defeat Safari bug\n",
       "        targ = targ.parentNode;\n",
       "\n",
       "    // jQuery normalizes the pageX and pageY\n",
       "    // pageX,Y are the mouse positions relative to the document\n",
       "    // offset() returns the position of the element relative to the document\n",
       "    var x = e.pageX - $(targ).offset().left;\n",
       "    var y = e.pageY - $(targ).offset().top;\n",
       "\n",
       "    return {\"x\": x, \"y\": y};\n",
       "};\n",
       "\n",
       "/*\n",
       " * return a copy of an object with only non-object keys\n",
       " * we need this to avoid circular references\n",
       " * http://stackoverflow.com/a/24161582/3208463\n",
       " */\n",
       "function simpleKeys (original) {\n",
       "  return Object.keys(original).reduce(function (obj, key) {\n",
       "    if (typeof original[key] !== 'object')\n",
       "        obj[key] = original[key]\n",
       "    return obj;\n",
       "  }, {});\n",
       "}\n",
       "\n",
       "mpl.figure.prototype.mouse_event = function(event, name) {\n",
       "    var canvas_pos = mpl.findpos(event)\n",
       "\n",
       "    if (name === 'button_press')\n",
       "    {\n",
       "        this.canvas.focus();\n",
       "        this.canvas_div.focus();\n",
       "    }\n",
       "\n",
       "    var x = canvas_pos.x * mpl.ratio;\n",
       "    var y = canvas_pos.y * mpl.ratio;\n",
       "\n",
       "    this.send_message(name, {x: x, y: y, button: event.button,\n",
       "                             step: event.step,\n",
       "                             guiEvent: simpleKeys(event)});\n",
       "\n",
       "    /* This prevents the web browser from automatically changing to\n",
       "     * the text insertion cursor when the button is pressed.  We want\n",
       "     * to control all of the cursor setting manually through the\n",
       "     * 'cursor' event from matplotlib */\n",
       "    event.preventDefault();\n",
       "    return false;\n",
       "}\n",
       "\n",
       "mpl.figure.prototype._key_event_extra = function(event, name) {\n",
       "    // Handle any extra behaviour associated with a key event\n",
       "}\n",
       "\n",
       "mpl.figure.prototype.key_event = function(event, name) {\n",
       "\n",
       "    // Prevent repeat events\n",
       "    if (name == 'key_press')\n",
       "    {\n",
       "        if (event.which === this._key)\n",
       "            return;\n",
       "        else\n",
       "            this._key = event.which;\n",
       "    }\n",
       "    if (name == 'key_release')\n",
       "        this._key = null;\n",
       "\n",
       "    var value = '';\n",
       "    if (event.ctrlKey && event.which != 17)\n",
       "        value += \"ctrl+\";\n",
       "    if (event.altKey && event.which != 18)\n",
       "        value += \"alt+\";\n",
       "    if (event.shiftKey && event.which != 16)\n",
       "        value += \"shift+\";\n",
       "\n",
       "    value += 'k';\n",
       "    value += event.which.toString();\n",
       "\n",
       "    this._key_event_extra(event, name);\n",
       "\n",
       "    this.send_message(name, {key: value,\n",
       "                             guiEvent: simpleKeys(event)});\n",
       "    return false;\n",
       "}\n",
       "\n",
       "mpl.figure.prototype.toolbar_button_onclick = function(name) {\n",
       "    if (name == 'download') {\n",
       "        this.handle_save(this, null);\n",
       "    } else {\n",
       "        this.send_message(\"toolbar_button\", {name: name});\n",
       "    }\n",
       "};\n",
       "\n",
       "mpl.figure.prototype.toolbar_button_onmouseover = function(tooltip) {\n",
       "    this.message.textContent = tooltip;\n",
       "};\n",
       "mpl.toolbar_items = [[\"Home\", \"Reset original view\", \"fa fa-home icon-home\", \"home\"], [\"Back\", \"Back to previous view\", \"fa fa-arrow-left icon-arrow-left\", \"back\"], [\"Forward\", \"Forward to next view\", \"fa fa-arrow-right icon-arrow-right\", \"forward\"], [\"\", \"\", \"\", \"\"], [\"Pan\", \"Pan axes with left mouse, zoom with right\", \"fa fa-arrows icon-move\", \"pan\"], [\"Zoom\", \"Zoom to rectangle\", \"fa fa-square-o icon-check-empty\", \"zoom\"], [\"\", \"\", \"\", \"\"], [\"Download\", \"Download plot\", \"fa fa-floppy-o icon-save\", \"download\"]];\n",
       "\n",
       "mpl.extensions = [\"eps\", \"jpeg\", \"pdf\", \"png\", \"ps\", \"raw\", \"svg\", \"tif\"];\n",
       "\n",
       "mpl.default_extension = \"png\";var comm_websocket_adapter = function(comm) {\n",
       "    // Create a \"websocket\"-like object which calls the given IPython comm\n",
       "    // object with the appropriate methods. Currently this is a non binary\n",
       "    // socket, so there is still some room for performance tuning.\n",
       "    var ws = {};\n",
       "\n",
       "    ws.close = function() {\n",
       "        comm.close()\n",
       "    };\n",
       "    ws.send = function(m) {\n",
       "        //console.log('sending', m);\n",
       "        comm.send(m);\n",
       "    };\n",
       "    // Register the callback with on_msg.\n",
       "    comm.on_msg(function(msg) {\n",
       "        //console.log('receiving', msg['content']['data'], msg);\n",
       "        // Pass the mpl event to the overridden (by mpl) onmessage function.\n",
       "        ws.onmessage(msg['content']['data'])\n",
       "    });\n",
       "    return ws;\n",
       "}\n",
       "\n",
       "mpl.mpl_figure_comm = function(comm, msg) {\n",
       "    // This is the function which gets called when the mpl process\n",
       "    // starts-up an IPython Comm through the \"matplotlib\" channel.\n",
       "\n",
       "    var id = msg.content.data.id;\n",
       "    // Get hold of the div created by the display call when the Comm\n",
       "    // socket was opened in Python.\n",
       "    var element = $(\"#\" + id);\n",
       "    var ws_proxy = comm_websocket_adapter(comm)\n",
       "\n",
       "    function ondownload(figure, format) {\n",
       "        window.open(figure.imageObj.src);\n",
       "    }\n",
       "\n",
       "    var fig = new mpl.figure(id, ws_proxy,\n",
       "                           ondownload,\n",
       "                           element.get(0));\n",
       "\n",
       "    // Call onopen now - mpl needs it, as it is assuming we've passed it a real\n",
       "    // web socket which is closed, not our websocket->open comm proxy.\n",
       "    ws_proxy.onopen();\n",
       "\n",
       "    fig.parent_element = element.get(0);\n",
       "    fig.cell_info = mpl.find_output_cell(\"<div id='\" + id + \"'></div>\");\n",
       "    if (!fig.cell_info) {\n",
       "        console.error(\"Failed to find cell for figure\", id, fig);\n",
       "        return;\n",
       "    }\n",
       "\n",
       "    var output_index = fig.cell_info[2]\n",
       "    var cell = fig.cell_info[0];\n",
       "\n",
       "};\n",
       "\n",
       "mpl.figure.prototype.handle_close = function(fig, msg) {\n",
       "    var width = fig.canvas.width/mpl.ratio\n",
       "    fig.root.unbind('remove')\n",
       "\n",
       "    // Update the output cell to use the data from the current canvas.\n",
       "    fig.push_to_output();\n",
       "    var dataURL = fig.canvas.toDataURL();\n",
       "    // Re-enable the keyboard manager in IPython - without this line, in FF,\n",
       "    // the notebook keyboard shortcuts fail.\n",
       "    IPython.keyboard_manager.enable()\n",
       "    $(fig.parent_element).html('<img src=\"' + dataURL + '\" width=\"' + width + '\">');\n",
       "    fig.close_ws(fig, msg);\n",
       "}\n",
       "\n",
       "mpl.figure.prototype.close_ws = function(fig, msg){\n",
       "    fig.send_message('closing', msg);\n",
       "    // fig.ws.close()\n",
       "}\n",
       "\n",
       "mpl.figure.prototype.push_to_output = function(remove_interactive) {\n",
       "    // Turn the data on the canvas into data in the output cell.\n",
       "    var width = this.canvas.width/mpl.ratio\n",
       "    var dataURL = this.canvas.toDataURL();\n",
       "    this.cell_info[1]['text/html'] = '<img src=\"' + dataURL + '\" width=\"' + width + '\">';\n",
       "}\n",
       "\n",
       "mpl.figure.prototype.updated_canvas_event = function() {\n",
       "    // Tell IPython that the notebook contents must change.\n",
       "    IPython.notebook.set_dirty(true);\n",
       "    this.send_message(\"ack\", {});\n",
       "    var fig = this;\n",
       "    // Wait a second, then push the new image to the DOM so\n",
       "    // that it is saved nicely (might be nice to debounce this).\n",
       "    setTimeout(function () { fig.push_to_output() }, 1000);\n",
       "}\n",
       "\n",
       "mpl.figure.prototype._init_toolbar = function() {\n",
       "    var fig = this;\n",
       "\n",
       "    var nav_element = $('<div/>');\n",
       "    nav_element.attr('style', 'width: 100%');\n",
       "    this.root.append(nav_element);\n",
       "\n",
       "    // Define a callback function for later on.\n",
       "    function toolbar_event(event) {\n",
       "        return fig.toolbar_button_onclick(event['data']);\n",
       "    }\n",
       "    function toolbar_mouse_event(event) {\n",
       "        return fig.toolbar_button_onmouseover(event['data']);\n",
       "    }\n",
       "\n",
       "    for(var toolbar_ind in mpl.toolbar_items){\n",
       "        var name = mpl.toolbar_items[toolbar_ind][0];\n",
       "        var tooltip = mpl.toolbar_items[toolbar_ind][1];\n",
       "        var image = mpl.toolbar_items[toolbar_ind][2];\n",
       "        var method_name = mpl.toolbar_items[toolbar_ind][3];\n",
       "\n",
       "        if (!name) { continue; };\n",
       "\n",
       "        var button = $('<button class=\"btn btn-default\" href=\"#\" title=\"' + name + '\"><i class=\"fa ' + image + ' fa-lg\"></i></button>');\n",
       "        button.click(method_name, toolbar_event);\n",
       "        button.mouseover(tooltip, toolbar_mouse_event);\n",
       "        nav_element.append(button);\n",
       "    }\n",
       "\n",
       "    // Add the status bar.\n",
       "    var status_bar = $('<span class=\"mpl-message\" style=\"text-align:right; float: right;\"/>');\n",
       "    nav_element.append(status_bar);\n",
       "    this.message = status_bar[0];\n",
       "\n",
       "    // Add the close button to the window.\n",
       "    var buttongrp = $('<div class=\"btn-group inline pull-right\"></div>');\n",
       "    var button = $('<button class=\"btn btn-mini btn-primary\" href=\"#\" title=\"Stop Interaction\"><i class=\"fa fa-power-off icon-remove icon-large\"></i></button>');\n",
       "    button.click(function (evt) { fig.handle_close(fig, {}); } );\n",
       "    button.mouseover('Stop Interaction', toolbar_mouse_event);\n",
       "    buttongrp.append(button);\n",
       "    var titlebar = this.root.find($('.ui-dialog-titlebar'));\n",
       "    titlebar.prepend(buttongrp);\n",
       "}\n",
       "\n",
       "mpl.figure.prototype._root_extra_style = function(el){\n",
       "    var fig = this\n",
       "    el.on(\"remove\", function(){\n",
       "\tfig.close_ws(fig, {});\n",
       "    });\n",
       "}\n",
       "\n",
       "mpl.figure.prototype._canvas_extra_style = function(el){\n",
       "    // this is important to make the div 'focusable\n",
       "    el.attr('tabindex', 0)\n",
       "    // reach out to IPython and tell the keyboard manager to turn it's self\n",
       "    // off when our div gets focus\n",
       "\n",
       "    // location in version 3\n",
       "    if (IPython.notebook.keyboard_manager) {\n",
       "        IPython.notebook.keyboard_manager.register_events(el);\n",
       "    }\n",
       "    else {\n",
       "        // location in version 2\n",
       "        IPython.keyboard_manager.register_events(el);\n",
       "    }\n",
       "\n",
       "}\n",
       "\n",
       "mpl.figure.prototype._key_event_extra = function(event, name) {\n",
       "    var manager = IPython.notebook.keyboard_manager;\n",
       "    if (!manager)\n",
       "        manager = IPython.keyboard_manager;\n",
       "\n",
       "    // Check for shift+enter\n",
       "    if (event.shiftKey && event.which == 13) {\n",
       "        this.canvas_div.blur();\n",
       "        event.shiftKey = false;\n",
       "        // Send a \"J\" for go to next cell\n",
       "        event.which = 74;\n",
       "        event.keyCode = 74;\n",
       "        manager.command_mode();\n",
       "        manager.handle_keydown(event);\n",
       "    }\n",
       "}\n",
       "\n",
       "mpl.figure.prototype.handle_save = function(fig, msg) {\n",
       "    fig.ondownload(fig, null);\n",
       "}\n",
       "\n",
       "\n",
       "mpl.find_output_cell = function(html_output) {\n",
       "    // Return the cell and output element which can be found *uniquely* in the notebook.\n",
       "    // Note - this is a bit hacky, but it is done because the \"notebook_saving.Notebook\"\n",
       "    // IPython event is triggered only after the cells have been serialised, which for\n",
       "    // our purposes (turning an active figure into a static one), is too late.\n",
       "    var cells = IPython.notebook.get_cells();\n",
       "    var ncells = cells.length;\n",
       "    for (var i=0; i<ncells; i++) {\n",
       "        var cell = cells[i];\n",
       "        if (cell.cell_type === 'code'){\n",
       "            for (var j=0; j<cell.output_area.outputs.length; j++) {\n",
       "                var data = cell.output_area.outputs[j];\n",
       "                if (data.data) {\n",
       "                    // IPython >= 3 moved mimebundle to data attribute of output\n",
       "                    data = data.data;\n",
       "                }\n",
       "                if (data['text/html'] == html_output) {\n",
       "                    return [cell, data, j];\n",
       "                }\n",
       "            }\n",
       "        }\n",
       "    }\n",
       "}\n",
       "\n",
       "// Register the function which deals with the matplotlib target/channel.\n",
       "// The kernel may be null if the page has been refreshed.\n",
       "if (IPython.notebook.kernel != null) {\n",
       "    IPython.notebook.kernel.comm_manager.register_target('matplotlib', mpl.mpl_figure_comm);\n",
       "}\n"
      ],
      "text/plain": [
       "<IPython.core.display.Javascript object>"
      ]
     },
     "metadata": {},
     "output_type": "display_data"
    },
    {
     "data": {
      "text/html": [
       "<img src=\"data:image/png;base64,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\" width=\"640\">"
      ],
      "text/plain": [
       "<IPython.core.display.HTML object>"
      ]
     },
     "metadata": {},
     "output_type": "display_data"
    }
   ],
   "source": [
    "plt.figure()\n",
    "plt.plot(f1_score_x_labels,f1_score_list,'-b')\n",
    "plt.xlabel('Classification Models')\n",
    "plt.ylabel('F1 Score')\n",
    "plt.xticks(rotation='vertical')\n",
    "plt.tight_layout()\n",
    "plt.show()"
   ]
  },
  {
   "cell_type": "markdown",
   "metadata": {},
   "source": [
    "### Creating a report"
   ]
  },
  {
   "cell_type": "code",
   "execution_count": 135,
   "metadata": {},
   "outputs": [],
   "source": [
    "data={'model':['Logistic','Isolation','Naive Bayes','KNN','SVM','Decision Tree','Random Forest'],\n",
    "     'Accuracy':accuracy_list,'F1 Score':f1_score_list}"
   ]
  },
  {
   "cell_type": "code",
   "execution_count": 136,
   "metadata": {},
   "outputs": [],
   "source": [
    "report_df=pd.DataFrame(data)"
   ]
  },
  {
   "cell_type": "code",
   "execution_count": 137,
   "metadata": {},
   "outputs": [],
   "source": [
    "report_df.set_index('model',inplace=True)"
   ]
  },
  {
   "cell_type": "code",
   "execution_count": 144,
   "metadata": {},
   "outputs": [],
   "source": [
    "report_df.sort_values(by='Accuracy',axis=0,ascending=False,inplace=True)"
   ]
  },
  {
   "cell_type": "code",
   "execution_count": 145,
   "metadata": {},
   "outputs": [
    {
     "data": {
      "text/html": [
       "<div>\n",
       "<style scoped>\n",
       "    .dataframe tbody tr th:only-of-type {\n",
       "        vertical-align: middle;\n",
       "    }\n",
       "\n",
       "    .dataframe tbody tr th {\n",
       "        vertical-align: top;\n",
       "    }\n",
       "\n",
       "    .dataframe thead th {\n",
       "        text-align: right;\n",
       "    }\n",
       "</style>\n",
       "<table border=\"1\" class=\"dataframe\">\n",
       "  <thead>\n",
       "    <tr style=\"text-align: right;\">\n",
       "      <th></th>\n",
       "      <th>Accuracy</th>\n",
       "      <th>F1 Score</th>\n",
       "    </tr>\n",
       "    <tr>\n",
       "      <th>model</th>\n",
       "      <th></th>\n",
       "      <th></th>\n",
       "    </tr>\n",
       "  </thead>\n",
       "  <tbody>\n",
       "    <tr>\n",
       "      <th>Random Forest</th>\n",
       "      <td>0.561181</td>\n",
       "      <td>0.550294</td>\n",
       "    </tr>\n",
       "    <tr>\n",
       "      <th>Decision Tree</th>\n",
       "      <td>0.464135</td>\n",
       "      <td>0.379460</td>\n",
       "    </tr>\n",
       "    <tr>\n",
       "      <th>Naive Bayes</th>\n",
       "      <td>0.459916</td>\n",
       "      <td>0.477781</td>\n",
       "    </tr>\n",
       "    <tr>\n",
       "      <th>KNN</th>\n",
       "      <td>0.455696</td>\n",
       "      <td>0.346699</td>\n",
       "    </tr>\n",
       "    <tr>\n",
       "      <th>Logistic</th>\n",
       "      <td>0.430380</td>\n",
       "      <td>0.601770</td>\n",
       "    </tr>\n",
       "    <tr>\n",
       "      <th>Isolation</th>\n",
       "      <td>0.430380</td>\n",
       "      <td>0.601770</td>\n",
       "    </tr>\n",
       "    <tr>\n",
       "      <th>SVM</th>\n",
       "      <td>0.430380</td>\n",
       "      <td>0.601770</td>\n",
       "    </tr>\n",
       "  </tbody>\n",
       "</table>\n",
       "</div>"
      ],
      "text/plain": [
       "               Accuracy  F1 Score\n",
       "model                            \n",
       "Random Forest  0.561181  0.550294\n",
       "Decision Tree  0.464135  0.379460\n",
       "Naive Bayes    0.459916  0.477781\n",
       "KNN            0.455696  0.346699\n",
       "Logistic       0.430380  0.601770\n",
       "Isolation      0.430380  0.601770\n",
       "SVM            0.430380  0.601770"
      ]
     },
     "execution_count": 145,
     "metadata": {},
     "output_type": "execute_result"
    }
   ],
   "source": [
    "report_df"
   ]
  },
  {
   "cell_type": "code",
   "execution_count": null,
   "metadata": {},
   "outputs": [],
   "source": []
  }
 ],
 "metadata": {
  "kernelspec": {
   "display_name": "Python 3",
   "language": "python",
   "name": "python3"
  },
  "language_info": {
   "codemirror_mode": {
    "name": "ipython",
    "version": 3
   },
   "file_extension": ".py",
   "mimetype": "text/x-python",
   "name": "python",
   "nbconvert_exporter": "python",
   "pygments_lexer": "ipython3",
   "version": "3.7.3"
  }
 },
 "nbformat": 4,
 "nbformat_minor": 2
}
