{
 "cells": [
  {
   "cell_type": "code",
   "execution_count": 1,
   "metadata": {},
   "outputs": [],
   "source": [
    "import pandas as pd\n",
    "import numpy as np\n",
    "import re\n",
    "\n",
    "# from wordcloud import WordCloud, STOPWORDS\n",
    "# from collections import Counter\n",
    "#import scispacy\n",
    "#import spacy"
   ]
  },
  {
   "cell_type": "markdown",
   "metadata": {},
   "source": [
    "### Pre-Processing"
   ]
  },
  {
   "cell_type": "code",
   "execution_count": 2,
   "metadata": {},
   "outputs": [],
   "source": [
    "#importing\n",
    "df = pd.read_csv('df_diseases.csv')"
   ]
  },
  {
   "cell_type": "code",
   "execution_count": 3,
   "metadata": {},
   "outputs": [
    {
     "data": {
      "text/html": [
       "<div>\n",
       "<style scoped>\n",
       "    .dataframe tbody tr th:only-of-type {\n",
       "        vertical-align: middle;\n",
       "    }\n",
       "\n",
       "    .dataframe tbody tr th {\n",
       "        vertical-align: top;\n",
       "    }\n",
       "\n",
       "    .dataframe thead th {\n",
       "        text-align: right;\n",
       "    }\n",
       "</style>\n",
       "<table border=\"1\" class=\"dataframe\">\n",
       "  <thead>\n",
       "    <tr style=\"text-align: right;\">\n",
       "      <th></th>\n",
       "      <th>Unnamed: 0</th>\n",
       "      <th>name</th>\n",
       "      <th>link</th>\n",
       "      <th>symptoms</th>\n",
       "      <th>causes</th>\n",
       "      <th>risk_factor</th>\n",
       "      <th>overview</th>\n",
       "      <th>treatment</th>\n",
       "      <th>medication</th>\n",
       "      <th>home_remedies</th>\n",
       "    </tr>\n",
       "  </thead>\n",
       "  <tbody>\n",
       "    <tr>\n",
       "      <th>0</th>\n",
       "      <td>0</td>\n",
       "      <td>Acanthosis nigricans</td>\n",
       "      <td>https://www.mayoclinic.org/diseases-conditions...</td>\n",
       "      <td>[\"Skin changes are the only signs of acanthosi...</td>\n",
       "      <td>['Acanthosis nigricans has been associated wit...</td>\n",
       "      <td>['Acanthosis nigricans risk factors include:',...</td>\n",
       "      <td>['Acanthosis nigricans is a skin condition tha...</td>\n",
       "      <td>['In many situations, treating the underlying ...</td>\n",
       "      <td>NaN</td>\n",
       "      <td>NaN</td>\n",
       "    </tr>\n",
       "    <tr>\n",
       "      <th>1</th>\n",
       "      <td>1</td>\n",
       "      <td>Achalasia</td>\n",
       "      <td>https://www.mayoclinic.org/diseases-conditions...</td>\n",
       "      <td>NaN</td>\n",
       "      <td>NaN</td>\n",
       "      <td>NaN</td>\n",
       "      <td>[\"Achalasia is a rare disorder that makes it d...</td>\n",
       "      <td>['Achalasia treatment focuses on relaxing or f...</td>\n",
       "      <td>NaN</td>\n",
       "      <td>NaN</td>\n",
       "    </tr>\n",
       "  </tbody>\n",
       "</table>\n",
       "</div>"
      ],
      "text/plain": [
       "   Unnamed: 0                  name  \\\n",
       "0           0  Acanthosis nigricans   \n",
       "1           1             Achalasia   \n",
       "\n",
       "                                                link  \\\n",
       "0  https://www.mayoclinic.org/diseases-conditions...   \n",
       "1  https://www.mayoclinic.org/diseases-conditions...   \n",
       "\n",
       "                                            symptoms  \\\n",
       "0  [\"Skin changes are the only signs of acanthosi...   \n",
       "1                                                NaN   \n",
       "\n",
       "                                              causes  \\\n",
       "0  ['Acanthosis nigricans has been associated wit...   \n",
       "1                                                NaN   \n",
       "\n",
       "                                         risk_factor  \\\n",
       "0  ['Acanthosis nigricans risk factors include:',...   \n",
       "1                                                NaN   \n",
       "\n",
       "                                            overview  \\\n",
       "0  ['Acanthosis nigricans is a skin condition tha...   \n",
       "1  [\"Achalasia is a rare disorder that makes it d...   \n",
       "\n",
       "                                           treatment medication home_remedies  \n",
       "0  ['In many situations, treating the underlying ...        NaN           NaN  \n",
       "1  ['Achalasia treatment focuses on relaxing or f...        NaN           NaN  "
      ]
     },
     "execution_count": 3,
     "metadata": {},
     "output_type": "execute_result"
    }
   ],
   "source": [
    "df.head(2)"
   ]
  },
  {
   "cell_type": "code",
   "execution_count": 4,
   "metadata": {},
   "outputs": [],
   "source": [
    "# dropping col's\n",
    "df.drop([df.columns[0],df.columns[2]],axis=1,inplace=True)"
   ]
  },
  {
   "cell_type": "code",
   "execution_count": 5,
   "metadata": {},
   "outputs": [],
   "source": [
    "# Filling NaN values with empty string\n",
    "df.fillna('',inplace=True)"
   ]
  },
  {
   "cell_type": "code",
   "execution_count": 6,
   "metadata": {},
   "outputs": [],
   "source": [
    "## some pre-processing\n",
    "for i in range(len(df)):\n",
    "    \n",
    "    df.loc[i,'symptoms']=re.sub('[^A-Za-z0-9., ]+', '', df.loc[i,'symptoms'])\n",
    "    df.loc[i,'causes']=re.sub('[^A-Za-z0-9., ]+', '', df.loc[i,'causes'])\n",
    "    df.loc[i,'risk_factor']=re.sub('[^A-Za-z0-9., ]+', '', df.loc[i,'risk_factor'])\n",
    "    \n",
    "    df.loc[i,'overview']=re.sub('[^A-Za-z0-9., ]+', '', df.loc[i,'overview'])\n",
    "    df.loc[i,'treatment']=re.sub('[^A-Za-z0-9., ]+', '', df.loc[i,'treatment'])\n",
    "    df.loc[i,'medication']=re.sub('[^A-Za-z0-9., ]+', '', df.loc[i,'medication'])\n",
    "    \n",
    "    df.loc[i,'home_remedies']=re.sub('[^A-Za-z0-9., ]+', '', df.loc[i,'home_remedies'])"
   ]
  },
  {
   "cell_type": "code",
   "execution_count": 7,
   "metadata": {},
   "outputs": [],
   "source": [
    "#some more preprocessing\n",
    "df['name']=df['name'].str.lower()\n",
    "df['symptoms']=df['symptoms'].str.lower()\n",
    "df['causes']=df['causes'].str.lower()\n",
    "\n",
    "df['risk_factor']=df['risk_factor'].str.lower()\n",
    "df['overview']=df['overview'].str.lower()\n",
    "df['treatment']=df['treatment'].str.lower()\n",
    "\n",
    "df['medication']=df['medication'].str.lower()\n",
    "df['home_remedies']=df['home_remedies'].str.lower()"
   ]
  },
  {
   "cell_type": "markdown",
   "metadata": {},
   "source": [
    "### Creating Classes"
   ]
  },
  {
   "cell_type": "code",
   "execution_count": 8,
   "metadata": {},
   "outputs": [],
   "source": [
    "#adding a new column named 'class' which will contain the category of the disease\n",
    "df['class'] = -1"
   ]
  },
  {
   "cell_type": "code",
   "execution_count": 9,
   "metadata": {},
   "outputs": [],
   "source": [
    "def create_classes(row):\n",
    "    if((row['medication']=='') and (row['home_remedies']=='')):\n",
    "        return 1\n",
    "    elif((row['medication']!='') and (row['home_remedies']=='')):\n",
    "        return 2\n",
    "    elif((row['medication']!='') and (row['home_remedies']!='')):\n",
    "        return 3\n",
    "    elif((row['medication']=='') and (row['home_remedies']!='')):\n",
    "        return 4"
   ]
  },
  {
   "cell_type": "code",
   "execution_count": 10,
   "metadata": {},
   "outputs": [],
   "source": [
    "df['class'] = df.apply(create_classes, axis=1)"
   ]
  },
  {
   "cell_type": "markdown",
   "metadata": {},
   "source": [
    "### End of PreProcessing"
   ]
  },
  {
   "cell_type": "code",
   "execution_count": 11,
   "metadata": {},
   "outputs": [],
   "source": [
    "test_df = df.copy()"
   ]
  },
  {
   "cell_type": "code",
   "execution_count": 12,
   "metadata": {},
   "outputs": [],
   "source": [
    "test_df['input']=''"
   ]
  },
  {
   "cell_type": "code",
   "execution_count": 13,
   "metadata": {},
   "outputs": [],
   "source": [
    "for i in range(len(test_df)):\n",
    "    test_df.loc[i,'input']=test_df.loc[i,'symptoms']+test_df.loc[i,'causes']+test_df.loc[i,'risk_factor']+test_df.loc[i,'overview']"
   ]
  },
  {
   "cell_type": "code",
   "execution_count": 14,
   "metadata": {
    "scrolled": true
   },
   "outputs": [
    {
     "data": {
      "text/html": [
       "<div>\n",
       "<style scoped>\n",
       "    .dataframe tbody tr th:only-of-type {\n",
       "        vertical-align: middle;\n",
       "    }\n",
       "\n",
       "    .dataframe tbody tr th {\n",
       "        vertical-align: top;\n",
       "    }\n",
       "\n",
       "    .dataframe thead th {\n",
       "        text-align: right;\n",
       "    }\n",
       "</style>\n",
       "<table border=\"1\" class=\"dataframe\">\n",
       "  <thead>\n",
       "    <tr style=\"text-align: right;\">\n",
       "      <th></th>\n",
       "      <th>name</th>\n",
       "      <th>symptoms</th>\n",
       "      <th>causes</th>\n",
       "      <th>risk_factor</th>\n",
       "      <th>overview</th>\n",
       "      <th>treatment</th>\n",
       "      <th>medication</th>\n",
       "      <th>home_remedies</th>\n",
       "      <th>class</th>\n",
       "      <th>input</th>\n",
       "    </tr>\n",
       "  </thead>\n",
       "  <tbody>\n",
       "    <tr>\n",
       "      <th>0</th>\n",
       "      <td>acanthosis nigricans</td>\n",
       "      <td>skin changes are the only signs of acanthosis ...</td>\n",
       "      <td>acanthosis nigricans has been associated with,...</td>\n",
       "      <td>acanthosis nigricans risk factors include, obe...</td>\n",
       "      <td>acanthosis nigricans is a skin condition that ...</td>\n",
       "      <td>in many situations, treating the underlying pr...</td>\n",
       "      <td></td>\n",
       "      <td></td>\n",
       "      <td>1</td>\n",
       "      <td>skin changes are the only signs of acanthosis ...</td>\n",
       "    </tr>\n",
       "    <tr>\n",
       "      <th>1</th>\n",
       "      <td>achalasia</td>\n",
       "      <td></td>\n",
       "      <td></td>\n",
       "      <td></td>\n",
       "      <td>achalasia is a rare disorder that makes it dif...</td>\n",
       "      <td>achalasia treatment focuses on relaxing or for...</td>\n",
       "      <td></td>\n",
       "      <td></td>\n",
       "      <td>1</td>\n",
       "      <td>achalasia is a rare disorder that makes it dif...</td>\n",
       "    </tr>\n",
       "  </tbody>\n",
       "</table>\n",
       "</div>"
      ],
      "text/plain": [
       "                   name                                           symptoms  \\\n",
       "0  acanthosis nigricans  skin changes are the only signs of acanthosis ...   \n",
       "1             achalasia                                                      \n",
       "\n",
       "                                              causes  \\\n",
       "0  acanthosis nigricans has been associated with,...   \n",
       "1                                                      \n",
       "\n",
       "                                         risk_factor  \\\n",
       "0  acanthosis nigricans risk factors include, obe...   \n",
       "1                                                      \n",
       "\n",
       "                                            overview  \\\n",
       "0  acanthosis nigricans is a skin condition that ...   \n",
       "1  achalasia is a rare disorder that makes it dif...   \n",
       "\n",
       "                                           treatment medication home_remedies  \\\n",
       "0  in many situations, treating the underlying pr...                            \n",
       "1  achalasia treatment focuses on relaxing or for...                            \n",
       "\n",
       "   class                                              input  \n",
       "0      1  skin changes are the only signs of acanthosis ...  \n",
       "1      1  achalasia is a rare disorder that makes it dif...  "
      ]
     },
     "execution_count": 14,
     "metadata": {},
     "output_type": "execute_result"
    }
   ],
   "source": [
    "test_df.head(2)"
   ]
  },
  {
   "cell_type": "markdown",
   "metadata": {},
   "source": [
    "## Training The Dataset"
   ]
  },
  {
   "cell_type": "markdown",
   "metadata": {},
   "source": [
    "#### Some preprocessing before building the model"
   ]
  },
  {
   "cell_type": "markdown",
   "metadata": {},
   "source": [
    "Following are the counts of each class in the entire dataset:"
   ]
  },
  {
   "cell_type": "code",
   "execution_count": 15,
   "metadata": {},
   "outputs": [
    {
     "data": {
      "text/plain": [
       "1    509\n",
       "4    379\n",
       "3    191\n",
       "2    103\n",
       "Name: class, dtype: int64"
      ]
     },
     "execution_count": 15,
     "metadata": {},
     "output_type": "execute_result"
    }
   ],
   "source": [
    "test_df['class'].value_counts()"
   ]
  },
  {
   "cell_type": "code",
   "execution_count": 16,
   "metadata": {},
   "outputs": [],
   "source": [
    "# from sklearn.model_selection import train_test_split"
   ]
  },
  {
   "cell_type": "code",
   "execution_count": 17,
   "metadata": {},
   "outputs": [],
   "source": [
    "# X_train,X_test,Y_train,Y_test=train_test_split(test_df['input'],test_df['class'],test_size=0.2,random_state=1)"
   ]
  },
  {
   "cell_type": "code",
   "execution_count": 18,
   "metadata": {},
   "outputs": [],
   "source": [
    "x=test_df['input'].values"
   ]
  },
  {
   "cell_type": "code",
   "execution_count": 19,
   "metadata": {},
   "outputs": [],
   "source": [
    "y=test_df['class'].values"
   ]
  },
  {
   "cell_type": "markdown",
   "metadata": {},
   "source": [
    "### Splitting the data into train and test sets using Stratified sampling"
   ]
  },
  {
   "cell_type": "code",
   "execution_count": 20,
   "metadata": {},
   "outputs": [],
   "source": [
    "from sklearn.model_selection import StratifiedShuffleSplit"
   ]
  },
  {
   "cell_type": "markdown",
   "metadata": {},
   "source": [
    "<font color='blue'>**A split of 80:20 is good. You can also try to increase the split ratio so that the model has more data to train on. One experiment could be to try with a ratio of 90:10**</font>"
   ]
  },
  {
   "cell_type": "code",
   "execution_count": 21,
   "metadata": {},
   "outputs": [],
   "source": [
    "sss = StratifiedShuffleSplit(n_splits=10, test_size=0.2, random_state=1)"
   ]
  },
  {
   "cell_type": "code",
   "execution_count": 22,
   "metadata": {},
   "outputs": [],
   "source": [
    "for train_index,test_index in sss.split(x,y):\n",
    "    X_train,X_test=x[train_index],x[test_index]\n",
    "    Y_train,Y_test=y[train_index],y[test_index]"
   ]
  },
  {
   "cell_type": "markdown",
   "metadata": {},
   "source": [
    "The next 3 cells are used to know the count of each class after stratified split"
   ]
  },
  {
   "cell_type": "code",
   "execution_count": 23,
   "metadata": {},
   "outputs": [],
   "source": [
    "# class1_count=0\n",
    "# class2_count=0\n",
    "# class3_count=0\n",
    "# class4_count=0"
   ]
  },
  {
   "cell_type": "code",
   "execution_count": 24,
   "metadata": {},
   "outputs": [],
   "source": [
    "# for i in range(len(Y_train)):\n",
    "#     if(Y_train[i]==1):\n",
    "#         class1_count+=1\n",
    "#     elif(Y_train[i]==2):\n",
    "#         class2_count+=1\n",
    "#     elif(Y_train[i]==3):\n",
    "#         class3_count+=1\n",
    "#     else:\n",
    "#         class4_count+=1"
   ]
  },
  {
   "cell_type": "code",
   "execution_count": 25,
   "metadata": {},
   "outputs": [],
   "source": [
    "# print('class1_count: ',class1_count)\n",
    "# print('class2_count: ',class2_count)\n",
    "# print('class3_count: ',class3_count)\n",
    "# print('class4_count: ',class4_count)"
   ]
  },
  {
   "cell_type": "markdown",
   "metadata": {},
   "source": [
    "### Making string data suitable for modelling using TFIDF"
   ]
  },
  {
   "cell_type": "code",
   "execution_count": 26,
   "metadata": {},
   "outputs": [],
   "source": [
    "from sklearn.feature_extraction.text import CountVectorizer"
   ]
  },
  {
   "cell_type": "code",
   "execution_count": 27,
   "metadata": {},
   "outputs": [],
   "source": [
    "count_vect = CountVectorizer().fit(X_train)"
   ]
  },
  {
   "cell_type": "code",
   "execution_count": 28,
   "metadata": {},
   "outputs": [
    {
     "data": {
      "text/plain": [
       "(945, 16439)"
      ]
     },
     "execution_count": 28,
     "metadata": {},
     "output_type": "execute_result"
    }
   ],
   "source": [
    "X_train_counts = count_vect.transform(X_train)\n",
    "X_train_counts.shape"
   ]
  },
  {
   "cell_type": "code",
   "execution_count": 29,
   "metadata": {},
   "outputs": [],
   "source": [
    "# TF-IDF\n",
    "from sklearn.feature_extraction.text import TfidfTransformer\n",
    "tfidf_transformer = TfidfTransformer().fit(X_train_counts)"
   ]
  },
  {
   "cell_type": "code",
   "execution_count": 30,
   "metadata": {},
   "outputs": [
    {
     "data": {
      "text/plain": [
       "(945, 16439)"
      ]
     },
     "execution_count": 30,
     "metadata": {},
     "output_type": "execute_result"
    }
   ],
   "source": [
    "X_train_tfidf = tfidf_transformer.transform(X_train_counts)\n",
    "X_train_tfidf.shape"
   ]
  },
  {
   "cell_type": "code",
   "execution_count": 31,
   "metadata": {},
   "outputs": [
    {
     "data": {
      "text/plain": [
       "(237, 16439)"
      ]
     },
     "execution_count": 31,
     "metadata": {},
     "output_type": "execute_result"
    }
   ],
   "source": [
    "X_test_counts = count_vect.transform(X_test)\n",
    "X_test_counts.shape"
   ]
  },
  {
   "cell_type": "code",
   "execution_count": 32,
   "metadata": {},
   "outputs": [
    {
     "data": {
      "text/plain": [
       "(237, 16439)"
      ]
     },
     "execution_count": 32,
     "metadata": {},
     "output_type": "execute_result"
    }
   ],
   "source": [
    "X_test_tfidf = tfidf_transformer.transform(X_test_counts)\n",
    "X_test_tfidf.shape"
   ]
  },
  {
   "cell_type": "markdown",
   "metadata": {},
   "source": [
    "## Modelling the data using various clasification models"
   ]
  },
  {
   "cell_type": "markdown",
   "metadata": {},
   "source": [
    "## Using Logistic Regression"
   ]
  },
  {
   "cell_type": "code",
   "execution_count": 33,
   "metadata": {},
   "outputs": [],
   "source": [
    "from sklearn.linear_model import LogisticRegression"
   ]
  },
  {
   "cell_type": "code",
   "execution_count": 34,
   "metadata": {},
   "outputs": [],
   "source": [
    "logistic_clf=LogisticRegression(C=0.01,solver='liblinear',multi_class='auto').fit(X_train_tfidf,Y_train)"
   ]
  },
  {
   "cell_type": "code",
   "execution_count": 35,
   "metadata": {},
   "outputs": [],
   "source": [
    "logistic_predicted=logistic_clf.predict(X_test_tfidf)"
   ]
  },
  {
   "cell_type": "code",
   "execution_count": 36,
   "metadata": {},
   "outputs": [],
   "source": [
    "# # Building a pipeline: We can write less code and do all of the above, by building a pipeline as follows:\n",
    "# # The names ‘vect’ , ‘tfidf’ and ‘clf’ are arbitrary but will be used later.\n",
    "# # We will be using the 'text_clf' going forward.\n",
    "# from sklearn.pipeline import Pipeline\n",
    "\n",
    "# text_clf = Pipeline([('vect', CountVectorizer()), ('tfidf', TfidfTransformer()), ('classifier', LogisticRegression(C=0.01,solver='liblinear',multi_class='auto'))])\n",
    "\n",
    "# text_clf = text_clf.fit(X_train, Y_train)"
   ]
  },
  {
   "cell_type": "code",
   "execution_count": 37,
   "metadata": {},
   "outputs": [],
   "source": [
    "# predicted = text_clf.predict(X_test)"
   ]
  },
  {
   "cell_type": "code",
   "execution_count": 38,
   "metadata": {},
   "outputs": [],
   "source": [
    "from sklearn import metrics"
   ]
  },
  {
   "cell_type": "code",
   "execution_count": 39,
   "metadata": {},
   "outputs": [],
   "source": [
    "from sklearn.metrics import confusion_matrix"
   ]
  },
  {
   "cell_type": "code",
   "execution_count": 40,
   "metadata": {},
   "outputs": [],
   "source": [
    "logistic_cm=confusion_matrix(Y_test,logistic_predicted)"
   ]
  },
  {
   "cell_type": "code",
   "execution_count": 41,
   "metadata": {},
   "outputs": [
    {
     "data": {
      "text/plain": [
       "array([[102,   0,   0,   0],\n",
       "       [ 21,   0,   0,   0],\n",
       "       [ 38,   0,   0,   0],\n",
       "       [ 76,   0,   0,   0]], dtype=int64)"
      ]
     },
     "execution_count": 41,
     "metadata": {},
     "output_type": "execute_result"
    }
   ],
   "source": [
    "logistic_cm"
   ]
  },
  {
   "cell_type": "code",
   "execution_count": 42,
   "metadata": {},
   "outputs": [],
   "source": [
    "from sklearn.metrics import jaccard_score"
   ]
  },
  {
   "cell_type": "code",
   "execution_count": 43,
   "metadata": {},
   "outputs": [],
   "source": [
    "# jaccard_score?"
   ]
  },
  {
   "cell_type": "code",
   "execution_count": 44,
   "metadata": {},
   "outputs": [
    {
     "data": {
      "text/plain": [
       "0.18522672648614005"
      ]
     },
     "execution_count": 44,
     "metadata": {},
     "output_type": "execute_result"
    }
   ],
   "source": [
    "jaccard_score(Y_test,logistic_predicted,average='weighted')"
   ]
  },
  {
   "cell_type": "code",
   "execution_count": 45,
   "metadata": {},
   "outputs": [],
   "source": [
    "from sklearn.metrics import classification_report"
   ]
  },
  {
   "cell_type": "code",
   "execution_count": 46,
   "metadata": {},
   "outputs": [
    {
     "data": {
      "text/plain": [
       "array([1, 1, 1, 1, 1, 1, 1, 1, 1, 1, 1, 1, 1, 1, 1, 1, 1, 1, 1, 1, 1, 1,\n",
       "       1, 1, 1, 1, 1, 1, 1, 1, 1, 1, 1, 1, 1, 1, 1, 1, 1, 1, 1, 1, 1, 1,\n",
       "       1, 1, 1, 1, 1, 1, 1, 1, 1, 1, 1, 1, 1, 1, 1, 1, 1, 1, 1, 1, 1, 1,\n",
       "       1, 1, 1, 1, 1, 1, 1, 1, 1, 1, 1, 1, 1, 1, 1, 1, 1, 1, 1, 1, 1, 1,\n",
       "       1, 1, 1, 1, 1, 1, 1, 1, 1, 1, 1, 1, 1, 1, 1, 1, 1, 1, 1, 1, 1, 1,\n",
       "       1, 1, 1, 1, 1, 1, 1, 1, 1, 1, 1, 1, 1, 1, 1, 1, 1, 1, 1, 1, 1, 1,\n",
       "       1, 1, 1, 1, 1, 1, 1, 1, 1, 1, 1, 1, 1, 1, 1, 1, 1, 1, 1, 1, 1, 1,\n",
       "       1, 1, 1, 1, 1, 1, 1, 1, 1, 1, 1, 1, 1, 1, 1, 1, 1, 1, 1, 1, 1, 1,\n",
       "       1, 1, 1, 1, 1, 1, 1, 1, 1, 1, 1, 1, 1, 1, 1, 1, 1, 1, 1, 1, 1, 1,\n",
       "       1, 1, 1, 1, 1, 1, 1, 1, 1, 1, 1, 1, 1, 1, 1, 1, 1, 1, 1, 1, 1, 1,\n",
       "       1, 1, 1, 1, 1, 1, 1, 1, 1, 1, 1, 1, 1, 1, 1, 1, 1], dtype=int64)"
      ]
     },
     "execution_count": 46,
     "metadata": {},
     "output_type": "execute_result"
    }
   ],
   "source": [
    "logistic_predicted"
   ]
  },
  {
   "cell_type": "code",
   "execution_count": 47,
   "metadata": {},
   "outputs": [
    {
     "name": "stdout",
     "output_type": "stream",
     "text": [
      "              precision    recall  f1-score   support\n",
      "\n",
      "           1       0.43      1.00      0.60       102\n",
      "\n",
      "   micro avg       0.43      1.00      0.60       102\n",
      "   macro avg       0.43      1.00      0.60       102\n",
      "weighted avg       0.43      1.00      0.60       102\n",
      "\n"
     ]
    }
   ],
   "source": [
    "print(classification_report(Y_test, logistic_predicted,labels=np.unique(logistic_predicted)))"
   ]
  },
  {
   "cell_type": "code",
   "execution_count": 48,
   "metadata": {},
   "outputs": [
    {
     "data": {
      "text/plain": [
       "0.43037974683544306"
      ]
     },
     "execution_count": 48,
     "metadata": {},
     "output_type": "execute_result"
    }
   ],
   "source": [
    "logistic_accuracy=metrics.accuracy_score(Y_test,logistic_predicted)\n",
    "logistic_accuracy"
   ]
  },
  {
   "cell_type": "code",
   "execution_count": 49,
   "metadata": {},
   "outputs": [
    {
     "data": {
      "text/plain": [
       "0.6017699115044248"
      ]
     },
     "execution_count": 49,
     "metadata": {},
     "output_type": "execute_result"
    }
   ],
   "source": [
    "metrics.f1_score(Y_test,logistic_predicted,average='weighted',labels=np.unique(logistic_predicted))"
   ]
  },
  {
   "cell_type": "markdown",
   "metadata": {},
   "source": [
    "## Using Naive Bayes"
   ]
  },
  {
   "cell_type": "code",
   "execution_count": 50,
   "metadata": {},
   "outputs": [],
   "source": [
    "from sklearn.naive_bayes import MultinomialNB"
   ]
  },
  {
   "cell_type": "code",
   "execution_count": 51,
   "metadata": {},
   "outputs": [],
   "source": [
    "naive_bayes_clf = MultinomialNB().fit(X_train_tfidf, Y_train)"
   ]
  },
  {
   "cell_type": "code",
   "execution_count": 52,
   "metadata": {},
   "outputs": [],
   "source": [
    "naive_bayes_predicted=naive_bayes_clf.predict(X_test_tfidf)"
   ]
  },
  {
   "cell_type": "code",
   "execution_count": 53,
   "metadata": {},
   "outputs": [
    {
     "data": {
      "text/plain": [
       "array([4, 1, 1, 1, 4, 1, 1, 1, 1, 1, 1, 1, 1, 1, 4, 4, 1, 1, 1, 1, 1, 1,\n",
       "       1, 1, 1, 1, 1, 1, 1, 1, 1, 1, 1, 4, 1, 4, 1, 1, 1, 1, 1, 4, 1, 1,\n",
       "       1, 4, 1, 1, 4, 1, 1, 1, 1, 1, 1, 1, 1, 1, 1, 4, 1, 1, 1, 4, 1, 1,\n",
       "       1, 1, 1, 1, 1, 1, 1, 4, 1, 4, 1, 1, 1, 1, 1, 1, 1, 4, 1, 1, 1, 1,\n",
       "       1, 1, 1, 1, 1, 1, 1, 4, 1, 1, 1, 1, 1, 1, 1, 4, 1, 1, 1, 1, 4, 4,\n",
       "       1, 1, 1, 1, 1, 1, 1, 1, 1, 4, 1, 1, 1, 1, 4, 1, 1, 1, 4, 1, 4, 1,\n",
       "       4, 4, 1, 1, 1, 4, 1, 4, 1, 1, 1, 1, 1, 1, 1, 1, 1, 1, 1, 1, 4, 4,\n",
       "       1, 1, 1, 1, 4, 1, 4, 1, 1, 1, 1, 1, 1, 1, 1, 1, 4, 1, 1, 1, 1, 1,\n",
       "       1, 4, 1, 1, 4, 1, 1, 4, 1, 1, 1, 1, 1, 1, 1, 1, 4, 1, 1, 1, 1, 1,\n",
       "       1, 1, 4, 1, 4, 1, 1, 1, 1, 1, 1, 1, 4, 1, 1, 1, 1, 1, 1, 1, 1, 1,\n",
       "       1, 1, 1, 1, 1, 4, 1, 1, 1, 1, 1, 1, 1, 1, 4, 1, 1], dtype=int64)"
      ]
     },
     "execution_count": 53,
     "metadata": {},
     "output_type": "execute_result"
    }
   ],
   "source": [
    "naive_bayes_predicted"
   ]
  },
  {
   "cell_type": "code",
   "execution_count": 54,
   "metadata": {},
   "outputs": [
    {
     "data": {
      "text/plain": [
       "0.24634530963644885"
      ]
     },
     "execution_count": 54,
     "metadata": {},
     "output_type": "execute_result"
    }
   ],
   "source": [
    "jaccard_score(Y_test,naive_bayes_predicted,average='weighted')"
   ]
  },
  {
   "cell_type": "code",
   "execution_count": 55,
   "metadata": {},
   "outputs": [
    {
     "name": "stdout",
     "output_type": "stream",
     "text": [
      "              precision    recall  f1-score   support\n",
      "\n",
      "           1       0.47      0.90      0.62       102\n",
      "           4       0.42      0.22      0.29        76\n",
      "\n",
      "   micro avg       0.46      0.61      0.53       178\n",
      "   macro avg       0.45      0.56      0.45       178\n",
      "weighted avg       0.45      0.61      0.48       178\n",
      "\n"
     ]
    }
   ],
   "source": [
    "print(classification_report(Y_test, naive_bayes_predicted,labels=np.unique(naive_bayes_predicted)))"
   ]
  },
  {
   "cell_type": "code",
   "execution_count": 56,
   "metadata": {},
   "outputs": [],
   "source": [
    "naive_bayes_cm=confusion_matrix(Y_test,naive_bayes_predicted)"
   ]
  },
  {
   "cell_type": "code",
   "execution_count": 57,
   "metadata": {},
   "outputs": [
    {
     "data": {
      "text/plain": [
       "array([[92,  0,  0, 10],\n",
       "       [18,  0,  0,  3],\n",
       "       [28,  0,  0, 10],\n",
       "       [59,  0,  0, 17]], dtype=int64)"
      ]
     },
     "execution_count": 57,
     "metadata": {},
     "output_type": "execute_result"
    }
   ],
   "source": [
    "naive_bayes_cm"
   ]
  },
  {
   "cell_type": "code",
   "execution_count": 58,
   "metadata": {},
   "outputs": [
    {
     "data": {
      "text/plain": [
       "0.459915611814346"
      ]
     },
     "execution_count": 58,
     "metadata": {},
     "output_type": "execute_result"
    }
   ],
   "source": [
    "naive_bayes_accuracy=metrics.accuracy_score(Y_test,naive_bayes_predicted)\n",
    "naive_bayes_accuracy"
   ]
  },
  {
   "cell_type": "code",
   "execution_count": 59,
   "metadata": {},
   "outputs": [
    {
     "data": {
      "text/plain": [
       "0.47778142043930505"
      ]
     },
     "execution_count": 59,
     "metadata": {},
     "output_type": "execute_result"
    }
   ],
   "source": [
    "metrics.f1_score(Y_test,naive_bayes_predicted,average='weighted',labels=np.unique(naive_bayes_predicted))"
   ]
  },
  {
   "cell_type": "markdown",
   "metadata": {},
   "source": [
    "## Using K-Nearest Neighbors"
   ]
  },
  {
   "cell_type": "code",
   "execution_count": 60,
   "metadata": {},
   "outputs": [],
   "source": [
    "from sklearn.neighbors import KNeighborsClassifier"
   ]
  },
  {
   "cell_type": "markdown",
   "metadata": {},
   "source": [
    "### First we need to check which value of k will give best results"
   ]
  },
  {
   "cell_type": "code",
   "execution_count": 61,
   "metadata": {},
   "outputs": [
    {
     "data": {
      "text/plain": [
       "array([0.44725738, 0.45147679, 0.46835443, 0.4556962 , 0.43881857,\n",
       "       0.43459916, 0.43459916, 0.43459916, 0.43881857])"
      ]
     },
     "execution_count": 61,
     "metadata": {},
     "output_type": "execute_result"
    }
   ],
   "source": [
    "k_max=10\n",
    "\n",
    "mean_acc=np.zeros((k_max-1))\n",
    "\n",
    "for i in range(1,k_max):\n",
    "    knn_clf_test=KNeighborsClassifier(n_neighbors=i).fit(X_train_tfidf,Y_train)\n",
    "    knn_test_predicted=knn_clf_test.predict(X_test_tfidf)\n",
    "    \n",
    "    mean_acc[i-1]=metrics.accuracy_score(Y_test,knn_test_predicted)\n",
    "    \n",
    "mean_acc"
   ]
  },
  {
   "cell_type": "code",
   "execution_count": 62,
   "metadata": {},
   "outputs": [],
   "source": [
    "import matplotlib.pyplot as plt"
   ]
  },
  {
   "cell_type": "code",
   "execution_count": 63,
   "metadata": {},
   "outputs": [
    {
     "data": {
      "image/png": "[encoded data removed]",
      "text/plain": [
       "<Figure size 432x288 with 1 Axes>"
      ]
     },
     "metadata": {
      "needs_background": "light"
     },
     "output_type": "display_data"
    }
   ],
   "source": [
    "plt.figure()\n",
    "plt.plot(np.arange(1,10),mean_acc)\n",
    "plt.xlabel('Value of k')\n",
    "plt.ylabel('accuracy')\n",
    "plt.show()"
   ]
  },
  {
   "cell_type": "markdown",
   "metadata": {},
   "source": [
    "### Using k=4 as per results from above graph"
   ]
  },
  {
   "cell_type": "code",
   "execution_count": 64,
   "metadata": {},
   "outputs": [],
   "source": [
    "neighbors=4"
   ]
  },
  {
   "cell_type": "code",
   "execution_count": 65,
   "metadata": {},
   "outputs": [],
   "source": [
    "knn_clf=KNeighborsClassifier(n_neighbors=neighbors).fit(X_train_tfidf,Y_train)"
   ]
  },
  {
   "cell_type": "code",
   "execution_count": 66,
   "metadata": {},
   "outputs": [],
   "source": [
    "knn_predicted=knn_clf.predict(X_test_tfidf)"
   ]
  },
  {
   "cell_type": "code",
   "execution_count": 67,
   "metadata": {},
   "outputs": [
    {
     "data": {
      "text/plain": [
       "array([1, 1, 1, 1, 1, 1, 1, 1, 1, 1, 1, 1, 1, 1, 1, 4, 1, 1, 1, 1, 1, 1,\n",
       "       1, 1, 1, 1, 1, 1, 1, 1, 1, 1, 1, 1, 1, 1, 1, 1, 1, 1, 1, 1, 1, 3,\n",
       "       1, 1, 1, 1, 1, 1, 3, 1, 1, 1, 1, 1, 1, 1, 1, 1, 1, 1, 1, 1, 1, 1,\n",
       "       1, 1, 1, 1, 1, 1, 4, 4, 1, 4, 1, 1, 1, 1, 1, 1, 1, 1, 1, 1, 1, 1,\n",
       "       1, 1, 1, 1, 1, 1, 1, 3, 1, 1, 1, 1, 1, 1, 1, 3, 1, 1, 1, 1, 4, 1,\n",
       "       1, 3, 1, 1, 1, 1, 1, 1, 1, 4, 1, 4, 1, 1, 4, 3, 1, 1, 1, 1, 4, 1,\n",
       "       1, 1, 1, 1, 1, 1, 1, 3, 1, 1, 1, 1, 1, 1, 1, 1, 1, 1, 1, 1, 1, 1,\n",
       "       1, 1, 3, 1, 1, 1, 1, 1, 1, 1, 1, 4, 1, 1, 1, 1, 1, 1, 1, 1, 1, 1,\n",
       "       1, 1, 1, 1, 4, 1, 1, 3, 1, 1, 1, 1, 1, 1, 1, 1, 1, 1, 1, 1, 1, 1,\n",
       "       2, 1, 1, 1, 1, 1, 3, 1, 1, 1, 1, 1, 4, 1, 1, 1, 1, 1, 4, 1, 1, 1,\n",
       "       1, 1, 1, 1, 1, 1, 1, 1, 1, 1, 1, 1, 1, 1, 1, 1, 1], dtype=int64)"
      ]
     },
     "execution_count": 67,
     "metadata": {},
     "output_type": "execute_result"
    }
   ],
   "source": [
    "knn_predicted"
   ]
  },
  {
   "cell_type": "code",
   "execution_count": 68,
   "metadata": {},
   "outputs": [
    {
     "data": {
      "text/plain": [
       "0.23490737156613883"
      ]
     },
     "execution_count": 68,
     "metadata": {},
     "output_type": "execute_result"
    }
   ],
   "source": [
    "jaccard_score(Y_test,knn_predicted,average='weighted')"
   ]
  },
  {
   "cell_type": "code",
   "execution_count": 69,
   "metadata": {},
   "outputs": [
    {
     "name": "stdout",
     "output_type": "stream",
     "text": [
      "              precision    recall  f1-score   support\n",
      "\n",
      "           1       0.45      0.94      0.61       102\n",
      "           2       0.00      0.00      0.00        21\n",
      "           3       0.40      0.11      0.17        38\n",
      "           4       0.62      0.11      0.18        76\n",
      "\n",
      "    accuracy                           0.46       237\n",
      "   macro avg       0.37      0.29      0.24       237\n",
      "weighted avg       0.46      0.46      0.35       237\n",
      "\n"
     ]
    }
   ],
   "source": [
    "print(classification_report(Y_test, knn_predicted,labels=np.unique(knn_predicted)))"
   ]
  },
  {
   "cell_type": "code",
   "execution_count": 70,
   "metadata": {},
   "outputs": [
    {
     "data": {
      "text/plain": [
       "array([[96,  0,  3,  3],\n",
       "       [20,  0,  1,  0],\n",
       "       [31,  1,  4,  2],\n",
       "       [66,  0,  2,  8]], dtype=int64)"
      ]
     },
     "execution_count": 70,
     "metadata": {},
     "output_type": "execute_result"
    }
   ],
   "source": [
    "knn_cm=confusion_matrix(Y_test,knn_predicted)\n",
    "knn_cm"
   ]
  },
  {
   "cell_type": "code",
   "execution_count": 71,
   "metadata": {},
   "outputs": [
    {
     "data": {
      "text/plain": [
       "0.45569620253164556"
      ]
     },
     "execution_count": 71,
     "metadata": {},
     "output_type": "execute_result"
    }
   ],
   "source": [
    "knn_accuracy=metrics.accuracy_score(Y_test,knn_predicted)\n",
    "knn_accuracy"
   ]
  },
  {
   "cell_type": "code",
   "execution_count": 72,
   "metadata": {},
   "outputs": [
    {
     "data": {
      "text/plain": [
       "0.346699085456019"
      ]
     },
     "execution_count": 72,
     "metadata": {},
     "output_type": "execute_result"
    }
   ],
   "source": [
    "metrics.f1_score(Y_test,knn_predicted,average='weighted',labels=np.unique(knn_predicted))"
   ]
  },
  {
   "cell_type": "markdown",
   "metadata": {},
   "source": [
    "## Using Support Vector Machines"
   ]
  },
  {
   "cell_type": "code",
   "execution_count": 73,
   "metadata": {},
   "outputs": [],
   "source": [
    "from sklearn import svm"
   ]
  },
  {
   "cell_type": "code",
   "execution_count": 74,
   "metadata": {},
   "outputs": [],
   "source": [
    "svm_clf= svm.SVC(kernel='rbf',gamma='auto').fit(X_train_tfidf,Y_train)"
   ]
  },
  {
   "cell_type": "code",
   "execution_count": 75,
   "metadata": {},
   "outputs": [],
   "source": [
    "svm_predicted=svm_clf.predict(X_test_tfidf)"
   ]
  },
  {
   "cell_type": "code",
   "execution_count": 76,
   "metadata": {},
   "outputs": [
    {
     "data": {
      "text/plain": [
       "array([1, 1, 1, 1, 1, 1, 1, 1, 1, 1, 1, 1, 1, 1, 1, 1, 1, 1, 1, 1, 1, 1,\n",
       "       1, 1, 1, 1, 1, 1, 1, 1, 1, 1, 1, 1, 1, 1, 1, 1, 1, 1, 1, 1, 1, 1,\n",
       "       1, 1, 1, 1, 1, 1, 1, 1, 1, 1, 1, 1, 1, 1, 1, 1, 1, 1, 1, 1, 1, 1,\n",
       "       1, 1, 1, 1, 1, 1, 1, 1, 1, 1, 1, 1, 1, 1, 1, 1, 1, 1, 1, 1, 1, 1,\n",
       "       1, 1, 1, 1, 1, 1, 1, 1, 1, 1, 1, 1, 1, 1, 1, 1, 1, 1, 1, 1, 1, 1,\n",
       "       1, 1, 1, 1, 1, 1, 1, 1, 1, 1, 1, 1, 1, 1, 1, 1, 1, 1, 1, 1, 1, 1,\n",
       "       1, 1, 1, 1, 1, 1, 1, 1, 1, 1, 1, 1, 1, 1, 1, 1, 1, 1, 1, 1, 1, 1,\n",
       "       1, 1, 1, 1, 1, 1, 1, 1, 1, 1, 1, 1, 1, 1, 1, 1, 1, 1, 1, 1, 1, 1,\n",
       "       1, 1, 1, 1, 1, 1, 1, 1, 1, 1, 1, 1, 1, 1, 1, 1, 1, 1, 1, 1, 1, 1,\n",
       "       1, 1, 1, 1, 1, 1, 1, 1, 1, 1, 1, 1, 1, 1, 1, 1, 1, 1, 1, 1, 1, 1,\n",
       "       1, 1, 1, 1, 1, 1, 1, 1, 1, 1, 1, 1, 1, 1, 1, 1, 1], dtype=int64)"
      ]
     },
     "execution_count": 76,
     "metadata": {},
     "output_type": "execute_result"
    }
   ],
   "source": [
    "svm_predicted"
   ]
  },
  {
   "cell_type": "code",
   "execution_count": 77,
   "metadata": {},
   "outputs": [
    {
     "data": {
      "text/plain": [
       "0.18522672648614005"
      ]
     },
     "execution_count": 77,
     "metadata": {},
     "output_type": "execute_result"
    }
   ],
   "source": [
    "jaccard_score(Y_test,svm_predicted,average='weighted')"
   ]
  },
  {
   "cell_type": "code",
   "execution_count": 78,
   "metadata": {},
   "outputs": [
    {
     "name": "stdout",
     "output_type": "stream",
     "text": [
      "              precision    recall  f1-score   support\n",
      "\n",
      "           1       0.43      1.00      0.60       102\n",
      "\n",
      "   micro avg       0.43      1.00      0.60       102\n",
      "   macro avg       0.43      1.00      0.60       102\n",
      "weighted avg       0.43      1.00      0.60       102\n",
      "\n"
     ]
    }
   ],
   "source": [
    "print(classification_report(Y_test, svm_predicted,labels=np.unique(svm_predicted)))"
   ]
  },
  {
   "cell_type": "code",
   "execution_count": 79,
   "metadata": {},
   "outputs": [
    {
     "data": {
      "text/plain": [
       "array([[102,   0,   0,   0],\n",
       "       [ 21,   0,   0,   0],\n",
       "       [ 38,   0,   0,   0],\n",
       "       [ 76,   0,   0,   0]], dtype=int64)"
      ]
     },
     "execution_count": 79,
     "metadata": {},
     "output_type": "execute_result"
    }
   ],
   "source": [
    "svm_cm=confusion_matrix(Y_test,svm_predicted)\n",
    "svm_cm"
   ]
  },
  {
   "cell_type": "code",
   "execution_count": 80,
   "metadata": {},
   "outputs": [
    {
     "data": {
      "text/plain": [
       "0.43037974683544306"
      ]
     },
     "execution_count": 80,
     "metadata": {},
     "output_type": "execute_result"
    }
   ],
   "source": [
    "svm_accuracy=metrics.accuracy_score(Y_test,svm_predicted)\n",
    "svm_accuracy"
   ]
  },
  {
   "cell_type": "code",
   "execution_count": 81,
   "metadata": {},
   "outputs": [
    {
     "data": {
      "text/plain": [
       "0.6017699115044248"
      ]
     },
     "execution_count": 81,
     "metadata": {},
     "output_type": "execute_result"
    }
   ],
   "source": [
    "metrics.f1_score(Y_test,svm_predicted,average='weighted',labels=np.unique(svm_predicted))"
   ]
  },
  {
   "cell_type": "markdown",
   "metadata": {},
   "source": [
    "## Decision Trees"
   ]
  },
  {
   "cell_type": "code",
   "execution_count": 82,
   "metadata": {},
   "outputs": [],
   "source": [
    "from sklearn.tree import DecisionTreeClassifier"
   ]
  },
  {
   "cell_type": "code",
   "execution_count": 83,
   "metadata": {},
   "outputs": [],
   "source": [
    "decision_tree_clf=DecisionTreeClassifier(criterion='entropy',max_depth=4).fit(X_train_tfidf,Y_train)"
   ]
  },
  {
   "cell_type": "code",
   "execution_count": 84,
   "metadata": {},
   "outputs": [],
   "source": [
    "decision_tree_predicted=decision_tree_clf.predict(X_test_tfidf)"
   ]
  },
  {
   "cell_type": "code",
   "execution_count": 85,
   "metadata": {},
   "outputs": [
    {
     "data": {
      "text/plain": [
       "array([4, 1, 1, 1, 1, 1, 1, 1, 1, 1, 1, 1, 1, 1, 1, 1, 1, 1, 4, 1, 1, 1,\n",
       "       3, 1, 4, 1, 1, 1, 4, 1, 1, 1, 1, 4, 1, 4, 1, 1, 1, 1, 1, 4, 1, 1,\n",
       "       1, 4, 1, 1, 1, 3, 1, 2, 1, 1, 1, 1, 1, 1, 1, 4, 2, 1, 1, 4, 1, 1,\n",
       "       1, 1, 1, 1, 1, 1, 1, 4, 1, 1, 1, 1, 1, 1, 1, 1, 1, 4, 4, 1, 1, 3,\n",
       "       1, 1, 1, 1, 1, 1, 1, 2, 1, 1, 1, 1, 1, 1, 1, 4, 1, 1, 1, 4, 4, 1,\n",
       "       1, 4, 1, 1, 4, 1, 1, 1, 4, 1, 4, 1, 1, 4, 4, 1, 1, 1, 1, 1, 1, 1,\n",
       "       1, 1, 3, 1, 1, 1, 4, 4, 1, 4, 1, 4, 1, 1, 4, 1, 1, 1, 1, 1, 4, 1,\n",
       "       1, 1, 4, 1, 1, 1, 1, 1, 1, 4, 1, 1, 4, 1, 1, 1, 1, 1, 1, 1, 1, 1,\n",
       "       1, 4, 1, 1, 1, 1, 4, 1, 4, 1, 4, 1, 1, 1, 1, 4, 1, 1, 1, 1, 1, 1,\n",
       "       4, 1, 4, 1, 1, 1, 1, 1, 1, 1, 1, 1, 1, 4, 1, 1, 1, 3, 1, 1, 1, 1,\n",
       "       1, 4, 4, 1, 1, 1, 1, 1, 1, 1, 1, 1, 1, 3, 1, 1, 1], dtype=int64)"
      ]
     },
     "execution_count": 85,
     "metadata": {},
     "output_type": "execute_result"
    }
   ],
   "source": [
    "decision_tree_predicted"
   ]
  },
  {
   "cell_type": "code",
   "execution_count": 86,
   "metadata": {},
   "outputs": [
    {
     "data": {
      "text/plain": [
       "0.25745867353462293"
      ]
     },
     "execution_count": 86,
     "metadata": {},
     "output_type": "execute_result"
    }
   ],
   "source": [
    "jaccard_score(Y_test,decision_tree_predicted,average='weighted')"
   ]
  },
  {
   "cell_type": "code",
   "execution_count": 87,
   "metadata": {},
   "outputs": [
    {
     "name": "stdout",
     "output_type": "stream",
     "text": [
      "              precision    recall  f1-score   support\n",
      "\n",
      "           1       0.48      0.87      0.62       102\n",
      "           2       0.00      0.00      0.00        21\n",
      "           3       0.33      0.05      0.09        38\n",
      "           4       0.44      0.24      0.31        76\n",
      "\n",
      "    accuracy                           0.46       237\n",
      "   macro avg       0.31      0.29      0.25       237\n",
      "weighted avg       0.40      0.46      0.38       237\n",
      "\n"
     ]
    }
   ],
   "source": [
    "print(classification_report(Y_test, decision_tree_predicted,labels=np.unique(decision_tree_predicted)))"
   ]
  },
  {
   "cell_type": "code",
   "execution_count": 88,
   "metadata": {},
   "outputs": [
    {
     "data": {
      "text/plain": [
       "array([[89,  2,  1, 10],\n",
       "       [18,  0,  0,  3],\n",
       "       [26,  0,  2, 10],\n",
       "       [54,  1,  3, 18]], dtype=int64)"
      ]
     },
     "execution_count": 88,
     "metadata": {},
     "output_type": "execute_result"
    }
   ],
   "source": [
    "decision_tree_cm=confusion_matrix(Y_test,decision_tree_predicted)\n",
    "decision_tree_cm"
   ]
  },
  {
   "cell_type": "code",
   "execution_count": 89,
   "metadata": {},
   "outputs": [
    {
     "data": {
      "text/plain": [
       "0.459915611814346"
      ]
     },
     "execution_count": 89,
     "metadata": {},
     "output_type": "execute_result"
    }
   ],
   "source": [
    "decision_tree_accuracy=metrics.accuracy_score(Y_test,decision_tree_predicted)\n",
    "decision_tree_accuracy"
   ]
  },
  {
   "cell_type": "code",
   "execution_count": 90,
   "metadata": {},
   "outputs": [
    {
     "data": {
      "text/plain": [
       "0.37832358755664786"
      ]
     },
     "execution_count": 90,
     "metadata": {},
     "output_type": "execute_result"
    }
   ],
   "source": [
    "metrics.f1_score(Y_test,decision_tree_predicted,average='weighted',labels=np.unique(decision_tree_predicted))"
   ]
  },
  {
   "cell_type": "markdown",
   "metadata": {},
   "source": [
    "## Random Forest Classification"
   ]
  },
  {
   "cell_type": "code",
   "execution_count": 91,
   "metadata": {},
   "outputs": [],
   "source": [
    "from sklearn.ensemble import RandomForestClassifier"
   ]
  },
  {
   "cell_type": "code",
   "execution_count": 92,
   "metadata": {},
   "outputs": [],
   "source": [
    "random_forest_clf = RandomForestClassifier(n_estimators=1000, \n",
    "                               bootstrap = True,\n",
    "                               max_features = 'sqrt').fit(X_train_tfidf,Y_train)"
   ]
  },
  {
   "cell_type": "code",
   "execution_count": 93,
   "metadata": {},
   "outputs": [],
   "source": [
    "random_forest_predicted=random_forest_clf.predict(X_test_tfidf)"
   ]
  },
  {
   "cell_type": "code",
   "execution_count": 94,
   "metadata": {},
   "outputs": [
    {
     "data": {
      "text/plain": [
       "array([4, 1, 1, 1, 4, 1, 1, 1, 1, 4, 1, 1, 1, 1, 1, 4, 1, 1, 4, 1, 1, 1,\n",
       "       3, 4, 4, 4, 1, 1, 4, 1, 4, 1, 4, 1, 1, 4, 1, 1, 1, 1, 1, 4, 1, 4,\n",
       "       1, 4, 4, 1, 4, 4, 4, 1, 1, 1, 1, 1, 1, 4, 1, 4, 1, 1, 1, 4, 4, 1,\n",
       "       1, 1, 1, 1, 4, 1, 1, 4, 4, 4, 1, 1, 1, 4, 1, 1, 1, 4, 4, 4, 1, 1,\n",
       "       1, 4, 1, 1, 1, 1, 1, 1, 1, 3, 1, 1, 4, 1, 4, 4, 1, 1, 1, 4, 4, 4,\n",
       "       1, 3, 1, 1, 1, 1, 1, 1, 4, 4, 4, 4, 1, 1, 4, 1, 4, 4, 4, 1, 4, 1,\n",
       "       4, 4, 1, 1, 1, 4, 4, 4, 4, 4, 1, 4, 1, 1, 1, 1, 4, 1, 4, 1, 4, 1,\n",
       "       1, 1, 4, 1, 4, 1, 4, 1, 1, 4, 1, 4, 4, 1, 1, 1, 1, 1, 4, 4, 1, 1,\n",
       "       4, 4, 1, 1, 4, 4, 4, 4, 1, 1, 4, 1, 4, 4, 1, 4, 4, 1, 4, 1, 1, 1,\n",
       "       3, 1, 4, 4, 1, 1, 4, 1, 4, 1, 1, 1, 4, 3, 1, 3, 4, 4, 4, 1, 1, 3,\n",
       "       1, 4, 4, 1, 1, 1, 1, 1, 1, 1, 1, 4, 4, 1, 4, 1, 1], dtype=int64)"
      ]
     },
     "execution_count": 94,
     "metadata": {},
     "output_type": "execute_result"
    }
   ],
   "source": [
    "random_forest_predicted"
   ]
  },
  {
   "cell_type": "code",
   "execution_count": 95,
   "metadata": {},
   "outputs": [
    {
     "data": {
      "text/plain": [
       "0.35130909823484835"
      ]
     },
     "execution_count": 95,
     "metadata": {},
     "output_type": "execute_result"
    }
   ],
   "source": [
    "jaccard_score(Y_test,random_forest_predicted,average='weighted')"
   ]
  },
  {
   "cell_type": "code",
   "execution_count": 96,
   "metadata": {},
   "outputs": [
    {
     "name": "stdout",
     "output_type": "stream",
     "text": [
      "              precision    recall  f1-score   support\n",
      "\n",
      "           1       0.60      0.82      0.70       102\n",
      "           3       0.71      0.13      0.22        38\n",
      "           4       0.44      0.53      0.48        76\n",
      "\n",
      "   micro avg       0.54      0.60      0.57       216\n",
      "   macro avg       0.59      0.49      0.47       216\n",
      "weighted avg       0.57      0.60      0.54       216\n",
      "\n"
     ]
    }
   ],
   "source": [
    "print(classification_report(Y_test,random_forest_predicted,labels=np.unique(random_forest_predicted) ))"
   ]
  },
  {
   "cell_type": "code",
   "execution_count": 97,
   "metadata": {},
   "outputs": [
    {
     "data": {
      "text/plain": [
       "array([[84,  0,  1, 17],\n",
       "       [ 9,  0,  1, 11],\n",
       "       [10,  0,  5, 23],\n",
       "       [36,  0,  0, 40]], dtype=int64)"
      ]
     },
     "execution_count": 97,
     "metadata": {},
     "output_type": "execute_result"
    }
   ],
   "source": [
    "random_forest_cm=confusion_matrix(Y_test,random_forest_predicted)\n",
    "random_forest_cm"
   ]
  },
  {
   "cell_type": "code",
   "execution_count": 98,
   "metadata": {},
   "outputs": [
    {
     "data": {
      "text/plain": [
       "0.5443037974683544"
      ]
     },
     "execution_count": 98,
     "metadata": {},
     "output_type": "execute_result"
    }
   ],
   "source": [
    "random_forest_accuracy=metrics.accuracy_score(Y_test,random_forest_predicted)\n",
    "random_forest_accuracy"
   ]
  },
  {
   "cell_type": "code",
   "execution_count": 99,
   "metadata": {},
   "outputs": [
    {
     "data": {
      "text/plain": [
       "0.536830391263986"
      ]
     },
     "execution_count": 99,
     "metadata": {},
     "output_type": "execute_result"
    }
   ],
   "source": [
    "metrics.f1_score(Y_test,random_forest_predicted,average='weighted',labels=np.unique(random_forest_predicted))"
   ]
  },
  {
   "cell_type": "markdown",
   "metadata": {},
   "source": [
    "## Notes\n",
    "\n",
    "-  The performance metrics for the algorithms are OK with Random Forest outperforming the other algorithms.\n",
    "    - The **reason for this subpar performance** is **class imbalance**. The distribution of data points in each of the four classes (1 - 4) is not balanced, which creates a biased scenario to the classes which have a higher number of samples.\n",
    "    - Possible solution to mititgate this is to get more training data.\n",
    "\n",
    "<hr>\n",
    "\n",
    "-  There are some algorithms that might perform slightly better on this kind of dataset. Take a look at [Isolation Forest](https://scikit-learn.org/stable/modules/generated/sklearn.ensemble.IsolationForest.html) and see how it performs. I am not sure if it's applicable to multiclass scenario but you can try it out."
   ]
  },
  {
   "cell_type": "markdown",
   "metadata": {},
   "source": [
    "### Isolation Forest"
   ]
  },
  {
   "cell_type": "code",
   "execution_count": 100,
   "metadata": {},
   "outputs": [],
   "source": [
    "from sklearn.ensemble import IsolationForest"
   ]
  },
  {
   "cell_type": "code",
   "execution_count": 101,
   "metadata": {},
   "outputs": [],
   "source": [
    "isolation_clf=IsolationForest(random_state=1,behaviour=\"new\",contamination='auto').fit(X_train_tfidf)"
   ]
  },
  {
   "cell_type": "code",
   "execution_count": 102,
   "metadata": {},
   "outputs": [
    {
     "data": {
      "text/plain": [
       "array([1, 1, 1, 1, 1, 1, 1, 1, 1, 1, 1, 1, 1, 1, 1, 1, 1, 1, 1, 1, 1, 1,\n",
       "       1, 1, 1, 1, 1, 1, 1, 1, 1, 1, 1, 1, 1, 1, 1, 1, 1, 1, 1, 1, 1, 1,\n",
       "       1, 1, 1, 1, 1, 1, 1, 1, 1, 1, 1, 1, 1, 1, 1, 1, 1, 1, 1, 1, 1, 1,\n",
       "       1, 1, 1, 1, 1, 1, 1, 1, 1, 1, 1, 1, 1, 1, 1, 1, 1, 1, 1, 1, 1, 1,\n",
       "       1, 1, 1, 1, 1, 1, 1, 1, 1, 1, 1, 1, 1, 1, 1, 1, 1, 1, 1, 1, 1, 1,\n",
       "       1, 1, 1, 1, 1, 1, 1, 1, 1, 1, 1, 1, 1, 1, 1, 1, 1, 1, 1, 1, 1, 1,\n",
       "       1, 1, 1, 1, 1, 1, 1, 1, 1, 1, 1, 1, 1, 1, 1, 1, 1, 1, 1, 1, 1, 1,\n",
       "       1, 1, 1, 1, 1, 1, 1, 1, 1, 1, 1, 1, 1, 1, 1, 1, 1, 1, 1, 1, 1, 1,\n",
       "       1, 1, 1, 1, 1, 1, 1, 1, 1, 1, 1, 1, 1, 1, 1, 1, 1, 1, 1, 1, 1, 1,\n",
       "       1, 1, 1, 1, 1, 1, 1, 1, 1, 1, 1, 1, 1, 1, 1, 1, 1, 1, 1, 1, 1, 1,\n",
       "       1, 1, 1, 1, 1, 1, 1, 1, 1, 1, 1, 1, 1, 1, 1, 1, 1])"
      ]
     },
     "execution_count": 102,
     "metadata": {},
     "output_type": "execute_result"
    }
   ],
   "source": [
    "isolation_predicted=isolation_clf.predict(X_test_tfidf)\n",
    "isolation_predicted"
   ]
  },
  {
   "cell_type": "code",
   "execution_count": 103,
   "metadata": {
    "scrolled": true
   },
   "outputs": [
    {
     "data": {
      "text/plain": [
       "0.18522672648614005"
      ]
     },
     "execution_count": 103,
     "metadata": {},
     "output_type": "execute_result"
    }
   ],
   "source": [
    "jaccard_score(Y_test,isolation_predicted,average='weighted')"
   ]
  },
  {
   "cell_type": "code",
   "execution_count": 104,
   "metadata": {},
   "outputs": [
    {
     "name": "stdout",
     "output_type": "stream",
     "text": [
      "              precision    recall  f1-score   support\n",
      "\n",
      "           1       0.43      1.00      0.60       102\n",
      "\n",
      "   micro avg       0.43      1.00      0.60       102\n",
      "   macro avg       0.43      1.00      0.60       102\n",
      "weighted avg       0.43      1.00      0.60       102\n",
      "\n"
     ]
    }
   ],
   "source": [
    "print(classification_report(Y_test,isolation_predicted,labels=np.unique(isolation_predicted)))"
   ]
  },
  {
   "cell_type": "code",
   "execution_count": 105,
   "metadata": {},
   "outputs": [
    {
     "data": {
      "text/plain": [
       "0.43037974683544306"
      ]
     },
     "execution_count": 105,
     "metadata": {},
     "output_type": "execute_result"
    }
   ],
   "source": [
    "isolation_accuracy=metrics.accuracy_score(Y_test,isolation_predicted)\n",
    "isolation_accuracy"
   ]
  },
  {
   "cell_type": "code",
   "execution_count": 106,
   "metadata": {},
   "outputs": [
    {
     "data": {
      "text/plain": [
       "array([[102,   0,   0,   0],\n",
       "       [ 21,   0,   0,   0],\n",
       "       [ 38,   0,   0,   0],\n",
       "       [ 76,   0,   0,   0]], dtype=int64)"
      ]
     },
     "execution_count": 106,
     "metadata": {},
     "output_type": "execute_result"
    }
   ],
   "source": [
    "isolation_cm=confusion_matrix(Y_test,isolation_predicted)\n",
    "isolation_cm"
   ]
  },
  {
   "cell_type": "code",
   "execution_count": 107,
   "metadata": {},
   "outputs": [
    {
     "data": {
      "text/plain": [
       "0.6017699115044248"
      ]
     },
     "execution_count": 107,
     "metadata": {},
     "output_type": "execute_result"
    }
   ],
   "source": [
    "metrics.f1_score(Y_test,isolation_predicted,average='weighted',labels=np.unique(isolation_predicted))"
   ]
  },
  {
   "cell_type": "markdown",
   "metadata": {},
   "source": [
    "### Some data visualization"
   ]
  },
  {
   "cell_type": "markdown",
   "metadata": {},
   "source": [
    "## Accuracy Graph"
   ]
  },
  {
   "cell_type": "code",
   "execution_count": 108,
   "metadata": {},
   "outputs": [],
   "source": [
    "accuracy_list=[logistic_accuracy,isolation_accuracy,naive_bayes_accuracy,knn_accuracy,svm_accuracy,decision_tree_accuracy,random_forest_accuracy]"
   ]
  },
  {
   "cell_type": "code",
   "execution_count": 109,
   "metadata": {},
   "outputs": [],
   "source": [
    "%matplotlib notebook"
   ]
  },
  {
   "cell_type": "code",
   "execution_count": 110,
   "metadata": {},
   "outputs": [],
   "source": [
    "accuracy_x_labels=['logistic','isolation','naive_bayes','knn','svm','decision_tree','random_forest']"
   ]
  },
  {
   "cell_type": "code",
   "execution_count": 111,
   "metadata": {},
   "outputs": [
    {
     "data": {
      "application/javascript": [
       "/* Put everything inside the global mpl namespace */\n",
       "window.mpl = {};\n",
       "\n",
       "\n",
       "mpl.get_websocket_type = function() {\n",
       "    if (typeof(WebSocket) !== 'undefined') {\n",
       "        return WebSocket;\n",
       "    } else if (typeof(MozWebSocket) !== 'undefined') {\n",
       "        return MozWebSocket;\n",
       "    } else {\n",
       "        alert('Your browser does not have WebSocket support. ' +\n",
       "              'Please try Chrome, Safari or Firefox ≥ 6. ' +\n",
       "              'Firefox 4 and 5 are also supported but you ' +\n",
       "              'have to enable WebSockets in about:config.');\n",
       "    };\n",
       "}\n",
       "\n",
       "mpl.figure = function(figure_id, websocket, ondownload, parent_element) {\n",
       "    this.id = figure_id;\n",
       "\n",
       "    this.ws = websocket;\n",
       "\n",
       "    this.supports_binary = (this.ws.binaryType != undefined);\n",
       "\n",
       "    if (!this.supports_binary) {\n",
       "        var warnings = document.getElementById(\"mpl-warnings\");\n",
       "        if (warnings) {\n",
       "            warnings.style.display = 'block';\n",
       "            warnings.textContent = (\n",
       "                \"This browser does not support binary websocket messages. \" +\n",
       "                    \"Performance may be slow.\");\n",
       "        }\n",
       "    }\n",
       "\n",
       "    this.imageObj = new Image();\n",
       "\n",
       "    this.context = undefined;\n",
       "    this.message = undefined;\n",
       "    this.canvas = undefined;\n",
       "    this.rubberband_canvas = undefined;\n",
       "    this.rubberband_context = undefined;\n",
       "    this.format_dropdown = undefined;\n",
       "\n",
       "    this.image_mode = 'full';\n",
       "\n",
       "    this.root = $('<div/>');\n",
       "    this._root_extra_style(this.root)\n",
       "    this.root.attr('style', 'display: inline-block');\n",
       "\n",
       "    $(parent_element).append(this.root);\n",
       "\n",
       "    this._init_header(this);\n",
       "    this._init_canvas(this);\n",
       "    this._init_toolbar(this);\n",
       "\n",
       "    var fig = this;\n",
       "\n",
       "    this.waiting = false;\n",
       "\n",
       "    this.ws.onopen =  function () {\n",
       "            fig.send_message(\"supports_binary\", {value: fig.supports_binary});\n",
       "            fig.send_message(\"send_image_mode\", {});\n",
       "            if (mpl.ratio != 1) {\n",
       "                fig.send_message(\"set_dpi_ratio\", {'dpi_ratio': mpl.ratio});\n",
       "            }\n",
       "            fig.send_message(\"refresh\", {});\n",
       "        }\n",
       "\n",
       "    this.imageObj.onload = function() {\n",
       "            if (fig.image_mode == 'full') {\n",
       "                // Full images could contain transparency (where diff images\n",
       "                // almost always do), so we need to clear the canvas so that\n",
       "                // there is no ghosting.\n",
       "                fig.context.clearRect(0, 0, fig.canvas.width, fig.canvas.height);\n",
       "            }\n",
       "            fig.context.drawImage(fig.imageObj, 0, 0);\n",
       "        };\n",
       "\n",
       "    this.imageObj.onunload = function() {\n",
       "        fig.ws.close();\n",
       "    }\n",
       "\n",
       "    this.ws.onmessage = this._make_on_message_function(this);\n",
       "\n",
       "    this.ondownload = ondownload;\n",
       "}\n",
       "\n",
       "mpl.figure.prototype._init_header = function() {\n",
       "    var titlebar = $(\n",
       "        '<div class=\"ui-dialog-titlebar ui-widget-header ui-corner-all ' +\n",
       "        'ui-helper-clearfix\"/>');\n",
       "    var titletext = $(\n",
       "        '<div class=\"ui-dialog-title\" style=\"width: 100%; ' +\n",
       "        'text-align: center; padding: 3px;\"/>');\n",
       "    titlebar.append(titletext)\n",
       "    this.root.append(titlebar);\n",
       "    this.header = titletext[0];\n",
       "}\n",
       "\n",
       "\n",
       "\n",
       "mpl.figure.prototype._canvas_extra_style = function(canvas_div) {\n",
       "\n",
       "}\n",
       "\n",
       "\n",
       "mpl.figure.prototype._root_extra_style = function(canvas_div) {\n",
       "\n",
       "}\n",
       "\n",
       "mpl.figure.prototype._init_canvas = function() {\n",
       "    var fig = this;\n",
       "\n",
       "    var canvas_div = $('<div/>');\n",
       "\n",
       "    canvas_div.attr('style', 'position: relative; clear: both; outline: 0');\n",
       "\n",
       "    function canvas_keyboard_event(event) {\n",
       "        return fig.key_event(event, event['data']);\n",
       "    }\n",
       "\n",
       "    canvas_div.keydown('key_press', canvas_keyboard_event);\n",
       "    canvas_div.keyup('key_release', canvas_keyboard_event);\n",
       "    this.canvas_div = canvas_div\n",
       "    this._canvas_extra_style(canvas_div)\n",
       "    this.root.append(canvas_div);\n",
       "\n",
       "    var canvas = $('<canvas/>');\n",
       "    canvas.addClass('mpl-canvas');\n",
       "    canvas.attr('style', \"left: 0; top: 0; z-index: 0; outline: 0\")\n",
       "\n",
       "    this.canvas = canvas[0];\n",
       "    this.context = canvas[0].getContext(\"2d\");\n",
       "\n",
       "    var backingStore = this.context.backingStorePixelRatio ||\n",
       "\tthis.context.webkitBackingStorePixelRatio ||\n",
       "\tthis.context.mozBackingStorePixelRatio ||\n",
       "\tthis.context.msBackingStorePixelRatio ||\n",
       "\tthis.context.oBackingStorePixelRatio ||\n",
       "\tthis.context.backingStorePixelRatio || 1;\n",
       "\n",
       "    mpl.ratio = (window.devicePixelRatio || 1) / backingStore;\n",
       "\n",
       "    var rubberband = $('<canvas/>');\n",
       "    rubberband.attr('style', \"position: absolute; left: 0; top: 0; z-index: 1;\")\n",
       "\n",
       "    var pass_mouse_events = true;\n",
       "\n",
       "    canvas_div.resizable({\n",
       "        start: function(event, ui) {\n",
       "            pass_mouse_events = false;\n",
       "        },\n",
       "        resize: function(event, ui) {\n",
       "            fig.request_resize(ui.size.width, ui.size.height);\n",
       "        },\n",
       "        stop: function(event, ui) {\n",
       "            pass_mouse_events = true;\n",
       "            fig.request_resize(ui.size.width, ui.size.height);\n",
       "        },\n",
       "    });\n",
       "\n",
       "    function mouse_event_fn(event) {\n",
       "        if (pass_mouse_events)\n",
       "            return fig.mouse_event(event, event['data']);\n",
       "    }\n",
       "\n",
       "    rubberband.mousedown('button_press', mouse_event_fn);\n",
       "    rubberband.mouseup('button_release', mouse_event_fn);\n",
       "    // Throttle sequential mouse events to 1 every 20ms.\n",
       "    rubberband.mousemove('motion_notify', mouse_event_fn);\n",
       "\n",
       "    rubberband.mouseenter('figure_enter', mouse_event_fn);\n",
       "    rubberband.mouseleave('figure_leave', mouse_event_fn);\n",
       "\n",
       "    canvas_div.on(\"wheel\", function (event) {\n",
       "        event = event.originalEvent;\n",
       "        event['data'] = 'scroll'\n",
       "        if (event.deltaY < 0) {\n",
       "            event.step = 1;\n",
       "        } else {\n",
       "            event.step = -1;\n",
       "        }\n",
       "        mouse_event_fn(event);\n",
       "    });\n",
       "\n",
       "    canvas_div.append(canvas);\n",
       "    canvas_div.append(rubberband);\n",
       "\n",
       "    this.rubberband = rubberband;\n",
       "    this.rubberband_canvas = rubberband[0];\n",
       "    this.rubberband_context = rubberband[0].getContext(\"2d\");\n",
       "    this.rubberband_context.strokeStyle = \"#000000\";\n",
       "\n",
       "    this._resize_canvas = function(width, height) {\n",
       "        // Keep the size of the canvas, canvas container, and rubber band\n",
       "        // canvas in synch.\n",
       "        canvas_div.css('width', width)\n",
       "        canvas_div.css('height', height)\n",
       "\n",
       "        canvas.attr('width', width * mpl.ratio);\n",
       "        canvas.attr('height', height * mpl.ratio);\n",
       "        canvas.attr('style', 'width: ' + width + 'px; height: ' + height + 'px;');\n",
       "\n",
       "        rubberband.attr('width', width);\n",
       "        rubberband.attr('height', height);\n",
       "    }\n",
       "\n",
       "    // Set the figure to an initial 600x600px, this will subsequently be updated\n",
       "    // upon first draw.\n",
       "    this._resize_canvas(600, 600);\n",
       "\n",
       "    // Disable right mouse context menu.\n",
       "    $(this.rubberband_canvas).bind(\"contextmenu\",function(e){\n",
       "        return false;\n",
       "    });\n",
       "\n",
       "    function set_focus () {\n",
       "        canvas.focus();\n",
       "        canvas_div.focus();\n",
       "    }\n",
       "\n",
       "    window.setTimeout(set_focus, 100);\n",
       "}\n",
       "\n",
       "mpl.figure.prototype._init_toolbar = function() {\n",
       "    var fig = this;\n",
       "\n",
       "    var nav_element = $('<div/>');\n",
       "    nav_element.attr('style', 'width: 100%');\n",
       "    this.root.append(nav_element);\n",
       "\n",
       "    // Define a callback function for later on.\n",
       "    function toolbar_event(event) {\n",
       "        return fig.toolbar_button_onclick(event['data']);\n",
       "    }\n",
       "    function toolbar_mouse_event(event) {\n",
       "        return fig.toolbar_button_onmouseover(event['data']);\n",
       "    }\n",
       "\n",
       "    for(var toolbar_ind in mpl.toolbar_items) {\n",
       "        var name = mpl.toolbar_items[toolbar_ind][0];\n",
       "        var tooltip = mpl.toolbar_items[toolbar_ind][1];\n",
       "        var image = mpl.toolbar_items[toolbar_ind][2];\n",
       "        var method_name = mpl.toolbar_items[toolbar_ind][3];\n",
       "\n",
       "        if (!name) {\n",
       "            // put a spacer in here.\n",
       "            continue;\n",
       "        }\n",
       "        var button = $('<button/>');\n",
       "        button.addClass('ui-button ui-widget ui-state-default ui-corner-all ' +\n",
       "                        'ui-button-icon-only');\n",
       "        button.attr('role', 'button');\n",
       "        button.attr('aria-disabled', 'false');\n",
       "        button.click(method_name, toolbar_event);\n",
       "        button.mouseover(tooltip, toolbar_mouse_event);\n",
       "\n",
       "        var icon_img = $('<span/>');\n",
       "        icon_img.addClass('ui-button-icon-primary ui-icon');\n",
       "        icon_img.addClass(image);\n",
       "        icon_img.addClass('ui-corner-all');\n",
       "\n",
       "        var tooltip_span = $('<span/>');\n",
       "        tooltip_span.addClass('ui-button-text');\n",
       "        tooltip_span.html(tooltip);\n",
       "\n",
       "        button.append(icon_img);\n",
       "        button.append(tooltip_span);\n",
       "\n",
       "        nav_element.append(button);\n",
       "    }\n",
       "\n",
       "    var fmt_picker_span = $('<span/>');\n",
       "\n",
       "    var fmt_picker = $('<select/>');\n",
       "    fmt_picker.addClass('mpl-toolbar-option ui-widget ui-widget-content');\n",
       "    fmt_picker_span.append(fmt_picker);\n",
       "    nav_element.append(fmt_picker_span);\n",
       "    this.format_dropdown = fmt_picker[0];\n",
       "\n",
       "    for (var ind in mpl.extensions) {\n",
       "        var fmt = mpl.extensions[ind];\n",
       "        var option = $(\n",
       "            '<option/>', {selected: fmt === mpl.default_extension}).html(fmt);\n",
       "        fmt_picker.append(option);\n",
       "    }\n",
       "\n",
       "    // Add hover states to the ui-buttons\n",
       "    $( \".ui-button\" ).hover(\n",
       "        function() { $(this).addClass(\"ui-state-hover\");},\n",
       "        function() { $(this).removeClass(\"ui-state-hover\");}\n",
       "    );\n",
       "\n",
       "    var status_bar = $('<span class=\"mpl-message\"/>');\n",
       "    nav_element.append(status_bar);\n",
       "    this.message = status_bar[0];\n",
       "}\n",
       "\n",
       "mpl.figure.prototype.request_resize = function(x_pixels, y_pixels) {\n",
       "    // Request matplotlib to resize the figure. Matplotlib will then trigger a resize in the client,\n",
       "    // which will in turn request a refresh of the image.\n",
       "    this.send_message('resize', {'width': x_pixels, 'height': y_pixels});\n",
       "}\n",
       "\n",
       "mpl.figure.prototype.send_message = function(type, properties) {\n",
       "    properties['type'] = type;\n",
       "    properties['figure_id'] = this.id;\n",
       "    this.ws.send(JSON.stringify(properties));\n",
       "}\n",
       "\n",
       "mpl.figure.prototype.send_draw_message = function() {\n",
       "    if (!this.waiting) {\n",
       "        this.waiting = true;\n",
       "        this.ws.send(JSON.stringify({type: \"draw\", figure_id: this.id}));\n",
       "    }\n",
       "}\n",
       "\n",
       "\n",
       "mpl.figure.prototype.handle_save = function(fig, msg) {\n",
       "    var format_dropdown = fig.format_dropdown;\n",
       "    var format = format_dropdown.options[format_dropdown.selectedIndex].value;\n",
       "    fig.ondownload(fig, format);\n",
       "}\n",
       "\n",
       "\n",
       "mpl.figure.prototype.handle_resize = function(fig, msg) {\n",
       "    var size = msg['size'];\n",
       "    if (size[0] != fig.canvas.width || size[1] != fig.canvas.height) {\n",
       "        fig._resize_canvas(size[0], size[1]);\n",
       "        fig.send_message(\"refresh\", {});\n",
       "    };\n",
       "}\n",
       "\n",
       "mpl.figure.prototype.handle_rubberband = function(fig, msg) {\n",
       "    var x0 = msg['x0'] / mpl.ratio;\n",
       "    var y0 = (fig.canvas.height - msg['y0']) / mpl.ratio;\n",
       "    var x1 = msg['x1'] / mpl.ratio;\n",
       "    var y1 = (fig.canvas.height - msg['y1']) / mpl.ratio;\n",
       "    x0 = Math.floor(x0) + 0.5;\n",
       "    y0 = Math.floor(y0) + 0.5;\n",
       "    x1 = Math.floor(x1) + 0.5;\n",
       "    y1 = Math.floor(y1) + 0.5;\n",
       "    var min_x = Math.min(x0, x1);\n",
       "    var min_y = Math.min(y0, y1);\n",
       "    var width = Math.abs(x1 - x0);\n",
       "    var height = Math.abs(y1 - y0);\n",
       "\n",
       "    fig.rubberband_context.clearRect(\n",
       "        0, 0, fig.canvas.width, fig.canvas.height);\n",
       "\n",
       "    fig.rubberband_context.strokeRect(min_x, min_y, width, height);\n",
       "}\n",
       "\n",
       "mpl.figure.prototype.handle_figure_label = function(fig, msg) {\n",
       "    // Updates the figure title.\n",
       "    fig.header.textContent = msg['label'];\n",
       "}\n",
       "\n",
       "mpl.figure.prototype.handle_cursor = function(fig, msg) {\n",
       "    var cursor = msg['cursor'];\n",
       "    switch(cursor)\n",
       "    {\n",
       "    case 0:\n",
       "        cursor = 'pointer';\n",
       "        break;\n",
       "    case 1:\n",
       "        cursor = 'default';\n",
       "        break;\n",
       "    case 2:\n",
       "        cursor = 'crosshair';\n",
       "        break;\n",
       "    case 3:\n",
       "        cursor = 'move';\n",
       "        break;\n",
       "    }\n",
       "    fig.rubberband_canvas.style.cursor = cursor;\n",
       "}\n",
       "\n",
       "mpl.figure.prototype.handle_message = function(fig, msg) {\n",
       "    fig.message.textContent = msg['message'];\n",
       "}\n",
       "\n",
       "mpl.figure.prototype.handle_draw = function(fig, msg) {\n",
       "    // Request the server to send over a new figure.\n",
       "    fig.send_draw_message();\n",
       "}\n",
       "\n",
       "mpl.figure.prototype.handle_image_mode = function(fig, msg) {\n",
       "    fig.image_mode = msg['mode'];\n",
       "}\n",
       "\n",
       "mpl.figure.prototype.updated_canvas_event = function() {\n",
       "    // Called whenever the canvas gets updated.\n",
       "    this.send_message(\"ack\", {});\n",
       "}\n",
       "\n",
       "// A function to construct a web socket function for onmessage handling.\n",
       "// Called in the figure constructor.\n",
       "mpl.figure.prototype._make_on_message_function = function(fig) {\n",
       "    return function socket_on_message(evt) {\n",
       "        if (evt.data instanceof Blob) {\n",
       "            /* FIXME: We get \"Resource interpreted as Image but\n",
       "             * transferred with MIME type text/plain:\" errors on\n",
       "             * Chrome.  But how to set the MIME type?  It doesn't seem\n",
       "             * to be part of the websocket stream */\n",
       "            evt.data.type = \"image/png\";\n",
       "\n",
       "            /* Free the memory for the previous frames */\n",
       "            if (fig.imageObj.src) {\n",
       "                (window.URL || window.webkitURL).revokeObjectURL(\n",
       "                    fig.imageObj.src);\n",
       "            }\n",
       "\n",
       "            fig.imageObj.src = (window.URL || window.webkitURL).createObjectURL(\n",
       "                evt.data);\n",
       "            fig.updated_canvas_event();\n",
       "            fig.waiting = false;\n",
       "            return;\n",
       "        }\n",
       "        else if (typeof evt.data === 'string' && evt.data.slice(0, 21) == \"data:image/png;base64\") {\n",
       "            fig.imageObj.src = evt.data;\n",
       "            fig.updated_canvas_event();\n",
       "            fig.waiting = false;\n",
       "            return;\n",
       "        }\n",
       "\n",
       "        var msg = JSON.parse(evt.data);\n",
       "        var msg_type = msg['type'];\n",
       "\n",
       "        // Call the  \"handle_{type}\" callback, which takes\n",
       "        // the figure and JSON message as its only arguments.\n",
       "        try {\n",
       "            var callback = fig[\"handle_\" + msg_type];\n",
       "        } catch (e) {\n",
       "            console.log(\"No handler for the '\" + msg_type + \"' message type: \", msg);\n",
       "            return;\n",
       "        }\n",
       "\n",
       "        if (callback) {\n",
       "            try {\n",
       "                // console.log(\"Handling '\" + msg_type + \"' message: \", msg);\n",
       "                callback(fig, msg);\n",
       "            } catch (e) {\n",
       "                console.log(\"Exception inside the 'handler_\" + msg_type + \"' callback:\", e, e.stack, msg);\n",
       "            }\n",
       "        }\n",
       "    };\n",
       "}\n",
       "\n",
       "// from http://stackoverflow.com/questions/1114465/getting-mouse-location-in-canvas\n",
       "mpl.findpos = function(e) {\n",
       "    //this section is from http://www.quirksmode.org/js/events_properties.html\n",
       "    var targ;\n",
       "    if (!e)\n",
       "        e = window.event;\n",
       "    if (e.target)\n",
       "        targ = e.target;\n",
       "    else if (e.srcElement)\n",
       "        targ = e.srcElement;\n",
       "    if (targ.nodeType == 3) // defeat Safari bug\n",
       "        targ = targ.parentNode;\n",
       "\n",
       "    // jQuery normalizes the pageX and pageY\n",
       "    // pageX,Y are the mouse positions relative to the document\n",
       "    // offset() returns the position of the element relative to the document\n",
       "    var x = e.pageX - $(targ).offset().left;\n",
       "    var y = e.pageY - $(targ).offset().top;\n",
       "\n",
       "    return {\"x\": x, \"y\": y};\n",
       "};\n",
       "\n",
       "/*\n",
       " * return a copy of an object with only non-object keys\n",
       " * we need this to avoid circular references\n",
       " * http://stackoverflow.com/a/24161582/3208463\n",
       " */\n",
       "function simpleKeys (original) {\n",
       "  return Object.keys(original).reduce(function (obj, key) {\n",
       "    if (typeof original[key] !== 'object')\n",
       "        obj[key] = original[key]\n",
       "    return obj;\n",
       "  }, {});\n",
       "}\n",
       "\n",
       "mpl.figure.prototype.mouse_event = function(event, name) {\n",
       "    var canvas_pos = mpl.findpos(event)\n",
       "\n",
       "    if (name === 'button_press')\n",
       "    {\n",
       "        this.canvas.focus();\n",
       "        this.canvas_div.focus();\n",
       "    }\n",
       "\n",
       "    var x = canvas_pos.x * mpl.ratio;\n",
       "    var y = canvas_pos.y * mpl.ratio;\n",
       "\n",
       "    this.send_message(name, {x: x, y: y, button: event.button,\n",
       "                             step: event.step,\n",
       "                             guiEvent: simpleKeys(event)});\n",
       "\n",
       "    /* This prevents the web browser from automatically changing to\n",
       "     * the text insertion cursor when the button is pressed.  We want\n",
       "     * to control all of the cursor setting manually through the\n",
       "     * 'cursor' event from matplotlib */\n",
       "    event.preventDefault();\n",
       "    return false;\n",
       "}\n",
       "\n",
       "mpl.figure.prototype._key_event_extra = function(event, name) {\n",
       "    // Handle any extra behaviour associated with a key event\n",
       "}\n",
       "\n",
       "mpl.figure.prototype.key_event = function(event, name) {\n",
       "\n",
       "    // Prevent repeat events\n",
       "    if (name == 'key_press')\n",
       "    {\n",
       "        if (event.which === this._key)\n",
       "            return;\n",
       "        else\n",
       "            this._key = event.which;\n",
       "    }\n",
       "    if (name == 'key_release')\n",
       "        this._key = null;\n",
       "\n",
       "    var value = '';\n",
       "    if (event.ctrlKey && event.which != 17)\n",
       "        value += \"ctrl+\";\n",
       "    if (event.altKey && event.which != 18)\n",
       "        value += \"alt+\";\n",
       "    if (event.shiftKey && event.which != 16)\n",
       "        value += \"shift+\";\n",
       "\n",
       "    value += 'k';\n",
       "    value += event.which.toString();\n",
       "\n",
       "    this._key_event_extra(event, name);\n",
       "\n",
       "    this.send_message(name, {key: value,\n",
       "                             guiEvent: simpleKeys(event)});\n",
       "    return false;\n",
       "}\n",
       "\n",
       "mpl.figure.prototype.toolbar_button_onclick = function(name) {\n",
       "    if (name == 'download') {\n",
       "        this.handle_save(this, null);\n",
       "    } else {\n",
       "        this.send_message(\"toolbar_button\", {name: name});\n",
       "    }\n",
       "};\n",
       "\n",
       "mpl.figure.prototype.toolbar_button_onmouseover = function(tooltip) {\n",
       "    this.message.textContent = tooltip;\n",
       "};\n",
       "mpl.toolbar_items = [[\"Home\", \"Reset original view\", \"fa fa-home icon-home\", \"home\"], [\"Back\", \"Back to previous view\", \"fa fa-arrow-left icon-arrow-left\", \"back\"], [\"Forward\", \"Forward to next view\", \"fa fa-arrow-right icon-arrow-right\", \"forward\"], [\"\", \"\", \"\", \"\"], [\"Pan\", \"Pan axes with left mouse, zoom with right\", \"fa fa-arrows icon-move\", \"pan\"], [\"Zoom\", \"Zoom to rectangle\", \"fa fa-square-o icon-check-empty\", \"zoom\"], [\"\", \"\", \"\", \"\"], [\"Download\", \"Download plot\", \"fa fa-floppy-o icon-save\", \"download\"]];\n",
       "\n",
       "mpl.extensions = [\"eps\", \"jpeg\", \"pdf\", \"png\", \"ps\", \"raw\", \"svg\", \"tif\"];\n",
       "\n",
       "mpl.default_extension = \"png\";var comm_websocket_adapter = function(comm) {\n",
       "    // Create a \"websocket\"-like object which calls the given IPython comm\n",
       "    // object with the appropriate methods. Currently this is a non binary\n",
       "    // socket, so there is still some room for performance tuning.\n",
       "    var ws = {};\n",
       "\n",
       "    ws.close = function() {\n",
       "        comm.close()\n",
       "    };\n",
       "    ws.send = function(m) {\n",
       "        //console.log('sending', m);\n",
       "        comm.send(m);\n",
       "    };\n",
       "    // Register the callback with on_msg.\n",
       "    comm.on_msg(function(msg) {\n",
       "        //console.log('receiving', msg['content']['data'], msg);\n",
       "        // Pass the mpl event to the overridden (by mpl) onmessage function.\n",
       "        ws.onmessage(msg['content']['data'])\n",
       "    });\n",
       "    return ws;\n",
       "}\n",
       "\n",
       "mpl.mpl_figure_comm = function(comm, msg) {\n",
       "    // This is the function which gets called when the mpl process\n",
       "    // starts-up an IPython Comm through the \"matplotlib\" channel.\n",
       "\n",
       "    var id = msg.content.data.id;\n",
       "    // Get hold of the div created by the display call when the Comm\n",
       "    // socket was opened in Python.\n",
       "    var element = $(\"#\" + id);\n",
       "    var ws_proxy = comm_websocket_adapter(comm)\n",
       "\n",
       "    function ondownload(figure, format) {\n",
       "        window.open(figure.imageObj.src);\n",
       "    }\n",
       "\n",
       "    var fig = new mpl.figure(id, ws_proxy,\n",
       "                           ondownload,\n",
       "                           element.get(0));\n",
       "\n",
       "    // Call onopen now - mpl needs it, as it is assuming we've passed it a real\n",
       "    // web socket which is closed, not our websocket->open comm proxy.\n",
       "    ws_proxy.onopen();\n",
       "\n",
       "    fig.parent_element = element.get(0);\n",
       "    fig.cell_info = mpl.find_output_cell(\"<div id='\" + id + \"'></div>\");\n",
       "    if (!fig.cell_info) {\n",
       "        console.error(\"Failed to find cell for figure\", id, fig);\n",
       "        return;\n",
       "    }\n",
       "\n",
       "    var output_index = fig.cell_info[2]\n",
       "    var cell = fig.cell_info[0];\n",
       "\n",
       "};\n",
       "\n",
       "mpl.figure.prototype.handle_close = function(fig, msg) {\n",
       "    var width = fig.canvas.width/mpl.ratio\n",
       "    fig.root.unbind('remove')\n",
       "\n",
       "    // Update the output cell to use the data from the current canvas.\n",
       "    fig.push_to_output();\n",
       "    var dataURL = fig.canvas.toDataURL();\n",
       "    // Re-enable the keyboard manager in IPython - without this line, in FF,\n",
       "    // the notebook keyboard shortcuts fail.\n",
       "    IPython.keyboard_manager.enable()\n",
       "    $(fig.parent_element).html('<img src=\"' + dataURL + '\" width=\"' + width + '\">');\n",
       "    fig.close_ws(fig, msg);\n",
       "}\n",
       "\n",
       "mpl.figure.prototype.close_ws = function(fig, msg){\n",
       "    fig.send_message('closing', msg);\n",
       "    // fig.ws.close()\n",
       "}\n",
       "\n",
       "mpl.figure.prototype.push_to_output = function(remove_interactive) {\n",
       "    // Turn the data on the canvas into data in the output cell.\n",
       "    var width = this.canvas.width/mpl.ratio\n",
       "    var dataURL = this.canvas.toDataURL();\n",
       "    this.cell_info[1]['text/html'] = '<img src=\"' + dataURL + '\" width=\"' + width + '\">';\n",
       "}\n",
       "\n",
       "mpl.figure.prototype.updated_canvas_event = function() {\n",
       "    // Tell IPython that the notebook contents must change.\n",
       "    IPython.notebook.set_dirty(true);\n",
       "    this.send_message(\"ack\", {});\n",
       "    var fig = this;\n",
       "    // Wait a second, then push the new image to the DOM so\n",
       "    // that it is saved nicely (might be nice to debounce this).\n",
       "    setTimeout(function () { fig.push_to_output() }, 1000);\n",
       "}\n",
       "\n",
       "mpl.figure.prototype._init_toolbar = function() {\n",
       "    var fig = this;\n",
       "\n",
       "    var nav_element = $('<div/>');\n",
       "    nav_element.attr('style', 'width: 100%');\n",
       "    this.root.append(nav_element);\n",
       "\n",
       "    // Define a callback function for later on.\n",
       "    function toolbar_event(event) {\n",
       "        return fig.toolbar_button_onclick(event['data']);\n",
       "    }\n",
       "    function toolbar_mouse_event(event) {\n",
       "        return fig.toolbar_button_onmouseover(event['data']);\n",
       "    }\n",
       "\n",
       "    for(var toolbar_ind in mpl.toolbar_items){\n",
       "        var name = mpl.toolbar_items[toolbar_ind][0];\n",
       "        var tooltip = mpl.toolbar_items[toolbar_ind][1];\n",
       "        var image = mpl.toolbar_items[toolbar_ind][2];\n",
       "        var method_name = mpl.toolbar_items[toolbar_ind][3];\n",
       "\n",
       "        if (!name) { continue; };\n",
       "\n",
       "        var button = $('<button class=\"btn btn-default\" href=\"#\" title=\"' + name + '\"><i class=\"fa ' + image + ' fa-lg\"></i></button>');\n",
       "        button.click(method_name, toolbar_event);\n",
       "        button.mouseover(tooltip, toolbar_mouse_event);\n",
       "        nav_element.append(button);\n",
       "    }\n",
       "\n",
       "    // Add the status bar.\n",
       "    var status_bar = $('<span class=\"mpl-message\" style=\"text-align:right; float: right;\"/>');\n",
       "    nav_element.append(status_bar);\n",
       "    this.message = status_bar[0];\n",
       "\n",
       "    // Add the close button to the window.\n",
       "    var buttongrp = $('<div class=\"btn-group inline pull-right\"></div>');\n",
       "    var button = $('<button class=\"btn btn-mini btn-primary\" href=\"#\" title=\"Stop Interaction\"><i class=\"fa fa-power-off icon-remove icon-large\"></i></button>');\n",
       "    button.click(function (evt) { fig.handle_close(fig, {}); } );\n",
       "    button.mouseover('Stop Interaction', toolbar_mouse_event);\n",
       "    buttongrp.append(button);\n",
       "    var titlebar = this.root.find($('.ui-dialog-titlebar'));\n",
       "    titlebar.prepend(buttongrp);\n",
       "}\n",
       "\n",
       "mpl.figure.prototype._root_extra_style = function(el){\n",
       "    var fig = this\n",
       "    el.on(\"remove\", function(){\n",
       "\tfig.close_ws(fig, {});\n",
       "    });\n",
       "}\n",
       "\n",
       "mpl.figure.prototype._canvas_extra_style = function(el){\n",
       "    // this is important to make the div 'focusable\n",
       "    el.attr('tabindex', 0)\n",
       "    // reach out to IPython and tell the keyboard manager to turn it's self\n",
       "    // off when our div gets focus\n",
       "\n",
       "    // location in version 3\n",
       "    if (IPython.notebook.keyboard_manager) {\n",
       "        IPython.notebook.keyboard_manager.register_events(el);\n",
       "    }\n",
       "    else {\n",
       "        // location in version 2\n",
       "        IPython.keyboard_manager.register_events(el);\n",
       "    }\n",
       "\n",
       "}\n",
       "\n",
       "mpl.figure.prototype._key_event_extra = function(event, name) {\n",
       "    var manager = IPython.notebook.keyboard_manager;\n",
       "    if (!manager)\n",
       "        manager = IPython.keyboard_manager;\n",
       "\n",
       "    // Check for shift+enter\n",
       "    if (event.shiftKey && event.which == 13) {\n",
       "        this.canvas_div.blur();\n",
       "        event.shiftKey = false;\n",
       "        // Send a \"J\" for go to next cell\n",
       "        event.which = 74;\n",
       "        event.keyCode = 74;\n",
       "        manager.command_mode();\n",
       "        manager.handle_keydown(event);\n",
       "    }\n",
       "}\n",
       "\n",
       "mpl.figure.prototype.handle_save = function(fig, msg) {\n",
       "    fig.ondownload(fig, null);\n",
       "}\n",
       "\n",
       "\n",
       "mpl.find_output_cell = function(html_output) {\n",
       "    // Return the cell and output element which can be found *uniquely* in the notebook.\n",
       "    // Note - this is a bit hacky, but it is done because the \"notebook_saving.Notebook\"\n",
       "    // IPython event is triggered only after the cells have been serialised, which for\n",
       "    // our purposes (turning an active figure into a static one), is too late.\n",
       "    var cells = IPython.notebook.get_cells();\n",
       "    var ncells = cells.length;\n",
       "    for (var i=0; i<ncells; i++) {\n",
       "        var cell = cells[i];\n",
       "        if (cell.cell_type === 'code'){\n",
       "            for (var j=0; j<cell.output_area.outputs.length; j++) {\n",
       "                var data = cell.output_area.outputs[j];\n",
       "                if (data.data) {\n",
       "                    // IPython >= 3 moved mimebundle to data attribute of output\n",
       "                    data = data.data;\n",
       "                }\n",
       "                if (data['text/html'] == html_output) {\n",
       "                    return [cell, data, j];\n",
       "                }\n",
       "            }\n",
       "        }\n",
       "    }\n",
       "}\n",
       "\n",
       "// Register the function which deals with the matplotlib target/channel.\n",
       "// The kernel may be null if the page has been refreshed.\n",
       "if (IPython.notebook.kernel != null) {\n",
       "    IPython.notebook.kernel.comm_manager.register_target('matplotlib', mpl.mpl_figure_comm);\n",
       "}\n"
      ],
      "text/plain": [
       "<IPython.core.display.Javascript object>"
      ]
     },
     "metadata": {},
     "output_type": "display_data"
    },
    {
     "data": {
      "text/html": [
       "<img src=\"data:image/png;base64,iVBORw0KGgoAAAANSUhEUgAAA+gAAALuCAYAAAA9jTxNAAAgAElEQVR4Xuzde7xWc97/8fdul+hExWjrSFKSyWHKYSIyodOU3BEiMpSRR+TXrVJ3RIVhSoaoZna2iZiSQY67u2QSKZncOSSl3WEzKjrooF379/iuZbcre7evva/rc11rrf1aj8c8mK61vuvzea6PP95d61orLT8/P19sCCCAAAIIIIAAAggggAACCCCQUoE0AnpK/Tk5AggggAACCCCAAAIIIIAAAp4AAZ1BQAABBBBAAAEEEEAAAQQQQCAAAgT0AFwESkAAAQQQQAABBBBAAAEEEECAgM4MIIAAAggggAACCCCAAAIIIBAAAQJ6AC4CJSCAAAIIIIAAAggggAACCCBAQGcGEEAAAQQQQAABBBBAAAEEEAiAAAE9ABeBEhBAAAEEEEAAAQQQQAABBBAgoDMDCCCAAAIIIIAAAggggAACCARAgIAegItACQgggAACCCCAAAIIIIAAAggQ0JkBBBBAAAEEEEAAAQQQQAABBAIgQEAPwEWgBAQQQAABBBBAAAEEEEAAAQQI6MwAAggggAACCCCAAAIIIIAAAgEQIKAH4CJQAgIIIIAAAggggAACCCCAAAIEdGYAAQQQQAABBBBAAAEEEEAAgQAIENADcBEoAQEEEEAAAQQQQAABBBBAAAECOjOAAAIIIIAAAggggAACCCCAQAAECOgBuAiUgAACCCCAAAIIIIAAAggggAABnRlAAAEEEEAAAQQQQAABBBBAIAACBPQAXARKQAABBBBAAAEEEEAAAQQQQICAzgwggAACCCCAAAIIIIAAAgggEAABAnoALgIlIIAAAggggAACCCCAAAIIIEBAj9gMHHXUUdq1a5cyMjIi1hntIIAAAggggAACCCCAAAKpFcjNzVXlypX1ww8/mBRCQDdhTd2iRxxxhPLy8lS/fv3UFcGZEUAAAQQQQAABBBBAAIEICqxZs0YVK1bUjh07TLojoJuwpm7RE044wTv5ypUrU1cEZ0YAAQQQQAABBBBAAAEEIihgnbcI6BEbGuuBiRgX7SCAAAIIIIAAAggggAACMQtY5y0CesyXIhw7Wg9MOBSoEgEEEEAAAQQQQAABBBBIvIB13iKgJ/6apXRF64FJaXOcHAEEEEAAAQQQQAABBBBIoYB13iKgp/DiWpzaemAsamZNBBBAAAEEEEAAAQQQQCAMAtZ5i4AehikoRY3WA1OKUtgVAQQQQAABBBBAAAEEEIiUgHXeIqBHalwk64GJGBftIIAAAggggAACCCCAAAIxC1jnLQJ6zJciHDtaD0w4FKgSAQQQQAABBBBAAAEEEEi8gHXeIqAn/pqldEXrgUlpc5wcAQQQQAABBBBAAAEEEEihgHXeIqCn8OJanNp6YCxqZk0EEEAAAQQQQAABBBBAIAwC1nmLgB6GKShFjdYDU4pS2BUBBBBAAAEEEEAAAQQQiJSAdd4ioEdqXHhIXMQuJ+0ggAACCCCAAAIIIIBAgAQI6AG6GGEoxXpgwmBAjQgggAACCCCAAAIIIICAhYB13uIbdIurlsI1rQcmha1xagQQQAABBBBAAAEEEEAgpQLWeYuAntLLm/iTWw9M4itmRQQQQAABBBBAAAEEEEAgHALWeYuAHo45iLlK64GJuRB2RAABBBBAAAEEEEAAAQQiJmCdtwjoDEzEBGgHAQQQQAABBBBAAAEEELARIKDbuEZ2VeuBiSwcjSGAAAIIIIAAAggggAACJQhY5y2+QY/YCFoPTMS4aAcBBBBAAAEEEEAAAQQQiFnAOm8R0GO+FOHY0XpgwqFAlQgggAACCCCAAAIIIIBA4gWs8xYBPfHXLKUrWg9MSpvj5AgggAACCCCAAAIIIBBtgf79pS1bpBtvlM4/X0pLC1S/1nmLgB6oyx1/MdYDE3+FrIAAAggggAACCCCAAAIIFCHggnlGhrR9u//h2LHS7bcHiso6bxHQA3W54y/GemDir5AVEEAAAQQQQAABBBBAAIEiBCZNkm6+2f/AfXO+erVUv36gqKzzFgE9UJc7/mKsByb+ClkBAQQQQAABBBBAAAEEEChC4OyzpQ8+8D+49FLp9dcDx2Sdtwjogbvk8RVkPTDxVcfRCCCAAAIIIIAAAggggEARAsuWSS1aFH4wfbp0+eWBo7LOWwT0wF3y+AqyHpj4quNoBBBAAAEEEEAAAQQQQKAIgYED/d+cu+2YY6S1a6XDDgsclXXeIqAH7pLHV5D1wMRXHUcjgAACCCCAAAIIIIAAAgcJ7Nol1a0rbdzof+DC+iOPBJLJOm8R0AN52ctelPXAlL0yjkQAAQQQQAABBBBAAAEEihD4xz+kK64o/MDd7t68eSCprPMWAT2Ql73sRVkPTNkr40gEEEAAAQQQQAABBBBAoAgB90C4N9/0P3APiluwILBM1nmLgB7YS1+2wqwHpmxVcRQCCCCAAAIIIIAAAgggUIRATo7UqJGUn+9/OHmydOONgaWyzlsE9MBe+rIVZj0wZauKoxBAAAEEEEAAAQQQQACBIgRGjpRGjPA/qFpVys2VqlcPLJV13ioXAT0vL0/jxo1TVlaWVqxYoSOOOEJnnXWWBg8erPPPP79UF79Ro0ZavXp1sceMGTPGW7ek7e2339bFF1/s7da1a1e99NJLJR0S0+fWAxNTEeyEAAIIIIAAAggggAACCJQksHevdMIJUkG+6tNH+utfSzoqpZ9b563IB/Tdu3erY8eOys7OVu3atXXhhRdq48aNeuedd7wLm5mZqeuuuy7mi1wQ0C+//HJVq1btF8f16NFDnTp1OuR627ZtU4sWLZSTk6P8/HwCesz67IgAAggggAACCCCAAAKREXj7bennLy29nubPl849N9DtEdDjvDyjR4/W3XffrdNPP12zZ89WzZo1vRVdYO/QoYPS09O1fPlyNWjQIKYzFQT0VatWyf17WbY//vGPeuqpp3TTTTd5/+Qb9LIocgwCCCCAAAIIIIAAAgiEWqBnT+n55/0WmjWTPv1USksLdEsE9Dguj7u1vU6dOt435gsWLNDZ7omA+219+/bVxIkTNXDgQD0S43v24g3o7pt79y3+bbfd5v2lwQ033EBAj+MacygCCCCAAAIIIIAAAgiEUMC98/y446SffvKLf/hh6c47A98IAT2OSzRv3jy1bdvW+6bbfeN98DZ37lwvLDdu3Nj7bXosWzwBffv27fr1r38td9v9smXLNH36dAJ6LOjsgwACCCCAAAIIIIAAAtESGD9eGjDA76liRWndOulXvwp8jwT0OC7Ro48+qttvv13u9+IuDB+8bd26VTVq1PD+eMuWLaoew9MCCwL68OHDvW/m3eb+zP3uvHnz5oes9o477vAeVvfaa695t9dPmTKFgB7H9eVQBBBAAAEEEEAAAQQQCKGAe6Vay5bSJ5/4xXfvLs2YEYpGCOhxXCZ36/rYsWO9kO7+WdR25JFHeuH8k08+8R7cVtJW3FPc09LSvIfNTZgwwXtK/MGbu8W+TZs2uuqqq/T3v//d+5iAXpI2nyOAAAIIIIAAAggggEDkBD78UGrdurCtWbOkjh1D0SYBPY7LdPPNN2vSpEneQ+Luv//+IleqW7eu1q9fr/fee0/nnHNOiWdzvx13r2b7zW9+4/2+fe3atXrllVd07733ekG/Z8+eeu655w5YZ+fOnd7vzTds2KDPPvtMRx99dFwBvWAoiip2zZo1ql+/vlauXFliL+yAAAIIIIAAAggggAACCCRdoF8/6amn/NPWreu/Zi09PelllOWEBPSyqP18jHtK+uTJkzVs2DDdd999CQnoxZXz8ccfq3Xr1t7vyxcuXKhWrVrt2/Wuu+7SQw895H1zfs011+z787J+g05Aj2MoOBQBBBBAAAEEEEAAAQRSJ7B9u5SR4X5j7NcwbJhUTFZLXZHFn5mAHsdVsbjF/VDluN+6v/jii7rnnns0YsQIb9dFixZ5T49v3769Xn/99QMOL2tAP1QN1gMTx+XgUAQQQAABBBBAAAEEECjvAllZUu/ehQpffSWdcEJoVKzzVlp+vvuFfjQ3i4fEHUpq6NChGjNmjNyt9e795m5zYd3d/n7KKafsu7W9YI1vvvlGX3zxhWrXrr3v9+/uyfLxbNYDE09tHIsAAggggAACCCCAAALlXOD886V33/UR2rWTZs8OFYh13op0QI/1NWsO+Sv3Nzdxbv369fOC+f7vVS8I6LEuHe/fl1gPTKx9sB8CCCCAAAIIIIAAAgggcIDA8uVS06aFfzR1qnT11aFCss5bkQ7oeXl53oPc3OvQ3FPU3a3m+29FBeqyTod7ENyJJ56odevW6dlnn/We1l7Sxi3uJQnxOQIIIIAAAggggAACCERGYPBg6cEH/XaOOkpav14q4g1YQe6XgB7n1Rk9erT3FPczzjhDs2fP1lFuEOTupJitSy+9VOnp6Vq+fLkaNGiw70wXXXSRF7Td7eqXXXbZvj93vy+vWbOmLrzwwgOqck+Bdw+kc+83d09Qd+sdfvjhJVZOQC+RiB0QQAABBBBAAAEEEEAgCgJ5eVL9+tI33/jd9O8vPfZY6DojoMd5ydxT1Tt27Kjs7Gzvt94uXG/atEnut97udvLMzEz13v8hBZIK3nXuPrv++uv3VeDep+5+1+5CeMuWLVW9enXl5ORoyZIl2r59u4499lgvpLu/DIhlI6DHosQ+CCCAAAIIIIAAAgggEHqBl1+WunYtbGPJEum000LXFgE9AZfMhfRx48bp6aef9n5r7r7ddre7DxkyxHun+cFbcQHdhfqsrCwtXrzYe3f6Dz/8oCpVquikk05Sp06d1L9//188CO5Q5RPQE3BxWQIBBBBAAAEEEEAAAQSCL/D730uvvOLX6b7QXLw4+DUXUSEBPZSXLXVFWw9M6jrjzAgggAACCCCAAAIIIBBKgdxc//b2PXv88h9/XPrjH0PZinXeivRD4kJ5xeMs2npg4iyPwxFAAAEEEEAAAQQQQKC8CTzwgDRkiN+1e1aXC+w/PxssbBTWeYuAHraJKKFe64GJGBftIIAAAggggAACCCCAgKVAfr7/arUvv/TP0quX9Mwzlmc0Xds6bxHQTS9f8he3Hpjkd8QZEUAAAQQQQAABBBBAILQC8+ZJbdsWlj9njnTBBaFtxzpvEdBDOxpFF249MBHjoh0EEEAAAQQQQAABBBCwFHBvzMrK8s/QuLH/TXpamuUZTde2zlsEdNPLl/zFrQcm+R1xRgQQQAABBBBAAAEEEAilwObNUkaGtGOHX/6oUdLQoaFspaBo67xFQA/1ePyyeOuBiRgX7SCAAAIIIIAAAggggICVwJNPSrfc4q9eoYKUkyPVrWt1tqSsa523COhJuYzJO4n1wCSvE86EAAIIIIAAAggggAACoRZo1UpatMhvoXPnwvegh7gp67xFQA/xcBRVuvXARIyLdhBAAAEEEEAAAQQQQMBCYOlSqWXLwpVnzpS6dbM4U1LXtM5bBPSkXk77k1kPjH0HnAEBBBBAAAEEEEAAAQRCLzBggDR+vN/GscdKa9ZIlSqFvi3rvEVAD/2IHNiA9cBEjIt2EEAAAQQQQAABBBBAINECO3dKxx0nff+9v/KgQdJDDyX6LClZzzpvEdBTclntTmo9MHaVszICCCCAAAIIIIAAAghEQmDaNOmqqwpb+ewzqVmzSLRmnbcI6JEYk8ImrAcmYly0gwACCCCAAAIIIIAAAokWaN9eys72V23TRnr33USfIWXrWectAnrKLq3Nia0HxqZqVkUAAQQQQAABBBBAAIFICHz9tXT88YWtZGZK118fidZcE9Z5i4AemVHxG7EemIhx0Q4CCCCAAAIIIIAAAggkUmDECGnkSH/F6tWl3FypatVEniGla1nnLQJ6Si9v4k9uPTCJr5gVEUAAAQQQQAABBBBAIBICe/ZIjRpJa9f67dx0kzRxYiRaK2jCOm8R0CM1LnyDHrHLSTsIIIAAAggggAACCIRH4I03pA4dCut9/33prLPCU38MlRLQY0Bil0IB64HBGgEEEEAAAQQQQAABBBAoUqBHD2n6dP+jFi2kpUultLRIYVnnLb5Bj9S48A16xC4n7SCAAAIIIIAAAgggEA6B776T6taVdu/26x07Vrr99nDUXooqCeilwGJXAjozgAACCCCAAAIIIIAAAikQcIF84ED/xJUqSevXS0cfnYJCbE9JQLf1jdzq1gMTOTAaQgABBBBAAAEEEEAAgfgE8vP9W9o//dRfx93q/sIL8a0Z0KOt8xa3uAf0wpe1LOuBKWtdHIcAAggggAACCCCAAAIRFXAPgzvnnMLm3MPiLrkkks1a5y0CesTGxnpgIsZFOwgggAACCCCAAAIIIBCvgHud2uTJ/ioNGkgrV0rp6fGuGsjjrfMWAT2Ql73sRVkPTNkr40gEEEAAAQQQQAABBBCInMC2bVJGhuT+6bYRI6R77olcmwUNWectAnrERsd6YCLGRTsIIIAAAggggAACCCAQj0BmptSnj7+Ce6XaqlVSw4bxrBjoY63zFgE90Je/9MVZD0zpK+IIBBBAAAEEEEAAAQQQiKzAb38rvfee31779tJbb0W2VdeYdd4ioEdsfKwHJmJctIMAAggggAACCCCAAAJlFfjsM6l588Kjp02TrryyrKuF4jjrvEVAD8UYxF6k9cDEXgl7IoAAAggggAACCCCAQKQFBg2SHn7Yb7FWLf/d55UrR7pl67xFQI/Y+FgPTMS4aAcBBBBAAAEEEEAAAQTKIrB7t1SvnvSf//hHDxggjRtXlpVCdYx13iKgh2ocSi7WemBKroA9EEAAAQQQQAABBBBAIPICM2dK3bsXtrl0qXTqqZFv2zpvEdAjNkLWAxMxLtpBAAEEEEAAAQQQQACBsgh06iS99pp/ZKtW0sKFZVkldMdY5y0CeuhG4tAFWw9MxLhoBwEEEEAAAQQQQAABBEorsG6d1KCBtHevf+STT0p9+5Z2lVDub523COihHIvii7YemIhx0Q4CCCCAAAIIIIAAAgiUVmDUKGnYMP+oKlWk3FypRo3SrhLK/a3zFgE9lGNBQI/YZaMdBBBAAAEEEEAAAQTCIeC+NW/SRFq50q+3d29pypRw1J6AKgnoCUAsT0tYD0x5sqRXBBBAAAEEEEAAAQQQOEhgzhypXbvCP5w3TzrvvHLDZJ23+AY9YqNkPTAR46IdBBBAAAEEEEAAAQQQKI3ANddIzz7rH3HSSdLnn0tpaaVZIdT7WuctAnqox+OXxVsPTMS4aAcBBBBAAAEEEEAAAQRiFfj+eykjQ9q1yz/igQeku+6K9ehI7GedtwjokRiTwiasByZiXLSDAAIIIIAAAggggAACsQo8/rjUv7+/d3q6tHatVKdOrEdHYj/rvEVAj8SYENAjdhlpBwEEEEAAAQQQQACB4AmccYa0ZIlfV9eu0ksvBa9G44oI6MbAUVveemCi5kU/CCCAAAIIIIAAAgggEIPARx9JZ55ZuOPLL0tdusRwYLR2sc5bfIMerXmR9cBEjIt2EEAAAQQQQAABBBBAIBaBW2+VnnjC39P9Dj0nR6pYMZYjI7WPdd4ioEdqXERAj9j1pB0EEEAAAQQQQAABBFIusGOHH8o3b/ZLGTxYGjMm5WWlogACeirUQ3xO64EJMQ2lI4AAAggggAACCCCAQFkEpk6VevUqPHL5cqlJk7KsFPpjrPMW36CHfkQObMB6YCLGRTsIIIAAAggggAACCCBQkkC7dtKcOf5ebdtKc+eWdERkP7fOWwT0iI2O9cBEjIt2EEAAAQQQQAABBBBA4FACX30lnXhi4R5ZWdK115ZbM+u8RUCP2GhZD0zEuGgHAQQQQAABBBBAAAEEDiVw993S6NH+HjVqSLm5UpUq5dbMOm8R0CM2WtYDEzEu2kEAAQQQQAABBBBAAIHiBPLypIYNpfXr/T369ZMmTCjXXtZ5i4AesfGyHpiIcdEOAggggAACCCCAAAIIFCcwa5bUuXPhp4sWHfgu9HIoZ523COgRGyrrgYkYF+0ggAACCCCAAAIIIIBAcQLdu0szZ/qftmwpLVkipaWVay/rvEVAj9h4WQ9MxLhoBwEEEEAAAQQQQAABBIoS+PZbqV49yd3m7rbx46Xbbiv3VtZ5i4AesRGzHpiIcdEOAggggAACCCCAAAIIFCXwpz9J//3f/ieVK/u/Q69Vq9xbWectAnrERsx6YCLGRTsIIIAAAggggAACCCBwsEB+vnTyydIXX/if9OwpPfccTpKs8xYBPWJjZj0wEeOiHQQQQAABBBBAAAEEEDhYYP58qU2bwj/NzpYuuggnAjozUFoBAnppxdgfAQQQQAABBBBAAAEEDhDo00fKzPT/6PjjpRUrpAoVQCKgMwOlFSCgl1aM/RFAAAEEEEAAAQQQQGCfwJYtUkaGtH27/0cjR0rDhwP0s4B13uIW94iNmvXARIyLdhBAAAEEEEAAAQQQQGB/gUmTpJtv9v/EvVJt9Wqpfn2MCOjMQFkECOhlUeMYBBBAAAEEEEAAAQQQ8ATOPlv64AMf49JLpddfB2Y/Aeu8xTfoERs364GJGBftIIAAAggggAACCCCAQIHAsmVSixaFHtOnS5dfjg8BnRkoqwABvaxyHIcAAggggAACCCCAQDkXGDhQGjvWRzjmGGntWumww8o5yoHtW+ctvkGP2LhZD0zEuGgHAQQQQAABBBBAAAEEnMCuXVK9etKGDb6HC+uPPILNQQLWeYuAHrGRsx6YiHHRDgIIIIAAAggggAACCDiBf/xDuuKKQgt3u3vz5tgQ0JmBeAQI6PHocSwCCCCAAAIIIIAAAuVUwD0Q7s03/ebdg+IWLCinEIdu2zpv8Q16xMbOemAixkU7CCCAAAIIIIAAAgggkJMjNWok5ef7FpMnSzfeiEsRAtZ5i4AesbGzHpiIcdEOAggggAACCCCAAAIIjBwpjRjhO1StKuXmStWr40JAt5mBvLw8jRs3TllZWVqxYoWOOOIInXXWWRo8eLDOP//8Up20UaNGWr16dbHHjBkzxlt3/y0nJ0ezZs3SG2+8oc8//1zu/1eqVEknn3yyrrjiCt166606/PDDS1VHcTsT0BPCyCIIIIAAAggggAACCJQPgb17pRNOkAoyTp8+0l//Wj56L0OX1nkr8t+g7969Wx07dlR2drZq166tCy+8UBs3btQ777zjXY7MzExdd911MV+agoB++eWXq1q1ar84rkePHurUqdMBf96mTRvNnz/fC+VnnnmmGjZsqO+++07vv/++tm/frpYtW2r27NleffFu1gMTb30cjwACCCCAAAIIIIAAAgESePtt6eKLCwuaP18699wAFRisUqzzVuQD+ujRo3X33Xfr9NNP90JwzZo1vSvsAnuHDh2Unp6u5cuXq0GDBjFd+YKAvmrVKrl/j2Xr2bOnzj33XF177bX7zu+Oc9+kd+7cWZ988on3mfuGP97NemDirY/jEUAAAQQQQAABBBBAIEACPXtKzz/vF9SsmfTpp1JaWoAKDFYp1nkr0gHd3dpep04d7xvzBQsW6Gz3NML9tr59+2rixIkaOHCgHonxHX9lCeiHGin3zbr7ht3d4r5582YddthhcU2g9cDEVRwHI4AAAggggAACCCCAQHAENm6UjjtO+uknv6aHH5buvDM49QWwEuu8FemAPm/ePLVt29b7ptt9433wNnfuXO+W98aNG3u/TY9lS3RAd7e4V3UPYpC0fv16ZWRkxFJGsftYD0xcxXEwAggggAACCCCAAAIIBEdg/HhpwAC/nooVpXXrpF/9Kjj1BbAS67wV6YD+6KOP6vbbb5f7vfj06dN/cXm3bt2qGjVqeH++ZcsWVY/hSYUFAX348OHeN/Nuc3/mfnfevHnzUo/Qv//9b5122mneN+euhsqVK5d6jf0PsB6YuIrjYAQQQAABBBBAAAEEEAiGgHulWsuW0ief+PV07y7NmBGM2gJchXXeinRAd7eujx071gvp7p9FbUceeaQXjN3vwFu0aFHiKBT3FPe0tDTvYXMTJkzwnhIf63b11VfrueeeU/fu3TUjAf9BWA9MrH2xHwIIIIAAAggggAACCARY4MMPpdatCwucNUvq2DHABQejNOu8FemAfvPNN2vSpEneQ+Luv//+Iq9o3bp1vVvL33vvPZ1zzjklXvXbbrvNezXbb37zG+/37WvXrtUrr7yie++91wv67oFwLnDHsk2dOlW9evXyAv1HH32kZu6hDDFsBUNR1K5r1qxR/fr1tXLlyhhWYhcEEEAAAQQQQAABBBAolwL9+klPPeW3Xreu/5q19PRySVGapgnopdE6aN+bbrpJkydP1rBhw3TfffclJKAXV87HH3+s1q1by73WbeHChWrVqtUhK//Xv/6l9u3ba+fOnZoyZYp69+4dc6cE9Jip2BEBBBBAAAEEEEAAAQQOFti+XXLPvtqyxf9k2DCpmLwE3oECBPQ4JsLiFvdDleN+6/7iiy/qnnvu0YgRI4rd1X1b3q5dO++p7Q8//LDuTOCTEq0HJo7LwaEIIIAAAggggAACCCAQBAH3euf9vyD86ivphBOCUFnga7DOW5G+xd3iIXGHmpihQ4dqzJgxcrfWP1Vwu8hBB7jfursnx7sHzLnb4v/nf/4noUNoPTAJLZbFEEAAAQQQQAABBBBAIPkCbdtK8+b5523XTpo9O/k1hPSM1nkr0gE91tesOeSv3N8axbn169fPC+bFvVf9008/1QUXXKDvvvtOQ4YM0ejRo+M84y8Ptx6YhBfMgggggAACCCCAAAIIIJA8geXLpaZNC883dap09dXJO3/Iz2SdtyId0PPy8rwHublvqxcsWKCzzz77gHEoKVCXZnbcb8lPPPFErVu3Ts8++6yuuuqqAw5fvny59072b775RnfccYf+/Oc/l2b5mPe1HpiYC2FHBBBAAAEEEEAAAQQQCJ7A4MHSgw/6dR11lLR+vVSKt1AFr6HkVmSdt4AupV0AACAASURBVCId0N2lct9Su6e4n3HGGZo9e7aOckModxfHbF166aVKT0+XC88NGjTYd2UvuugiL2i729Uvu+yyfX/ufl9es2ZN7xb1/Tf3FHj3QLrXXnvNe4K6W+/www/ft4t7orp78rtbs3///nrsscfMpsh6YMwKZ2EEEEAAAQQQQAABBBCwFcjLk+rXl775xj9P//6SYTaxbSY1q1vnrcgHdPdU9Y4dOyo7O1u1a9f2wvWmTZs0d+5c5efnKzMz8xdPUC9417n77Prrr9935d371N3v2l0Ib9mypapXr66cnBwtWbJE27dv17HHHuuFdPeXAftv7v+7fapUqaIePXoUO0nugXFHH310XJNmPTBxFcfBCCCAAAIIIIAAAgggkDqBl1+WunYtPP+SJdJpp6WunhCe2TpvRT6gu2vuQvq4ceP09NNPe781d99uu9vd3e/A3TfbB2/FBXQX6rOysrR48WLv3ek//PCDF7pPOukkderUyft2vKiAXbBeSfO3atUquX3j2awHJp7aOBYBBBBAAAEEEEAAAQRSKODCuQvpbnNfKi5enMJiwnlq67xVLgJ6OC992aq2HpiyVcVRCCCAAAIIIIAAAgggkFKB3Fz/9vY9e/wyHn9c+uMfU1pSGE9unbcI6GGcikPUbD0wEeOiHQQQQAABBBBAAAEEyofAAw9IQ4b4vbrnZbnA/vPzucoHQGK6tM5bBPTEXKfArGI9MIFplEIQQAABBBBAAAEEEEAgNoH8fP/Val9+6e/fq5f0zDOxHcteBwhY5y0CesQGznpgIsZFOwgggAACCCCAAAIIRF9g3jypbdvCPufMkS64IPp9G3RonbcI6AYXLZVLWg9MKnvj3AgggAACCCCAAAIIIFAGgd69paws/8DGjf1v0tPSyrAQh1jnLQJ6xGbMemAixkU7CCCAAAIIIIAAAghEW2DzZikjQ9qxw+9z1Chp6NBo92zYnXXeIqAbXrxULG09MKnoiXMigAACCCCAAAIIIIBAGQWefFK65Rb/4AoVpJwcqW7dMi7GYdZ5i4AesRmzHpiIcdEOAggggAACCCCAAALRFmjVSlq0yO+xc2fplVei3a9xd9Z5i4BufAGTvbz1wCS7H86HAAIIIIAAAggggAACZRRYulRq2bLw4JkzpW7dyrgYhzkB67xFQI/YnFkPTMS4aAcBBBBAAAEEEEAAgegKDBggjR/v93fssdKaNVKlStHtNwmdWectAnoSLmIyT2E9MMnshXMhgAACCCCAAAIIIIBAGQV27pSOO076/nt/gUGDpIceKuNiHFYgYJ23COgRmzXrgYkYF+0ggAACCCCAAAIIIBBNgWnTpKuuKuzts8+kZs2i2WsSu7LOWwT0JF7MZJzKemCS0QPnQAABBBBAAAEEEEAAgTgF2reXsrP9Rdq0kd59N84FOdwJWOctAnrE5sx6YCLGRTsIIIAAAggggAACCERP4OuvpeOPL+wrM1O6/vro9ZmCjqzzFgE9BRfV8pTWA2NZO2sjgAACCCCAAAIIIIBAAgRGjJBGjvQXql5dys2VqlZNwMIsYZ23COgRmzHrgYkYF+0ggAACCCCAAAIIIBAtgT17pEaNpLVr/b5uukmaODFaPaawG+u8RUBP4cW1OLX1wFjUzJoIIIAAAggggAACCCCQIIE33pA6dChc7P33pbPOStDiLGOdtwjoEZsx64GJGBftIIAAAggggAACCCAQLYEePaTp0/2eWrSQli6V0tKi1WMKu7HOWwT0FF5ci1NbD4xFzayJAAIIIIAAAggggAACCRD47jupbl1p925/sbFjpdtvT8DCLFEgYJ23COgRmzXrgYkYF+0ggAACCCCAAAIIIBAdARfIBw70+6lUSVq/Xjr66Oj0F4BOrPMWAT0AFzmRJVgPTCJrZS0EEEAAAQQQQAABBBBIkEB+vn9L+6ef+gu6W91feCFBi7NMgYB13iKgR2zWrAcmYly0gwACCCCAAAIIIIBANATcw+DOOaewF/ewuEsuiUZvAerCOm8R0AN0sRNRivXAJKJG1kAAAQQQQAABBBBAAIEEC7jXqU2e7C/aoIG0cqWUnp7gk7Ccdd4ioEdsxqwHJmJctIMAAggggAACCCCAQPgFtm2TMjIk90+3jRgh3XNP+PsKYAfWeYuAHsCLHk9J1gMTT20ciwACCCCAAAIIIIAAAgYCmZlSnz7+wu6VaqtWSQ0bGpyIJa3zFgE9YjNmPTAR46IdBBBAAAEEEEAAAQTCL/Db30rvvef30b699NZb4e8poB1Y5y0CekAvfFnLsh6YstbFcQgggAACCCCAAAIIIGAg8NlnUvPmhQtPmyZdeaXBiVjSCVjnLQJ6xObMemAixkU7CCCAAAIIIIAAAgiEW2DQIOnhh/0eatXy331euXK4ewpw9dZ5i4Ae4ItfltKsB6YsNXEMAggggAACCCCAAAIIGAjs3i3Vqyf95z/+4gMGSOPGGZyIJQsErPMWAT1is2Y9MBHjoh0EEEAAAQQQQAABBMIrMHOm1L17Yf1Ll0qnnhrefkJQuXXeIqCHYAhKU6L1wJSmFvZFAAEEEEAAAQQQQAABQ4FOnaTXXvNP0KqVtHCh4clY2glY5y0CesTmzHpgIsZFOwgggAACCCCAAAIIhFNg3TqpQQNp716//ieflPr2DWcvIaraOm8R0EM0DLGUaj0wsdTAPggggAACCCCAAAIIIGAsMGqUNGyYf5IqVaTcXKlGDeOTsrx13iKgR2zGrAcmYly0gwACCCCAAAIIIIBA+ATct+ZNmkgrV/q19+4tTZkSvj5CWLF13iKgh3AoDlWy9cBEjIt2EEAAAQQQQAABBBAIn8CcOVK7doV1z5snnXde+PoIYcXWeYuAHsKhIKBH7KLRDgIIIIAAAggggAACpRG45hrp2Wf9I046Sfr8cyktrTQrsG8ZBQjoZYQrr4dZD0x5daVvBBBAAAEEEEAAAQQCIfD991JGhrRrl1/OAw9Id90ViNLKQxHWeYtv0CM2RdYDEzEu2kEAAQQQQAABBBBAIFwCjz8u9e/v15yeLq1dK9WpE64eQlytdd4ioId4OIoq3XpgIsZFOwgggAACCCCAAAIIhEvgjDOkJUv8mrt2lV56KVz1h7xa67xFQA/5gBxcvvXARIyLdhBAAAEEEEAAAQQQCI/ARx9JZ55ZWO/LL0tduoSn/ghUap23COgRGJL9W7AemIhx0Q4CCCCAAAIIIIAAAuERuPVW6Ykn/Hrd79BzcqSKFcNTfwQqtc5bBPQIDAkBPWIXkXYQQAABBBBAAAEEEDhYYMcOP5Rv3ux/MniwNGYMTkkWIKAnGTzsp7MemLD7UD8CCCCAAAIIIIAAAqEUmDpV6tWrsPTly6UmTULZSpiLts5bfIMe5ukoonbrgYkYF+0ggAACCCCAAAIIIBAOgXbtpDlz/FrbtpXmzg1H3RGr0jpvEdAZmIgJ0A4CCCCAAAIIIIAAAhET+Oor6cQTC5vKypKuvTZiTYajHQJ6OK5TYKq0HpjANEohCCCAAAIIIIAAAgiUF4G775ZGj/a7rVFDys2VqlQpL90Hqk/rvMU36IG63PEXYz0w8VfICggggAACCCCAAAIIIBCzQF6e1LChtH69f0i/ftKECTEfzo6JFbDOWwT0xF6vlK9mPTApb5ACEEAAAQQQQAABBBAoTwKzZkmdOxd2vGjRge9CL08WAejVOm8R0ANwkRNZgvXAJLJW1kIAAQQQQAABBBBAAIESBLp3l2bO9Hdq2VJaskRKS4MtRQLWeYuAnqILa3Va64Gxqpt1EUAAAQQQQAABBBBA4CCBb7+V6tWT3G3ubhs/XrrtNphSKGCdtwjoKby4Fqe2HhiLmlkTAQQQQAABBBBAAAEEihD405+k//5v/4PKlf3fodeqBVUKBazzFgE9hRfX4tTWA2NRM2sigAACCCCAAAIIIIDAQQL5+dLJJ0tffOF/0LOn9NxzMKVYwDpvEdBTfIETfXrrgUl0vayHAAIIIIAAAggggAACRQjMny+1aVP4QXa2dNFFUKVYwDpvEdBTfIETfXrrgUl0vayHAAIIIIAAAggggAACRQj06SNlZvofHH+8tGKFVKECVCkWsM5bBPQUX+BEn956YBJdL+shgAACCCCAAAIIIIDAQQJbtkgZGdL27f4HI0dKw4fDFAAB67xFQA/ARU5kCdYDk8haWQsBBBBAAAEEEEAAAQSKEJg0Sbr5Zv8D90q11aul+vWhCoCAdd4ioAfgIieyBOuBSWStrIUAAggggAACCCCAAAJFCJx9tvTBB/4Hl14qvf46TAERsM5bBPSAXOhElWE9MImqk3UQQAABBBBAAAEEEECgCIFly6QWLQo/mD5duvxyqAIiYJ23COgBudCJKsN6YBJVJ+sggAACCCCAAAIIIIBAEQIDB0pjx/ofHHOMtHatdNhhUAVEwDpvEdADcqETVYb1wCSqTtZBAAEEEEAAAQQQQACBgwR27ZLq1ZM2bPA/cGH9kUdgCpCAdd4ioAfoYieiFOuBSUSNrIEAAggggAACCCCAAAJFCPzjH9IVVxR+4G53b94cqgAJWOctAnqALnYiSrEemETUyBoIIIAAAggggAACCCBQhIB7INybb/ofuAfFLVgAU8AErPMWAT1gFzzecqwHJt76OB4BBBBAAAEEEEAAAQSKEMjJkRo1kvLz/Q8nT5ZuvBGqgAlY5y0CesAueLzlWA9MvPVxPAIIIIAAAggggAACCBQhMHKkNGKE/0HVqlJurlS9OlQBE7DOW+UioOfl5WncuHHKysrSihUrdMQRR+iss87S4MGDdf7555fqkjdq1EirV68u9pgxY8Z46xa1/fvf/9b999+vd955R1u2bFHDhg11xRVXaMiQIapSpUqp6ihuZ+uBSUiRLIIAAggggAACCCCAAAKFAnv3SiecIBXkjD59pL/+FaEACljnrcgH9N27d6tjx47Kzs5W7dq1deGFF2rjxo1eSHZbZmamrrvuupgvfUFAv/zyy1WtWrVfHNejRw916tTpF3/+1ltvqUuXLvrpp590zjnnqH79+po/f77WrVun0047TfPmzVP1BPwNmfXAxAzFjggggAACCCCAAAIIIBCbwNtvSxdfXLjv/PnSuefGdix7JVXAOm9FPqCPHj1ad999t04//XTNnj1bNWvW9C6gC+wdOnRQenq6li9frgYNGsR0YQsC+qpVq+T+PZbNfVveuHFjbdiwQVOmTFHv3r29w3bu3Klu3brpzTff1C233KInnngiluUOuY/1wMRdIAsggAACCCCAAAIIIIDAgQI9e0rPP+//WbNm0qefSmlpKAVQwDpvRTqgu1vb69Sp431jvmDBAp3tnoS439a3b19NnDhRAwcO1CMxvl+wLAHd3V5/xx136JJLLtEbb7xxQA1r1671gn6FChX0zTffqFatWnGNofXAxFUcByOAAAIIIIAAAggggMCBAhs3SscdJ/30k//nDz8s3XknSgEVsM5bkQ7o7rbxtm3begHYfeN98DZ37lzvlnf37bb7bXosW1kCert27TRnzpwDvj3f/1wXXHCBd8v9M888o169esVSRrH7WA9MXMVxMAIIIIAAAggggAACCBwoMH68NGCA/2cVK0rr1km/+hVKARWwzluRDuiPPvqobr/9drnfi0+fPv0Xl3jr1q2qUaOG9+fuNvRYfgNeENCHDx/ufTPvNvdn7nfnzZs3L3KM3Lfi33//vT755BO1aNHiF/vceeed+vOf/1yqb/KLm1frgQnofyeUhQACCCCAAAIIIIBA+ATcK9VatpQ++cSvvXt3acaM8PVRjiq2zluRDuju1vWxY8d6Id39s6jtyCOP9MJ5ceH54GOKe4p7Wlqa97C5CRMmeE+JL9jc2u4cbvvhhx/2/fv+67raXK3F/UVCaebdemBKUwv7IoAAAggggAACCCCAwCEEPvxQat26cIdZs6SOHSELsIB13op0QL/55ps1adIk7yFx7vVmRW1169bV+vXr9d5773lPVy9pu+2227xXs/3mN7/xft/ufkP+yiuv6N577/WCfs+ePfXcc8/tW8at7c7hNvdE+YrutpWDNlejq/Xiiy/2HhhX0lYwFEXtt2bNGu8J8StXrixpGT5HAAEEEEAAAQQQQACBVAr06yc99ZRfgcsM7jVr6emprIhzlyBAQI9jRG666SZNnjxZw4YN03333VfkSqUN6MWV8/HHH6t169ZeCF+4cKFatWrl7epeo1avXj0CehzXkUMRQAABBBBAAAEEEIicwPbtUkaG+62t39qwYVIxmSVyvYe4IQJ6HBfP4hb3Q5XjblF/8cUXdc8992jEiBHertziHscF5FAEEEAAAQQQQAABBKIqkJUl/fz6Za/Fr76STjghqt1Gpq/IBXQXWAsezGZ9lSweEneomocOHaoxY8Z4t6s/VXCriuS9Oo2HxFlfbdZHAAEEEEAAAQQQQCBEAm3bSvPm+QW3ayfNnh2i4stvqZEL6NWqVdPVV1+tfv366YwzzjC9srG+Zs0hf+X+xirOzfXkgvnB71WP9TVrWVlZuvbaa+Oqwnpg4iqOgxFAAAEEEEAAAQQQQEBavlxq2rRQYupU6eqrkQmBgHXeSvpD4qpUqaKdO3fKPfXc/Wb7lltu0ZVXXqnKlSsn/HLk5eV5D3Jzr0NbsGCBzj777APOUVygLkshrqcTTzzR+835s88+q6uuumrfMuPGjdMdd9yhSy65RG+88cYBy7uHzLknw1eoUEG5ubmqXbt2WU6/7xjrgYmrOA5GAAEEEEAAAQQQQAABafBg6cEHfYmjjpLWr5f2exMURMEVsM5bSQ/o7lVjf/vb37xvmr/88ksvqNesWVM33HCD+vbt64XcRG6jR4/2nuLuvq2fPXu2jnL/AcjdQTJbl156qdLT07V8+XI1aNBg32kvuugiL2i729Uvu+yyfX/ufl/uar3wwgsPKNE9qd09kO61117znqDu1jv88MP37eNu62/cuLE2bNigKVOmqPfPvzXZtWuXunXr5oV29xcVTzzxRNytWw9M3AWyAAIIIIAAAggggAAC5VkgL0+qX1/65htfoX9/6bHHyrNIqHq3zltJD+j762dnZ3vvDXevKXPfdrtvkX/3u995YbVLly7e/493c09V79ixo9y53LfTLlxv2rRJc+fOVX5+vjIzM/cF5oJzFbzr3H12/fXX7yvBvU/d/a7dhfCWLVuqevXqysnJ0ZIlS7R9+3Yde+yxXkgv6tZ99/o015Or59xzz/We7O5e7ea+QXdrvfvuu9568W7WAxNvfRyPAAIIIIAAAggggEC5Fnj5Zalr10KCJUuk004r1yRhat46b6U0oBdcCHdr98SJE713lrtvo9236u71Z+5ha3/4wx+829Tj2VwodreZP/30095vzd232+529yFDhnjvND94Ky6gu1Dvfie+ePFir053N4C7Zf+kk05Sp06d1L9/fx199NHFlvrvf//be93bO++8o61bt3pB393e7x4u59ZJxGY9MImokTUQQAABBBBAAAEEECi3Ai6cu5DuNvdMrsWLyy1FGBu3zluBCOgFF2bv3r1eaP7Tn/7khXS3VaxY0Qux7tVlBRhhvJDJqtl6YJLVB+dBAAEEEEAAAQQQQCByArm5/u3te/b4rT3+uPTHP0auzSg3ZJ23AhHQ3e3hU6dO9W53d98yu1vP3W/C3e3o//znP/d9U/3qq6/qggsuiPL1jrs364GJu0AWQAABBBBAAAEEEECgvAo88IA0ZIjfvXtmlQvsPz8jq7yShK1v67yV0oC+bNkyL5T//e9/9275dsHcPaDN3Spe8Bv0HTt2aOzYsRo+fLhatWql999/P2zXMKn1Wg9MUpvhZAgggAACCCCAAAIIREUgP99/tdqXX/od9eolPfNMVLorN31Y562kB3T3e/B//OMfXjB3D0lzodw9HO26667zgnnT/d8HuN9ldg96c78Bd9+2sxUvYD0w2COAAAIIIIAAAggggEAZBObNk9q2LTxwzhyJu4PLAJnaQ6zzVtID+q9+9SvvveQumJ988sm69dZbvXBerVq1Q0q7h8W5p6rvKfi9RmqvS2DPbj0wgW2cwhBAAAEEEEAAAQQQCLKAe9VyVpZfYePG/jfpPz93K8hlU9uBAtZ5K+kB3T307fe//733bXm7du1ivt7u3eLuae9t9/9bp5iPLj87Wg9M+ZGkUwQQQAABBBBAAAEEEiSwebOUkSHt2OEvOGqUNHRoghZnmWQKWOetpAf0NWvWeK8XY7MRsB4Ym6pZFQEEEEAAAQQQQACBCAs8+aR0yy1+gxUqSDk5Ut26EW44uq1Z562kB/ToXqpgdGY9MMHokioQQAABBBBAAAEEEAiRQKtW0qJFfsGdO0uvvBKi4il1fwHrvJX0gL5gwQJNmjRJ7jfl5557bpFXe/78+frrX/+qfv36qXXr1kxEKQSsB6YUpbArAggggAACCCCAAAIILF0qtWxZ6DBzptStGy4hFbDOW0kP6L1799YLL7ygdevWqVatWkVeFvcQubp16+qaa67xgjpb7ALWAxN7JeyJAAIIIIAAAggggAACGjBAGj/ehzj2WGnNGqlSJWBCKmCdt5Ie0Js0aaJjjjnGe8XaobZzzjlHmzZt0hdffBHSS5easq0HJjVdcVYEEEAAAQQQQAABBEIosHOn/1vzTZv84gcNkh56KISNUHKBgHXeSnpAr1q1qvcU9+eee+6QV/mqq67Sq6++qq1btzINpRCwHphSlMKuCCCAAAIIIIAAAgiUb4Fp06Srrio0+OwzqVmz8m0S8u6t81bSA/pRRx2l8847T6+U8GAEF+LnzJlDQC/lAFsPTCnLYXcEEEAAAQQQQAABBMqvQPv2Una233+bNtK775Zfi4h0bp23kh7Q3UPfVqxYoZycHFWrVq3Iy7Rt2zbvVWyNGjXSkiVLInIpk9OG9cAkpwvOggACCCCAAAIIIIBAyAW+/lo6/vjCJjIzpeuvD3lTlG+dt5Ie0MeMGaO7775bPXv2VFZWlipWrHjAVc7Ly5N7kNy0adN0zz33aPjw4UxBKQSsB6YUpbArAggggAACCCCAAALlV2DECGnkSL//6tWl3FypatXy6xGRzq3zVtIDuvt2/PTTT9fKlSvlHhjnntTetGlTpaWleQ+E+/vf/64vv/xSxx9/vPfteXU3zGwxC1gPTMyFsCMCCCCAAAIIIIAAAuVVYM8e/9tz98R2t910kzRxYnnViFTf1nkr6QHdXZ1Vq1bpsssu09KlS71gvv+Wn5+vX//613rxxRdV0HykrqhxM9YDY1w+yyOAAAIIIIAAAgggEH6BN96QOnQo7OP996Wzzgp/X3SwL6O6L5wttpQEdNfI3r179c9//lNvvvmm93t0tzVs2FAXX3yxunbtqgoVKlj0G/k1CeiRv8Q0iAACCCCAAAIIIBB0gR49pOnT/SpbtJCWLpUO+mIy6C1QX9EC1nkrZQGdC24jYD0wNlWzKgIIIIAAAggggAACERH47jv/3ee7d/sNjR0r3X57RJqjDeu8RUCP2IxZD0zEuGgHAQQQQAABBBBAAIHECrhAPnCgv2alStL69dLRRyf2HKyWMgHrvEVAT9mltTmx9cDYVM2qCCCAAAIIIIAAAghEQCA/Xzr1VGnZMr8Zd6v7Cy9EoDFaKBCwzlspCei7du3So48+qhkzZmj58uXasmVLkVfcPUDOvXaNLXYB64GJvRL2RAABBBBAAAEEEECgnAm4h8Gdc05h0+5hcZdcUs4Qot2udd5KekDfvn27LrjgAi1evFjuie0lbe5hcmyxC1gPTOyVsCcCCCCAAAIIIIAAAuVMwL1ObfJkv+kGDST3pO/09HKGEO12rfNW0gP6fffdpxEjRqhTp04aO3as7r//fj3zzDPauXOnVqxYoWeffVZ//vOfNWDAAI0ePTraV9egO+uBMSiZJRFAAAEEEEAAAQQQCL/Atm1SRobk/um2ESOke+4Jf190cICAdd5KekA/7bTTvNeqrV69WtWrV9cNN9ygrKws7dmzZ1/j2dnZuuSSS/T000+rV69ejEQpBKwHphSlsCsCCCCAAAIIIIAAAuVHIDNT6tPH79e9Um3VKvce6fLTfznp1DpvJT2gu1D+29/+Vm+432PIzXAfL4j/9NNPSt/v9g+3j7u9fcGCBeXkUiemTeuBSUyVrIIAAggggAACCCCAQMQE2rSR5s/3m2rfXnrrrYg1SDtOwDpvpSSgd+nSxbuV3W39+/fXhAkT9M033+iYY47Zd9WvvvpqzZo1S5s3b2YSSiFgPTClKIVdEUAAAQQQQAABBBAoHwKffSY1b17Y67Rp0pVXlo/ey1mX1nkr6QG9adOmysjI0Ny5c71L+ac//UmDBw/2wvill1667/KeeeaZ3m3wGzZsKGeXPL52rQcmvuo4GgEEEEAAAQQQQACBCAoMGiQ9/LDfWK1a/rvPK1eOYKO0ZJ23kh7Qe/bsqTlz5ig3N1cVKlTQokWL1Lp1a5166qmaNm2a6tWrpyeeeEJDhgxR27ZtvX3ZYhewHpjYK2FPBBBAAAEEEEAAAQTKgcDu3VK9etJ//uM3O2CANG5cOWi8fLZonbeSHtDdE9t79+7tfWPeoUMH76p27txZr732mtx7z/ff3MPiLrzwwvJ55cvYtfXAlLEsDkMAAQQQQAABBBBAIJoCM2dK3bsX9rZ0qXTqqdHsla6i9xv0vLw8ffvttzryyCNVrVo17xL/+OOPuuuuuzRjxgxt2rRJzZo107Bhw9SjRw9GoJQCBPRSgrE7AggggAACCCCAAALxCHTuLM2a5a/QqpW0cGE8q3FswAWs81bSv0EPuHfoy7MemNAD0QACCCCAAAIIIIAAAokSWLdOatBA2rvXX/HJJ6W+fRO1OusEUMA6byU9oHfv3l116tTxfmfOlngB64FJfMWse2t2cAAAIABJREFUiAACCCCAAAIIIIBASAVGjZKGDfOLr1JFys2VatQIaTOUHYuAdd5KekA//PDD1bVrVz3//POx9M8+pRSwHphSlsPuCCCAAAIIIIAAAghEU8B9a96kibRypd9f797SlCnR7JWu9glY562kB/QmTZrolFNO0UsvvcRlNhCwHhiDklkSAQQQQAABBBBAAIHwCbi3TbVrV1j3vHnSeeeFrw8qLpWAdd5KekB3D4ObOHGiVq5cqZo1a5YKg51LFrAemJIrYA8EEEAAAQQQQAABBMqBQK9e0tSpfqMnnSR9/rl00FupyoFCuWvROm8lPaBv27bNe795xYoV9Ze//EWt3JMO2RImYD0wCSuUhRBAAAEEEEAAAQQQCKvA999LGRnSrl1+Bw88IN11V1i7oe5SCFjnraQH9Hbt2mnHjh364IMPvPeeuwfGNWjQQEccccQvWNzns2fPLgUXu1oPDMIIIIAAAggggAACCJR7gccfl/r39xnS06W1a6U6dco9S3kAsM5bSQ/oFSpUiPm6uYC+Z8+emPdnR8l6YDBGAAEEEEAAAQQQQKDcC5xxhrRkic/QtavE87XKzUhY562kB/R33nmnVBfP3Q7PFruA9cDEXgl7IoAAAggggAACCCAQQQEXzF1AL9heflnq0iWCjdJSUQLWeSvpAZ3LbCtgPTC21bM6AggggAACCCCAAAIBF3C3trtb3N3mfoeekyNVrBjwoikvUQLWeYuAnqgrFZB1rAcmIG1SBgIIIIAAAggggAACyRfYscMP5Zs3++cePFgaMyb5dXDGlAlY5y0Cesourc2JrQfGpmpWRQABBBBAAAEEEEAgBALutWru9WoF2/LlUpMmISicEhMlYJ23kh7Q3VPcY914inusUoX7WQ9M6SviCAQQQAABBBBAAAEEIiLgssycOX4z7llZc+dGpDHaiFXAOm8lPaDH8hR3F8zz8/O917DxFPdYR8Xfz3pgSlcNeyOAAAIIIIAAAgggEBGBr76STjyxsJmsLOnaayPSHG3EKmCdt5Ie0It7ivvevXu1evVqvf7665o+fboGDRqkDh06iKe4xzoqBPTSSbE3AggggAACCCCAAAKlEBg2TBo1yj+gRg0pN1eqUqUUC7BrFAQiF9BjuSiTJk1S//799a9//UutWrWK5RD2+VnAemCARgABBBBAAAEEEECg3Ank5UkNG0rr1/ut9+snTZhQ7hho2P6O5aR/gx7rRT3llFPUqFEjzZo1K9ZD2I9b3JkBBBBAAAEEEEAAAQQSL+AySefOhesuWiSdeWbiz8OKgRew/kI0sAH9iiuuUHZ2tjZt2hT4ixSkAq0HJki9UgsCCCCAAAIIIIAAAkkR6N5dmjnTP1XLltKSJVJaWlJOzUmCJWCdtwIb0Fu3bq1ly5bpxx9/DNYVCXg11gMT8PYpDwEEEEAAAQQQQACBxAp8+61Ur57kbnN32/jx0m23JfYcrBYaAeu8FbiA7p7a/sgjj2jw4MFyIf39998PzcUKQqHWAxOEHqkBAQQQQAABBBBAAIGkCTz8sDRokH+6ypX936HXqpW003OiYAlY562kB/RDvQd969atWrlypX744QfvKsyYMUPdunUL1hUJeDXWAxPw9ikPAQQQQAABBBBAAIHECeTnSyefLH3xhb9mz57Sc88lbn1WCp2Add5KekCP5T3orulRo0bpyiuvDN0FS3XB1gOT6v44PwIIIIAAAggggAACSROYP19q06bwdNnZ0kUXJe30nCh4AtZ5K+kBvbj3oDv6ww47THXr1lWDBg2CdyVCUpH1wISEgTIRQAABBBBAAAEEEIhfoE8fKTPTX+f446UVK6QKFeJflxVCK2Cdt5Ie0EN7JUJSuPXAhISBMhFAAAEEEEAAAQQQiE9g61YpI0MqeGj1yJHS8OHxrcnRoRewzlsE9NCPyIENWA9MxLhoBwEEEEAAAQQQQACBogUmT5Zuusn/zL1SbfVqqX59tMq5gHXeSnpAd69Ocw9/69Kli04//fQiL+9HH32kV199Ve5d6M2aNSvnI1C69q0HpnTVsDcCCCCAAAIIIIAAAiEVOPts6YMP/OIvvVR6/fWQNkLZiRSwzltJD+i33HKLJk+erK+//tr7vXlR29q1a9WoUSO5fR977LFEekZ+LeuBiTwgDSKAAAIIIIAAAgggsGyZ1KJFocP06dLll+OCgKzzVtID+sknn6xq1arpww8/POTlbdWqlbZv3y73jTtb7ALWAxN7JeyJAAIIIIAAAggggEBIBQYOlMaO9Ys/5hhp7Vr3ROuQNkPZiRSwzltJD+g1atRQhw4d9Pzzzx/Syd3e/tZbb+17J3oiUaO8lvXARNmO3hBAAAEEEEAAAQQQ0E8/Se5O3w0bfAwX1h95BBgEPAHrvJX0gF69enW1b99eL7744iEvcffu3fXmm2/qx4KnJjIQMQlYD0xMRbATAggggAACCCCAAAJhFXC3s/foUVi9u6O3efOwdkPdCRawzltJD+gtW7bUt99+qzVr1qhSpUpFcu3evVv169dXrVq19OmnnyaYNNrLWQ9MtPXoDgEEEEAAAQQQQKDcC7gHwr35ps/gHhS3YEG5JwGgUMA6byU9oA8dOlQPPvigbr/9dj1SzK0i/+///T+NHTtWd955px566CHmoRQC1gNTilLYFQEEEEAAAQQQQACBcAnk5EiNGkn5+X7d7lVrN94Yrh6o1lTAOm8lPaB/9913atGihTZs2KC2bdvqhhtuUNOmTZWWlqYvvvhCmZmZmjt3ro4++mgtXbpUxx57bNzAeXl5GjdunLKysrRixQodccQROuusszR48GCdf/75ca3v7gZo3ry5Nm3apCOPPLLY38zv3btXU6ZM8f73ySefaNu2bapZs6bOPPNM9e3bV926dYurjoKDrQcmIUWyCAIIIIAAAggggAACQRQYOVIaMcKvrGpVKTdXql49iJVSU4oErPNW0gO6c1y8eLF+//vfKzc31wvm+2/5+fnKyMjQSy+9JPck93g3d7t8x44dlZ2drdq1a+vCCy/Uxo0b9c4773hLu78QuO6668p8mv/6r//yfk/v6i4uoLvPCvZzt/Wfd955OuaYY7Rq1SotXLjQO/fAgQOLvaOgNMVZD0xpamFfBBBAAAEEEEAAAQRCI7B3r9S4sfT1137JffpIf/1raMqn0OQIWOetlAR0R7d161ZNmjTJe1J7jruVRFLDhg118cUX6w9/+IPcw+QSsY0ePVp33323Tj/9dM2ePdv71tptLrC7p8mnp6dr+fLlatCgQalP98ILL+jKK6/03tc+YcKEYgP6jBkzvIDu7gaYP3++Grv/8H/e3IPwOnfuLPct/8cffyz3G/14NuuBiac2jkUAAQQQQAABBBBAILAC2dlS+/aF5c2fL517bmDLpbDUCFjnrZQF9GRwutBbp04d7xvzBQsW6Gz3kIf9Nndr+cSJE8v07bW7Rf+UU05RvXr1vFfGNWnSpNiAftttt+kvf/mL7rrrLj3wwAO/aN39pcTbb7+tp556SjfffHNcNNYDE1dxHIwAAggggAACCCCAQFAFevaUCl4F3ayZ5B5WfdDdvkEtnbqSJ2CdtyId0OfNm+f9zr1Ro0be7eQHb+637u6Wd/eNtvttemm2q666StOnT/duUXffyh9//PHFBnT30Dv3QLySArq7Vf6yyy4rTRm/2Nd6YOIqjoMRQAABBBBAAAEEEAiiwMaN0nHHyXsHutsefli6884gVkpNKRawzltJD+jLli2Tu+W7S5cu3m3nRW0fffSRXn31VV1xxRVq5v72qozbo48+6j0t/vLLL/fC9MGbu82+Ro0a3h9v2bIl5tvq//nPf3oPdSsI3F9//fUhA7q7tf53v/vdIW9xP+644/TZZ5+pSpUqZezWP8x6YOIqjoMRQAABBBBAAAEEEAiiwPjx0oABfmUVK0rr1km/+lUQK6WmFAtY562kB3T3e+3JkyfLhdq6desWybt27VrvW2+372OPPVbmS+AevOZe1+ZCuvtnUZt7sJsL5+7J6u7p8iVtP/zwg/fU9qpVq3pPmXdPhC8poLs1hwwZ4t3eXtRD4tyT5P/2t78d8Nv0kuoo7nPrgSlrXRyHAAIIIIAAAggggEAgBdwr1U47TVq61C+ve3dpxoxAlkpRqRewzltJD+gnn3yyqlWrpg8//PCQuu4J7tu3b5f7xr2sm/s9t3sQnXtI3P3331/kMu4vCdavX6/33ntP55xzTomnuv766/X000/rf//3f73b490WS0B3+7kQfuutt2rnzp37zuNuj+/fv78GDRoU8zf4BUNRVLFr1qxR/fr1tXLlyhJ7YQcEEEAAAQQQQAABBMq9wKJF0v5vj5o1S+rYsdyzAFC0QOQCurul3D093T1Y7VCbu73dPeHdfWNd1u2mm27yvq0fNmyY7rvvvrgD+htvvOHV7p4y74J/wVZSQP/pp5904403aurUqd63+e7OAPcXAy5EjxkzRs8++6z39PZ33303ppBOQC/rRHAcAggggAACCCCAAAIHCfTrJz31lP+H7g7f1aul9HSYEChSIHIB3b0+rX379t67ww+1de/eXe4VZD/++GOZRyORt7i72+DdLfDuyfCffvqpjjrqqJgDuvvLgf/5n//xgvkTTzzxi34uvfRSr1e3z7333lvmft2B1gMTV3EcjAACCCCAAAIIIIBAkAS2b5cyMtwDqfyqhg2TivliL0hlU0vqBKzzVtJvcXffFH/77bdyt2K732MXte3evdu7TbtWrVpeGC7rlsiHxBU88d19833iiSceUJK7Zf2DDz7w3qnepk0b77Nx48bpNPdbFsnb/6uvvpJ7qvx55533i3aysrLUu3dvnXvuud570uPZrAcmnto4FgEEEEAAAQQQQACBQAlkZUm9exeW9NVX7huvQJVIMcESsM5bSQ/oQ4cO1YMPPujd6u1ePVbU5l5L5h7qduedd+qhhx4q8xWJ9TVrDtkF6ENtBQE91mLmzJmjCy64wNu9cuXKcre5u4fKnXrqqb9Y4uWXX1bXrl29J9a7J7nHs1kPTDy1cSwCCCCAAAIIIIAAAoESaNtWmjfPL6ldO2n27ECVRzHBE7DOW0kP6N999513q/iGDRu8d5TfcMMNatq0qdLS0vTFF18oMzNTLgwfffTRXqA99thjy3xV3O3oderU0caNG7VgwQKdffbZB6zVr18/PfXUU3K3whf3lwWxnLyk36C7d6S7fSZOnCj3u/iDN/eXFu636O5W99dffz2WUxa7j/XAxFUcByOAAAIIIIAAAgggEBSB5culpk0Lq5k6Vbr66qBURx0BFbDOW0kP6M558eLF+v3vf6/c3FwvmO+/5efnKyMjQy+99JLck9zj3UaPHu09xf2MM86Qex95wW/H3b+7QOxuS1++fLkaNGiw71QXXXSR1q1b54Xmyy67rMQSSgro7o4A9xcA7i8b3IPvfv3rX+9b09XRuXNn78nuU6ZM8W51j2ezHph4auNYBBBAAAEEEEAAAQQCIzB4sPTgg3457vlS69dLRxwRmPIoJJgC1nkrJQHdUW/dutV7EroLrDk5OZ5+w4YNdfHFF3tPSXcPk0vE5n7P3rFjR2VnZ6t27dreq9E2bdrkfUvv/jLAfWN/cCh272BfvXq195l7rVpJW0kBffPmzd7t7h9//LH3FwLum/yCp7gvcq91kOSeWv/cc8+pQoUKJZ3ukJ9bD0xcxXEwAggggAACCCCAAAJBEMjLk+rXl775xq+mf3/psceCUBk1BFzAOm+lLKCX5O6+wXYPTxsyZEhJu5b4uQvp7qFt7v3l7rfmhx9+uBeS3drnn3/+L45PdEB3J3DfkP/lL3/R9OnTvd+Zu6fTu2/z3YPk3F8CXHPNNb+4m6DExorYwXpgylITxyCAAAIIIIAAAgggECiBl1+WunYtLGnJEunnBzwHqk6KCZyAdd4KVEB3D1KbOXOm9821u/V779692rNnT+AuSpALsh6YIPdObQgggAACCCCAAAIIxCTgwrkL6W474wz3G9yYDmMnBKzzViAC+sKFC73fX0+bNk3udnB367m71ds9RM4FdbbYBawHJvZK2BMBBBBAAAEEEEAAgQAK5Ob6t7cXfBH4+OPSH/8YwEIpKYgC1nkrZQH9m2++0TPPPOMF888//9yzd8HcvYbM3e7t/ud+p81WOgHrgSldNeyNAAIIIIAAAggggEDABB54QCr4Ge3hh0susLuHxLEhEIOAdd5KakB3vwV37/x2t7C7h8O529ddKHcPb3P/7r4955b2GKbiELtYD0x81XE0AggggAACCCCAAAIpFMjP91+t9uWXfhG9eknPPJPCgjh12ASs81ZSAvpHH33kfVP+7LPP6vvvv/dCecWKFdWhQwfvCepdunRRu3bt9N577xHQ45xQ64GJszwORwABBBBAAAEEEEAgdQLz5klt2xaef84c6YILUlcPZw6dgHXeMg/oLVu21P/93/958C6Yu3eAu1Deq1cvHXPMMfsuyHnnnUdAT8B4Wg9MAkpkCQQQQAABBBBAAAEEUiPQu7eUleWfu3Fj/5v0tLTU1MJZQylgnbfMA7p72FtaWpqOO+4477Vp7j3kRW0E9MTMp/XAJKZKVkEAAQQQQAABBBBAIMkCmzdLGRnSjh3+iUeNkoYOTXIRnC7sAtZ5yzyg16hRQ9u2bfNCeuXKldWtWzfvvd/t27c/4L3fBPTEjKr1wCSmSlZBAAEEEEAAAQQQQCDJAk8+Kd1yi3/SChWknByJh1In+SKE/3TWecs8oO/YsUPTp0/3foM+d+5c7zZ3F9YzMjJ03XXXebe7N23aVAT0xAyr9cAkpkpWQQABBBBAAAEEEEAgyQKtWkmLFvkn7dxZeuWVJBfA6aIgYJ23zAP6/hchJyfHe4K7e73aypUr932D3qpVK61du1a5ubk8JC7OqbUemDjL43AEEEAAAQQQQAABBJIvsHSp1LJl4XlnzpS6dUt+HZwx9ALWeSupAX3/q/HOO+94YX3GjBn68ccfvY/cN+vuFvhrr71WnTp1UqVKlUJ/AZPdgPXAJLsfzocAAggggAACCCCAQNwCAwZI48f7yxx7rLRmjUTWiJu1PC5gnbdSFtALLqYL5y+88IJ3C/y//vWvfbfAH3XUUbriiis0YcKE8njdy9yz9cCUuTAORAABBBBAAAEEEEAgFQI7d/q/Nd+0yT/7oEHSQw+lohLOGQEB67yV8oC+/zVyt70X3ALvbod336jv2bMnApcxeS1YD0zyOuFMCCCAAAIIIIAAAggkQGDaNOmqqwoX+uwzqVmzBCzMEuVRwDpvBSqg73+Bs7Oz9fTTT3u/V2eLXcB6YGKvhD0RQAABBBBAAAEEEAiAQPv2Una2X0ibNtK77wagKEoIq4B13gpsQA/rBUt13dYDk+r+OD8CCCCAAAIIIIAAAjELfP21dPzxhbtnZkrXXx/z4eyIwMEC1nmLgB6xmbMemIhx0Q4CCCCAAAIIIIBAlAVGjJBGjvQ7rF5dys2VqlaNcsf0ZixgnbcI6MYXMNnLWw9MsvvhfAgggAACCCCAAAIIlEnAPcvKfXvuntjutptukiZOLNNSHIRAgYB13iKgR2zWrAcmYly0gwACCCCAAAIIIBBVgTfekDp0KOzu/fels86Karf0lSQB67xFQE/ShUzWaawHJll9cB4EEEAAAQQQQAABBOIS6NFDmj7dX6JFC2npUiktLa4lORgB67xFQI/YjFkPTMS4aAcBBBBAAAEEEEAgigLffee/+3z3br+7sWOl22+PYqf0lGQB67xFQE/yBbU+nfXAWNfP+ggggAACCCCAAAIIxC3gAvnAgf4ylSpJ69dLRx8d97IsgIB13iKgR2zGrAcmYly0gwACCCCAAAIIIBA1gfx86dRTpWXL/M7cre4vvBC1LuknRQLWeYuAnqILa3Va64Gxqpt1EUAAAQQQQAABBBBIiIB7GNw55xQu5R4Wd8klCVmaRRCwzlsE9IjNmPXARIyLdhBAAAEEEEAAAQSiJuBepzZ5st9VgwbSypVSenrUuqSfFAlY5y0CeoourNVprQfGqm7WRQABBBBAAAEEEEAgboFt26SMDMn9020jRkj33BP3siyAQIGAdd4ioEds1qwHJmJctIMAAggggAACCCAQJYHMTKlPH78j90q1Vaukhg2j1CG9pFjAOm8R0FN8gRN9euuBSXS9rIcAAggggAACCCCAQMIE2rSR5s/3l2vfXnrrrYQtzUIIOAHrvEVAj9icWQ9MxLhoBwEEEEAAAQQQQCAqAp99JjVvXtjNtGnSlVdGpTv6CIiAdd4ioAfkQieqDOuBSVSdrIMAAggggAACCCCAQEIFBg2SHn7YX7JWLf/d55UrJ/QULIaAdd4ioEdsxqwHJmJctIMAAggggAACCCAQBYHdu6V69aT//MfvZsAAady4KHRGDwETsM5bBPSAXfB4y7EemHjr43gEEEAAAQQQQAABBBIuMHOm1L174bJLl0qnnprw07AgAtZ5i4AesRmzHpiIcdEOAggggAACCCCAQBQEOneWZs3yO2nVSlq4MApd0UMABazzFgE9gBc9npKsByae2jgWAQQQQAABBBBAAIGEC6xbJzVoIO3d6y/95JNS374JPw0LIuAErPMWAT1ic2Y9MBHjoh0EEEAAAQQQQACBsAuMGiUNG+Z3UaWKlJsr1agR9q6oP6AC1nmLgB7QC1/WsqwHpqx1cRwCCCCAAAIIIIAAAgkXcN+aN2kirVzpL927tzRlSsJPw4IIFAhY5y0CesRmzXpgIsZFOwgggAACCCCAAAJhFpgzR2rXrrCDefOk884Lc0fUHnAB67xFQA/4AJS2POuBKW097I8AAggggAACCCCAgJlAr17S1Kn+8iedJH3+uZSWZnY6FkbAOm8R0CM2Y9YDEzEu2kEAAQQQQAABBBAIq8D330sZGdKuXX4HDzwg3XVXWLuh7pAIWOctAnpIBiHWMq0HJtY62A8BBBBAAAEEEEAAAVOBxx+X+vf3T5GeLq1dK9WpY3pKFkfAOm8R0CM2Y9YDEzEu2kEAAQQQQAABBBAIq8AZZ0hLlvjVd+0qvfRSWDuh7hAJWOctAnqIhiGWUq0HJpYa2AcBBBBAAAEEEEAAAVMBF8xdQC/YXn5Z6tLF9JQsjoATsM5bBPSIzZn1wESMi3YQQAABBBBAAAEEwijgbm13t7i7zf0OPSdHqlgxjJ1Qc8gErPMWAT1kA1FSudYDU9L5+RwBBBBAAAEEEEAAAVOBHTv8UL55s3+awYOlMWNMT8niCBQIWOctAnrEZs16YCLGRTsIIIAAAggggAACYRNwr1Vzr1cr2JYvl5o0CVsX1BtSAeu8RUAP6WAUV7b1wESMi3YQQAABBBBAAAEEwibQrp00Z45fddu20ty5YeuAekMsYJ23COghHo6iSrcemIhx0Q4CCCCAAAIIIIBAmAS++ko68cTCirOypGuvDVMH1BpyAeu8RUAP+YAcXL71wESMi3YQQAABBBBAAAEEwiQwbJg0apRfcY0aUm6uVKVKmDqg1pALWOctAnrIB4SAHrELSDsIIIAAAggggAACRQvk5UkNG0rr1/uf9+snTZiAFgJJFSCgJ5U7/CezHpjwC9EBAggggAACCCCAQCgFZs2SOncuLH3RIunMM0PZCkWHV8A6b/ENenhno8jKrQcmYly0gwACCCCAAAIIIBAWge7dpZkz/WpbtpSWLJHS0sJSPXVGRMA6bxHQIzIoBW1YD0zEuGgHAQQQQAABBBBAIAwC334r1asnudvc3TZ+vHTbbWGonBojJmCdtwjoDEzEBGgHAQQQQAABBBBAIHICDz8sDRrkt1W5sv879Fq1ItcmDQVfgIAe/GsUqAqtByZQzVIMAggggAACCCCAQPQF8vOlk0+WvvjC77VnT+m556LfNx0GUsA6b/ENeiAve9mLsh6YslfGkQgggAACCCCAAAIIlEFg/nypTZvCA7OzpYsuKsNCHIJA/ALWeYuAHv81CtQK1gMTqGYpBgEEEEAAAQQQQCD6An36SJmZfp/HHy+tWCFVqBD9vukwkALWeYuAHsjLXvairAem7JVxJAIIIIAAAggggAACpRTYulXKyJB+/NE/cORIafjwUi7C7ggkTsA6bxHQE3etArGS9cAEokmKQOD/s3cmcDeV2x//lTnzmEwJaZIMGSsqqdANSaguKiQq6la4dUXJ1ED9Q6EMZVZoQGWKBhrI0KCLQpRCSIOp/p/fs+92zqt3OOc9Z5+zz7N/6/PxKd6997PW91nvOXs9z3rWEgEREAEREAEREIFgEBg/Huja1bGVLdW2bgXKlw+G7bLSlwS8jrcUoPty2rOvlNcOk33NdKcIiIAIiIAIiIAIiIAIREmgfn1g1SrnpquvBhYsiPIBulwE4kvA63hLAXp85yvpT/PaYZJuoBQQAREQAREQAREQAREIBoHPPweqVQvZOns20KZNMGyXlb4l4HW8pQDdt1OfPcW8dpjsaaW7REAEREAEREAEREAERCBKAvfeC4wY4dxUsiTw3XdA7txRPkSXi0B8CXgdbylAj+98Jf1pXjtM0g2UAiIgAiIgAiIgAiIgAvYTOHwYKFsW2L3bsZXB+pNP2m+3LPQ9Aa/jLQXovneB6BT02mGi00ZXi4AIiIAIiIAIiIAIiEA2CDCdvW3b0I1Mdz/33Gw8SLeIQHwJeB1vKUCP73wl/WleO0zSDZQCIiACIiACIiACIiAC9hNo1gxYuNCxk4XiPvzQfptlYUoQ8DreUoCeEm4QuZJeO0zkmuhKERABERABERABERABEcgGgW3bgIoVgb/+cm5mq7XbbsvGg3SLCMSfgNfxViAC9KNHj2LkyJGYPHkyNm3ahHz58qFevXro27cvGjVqFNOs7dq1C+eeey727t2LwoULY9++fZk+b/ny5XjVRYobAAAgAElEQVT22Wfx/vvvY/fu3eaeqlWrolWrVrjvvvti0oU3e+0wMSuoB4iACIiACIiACIiACIhAZgQeeQR4+GHnivz5ge+/BwoWFDMR8AUBr+Mt6wP0I0eOoHnz5li0aBGKFy+Oyy67DHv27MG7775rJnjChAno2LFjtif7+uuvx6uvvoq//vorywC9T58+GD58OHLkyIH69eujfPny+PHHH7FhwwYULFjQLB7EKl47TKz66X4REAEREAEREAEREAERyJDAn38ClSsD337rXHLrrcALLwiYCPiGgNfxlvUB+uDBg/Hggw+iZs2aWLx4MYoWLWomlwF7s2bNTLD89ddfo0KFClFP+syZM9GuXTvccccdGDNmTKYB+ogRI3DvvffivPPOw5w5c3DmmWceH+/YsWNYvXo16tSpE7UOJ97gtcPErKAeIAIiIAIiIAIiIAIiIAIZEVi0CGjaNPTT998HGjYULxHwDQGv4y2rA3SmtpcuXdrsmH/44Ydm1zpcbr/9dowdO9YEzk9G2baB6ekMtsuVK4cZM2aYgDujFHemwZ9xxhlm6C+++AIVeabGI/HaYTxSW48VAREQAREQAREQAREQAaBDB2D6dIfE2Wfz5Rk46SSREQHfEPA63rI6QOd578aNG5uA+JtvvvnbpC5btsykvFeuXDnq9PIOHTpg9uzZ+Oijj8yuPAPwjAL0YcOGmfPunTp1wsSJEz11Lq8dxlPl9XAREAEREAEREAEREIHgEtizByhTBmAPdMoTTwD/+ldwechyXxLwOt6yOkB/+umn0bt3b7Rp08YE0yfKL7/8gkKFCpl/PnDggDkHHonMmzfPFHXjmfKhQ4fi22+/zTRAv/LKK/HOO+9gypQpuOqqqzBt2jR8/vnnyJs3L2rVqgWeY2fhuniI1w4TDx31DBEQAREQAREQAREQARH4G4FnngF69XL+OWdOYMcOoFQpgRIBXxHwOt6yOkBn6jrPfjNI53/TE+56Mzhfv349qlWrluXks0o7q7bnz58f69atM4F1VgF6mTJl8P3335s0ep6JZ8p9uPDnPJdet27dLMfP6gKvHSar8fVzERABEYiIwO7dwMsvA3nzAjwCxD+nnw7kyRPR7bpIBERABETAMgJsqVajBrBunWPYddcBr7ximZEyxwYCXsdbVgfo3bp1w7hx40yRuEGDBqXrD2XLlsXOnTvxwQcfoEGDBln6TOfOnTFp0iQsWbLEpMdTsgrQuVN+6NAh5MyZ06TTs6DchRdeiK1bt+Khhx4Cd+RLlChhdtVLRbBK6DpFespu377dVIffsmVLlrboAhEQARFICoGvvgKuugpgn9tw4RlDpja6AfuJ/y1bFsiRIykqa1AREAEREAGPCTz1VNp09jffBJo393hQPV4EoiegAD16Zsfv6Nq1K8aPH2+C4EcffTTmAH3hwoWm8nuXLl1M4O9KVgF67ty5wXZvDNQ3btyYpmL8n3/+adLc165di/79+2PgwIFZWqwAPUtEukAERMCvBFauBFq0APbujV7DXLkAdtzIKIAvWVKFhKKnqjtEQAREILkEuHPety8wfHhID37Wc7NJi7LJnRuNni4BBegxOEY8U9yZBs8UeFaGZyX2IkWKRBygs//63r17zbl1prKfKKNGjcKdd96JSy65BCxsF4t47TCx6KZ7RUAEAk6AuyFt2wK//x4CceqpwE8/Aex7G6vkzw+wS0ZGAfz/ao7EOozuFwEREAERiBOBI0eALl2AyZNDDyxQAOD3RaNGcRpEjxGB+BLwOt6yOsU9nkXi3IrvTImvUqVKmln+448/sGrVKtNT/eKLLzY/GzlyJGrwHA2A2rVrmz7nGbVzmz9/Plq0aGFatbEneyzitcPEopvuFQERCDABdrDgS9ixYyEIDz8M8A9f0LZvB9htI70/P/4YH3DFi2ccvOv8e3wY6ykiIAIiECmBX391Fm0XLAjdwaOe/HutWpE+RdeJQMIJeB1vWR2gR9pmjZA3b96c6eS6AXqkHrB06VJceuml5nI31T6jNmsvvfQSOnbsiJo1a5pAPhbx2mFi0U33ioAIBJAAUxeHDQP69QsZz7Pmo0cD3btHBoQvcd9+m3EAf+BAZM/J7Cqdf4+doZ4gAiIgApESYKFQHnf66KPQHZUqAW+/DVSuHOlTdJ0IJIWA1/GW1QE609FLly5tqqZ/+OGHqF+/fppJ7N69O55//vkMd7YjnfGszqC7O+Tslc4z6Ll4jjJM3MJzJ55tj3T88Ou8dpjs6KR7REAEAkqAaev33AOwbY4rrNI+dapTnTcewgWAn3/+e/DOs4vcjWdg7/bTjWU8nX+PhZ7uFQEREIEQAX4us1BoeNYod8znzwd47EkiAj4n4HW8ZXWAzrllWzNWcWchtsWLFx8/O87/v/rqq01aOtPKK7AYxf+kSZMm2LFjB4YMGYLWrVtn6SJZBeh//fWXSXNfs2aNWQx4/PHHcfLJJ5vnzp071/RB5zUff/yx0TMW8dphYtFN94qACASIwKFDQKdOwIwZIaN5Bvy114DGjRMHgosE33+f8e77d9/p/HviZkMjiYAIBJ0AW6hdfbXzuRx68QZYo6lgwaDTkf0pQsDreMv6AJ3V05s3b45FixaBxdrYGo0F25iyzqB4woQJYOp5uFSsWNG0QOPPuLudlWQVoPN+LgLwfPpPP/0ETirT2bdt22aC8pNOOglPPfWU6dceq3jtMLHqp/tFQAQCQIAp59whX7w4ZOxppwELFwLVq/sLAM+/s92b1+ffixXL/Pw7+8FLREAERMBmAu++C7RsCezfH7KyfXuANUqYXSURgRQh4HW8ZX2AznlmkM6ibexfzrPmbHfGdPd+/fqhUToVIr0I0KnHDz/8YPqxv/HGG6b3esGCBU3v9X/961/He6rH6pdeO0ys+ul+ERABywns2gU0awasWRMytGpV4K23nArrqSaJOP9OJuzxrv7vqeYd0lcERCBSAq++Ctx4I8DsKld69QLY+/x/WaWRPkrXiUCyCXgdbwUiQE/2JCZyfK8dJpG2aCwREIEUI7Bpk3OukOe/Xalb12mXU6JEihkTgboZnX93d+N5zjL8ZTSCR6Z7ic6/Z5ec7hMBEfADgTFjgJ49AX5mujJ0KPDAAwALdEpEIMUIeB1vKUBPMYfISl2vHSar8fVzERCBgBJgBwrunIe3ROPfZ80C2J88iMLz7z/8kHEBO51/D6JXyGYRCA4BBuQDBgCPPBKyOUcO4IUXnBolEhFIUQJex1sK0FPUMTJS22uHsQyXzBEBEYgHgUWLABbUPHgw9DS+fI0bB5zQtSIew1nzDJ1/t2YqZYgIiMAJBI4edXbNx44N/SBfPmfRlu3VJCKQwgS8jrcUoKewc6SnutcOYxkumSMCIhArgenTgY4dWewj9KQ+fYAhQ5S6GCvbRJ1/L1Mm4/Pv5coB3PGSiIAIiECkBH7/3TlvPndu6A4WyuRxpxNaHkf6SF0nAn4i4HW8pQDdT7MdB128dpg4qKhHiIAI2EJg5Einz3m4jBgBxKEjhS2IPLMjUeffc+YETj894wC+ZEktxHg2yXqwCKQggZ9/Bq69FnjvvZDybGXMQqFnn52CBkllEfg7Aa/jLQXolnmd1w5jGS6ZIwIikB0CDA779QOGDQvdzVT2SZOADh2y80TdE28CGZ1/dwvYbd8en/7vp5yScfDOqvSFCsXbMj1PBETArwRYV4O1RzZsCGlYrZrTYpOdKiQiYAkBr+MtBeiWOIprhtcOYxkumSMCIhAtAaayd+3qBOOuFCgAsIVO06bRPk3XJ4sA55FBOgN2Vt0/sQ98eLG/WHRU//dY6OleEUgdAl9+6XTx4OeKK5dcArz2GlCkSOrYIU1FIAICXsdbCtAjmIRUusRrh0klFtJVBEQgzgR4JvqGG4D580MPZorzggVA7dpxHkyPSyqBRJ9/b9wY6NsXKFgwqWZrcBEQgWwQ+PBD4JprgL17QzezcOiUKQALw0lEwDICXsdbCtDlMJYRkDkiIAKeENi923kBW7Uq9PhKlZxzhVWqeDKkHupTAl6df+f51FdeAc4916eGSy0REIG/EXjjDWfhloXhXLn9dmDUKBWYlLtYS0ABurVT641hXjuMN1rrqSIgAr4msHWrk7q4cWNIzZo1nZ300qV9rbqUSwKBWM6/58/v9Ehu1y4JimtIERCBqAhMmOAceTp2LHQb+57376/ikVGB1MWpRsDreEs76KnmEVno67XDWIZL5oiACGRFYP164OqrgZ07Q1c2aeKcOVcBsKzo6efpEQg//86z7/PmAdyFC5devYDhw4HcucVQBETAbwSYRTN0KPDvf4c0O/lkZ9e8e3e/aSt9RCDuBLyOtxSgx33KkvtArx0mudZpdBEQgYQSWL7caZezf39oWKYyTp4M5MmTUFU0mMUE+LL/xBPOGXTuvrvSsCEwc6aqP1s89TItBQnwd5TtNZ95JqQ8vw+mTQN47lwiAgEg4HW8pQDdMify2mEswyVzREAEMiLAHfIbbwQOHQpdcffdAPucc6dEIgLxJrBsGdC+PbBrV+jJLEI4fTpw+eXxHk3PEwERiJYAvw86dnQWzlwpXNip1N6oUbRP0/UikLIEvI63FKCnrGukr7jXDmMZLpkjAiKQHoHnngN69ky7mzlkCNCnj84VymO8JcCjFDx//t57oXG4IPTYY8ADD2hxyFv6eroIZEzgwAFnh3zJktA1Zco4Pc7PP1/kRCBQBLyOtxSgW+ZOXjuMZbhkjgiIQDgBphoPHOj8cSVHDmD8eKBzZ7ESgcQQ4Bl1LgYxWyNceNxi0iT1VE7MLGgUEQgR+OEHoHlzYM2a0L+ddZbTxeP000VKBAJHwOt4SwG6ZS7ltcNYhkvmiIAIuARYhbdHD2Ds2BAT9q+dNQto0UKcRCDxBOh7t94KHDwYGrtyZacV2wUXJF4fjSgCQSSwaZPTxWPLlpD19eo5hR1LlAgiEdksAvA63lKAbpmTee0wluGSOSIgAiTA/rU8bz53bohHsWLOC1iDBmIkAskj8NVXQJs2wBdfhHTImxfgMYxOnZKnl0YWgSAQ+PRToFkz4KefQtZyJ51n0NkSUSICASXgdbylAN0yx/LaYSzDJXNEQAT27XMqta9YEWJRvryTunjOOeIjAsknwB109lpmsbhw6dYNePppgAG7RAREIL4E3nkHuO66tBksXBQbNw7IlSu+Y+lpIpBiBLyOtxSgp5hDZKWu1w6T1fj6uQiIQAoR2LHD6XG+YUNI6fPOc4r+lCuXQoZIVesJsD7Cs88C994LHD0aMrd2bWD2bKBiResRyEARSBgBtkxjMM56EK6wDeLgwSoUmrBJ0EB+JuB1vKUA3c+znw3dvHaYbKikW0RABPxIgKnDPFe4bVtIu4svdtrlFC3qR42lkwgAH34ItG0LcHHJFR7HmDLFWWySiIAIxEZg5Einz3m48N969YrtubpbBCwi4HW8pQDdImehKV47jGW4ZI4IBJPAypVO4be9e0P2t2oFTJ0KsDCcRAT8TODHH4EOHdK2ezrpJKB/f+cP27JJREAEoiPALBXukg8fHrqPqeyTJwPt20f3LF0tApYT8DreUoBumQN57TCW4ZI5IhA8Am++6exAsjCcKzzLO2oUkDNn8HjI4tQkwK4DDMaZchsu3EV/+WWgePHUtEtai0AyCDCVvUsXJxh3pUABYM4c4IorkqGRxhQBXxPwOt5SgO7r6Y9eOa8dJnqNdIcIiIBvCEyc6LyEMbhx5eGHAf7hDqREBFKNwOuvA//8J7B/f0jzChWcc+l16qSaNdJXBBJP4NdfnUXbBQtCY5cqBcyfD7DGg0QEROBvBLyOtxSgW+Z0XjuMZbhkjggEgwBTF4cNA/r1C9nLgHz0aKB792AwkJX2Eti82WnFtnZtyMbcuYFnngGYHaLFJ3vnXpbFRmD3bue400cfhZ5TqRLw9ttA5cqxPVt3i4DFBLyOtxSgW+Y8XjuMZbhkjgjYT+DPP52CPwxWXMmTxzlvzhY6EhGwgQCPbPToATBLJFw6dgTGjAFOOcUGK2WDCMSPwLffOoUVN24MPbNWLWfn/NRT4zeOniQCFhLwOt5SgG6Z03jtMJbhkjkiYDeBQ4eAzp3T9o8uVMip1N64sd22y7rgEWCmyPjxwJ13AocPh+yvXt1JeT/zzOAxkcUikB6Bdeuc4Pz770M/bdLEOXNesKCYiYAIZEHA63hLAbplLui1w1iGS+aIgL0EDhxwdsgXLw7ZeNppTo9zBiwSEbCVwCefANdfD2zdGrKQC1MsgNWypa1Wyy4RiIzAu+86vwfhdRtYpZ3ZJ8yukoiACGRJwOt4SwF6llOQWhd47TCpRUPaikBACezaBTRrBqxZEwJQtSrw1ltAxYoBhSKzA0WALQRvvjlt4SsC6NMHGDRIHQsC5Qwy9jiBV18FbrwRYHaVK+xv/tRTak8oNxGBKAh4HW8pQI9iMlLhUq8dJhUYSEcRCDSBTZuAq64CtmwJYahbF2B7tRIlAo1GxgeMAOsvPPaY06WA6e+uXHqpc+xD52wD5hABN/e555w6DeG/C0OHAg88oEKKAXcNmR89Aa/jLQXo0c+Jr+/w2mF8bbyUE4GgE1i92tk5//HHEAn+fdYsIH/+oNOR/UElwMwR7hpyV90VHvfg78VFFwWViuwOCgEG5AMGAI88ErI4Rw6nXgNrlEhEQASiJuB1vKUAPeop8fcNXjuMv62XdiIQYAKLFgGtWwMHD4YgsII1X8Jy5QowGJkuAnDOo7PX88cfh3DkzAk88QRw993aQZST2Eng6FGgZ09g7NiQffnyOYtTbK8mEQERyBYBr+MtBejZmhb/3uS1w/jXcmkmAgEmwHRdBuNHjoQgMG2R6YvqAR1gx5DpaQjw3C1bDrLtWrjccIOzkKXq1XIYmwiw9SAzR+bODVlVrJhz3Kl+fZsslS0ikHACXsdbCtATPqXeDui1w3irvZ4uAiIQNYGnnwZ6905724gRf/+3qB+sG0TAUgIvvQTcfjvAAMaVs88GWEDrnHMsNVpmBYrAzz87ldpXrAiZXaGCUyiUvi4RARGIiYDX8ZYC9Jimx383e+0w/rNYGolAQAnwXGG/fsCwYSEATGWfNAno0CGgUGS2CERIYP16pw0hiyq6wjoNL7wAtGsX4UN0mQj4kMCOHU6P8w0bQspVq+a02Cxb1ocKSyURSD0CXsdbCtBTzycy1dhrh7EMl8wRgdQkwFT2rl2dYNyVAgWcHcCmTVPTJmktAokmwD7QLJIVngJMHdh2avhwIHfuRGuk8UQgNgJfful08di+PfScSy4B5s0DihaN7dm6WwRE4DgBr+MtBeiWOZvXDmMZLpkjAqlH4NdfAZ6ZnT8/pHvJkk6/59q1U88eaSwCySTATBQWiuvbF2BbNlcaNgRmztSOYzLnRmNHR+DDD4FrrknbraBVK2DqVICF4SQiIAJxI+B1vKUAPW5T5Y8Hee0w/rBSWohAQAns3u28gK1aFQJQqZJzrrBKlYBCkdkiEAcCy5YB7dsDu3aFHlaqFDBtGnD55XEYQI8QAQ8JsPAbuxSE11VgnYVRowC2VJOIgAjElYDX8ZYC9LhOV/If5rXDJN9CaSACASXANlFMXdy4MQSgRg1n57x06YBCkdkiEEcCO3c62Snvvx966MknA489BrArAv9fIgJ+IzBhgnPk6dixkGbse96/v7p4+G2upI81BLyOtxSgW+MqjiFeO4xluGSOCKQGARa0YtEfBhCucFdvzhygUKHUsEFaikAqEGB9hz59AHZCCJdrr3VqPhQpkgpWSMcgEODxDBYJZbFQV7iIxF3z7t2DQEA2ikDSCHgdbylAT9rUejOw1w7jjdZ6qgiIQIYEli8HGBywoJUr3OWbPBnIk0fgREAEvCAwaxZw663AwYOhp1euDLzyCnDBBV6MqGeKQOQEWC/hnnuAZ54J3cPvAx7JaN068ufoShEQgWwR8DreUoCerWnx701eO4x/LZdmImAhAe6Qs2XaoUMh4+6+29ndU7qthRMuk3xF4KuvnFZsrIztSt68wHPPAZ06+UpVKRMgAvw+oP/NmBEyunBh4LXXgEaNAgRCpopA8gh4HW8pQE/e3HoystcO44nSeqgIiMDfCTAI6NkzbWXpIUOc9NuTThIxERCBRBDgDjrP906fnnY0FuAaORJgwC4RgUQROHDAWTRavDg0YpkyTo/z889PlBYaRwQCT8DreEsBumUu5rXDWIZL5oiA/wjwXOHAgc4fV1iFd9w44JZb/KevNBIB2wnwd/LZZ4F77wWOHg1Ze+GFAFPhK1a0nYDs8wOBH34AmjcH1qwJaXPWWU4Xj9NP94OG0kEEAkPA63hLAbplruS1w1iGS+aIgL8IsApvjx7A2LEhvdi/lv2Y2V5NIgIikDwC7DPNVlY7doR0KFYMmDLFKeIoEQGvCGza5HTx2LIlNEK9esAbbwAlSng1qp4rAiKQAQGv4y0F6Ja5ntcOYxkumSMC/iHA/rU33gjMnZv25Z8vYA0a+EdPaSICQSbw449OXYglS0IUeOTk4YeB//xHtSGC7Bte2f7pp87OOX3PFf6dC7f583s1qp4rAiKQCQGv4y0F6Ja5n9cOYxkumSMC/iCwb59TqX3FipA+5cs7qYvnnOMPHaWFCIiAQ4CZLgzGWRMiXLiL/vLLQPHiIiUC8SHwzjvOmfPwbgIsEMcjT7lyxWcMPUUERCBqAl7HWwrQo54Sf9/gtcP423ppJwIpSIDpsnyx37AhpPx55zlFf8qVS0GDpLIIBIQAq2Z37Ji2BWKFCsDs2UCdOgGBIDM9I8CWaQzGjxwJDdG3LzB4sAqFegZdDxaByAh4HW8pQI9sHlLmKq8dJmVASFERSAUCbOPEc4XbtoW0vfhip11O0aKpYIF0FIFgE9i8GWjTBli7NsQhd26nP3W3bgqkgu0d2beeHQLY5zxc2F6zd+/sP1N3ioAIxI2A1/GWAvS4TZU/HuS1w/jDSmkhAhYQWLkSaNEC2Ls3ZEzLlgB3TVgYTiICIpAaBFg/gsUdJ05Mqy9318eMAU45JTXskJbJJ8COAdwlHz48pAtT2SdPBtq3T75+0kAERMAQ8DreUoBumaN57TCW4ZI5IpAcAm++6VSD5ou9K9xtGzUKyJkzOTppVBEQgewTYGA1fjxw553A4cOh51SvDrzyClClSvafrTuDQYCp7F26OMG4KwUKAHPmAFdcEQwGslIEUoSA1/GWAvQUcYRI1fTaYSLVQ9eJgAhkQIC7bHwJY6EpV/r3BwYMUDqsnEYEUp3AJ58A118PbN0asqRQISfoYoaMRATSI/Drr86i7YIFoZ+WKgXMnw/Uri1mIiACPiPgdbylAN1nEx6rOl47TKz66X4RCCwB7rANGwb06xdCwPZMo0cD3bsHFosMFwHrCPDYys03pw22aGSfPsCgQcqSsW7CYzRo927gmmuAVatCD6pUCXj7baBy5RgfrttFQAS8IOB1vKUA3YtZS+IzvXaYJJqmoUUgdQn8+adT8IeFo1zJkweYOtVpoSMRARGwiwB/5xmMMzOGi3OuXHaZU2fi1FPtslfWZI8AMy1YKHTjxtD9tWo5O+fykewx1V0ikAACXsdbCtATMImJHMJrh0mkLRpLBKwgcOgQ0LkzMH16yBymvLJSe+PGVpgoI0RABDIg8NZbwI03pi0GWaYMMHMmcNFFwhZkAuvWOS02v/8+RKFJE+fMecGCQSYj20XA9wS8jrcUoPveBaJT0GuHiU4bXS0CASdw4ICzQ754cQjEaac5Pc5ZPEoiAiJgPwHukvJ88ccfh2xlMcgnngDuvlu1J+z3gL9b+O67Tk2C/ftDP2vXDpg0CWB2lUQERMDXBLyOtxSg+3r6o1fOa4eJXiPdIQIBJbBrF9CsGbBmTQhA1aoAd9QqVgwoFJktAgElwEwaHnNh27VwueEGp/q7dkyD4xivvupkVdAnXOnVC3jqKeDkk4PDQZaKQAoT8DreUoCews6RnupeO4xluGSOCHhDYNMm51zhli2h59etC7C9WokS3oypp4qACPifwEsvAbffnrbF4jnnOK3Y+F+J3QSeew7o2RNgjQJXhg4FHnhAmRR2z7yss4yA1/GWAnQ5jGUEZI4IJJnA6tXOzvmPP4YU4d9nzQLy50+ychpeBEQg6QR49rhNG4ALea7ws+GFFwCmOUvsI8BCgQMHOn9cyZHDyZ5gjRKJCIhAShFQgJ5S05V8Zb12mORbKA1EwMcEFi0CWrcGDh4MKdmxo/MSliuXjxWXaiIgAgklwLPHDMzmzk07LFOdhw8HcudOqDoazEMCx44BPXoAY8eGBsmXz1m0bdHCw4H1aBEQAa8IeB1vaQfdq5lL0nO9dpgkmaVhRcD/BFilncH4kSMhXZm2yPRF9juXiIAIiEA4Ae6qslBc375pU54bNnSqvJctK16pTuD3353z5uELMcWKOced6tdPdeukvwgEloDX8ZYCdMtcy2uHsQyXzBGB+BB4+mmgd++0zxox4u//Fp/R9BQREAGbCCxb5qS2hx+LKVXK6Zd++eU2WRosW37+2anUvmJFyO4KFZwuHqo3ECxfkLXWEfA63lKAbpnLeO0wluGSOSIQGwHugPXrBwwbFnoOU9knTnR2TSQiIAIiEAmBnTsBVnR///3Q1azoPXiwCohFws9v1+zY4fQ437AhpFm1ak5wrswIv82W9BGBqAl4HW8pQI96Svx9g9cO42/rpZ0IJJAAU9m7dnX61rpSoADAFjpNmyZQEQ0lAiJgBQF+pvTpAzD7Jly4C8tFvyJFrDDTeiO++srp4rFtW8jUSy4B5s0Diha13nwZKAJBIOB1vBWIAP3o0aMYOXIkJk+ejE2bNiFfvnyoV68e+vbti0aNGsXkR7t27cK5556LvXv3onDhwti3b19Ez3vnnXdw5c2GDTYAACAASURBVJVXmmtbtmyJuScWionoKX+/yGuHyaZauk0E7CLw66/Obtf8+SG7SpYEFiwAate2y1ZZIwIikFgCLB52661pi01Wruws/lWvnlhdNFp0BFaudAq/7d0buq9VK2DqVICF4SQiIAJWEPA63rI+QD9y5AiaN2+ORYsWoXjx4rjsssuwZ88evPvuu8ZBJkyYgI4s7JRNuf766/Hqq6/ir7/+ijhAP3jwIKpVq4Zt27aZ+xSgZxO+bhOBZBDYvRu45hpg1arQ6JUqAW+9BVSpkgyNNKYIiIBtBL780mnFxv+6wgCPfbRjeGexDZOv7GHht7Zt0/a4Z8/7UaMAtlSTiIAIWENAAXqMUzl48GA8+OCDqFmzJhYvXoyi/0svYsDerFkz5MiRA19//TUqsHBHlDJz5ky0a9cOd9xxB8aMGRNxgN6jRw88//zz6Nq1q/mvAvQowetyEUgWga1bndTFjRtDGtSo4eycly6dLK00rgiIgI0E2K6xSxdgxoy01jHoGzkSyJvXRqtT06YJE5wjT2yp5sqAAUD//urikZozKq1FIFMCCtBjcBCmtpcuXdrsmH/44Yeof0JLi9tvvx1jx47FvffeiyeffDKqkXbv3o3zzjsP5cqVw4wZM3DmmWdGFKBz5567+HfddZdZNLjlllsUoEdFXheLQJIIrF/vFP1hMSdXWGF5zhygUKEkKaVhRUAErCbAQpTPPgvcey9w9GjI1AsvBGbPBk4/3WrzfW8c54dFQlks1BUW9+OueffuvldfCoqACGSPgAL07HEzdy1fvhyNGzdGxYoV8c033/ztScuWLTPBcuXKlc3Z9GikQ4cOmD17Nj766COzK3/GGWdkGaD/9ttvqF69Oph2//nnn5v7FaBHQ13XikCSCCxfDlx7LbB/f0gBnkGfPBnIkydJSmlYERCBwBD44AOn7gWrg7vCftpTpjgLh5LEE/jzT+Cee4BnngmNze8Dnje/7rrE66MRRUAEEkZAAXoMqJ9++mn07t0bbdq0McHwifLLL7+g0P92vg4cOICCBQtGNNq8efPQqlUr9OnTB0OHDsW3334bUYB+zz33mGJ18+fPN+n1EydOVIAeEXFdJAJJJMAd8g4dgEOHQkrcdZeTYsqdEokIiIAIJIIA+6S3bw8sXRoa7aSTgIcfBv7zH30eJWIO3DH4fdCpU9rjB4ULA6+9BsRYfDiRZmgsERCB7BFQgJ49buYupq6PGDHCBOn8b3rCyusMztevX28Kt2UlrNLOqu358+fHunXrTEX4SAJ0pthffPHF4M77yy+/bIZRgJ4Vbf1cBJJMgAWZevYEuFPiCvsS9+2rc4VJnhoNLwKBJMA0d55rHjIkrfncRee7RfHigcSSUKMPHHB2yBcvDg1bpozT4/z88xOqigYTARFIDgEF6DFw79atG8aNG2eKxA0aNCjdJ5UtWxY7d+7EBx98gAYNGmQ5WufOnTFp0iQsWbLEpMdTsgrQ//jjD3PenOfWv/zyS5QoUSKmAN11ivSU3b59O8qXL48tW7ZkaYsuEAERyIAAzxUOHOj8cYVVeMeNA265RdhEQAREILkEuFPLau7hx25Y7JbZgnXqJFc3m0fftQto1gxYsyZk5VlnOV08VA/A5pmXbSKQhoAC9BgcglXSx48fj4ceegiPPvpozAH6woULTWp6ly5dTODvSlYBOlPhhw8fbnbOb7rppuP3ZXcHXQF6DE6hW0UgKwKswtujBzB2bOhKtjeaOdNpryYRAREQAT8Q2LzZacW2dm1Im9y5nTPR3bopyyfec8RaReziEb4BUq8e8MYbwP82XuI9pJ4nAiLgTwIK0GOYl3imuDMNninwrAz/xRdfoEiRIhEF6J988ompHt+0aVMsYCumMMlugJ4ZEq8dJobp0K0i4H8Cv/8O3HgjMHduSFcWYuILWAQZNv43UBqKgAhYReC335wFxUmT0prF3fUxY4BTTrHK3KQZs3q1s3POOgCuNG/uLNzmz580tTSwCIhAcgh4HW+d9NdfzOW0U+JZJM6t+M6U+CpVqqQBxhT2VatWmZ7qPGdOYTG4GjVqYMCAARg4cKBpyeamtrs3//DDD9i4cSOKFy9+/Pw7x4lFvHaYWHTTvSLgawL79jmV2lesCKlZvryTunjOOb5WXcqJgAgEmABf48aPB+68Ezh8OASienXglVeAE95ZAkwqe6YvWgS0bg2wL70rLBDHTMpcubL3TN0lAiKQ0gS8jresDtAjbbNGyJuZKpaJuAF6pN60dOlSXHrppccD9Ejvi3W9xGuHidQOXScCKUWArYtYZGnDhpDa553nFP0pVy6lTJGyIiACASXwySfA9dcDW7eGALBTDdtBtmwZUCgxmj19unPW/8iR0IP69HGK9LGCvkQERCCQBLyOt6wO0JmOXrp0aezZswesos5U83Dp3r07nn/+eVPt/cknn8y2g2V1Bj2jByvFPdvIdaMIxI/AV1855wq3bQs9k5kwLMJUtGj8xtGTREAERMBrAnv2ADff7CwuhguDShbLzZnTaw3seT5babLPebiwI1Dv3vbYKEtEQASyRUABerawhW4aPHiwqeJeq1YtLF68+PjZcf7/1VdfbdLSv/76a1Rg9dP/SZMmTbBjxw4MGTIErZnWlIUoQM+KkH4uAj4lsHIl0KIFsHdvSEHuNE2bBrAwnEQEREAEUo0A20IyGB8wAAg/xcjOM/xsO/XUVLMosfqSWb9+wLBhoXGZys5MBPahl4iACASegAL0GF3gyJEjaN68ORYtWmTOerM12t69e8GUdaaTT5gwAZ14lihMKlasiK1bt5qfsa1aVqIAPStC+rkI+JDAm28CbdsCLAznCisfjxqlXSYfTpdUEgERiJIA62ew6GX4AiT7dbOw2UUXRfmwgFzOVPYuXZxg3JUCBYA5c4ArrggIBJkpAiKQFQEF6FkRiuDnDNJZtI39y3nWPG/evCbdvV+/fmjUqNHfnqAAPQKoukQEUpnAxInOSxhbqrnSv7+z46Rzhak8s9JdBEQgnADPo3Mh8uOPQ//KNPcnngDuvlufd+Gsfv3VYRXecadUKWD+fKB2bfmVCIiACBwnoABdzhAVAa8dJipldLEI+I0AUxeZtsj0RVcYkI8eDXTv7jdtpY8IiIAIxE7g0CHnLDXbroVLu3ZO9XfuEAdddu8GrrkGWLUqRKJSJaeLh6rgB907ZL8I/I2A1/GW1UXiguhPXjtMEJnKZksI8FwmX1KfeSZkUO7cwNSpQJs2lhgpM0RABEQgAwIvvQTcfnvaYz1sIclWbEFuJcksAxYK3bgxBK5mTWcnXef19eskAiKQDgGv4y0F6Ja5ndcOYxkumRMUAtxBYj0Jtsxxhe2HWKm9ceOgUJCdIiACQSewbp2zILlpU4hE/vzAiy8CN9wQPDrr1zstNnfuDNnepAnw6qsAvyMkIiACIqAAXT4QKwEF6LES1P3WEThwALjuOmDx4pBpp53mtCGqXt06c2WQCIiACGRKYP9+Z8Fy7ty0l/XqBQwfDjCzKAiyfDlw7bUAebjCtP9Jk4A8eYJAQDaKgAhkk4DX8ZZ20LM5MX69zWuH8avd0ksE0iWwaxfQrBmwZk3ox1WrOucKK1YUNBEQAREIJgHW43j8caceB4//uNKwoVPlvWxZu7lwh5wV7pld5QoXKJ56Cjj5ZLttl3UiIAIxE/A63lKAHvMU+esBXjuMv6yVNiKQCQGmcPJc4ZYtoYvq1gXYXq1ECaETAREQARFYtgzgrvGPP4ZYsHI5jwOxb7qN8txzQM+eaRcmhg4FHnhAVe1tnG/ZJAIeEPA63lKA7sGkJfORXjtMMm3T2CIQMYHVq52d8/CXTp4znD0b4HlLiQiIgAiIgEOA5695/vz990NEuIs8eLBdQSuzBgYOdP64kiOHU8meKf8SERABEYiQgNfxlgL0CCciVS7z2mFShYP0DDCBRYuA1q2BgwdDEDp2dF7CcuUKMBiZLgIiIAIZEDhyxAnGR45Me0HLls6Z7MKFUxvdsWNAjx7A2LEhO/LlA2bNAlq0SG3bpL0IiEDCCXgdbylAT/iUejug1w7jrfZ6ugjESIBpmQzG+bLpCl86mb7IfucSERABERCBjAnw/Pltt6Vd4GQfcLZiS9Wimr//7pw3Dy+KV6yYc9ypfn15gwiIgAhETcDreEsBetRT4u8bvHYYf1sv7QJN4Omngd690yJgwR/2PpeIgAiIgAhERuDLL51WbPyvK9xt5tltLoCmkuzb51RqX7EipHWFCk4XjyD3fk+lOZSuIuBDAl7HWwrQfTjpsajktcPEopvuFQFPCPBcISsRDxsWejxT2SdOdHZNJCIgAiIgAtER4BGhLl2AGTPS3nf77QAXQ1OhDdmOHU6P8w0bQjZUq+YE57ZXqY9utnW1CIhAlAS8jrcUoEc5IX6/3GuH8bv90i9gBJjK3rWrc0bSlQIFALbQado0YDBkrgiIgAjEkQAXP599Frj3XuDo0dCDL7zQKbh5+ulxHCzOj/rqK6eLx7ZtoQdfcgkwbx5QtGicB9PjREAEgkbA63hLAbplHuW1w1iGS+akMoFff3UqD8+fH7KiZElgwQKgdu1Utky6i4AIiIB/CHzwAdC2rVPt3RWe4Z4yxdmh9pusXOkUftu7N6RZq1bA1KkAU/UlIiACIhAjAa/jLQXoMU6Q32732mH8Zq/0CSiB3buBa64BVq0KATjjDOCtt4AzzwwoFJktAiIgAh4RYMvK9u2BpUtDA7Dw5sMPA//5D8C2bH4QFn7jYgILw7nSrRswejTAlmoSERABEYgDAa/jLQXocZgkPz3Ca4fxk63SJaAEtm51Uhc3bgwBqFHD2TkvXTqgUGS2CIiACHhMgGnu/fsDQ4akHYi76C+/DBQv7rECWTyedUd4bp4t1VzhAgL/qItHcudGo4uAZQS8jrcUoMthLCMgc6wmsH69k1IZnmp5+eXAnDlAoUJWmy7jREAERMAXBHiOu1MnYP/+kDqsjM5z6XXqJF5FnpVnkVAWC3WFO/qjRgHduydeH40oAiJgPQEF6NZPcXwN9Nph4qutniYCURBYvtxplxP+Usgz6JMnp0ZF4ShM1aUiIAIi4GsCmzY5rdjWrQupmTs38H//5xTuTNSO9Z9/Oq00n3kmpAcrzPO8+XXX+RqhlBMBEUhdAl7HW9pBT13fSFdzrx3GMlwyJ1UIcIe8Qwfg0KGQxnfdBYwc6Z+zj6nCUnqKgAiIQDwI/PYb0KNH2i4afC5313nm+5RT4jFKxs/g90HnzsD06aFrChcGXnsNaNTI27H1dBEQgUAT8DreUoBumXt57TCW4ZI5qUDgueeAnj0B7pS4Mngw0Ldv4nZpUoGTdBQBERCBRBNgevn48cCddwKHD4dGr14deOUVoEoVbzQ6cMDZIV+8OPT8MmWcHufnn+/NmHqqCIiACPyPgNfxlgJ0y1zNa4exDJfM8TMBvvgNHOj8cYVVeMeNA265xc+aSzcREAERCBaBTz4Brr8eYBFPV1gXhEeQWraML4tdu4BmzYA1a0LPPessp4uHn3uzx5eCniYCIpBEAl7HWwrQkzi5XgzttcN4obOeKQJ/I8AqvEydHDs29CP2r50502mvJhEBERABEfAXgT17gJtvdnaxw4XZTo8+CuTMGbu+PPvOLh5btoSeVa8e8MYbQIkSsT9fTxABERCBCAh4HW8pQI9gElLpEq8dJpVYSNcUJcD+tTfeCMydGzKgWDHnBaxBgxQ1SmqLgAiIQAAI8CjSoEHAgAEAs6BcuewyYNo04NRTsw9h9Wpn55w92V3h32fNAvLnz/5zdacIiIAIREnA63hLAXqUE+L3y712GL/bL/1SnMC+fU6l9hUrQoaUL++kLp5zToobJ/VFQAREICAE+JnNhda9e0MG84w4g+mGDaOHsGgR0Lo1cPBg6F4Wo+ORp1y5on+e7hABERCBGAh4HW8pQI9hcvx4q9cO40ebpZMlBHbscHqcb9gQMui885x0yXLlLDFSZoiACIhAQAjwPHrbtsDHH4cMZpr7k08C7MIRaSs2Vmnv2BE4ciT0nD59gCFDIn9GQJDLTBEQgcQQ8DreUoCemHlM2CheO0zCDNFAwSLw1VfOucJt20J2X3yx0y6naNFgsZC1IiACImALAbZC690bYDeOcGnXzqn+XqBA5pY+/bRzf7iMGPH3f7OFl+wQARFICQJex1sK0FPCDSJX0muHiVwTXSkCERJYuRJo0SJtKiSr/vK8IgvDSURABERABFKbAKu5d+8OsMaIKzy2xFZs6R1f4vn1fv2AYcNC1zOVfdIkoEOH1GYh7UVABFKegNfxlgL0lHeRtAZ47TCW4ZI5ySbw5ptOCmT4S1vXrsDo0fGp+Jts+zS+CIiACIiAQ2DdOqBNG4CV2F1hcbcXXwRuuCH0b0xl5/cAg3FXuNP+6qtA06aiKQIiIAJJJ+B1vKUAPelTHF8FvHaY+GqrpwWawMSJQJcuAFuqudK/v1P9N9KziYEGKONFQAREIMUIsBBo587AvHlpFe/VC3j8ceDwYSdYnz8/9PNSpZy/166dYsZKXREQAVsJeB1vKUC3zHO8dhjLcMmcZBBg6iLTFpm+6AoD8lGjgDvuSIZGGlMEREAERCBRBPgdwGCc3wFsy+bKRRcBR48Cq1aF/q1SJaeLR5UqidJO44iACIhAlgS8jrcUoGc5Bal1gdcOk20ar7+u4Cvb8Cy7kTvmP/wQMip3bmDqVCf1USICIiACIhAMAsuWASwWF97XPNzymjWBBQti650eDJKyUgREIMEEvI63FKAneEK9Hs5rh8m2/jNnOl/EEhEIJ1CokFOpvXFjcREBERABEQgaAbbXZEr7Bx+ktbxJE+fMOb8jJCIgAiLgMwJex1sK0H024bGq47XDZFs/BejZRmftjaed5vQ4r17dWhNlmAiIgAiIQBYEWBTugQeAkSOdC9u3B1ijJE8eoRMBERABXxLwOt5SgO7Lac++Ul47TLY1+/ZbYMWKbN+uGy0jwIq87Ht+yimWGSZzREAEREAEskVg40aAReTq1lWh0GwB1E0iIAKJIuB1vKUAPVEzmaBxvHaYBJmhYURABERABERABERABERABETAdwS8jrcUoPtuymNTyGuHiU073S0CIiACIiACIiACIiACIiACqUvA63hLAXrq+ka6mnvtMJbhkjkiIAIiIAIiIAIiIAIiIAIiEDEBr+MtBegRT0VqXOi1w6QGBWkpAiIgAiIgAiIgAiIgAiIgAvEn4HW8pQA9/nOW1Cd67TBJNU6Di4AIiIAIiIAIiIAIiIAIiEASCXgdbylAT+LkejG01w7jhc56pgiIgAiIgAiIgAiIgAiIgAikAgGv4y0F6KngBVHo6LXDRKGKLhUBERABERABERABERABERABqwh4HW8pQLfKXQCvHcYyXDJHBERABERABERABERABERABCIm4HW8pQA94qlIjQu9dpjUoCAtRUAEREAEREAEREAEREAERCD+BLyOtxSgx3/OkvpErx0mqcZpcBEQAREQAREQAREQAREQARFIIgGv4y0F6EmcXC+G9tphvNBZzxQBERABERABERABERABERCBVCDgdbylAD0VvCAKHb12mChU0aUiIAIiIAIiIAIiIAIiIAIiYBUBr+MtBehWuYuKxFk2nTJHBERABERABERABERABETARwQUoPtoMlJBFa8dJhUYSEcREAEREAEREAEREAEREAER8IKA1/GWdtC9mLUkPtNrh0miaRpaBERABERABERABERABERABJJKwOt4SwF6Uqc3/oN77TDx11hPFAEREAEREAEREAEREAEREIHUIOB1vKUAPTX8IGItvXaYiBXRhSIgAiIgAiIgAiIgAiIgAiJgGQGv4y0F6HIYywjIHBEQAREQAREQAREQAREQARHwhoACdG+4WvtUrx3GWnAyTAREQAREQAREQAREQAREQASyIOB1vKUddMtcMF++fDh69CjKly9vmWUyRwREQAREQAREQAREQAREQASSS2D79u3ImTMnfv/9d08UUYDuCdbkPbRIkSI4dOgQTjvttOQpkcHIdGaKFg98NzUJVUh+kFDcvh5MvuDr6UmYcvKDhKH29UDyA19PT8KUkx8kDLXvB/KzL3z//ffIkycP9u3b5wlHBeieYNVD0yPgdTqIqKcGAflBasxTIrSULySCsv/HkB/4f44SoaH8IBGU/T+G/MD/c5QoDYPsCwrQE+VlGgdB/kXT9IcIyA/kDS4B+YJ8gQTkB/ID+YF8QN8L8oETCQT5u0EBun4fEkYgyL9oCYOcAgPJD1JgkhKkonwhQaB9Poz8wOcTlCD15AcJAu3zYeQHPp+gBKoXZF9QgJ5ARwv6UEH+RQv63IfbLz+QN2inRD6gzwT5gHbL5APpEdA7gvxC7wiAAnT9HiSMgD50E4ba1wPJD3w9PQlVTr6QUNy+HUx+4NupSahi8oOE4vbtYPID305NwhULsi8oQE+4uwV3wCD/ogV31v9uufxA3qDVcfmAdtDlA9pBlw9oB10+kBmBIL8vKkDX70bCCAT5Fy1hkFNgIPlBCkxSglSULyQItM+HkR/4fIISpJ78IEGgfT6M/MDnE5RA9YLsCwrQE+hoGkoEREAEREAEREAEREAEREAEREAEMiKgAF2+IQIiIAIiIAIiIAIiIAIiIAIiIAI+IKAA3QeTIBVEQAREQAREQAREQAREQAREQAREQAG6fEAEREAEREAEREAEREAEREAEREAEfEBAAboPJkEqiIAIiIAIiIAIiIAIiIAIiIAIiIACdPmACIiACIiACIiACIiACIiACIiACPiAgAJ0H0yCVBABERABERABERABERABERABERABBejyAREQAREQAREQAREQAREQAREQARHwAQEF6D6YBKkgAiIgAiIgAiIgAiIgAiIgAiIgAgrQ5QMiIAIiIAIiIAIiIAIiIAIiIAIi4AMCCtB9MAlSQQREQAREQAREQAREQAREQAREQAQUoMsHREAEREAEPCdw+PBh7Nu3D4UKFULevHmPj/fLL79g6NChWLduHU4//XTcf//95r8SERABERCBYBD4888/MX/+fKxcuRI//fQT6tWrh1tvvdUYz7///PPPqFy5MnLkyBEMIAG0slKlSmjbti2GDRuWqfX9+vXDzJkzsXnzZqspKUC3enqTa9yHH36IcePGoUuXLmjYsGG6yrz//vt44YUX0L17d9StWze5Cmt0zwgcPXoUM2bMwJIlS7Bz504cOnQo3bFOOukkLF682DM99ODkEfjPf/6DwYMHg7/z9evXN4ocO3YMtWrVwoYNG/DXX3+ZfzvttNOwdu1alChRInnKauSEENi+fTuWLVuW5WcCfUdiJ4Hff/8dn3zySaY+QMs7duxoJwBZZea/Q4cO2LJli/ke4HtAp06d8OKLLxo6/G/Xrl0xZ84cXHvttSJmKYGTTz4ZnTt3Pj7vGZlJX6BP8P3BZlGAbvPsJtk2fsBylWvHjh0oVqxYutrs2bMHZcuWxU033WQCdYl9BDjHTZs2NUGXG4RlZCW/mG3/0LVvhiOz6KKLLjKfBd9+++3xG/j50L59e9SsWRO9evUyOyj8t4cfftj8kdhJgLtld911F55//vnjnwknfjbws8B9Wddngp1+MGjQIAwfPhy//vprlgbKB7JElJIXfPPNN2aRdv/+/fjHP/6BRo0amSyq8ECNPytdurQJ4t2gPSWNldKZEog0QL/55psxa9asDDd6bMGsAN2WmfShHWeeeSZKliyJDz74IFPtGjRogL1792Ljxo0+tEIqxUqgW7duGD9+PCpWrIgePXrg7LPPRsGCBTN8bOPGjWMdUvf7kEC5cuVw7rnn4u233z6uHRfmpk+fbnbQzznnHBOQMb2du+erV6/2oRVSKR4EmEnx0EMPgS9kV199dZafCVqsiQd1fz3j8ccfR58+fYxSNWrUQJUqVZA/f/4MlZwwYYK/DJA2cSFw2223gXP73HPPge8KlPQCNQbxR44cwfr16+Myrh7iPwKRBOhcrOHnBRd5t27d6j8j4qiRAvQ4wtSj0hLgly3TkaZNm5YpGq6KvvHGG+BZVIl9BMqUKWO+WD///HOUKlXKPgNlUUQEeO78+uuvx8svv3z8egbjuXPnxn//+9/j/9amTRu8++672L17d0TP1UWpR6Bq1arYtm0bli5dCi7QSoJHgOeJmVHz+uuvmwwrSTAJVKhQAUWKFDE1SFxJL1Br2bKlOR6l7wW7/ITnzl1hdl2BAgUyPN7Go5K7du0C/8uFnbFjx9oF4wRrFKBbPb3JNY4fupdccon5As5MGMTzRU0BenLny6vRGZhxl2zu3LleDaHnpgABni3nyveCBQuMtgzQmFVx4pkz7qrTVyJJe00Bs6ViOgT4mcDvhnfeeUd8AkogX758Jp35rbfeCigBmU0CefLkQatWrUyNmswCdBYP40YOaxZI7CHAxRhX3GNNmVnHBf0WLVqYrMyiRYvaAyIdSxSgWz29yTWORd82bdpkXsS5KpaeHDx4EOXLlzcv6mvWrEmuwhrdEwJnnXUWuEqul3FP8KbMQ3kGnbskTEtjTQpWbn/wwQdN7QkG6a5ceuml5jODBYMkdhJg3ZE6depo0c7O6Y3IKh6B43cDgy5JcAkwq47H3pYvX55pgM4Ud+6e87tBYg8BN02dx9u4m84sOx5/SU8YnPPYbM6cOe0BkIklCtADMc3JMXLIkCHmBZxFoCZPnvy3XyqmqbCQHM+gDhgwAKrUm5x58nrURx99FE8++SS++uorU+hFEkwCPGfItDSmtbMo3Jtvvml2T/jCxWwbCqv78/w5d1dZME5iJwFW4WUmBRdh+NIlCR4Bft+PGTPGHG+xfScseLMbucXNmzc3GZRffPEFzjjjDHPjiSnun332GWrXrm1acPF9UWIngYED0C3AdQAAIABJREFUB5osOx5nkAAK0OUFnhHg7jhfxPkSxtVypq5yxZxpLCwIx7Oo/HLmhzJ3zzMrHOaZknqw5wR4/pwp7kxZnjRpkvEBSfAIsAozWyW5NSmYVcM0tRtuuOE4DFZmbdeuHbi45xaQCh4p+y3mOUK+cPPlfNSoUciVK5f9RsvCNAT++OMPXH755WaBhlk0PJMuCR4BHoFkQMZ3RX7+cxc1PEDnAi5/zuwrtmlVEdng+UhQLVaAHtSZT5DdbKHRunVr8+HKwDxcmNJSvXp1vPrqq+ZDWWInAb6EMUhngZccOXKYdHceawg/e+Rarj7odvpAuFV84frxxx9NWuOJR1+4U8KUN/ZJP/XUU+2HEVALH3nkETPPEydONJ8H/IzI7DNB2VV2OgoX8VkkkNlVzKxhpwd9L9g515lZdfvtt2PcuHHm/YDvhNyw4ecB/YE90vn+cPfdd2PkyJHBgxMgi9mSd/PmzSYeYCadK9u3b0ffvn1NHMHPCe60c4HXdlGAbvsM+8A+tkOYN2+eKQbjnh/iL9mVV15pVkbT+0L2gdpSIU4Eoplf9UGPE3Q9RgR8TICfCVkVBFIfdB9PYBxU4yLdFVdcYbp7cLE+M9H3QhyA+/wR//d//4dBgwbhp59+SqMp65WwJWPv3r19boHUi5XA/fffj6eeegpcqD///PPN41gUkC1YGaS7nxOFChUywToXd20WBeg2z65sEwEfEGDLrGhEKWzR0ErNa/ft22d2RvgyxsW6hg0bpqYh0jpbBLgDEo2oD3o0tFLjWtafeemll3Duueea/tdZ9UHX90JqzGssWnIzZ/Xq1WC7Lf4/d9FZTDIoRcFiYWfDvZzrAwcOmCOwrvD4C2uWXHXVVejXr58pKvnEE0/g3nvvNf+1WRSg2zy7sk0EREAEfESAgTl3QngOnUUiKXxRf/HFF83/jx492uyi8NgL09wlIiACdhLgERaeP2dxMNWfsXOOZZUIREOArVhZiyC8QGybNm1Mtw8el3V3zFnHiJ8d69evj+bxKXetAvSUmzIpLAIiIAKpR4DnTblTvmHDBnO+/MILLzSV3MP7oHPnhMWi/vWvf2H48OGpZ6Q0FgERiIgAg/JmzZph5syZEV2vi4JBgK15mVlVvHhxVK1aNRhGy0pDIG/evKbNGgtIu8KgnefRw4NxFpZl296ff/7ZanIK0K2e3sQaxwIfPCvGFXF+sPLvkQrvc3fUIr1H16Uege+++w4rVqzAjh07jPLsh8yWWiwGI7GbQP/+/c3uOHfMuVOeL1++v7XTIQGeN+PL+0cffWQ3EFknAgEmcNFFF5nPgEWLFgWYgkwnAb778buB3wssFEYJz6xi95fnn38eY8eORbVq1QTNUgI80sDdcfczganufB/o3r278Q1XbrzxRpPqznR4m0UBus2zm2Db3GJgrMjKAD2a4mBUlWeOJHYS2Lt3L3r27InZs2f/bZ7pJ+xv+uyzz4IFYSR2EuBZU+6ic4fE7X19Yr9bWs6WfCwAs3PnTjtByKrjBNjZga2TONeHDh1KlwwXb3kOUWIXgTlz5pgWi/SBunXr2mWcrImYgNuGddmyZabdIlvysnBgeGYVN30YmHORd8CAARE/WxemFgEWjXzvvffw5ZdfmvbLDzzwAJ588klMnTrVtF91hZl4zLJgm2abRQG6zbMr20TABwTY/5wfqExRYlYF/99tq8dzRXxB4+IMq3by//Pnz+8DraVCvAlwt4x9r1955ZXjj04vQO/QoYM5g55RwBZvvfS8xBNgZV4uyi1YsMAMnlkVb1XwTvz8JGJEdnRh5e7nnnvOFHxq2rRphm3WqI/tFZsTwdyPYzAAY/VuFgGbMGECSpcunW5mFY8+8Wd8R5DYSYDf+0xxZwYd53vt2rXmqAOPvp1yyinGaC7ylyxZ0izkc5HPZlGAbvPsyjYR8AGBRx99FKzCfNlll5k0NVbrDRf2vWQf1KVLl5r+lmypIrGPQJEiRVCvXj3TbtGV9AL0iy++GF9//bXplS6xkwBfyPlizhexf/7znzj77LMzLRTGdFeJXQTcI3BcnOEiTGaiI3B2zX24NSwKxgwa7oayfRYlve8F7q4y5ZnttiT2EnjwwQcxYsQI/PHHH6bDC483NGrU6LjBLCjbpUsXc02vXr3sBQFAAbrV05tc4x555BHUqFED1157baaKvP7661izZo1JX5LYR6B69er44YcfsGXLFhQoUCBdA7kqyl11rpAzvVliHwFmTvAljFkTrh+c+CK2a9cus3LOa99++237IMgiQ4AvXizww5ZKJy7YCVEwCFSsWDHLwDycBD83JPYRYMZckyZN8Nprrx03Lr0AneeOucPKwE1iNwFmz/3yyy+mONyJwswbfnfwPSGj90lb6ChAt2UmfWhHeh+y6anJHodcFTt27JgPrZBKsRLgF3CLFi2yrNbL84is6s2UeIl9BJjOyhXvm2++2fy+s7dt+GcEd9KY3j5r1iyT6tixY0f7IMgiQ4DVerkjxkI/EhEQgeAS4K45d0jDPwvSe3e89NJLzTE5t4hccInJ8qAQUIAelJlOgp2RBui33norJk+erCruSZijRAzJL2CukGd1Xqh169ZYvHix9ZU5E8Hcj2McPnzYvIh9/PHHphAQF22YplanTh0TrLHXKYvDsKo/jztEW2TSjzZLp/QJcPeURQPD+92KlQiIQPAI1KpVC8yc4jljFomjnPjuyGrdzLphnZrly5cHD1IALWY71pUrV5picOedd97xTFzWK2LVf7fQrM1oFKDbPLtJti3SAL1x48ZmZZSVviX2EWAAxtRmVu9OL2WJFu/evdukujJwYwAnsZPAvn37cNttt2W4WMPjMDxzVrhwYTsByCpDgH3uuSjLYy88hy4JHgEuwrEuiSTYBNhejccbWZdi2LBh6QbozLxil5eRI0firrvuCjYwy63nQg0r+LMdryvhLfeeeeYZ3HPPPaaWDRf2bRYF6DbPbhJs47lzV9gOg2fQW7Vqla4mXAXjjhnPFTF9ibunEvsI8EuVVXovuOACU7WXRcDC5YMPPjBfup999hmeeuop6wt/2DfD0VvE1fGFCxeaXROuiLP/KauysmCQxH4CrDnRoEED00qHxx0yWrizn0RwLeQCPndFWSSQf7g4KwkeAX4WcBedxWK5WcNMOgbkXLxp3769ac3KvtjMuPnkk0+QJ0+e4EEKiMUsDFu7dm3s2LHDvC/yXXHUqFFpWu6xnhHfF1hYmIs2NosCdJtnNwm28UuXFVfDK7Nm1kKHKrJ9As8e88NZYh8B9jllijv7W9I3+FLGF3MKC/9s3brV+AvTn/lFzLPJEhEQAXsJ8FjT/v37TSYFj8DwpYwvXekda1AfdDv9gIv3LAjqVnDngg13yliLRBk0ds55Rlax8FebNm3w6aefpvv+yIVbHoHiZ4TEXgK9e/cGd8hZyZ2bffxsSC8Tl4WH2QWCxaVtFgXoNs9uEmzjrrkboLtV3Fu2bJmuJjxDUrZsWdP/8tRTT02CthoyUQRYeZXt09hm7cQicCwix9VQprqxeJTETgJcfLE9Jc3OmYu/VeELuVk9XX3QsyKUuj9nJs3EiRMxbdo0fP/99+bdgTukfGdgsH7llVeqFkXqTm/UmrNQXHqZVczCzKoVX9SD6QbfEWBldn438EikK+kF6Kxfw2wK1i6wWRSg2zy7SbaNhYC4Gj58+PAka6Lh/UKAgTpXyZnCxF3zcuXKmd0zBeZ+mSHv9OAXLdNYu3fvblLWihYt6t1gerKvCbDOQDSiPujR0Eq9a3nM5Z133jH1J+bNm4fff//dBGRcuGfXB6bAs0CYRAREwF4CfA/8xz/+YTq5ZBagt2vXznxO2N5yTwG6vb4uy0RABETANwTq1atnCgDyxZtfxPySveOOO0wVd4kIiIAIkADPJM+cOdMUEXQLRfEzgzVrJPYRKFasGKpVq6bq7PZNbdQWFS9e3Jw9X7JkSaYBOt8ltm/fjp07d0Y9RirdoAA9lWbLIl25Ws7zZxUqVMB1111nzpNIREAE7CbAQoAs+jJ9+nRz1IEv3iwQ1KNHD1MQKF++fHYDkHWGAHdII53rjRs34qyzzhK5gBFgyvvgwYPN54WOOdg7+eziwO4dU6ZMsddIWRYRgcsvv9xkWDLFvVSpUuaeE1Pc2fnjnHPOMUVluYtusyhAt3l2k2zb+PHjTVXusWPHpqncfcstt5jVcVdYqZHnU90emElWW8PHSMCdW1Zj5Zdv+FxH8uiOHTtGcpmuSWEC7GvLdNbnnnvOdHLgCzgLQzGVmSnwCshSeHIjUJ1pjHy5yqrXPVszssPHd999F8FTdUmqE2DKKgsH8juD7wRMfedRKL6Qf/7556lunvRPh8CFF16IIkWKmPmWBJsAf+95/K1p06aYMWOG8YvwAJ3ZNaxPsWzZMtP9KaP6VrZQVIBuy0z60I7mzZtj1apVYFsEN/hmyhqrtfMXj4U/3n//fdMfm0E8+yNLUp+AWwCKgVfVqlXNB2w0BV6OHTuW+hBkQcQE3n33XYwZM8a8mLtprGyxw111fkZkFcRFPJAu9A0BzmmXLl3M535GwhZ87OzAehX6TPDN1HmiCD8D+HL+yiuv4JdffjFBOWtUMKuGi3Z169b1ZFw9NPkE+NnP6t08/sTq3JLgEuDvPbMp2NWJv/9cnOV7ARfo2PXh7bffxp49e0zF//Bz6rYSU4Bu68z6wC620mIKO798XbnzzjvNy/iCBQtMhdaff/4ZLCbHcyfLly/3gdZSIVYCXAFlQD506FBT5Mf9e6TPnTBhQqSX6jpLCPz0008YMmQIRo4cedwityUf/53n1SX2ELjmmmvMd0D//v3x8MMP/80wni9kcM4WjOzu8O9//9se42WJIcA0VgblL7/8Mthmiy/nbLHJ1FUG5cyyYKcXif0EuBjLugN9+vQxi7J8b1S/c/vnPT0L2Za3b9++GD16NA4dOpTmEm70sW7N448/HoiMWwXowfwdSIjVBQoUMKthU6dOPT4eK7H++OOPadoj8GWN/Qy5UyIRAREIDgFm1DDNnelqhw8fNl+6bdu2Ne3YeCaRaY8M1J999lnzxSyxgwDPoDOTiucNx40bB/ZFd4WFf/izzZs34z//+Q8GDhxoh9GyIg2B8FZ7XKBnUH7TTTehZMmSIhUgAtHUH1KxwOA4BnfKly5dCmZS8ahL+fLlwTPqQWrJrAA9OP6ecEtZnZMvWkxRoezfvx+s0shzI0xlc4UtVGbPnm0KB0lEQATsJsAUVu6cMTD/4osvjrfbu/3229GtW7c0L+g8AsMdtdKlS6fpjWo3oWBYt3v3bjRo0MDsks+dOxc8EsW+tvzO+Prrr3H//fdj2LBhwYARQCv5O82AnIG5UpsD6AD/MznaI0wM1iR2EmDhaPoDq/pLAAXo8gLPCHBVnC9hTFfkLx13xBiMs3Aczxy5whcz/mKqEJBnU5HUB1eqVMnsimb1st2vXz+T5sadM4l9BFavXm2C8mnTpuG3334zgTnPmPXs2dOkNWa0k8JzqO4Ou31Ugm0Rf9cbNmxoFmfpF0xtZDGwXr16YcSIEcGGY7n1rCuQ0e88F/G4SFOuXLlA7ZhZPuUyTwQyJcA4gUebWAROogBdPuAhgUceeQQDBgwwae5MTWGAxh0SfvEyaHOFK+lVqlTBe++956E2enSyCJzYJiMjPbp27YoXX3xRBaGSNVEej+vulPDoy8033wzWozj33HOzHJXFxOgX2jnJElVKXvDJJ5+YhRoG6Vy0YSYF65RI7CbAl3AuyDJrhgWgXHnhhRdw1113mfOn/My47777TH0KiQiIgN0EmGHbrFkzU5dCogBdPuAhgX379qFevXppUlP/9a9/mQIPrjCF9ZJLLjHFQfQl7OFkJPHRkQboDNpYmfPEwiBJVF1Dx5EAW6dxt5xtFtl+TyICLoGFCxeahVy2WGR7Ton9BJjezqNu7PLCri4UdnRhxWburrN4LOvSsLODW1TWfirBs5AbOVyg4e9/ZvL666+bWkUsLCmxkwALR/PsOWuTSBSgywc8JsBUVp4vZ2E49rvkTkm48Owhq7zzpV3n0DyejCQ9PpIAnfUJ+CXNXVKeSZWIgAjYQyCaQlAnWq3CUPb4QbglXLBjK6WVK1ce/2cGX6zaz+MNPObw2WefoU6dOmjRooWpUyCxj0Ak7we0Whl29s39iRaxKOxVV12FiRMnmuOwQRedQQ+6B8h+EfCAQPgRBlbhZFpziRIl0h2JOyQ8+sD/3nbbbZn2RvZAVT1SBETAYwLRFoI6UR0db/B4gpLweAbn7NYQ3s/44osvNkE5d9HcNltc1Gcbti1btiRBSw3pNYFIA3R2emBxUb4nSOwkwFbLrEUyduxYUxzWbbmXL1++dA3meXWbRQG6zbMr20QgSQTCX8i5A8azpZkJ+91yl4TprXxxk9hN4NdffzXprAcOHMjQN2z/8rV7hmWdCGROgIu2LBDLc+gUtlksXLgwLrroItNe0RUefWKRSGbjSewjEGmAzu4O69evx969e+2DIIsMgfDWi/w73x0zkiBkVilA1y9G3Ahw9YtSt25d5M2bF+7fIx1AL+SRkvL/dW6aOgNz7qZff/31aWoPhFvA4Jy9b3PmzOl/w6RhTAT++9//mtTVd955J9Oib0H48o0JpG4WgRQncPbZZyNXrlwm6KIwKOcZVKa5s7isK9ddd50pIMtjchI7CPDcuSucax5v425pesId8y+//NIs0jCbYvHixXZAkBV/I8D5zSwoP/EG9km3WRSg2zy7CbbNXf3ih2nVqlWPr4ZFooZeyCOhlJrXDBw4EDVr1syyCExqWietIyXANNVatWqZHZCyZcviyJEj5qWbvbC5m/7TTz+ZL2f+nS/utn/5RspN14mAjQTcM8Xs7sLAvHv37li1ahVYOLZ+/frHTea7BHfb2aZRYgeB8J1SNyDLKsvulFNOwZtvvgnupEtEIAgEFKAHYZYTZKO7+vXSSy+Z/qVaDUsQeA0jAilA4I477sDzzz9vdse4S8bCkDxTyIrNFO6M9OjRA6eddhrefvttMLNCIgIiYCcBZtNw4Zbt9SgM0PjOsGTJkuMGc+GOAbpa79nlA/wOcI++uVXcW7Zsma6R/B7ggi6Lh5166ql2gZA1IpAJAQXocg8REAEREAHPCVSuXNmktbPYE1/OTgzQqQALCrI3OtsuPvzww57rpAFEQASSR2Dt2rUYOXKkyZ5hl5cHHngA3Cl1ZcyYMaZg1GOPPWbOq0vsI8B2ejfccAOGDx9un3GySARiIKAAPQZ4ulUERCByAiwGxL63X3/9dYbFwRi4bd68OfKH6sqUIcBKrNwFcdsldenSBRMmTDA7aOG75XwR/+abb8y5Q4kIiIAIiIAIpEeAxyPeeuutNFkXIpX6BDZs2IBnnnnGtGDesWOHMYhZFMywueuuu1CtWrXUNzICCxSgRwBJl4iACGSfAFOYWejnjTfeyLBit5vuxv+6Kc/ZH1F3+pFA8eLF0aRJk+NVm++55x7zJcxgvEKFCsdVbteunfEVVnqXiIAIiIAIiEB6BNLLwhKp1CbAY3B33323aaeXXl0C1qfhewOPvdguCtBtn+Ek2hdpFXfunrFHdpUqVZKorYb2igA/THv37m0KhA0dOhTPPfcc5syZg6+++soUB5s6dar5w7RmfuiefvrpXqmi5yaRwAUXXGDSVz/88EOjBdNX77zzTrOL3rFjR/NvLBx35plnmkWa7du3J1FbDS0CIiACIuBnAgrQ/Tw70evGApHs5sQigjfeeCM6d+5sugBRuJA/ceJE867Io3KMLxo2bBj9ICl0hwL0FJqsVFPVrdQZqd6FChXCP//5TwwaNAj8f4kdBOrVqwemLPF8Mduppfel+vLLL6NTp05m57RZs2Z2GC4r0hBgATgWhfvhhx9MVWZWdee5dP7/4MGDTWHJcePGmUq9bMs3Y8YMERQBERABERCBdAkoQLfLMVq3bo3XXnvNtNTLqGggf86WfPzD62wWBeg2z26SbeN5EaapfPDBB0aTokWLmt1Rpq3w5fznn382xaIYwLFIDAM4royxSBR32fjiLkl9AoULF0bdunVN72vKrbfeikmTJpndUi7iuMIddvqI+pym/pynZwHnla2UnnrqKfzjH/8wlzz00EMmOA9vtUN/+fTTT4+vnNtJQ1aJgAiIgAjEQkABeiz0/Hcvq/Qzk5Y76ZnJxRdfDHaB2LVrl/+MiKNGCtDjCFOPSkuAxZ+uuOIK7N+/H0888QSuvvrqNBewuMf999+PggULYtGiRaYnMlNd33vvPbD1xoMPPiikFhBgWjNXRqdMmWKs6dmzp0lz56JMsWLFjlt40003YcGCBaZPtiQ4BGbPnm2KB3Lezz77bHP+jDvrEhEQAREQARHIiIACdLt8I0+ePGjbti2YUZmZ3HzzzeB7wx9//GEXgBOsUYBu9fQm17h///vfGD16tFnpYmpzesKgnH1OubPG88ms2HjWWWeZP9xFk6Q+Aa6IspUKF2EobJnDPthLly41541c4aooU+H37duX+kbLAhEQAREQAREQAc8IKED3DG1SHsxjbqVKlcLq1aszHb927drmqJxb4T0pyiZgUAXoCYAc1CG4C8bCUFmdE2GF788++8z0R6YwaOPfDxw4EFR0VtnNs0T8wHWLfrG4B48/NG7cGK+//ro5yjBt2jRwB52p8CtXrrTKfhkjAiIgAiIgAiIQXwIK0OPLM9lP4zvg9OnTTQHZbt26pavO+PHjzc9YRC6rnfZk2xPr+ArQYyWo+zMkwL7H11xzDWbNmpUpJaa0sDgYU+Ip/MVjUG97+kpQXIdtM+644w7T0/KSSy4xZtevXx8fffQRcubMaY44uLvmLAzGAmESewkcOnTIpKdxoea7774z58/LlCljFuY493nz5rXXeFkmAiIgAiIQFwIK0OOC0TcPWb9+PerUqWPqE1122WXmyOsZZ5xh9GMVdwbkrGXDzk98fzz//PN9o7sXiihA94KqnmkIMK2ZvYy5M84gLD3hLjnbKOTPnx9bt241l1x11VXgL+rOnTtF0gICBw8exNq1a40/lC1b1ljE4h633XYbFi5caAoDFilSBDwScd9991lgsUzIiMCyZctMpwb+bp/Y45SB+mmnnWYqvV9++eWCKAIiIAIiIAIZElCAbp9zcHOO8/rLL78cLx7rWsl3BmZcssgw6xrZLgrQbZ/hJNp37733YuTIkaZXIXths0p3uKxZs8YUhGKV93vuuccUkqMwiOO5Ze64Suwm8Ntvv5kigqzeGV7R3W6rg2kdj63ws4CZMawx0aFDB7Nowy9dLs4xe+LLL780O+j8TKhRo0YwQclqERABERCBLAkoQM8SUUpewPPlY8eOxYoVK8w5c74j8Hw6s+y6du2K0qVLp6Rd0SqtAD1aYro+YgLcHXcLf3F3jDvlbLNG4Qs5d9b5i8c0Ff4isvc5zyq3aNHCVHdngC8RARGwg8C1115rjrIMHDjQtFdzW6uFWzdo0CBTQJBHY9jvVCICIiACIiAC6RGYN2+eqVf08MMPC1AKEuB3fIUKFbQYn8HcKUBPQadOJZUZpPfr18+kpHC3NFzYfqtz586mDzKDc4kIiIC9BNjjnqvgPL6SmXDBjmfTf/75Z3thyDIREAEREAERCDABZk0yBnjxxRcNBR5tYzvmBx54IMBUQqYrQJcbJIQAg3PujrttEZjGzpR3BukSuwjceuut2TaIu6ovvPBCtu/Xjf4lwDoUrOifVeVVVnLlyjrPoElEQAREQATsJsAisaNGjcKSJUtMfRIWEk1P+H6wefNmu2EEyLocOXKYmjQTJ040Vp8YsAcIRfr+/teJlXqCTkT2i4AIxEQglrPk/AI+duxYTOPrZn8SaNCgganaz+MsmQkr/bOKq9rt+XMepZUIiIAIxIsAjzvyM989a5zZc/V+EC/q/nhOiRIlULVqVVNzRgH63+dEO+j+8NNAaMG1oD179hhbixUrpqJgls46jzPEIp06dYrldt3rUwIzZ85E+/btMXfuXPA8enrCnfNWrVph2rRpaNeunU8tkVoiIAIiIALxIMBioSwQyvZarD109tlnZ9j1h+O5dYziMbaekVwCrDWzYMECU6uqcuXKZiedBaL596wkCNmWCtCz8gL9PGYCb731Fp588km8//77x3ubs1IzfwlZCI5t1SQiIAJ2Edi2bdvfDBoxYgSeffZZ0+/8xhtvNFXc+UX77bffYurUqaY/es+ePU1XBxaPkYiACIiACNhLgLuofB/86quvTAstSXAIfP7556YodHrvCllRCEI2hQL0rLxAP4+JwIMPPoihQ4ce73nMMycUN42Zv2R9+/bFY489FtM4ulkERMBfBHjUIb1K7cykSe/fqb37M/786NGj/jJI2oiACIiACMSVAOsQNW/e3CzOSoJHgPWpPvroIxOks2AcN+5uu+22iEDYnm2pAD0iN9BF2SHw+uuvm6JQXBXljhh/+bgrxpdv/jIynYU7agcPHgTbZTDdRWI3gcOHD+PTTz9NUyywdu3ayJ07t92GB9A6d3c8u6Z/88032b1V94mACIiACKQAgQsuuABFihTBu+++mwLaSkUvCahIXFq6CtC99LaAP5up60uXLsXy5ctRv379dGmsWrXKrJg1adIECxcuDDgxe81nYM5epaNHjzYLMuHCBRymNQ8YMECBur0uIMtEQAREQAREIA0BHnliW621a9fizDPPFJ0AE+AiTenSpXHWWWdFTYGbfPSh/v37R32vX29QgO7XmbFAr+LFi6NGjRpYvHhxptZcccUVWLNmzfECchaYLhPCCLAiN3tbLlu2zKQwly9fHpUqVTJXcJeU2RTMqrj00kvBegWs9C0RgXACrPK6adMmdOzYUWBEQAREQAQsIsDPdXbtYKs1btbE0gnEetilAAAgAElEQVTGIiwyJQoCt9xyCyZPnmxVFyAF6FE4gC6NjgALf7Rp0wZTpkzJ9Eb2PX7llVeOF5CLbhRd7XcCzzzzDHr37o3zzjsP/P/LLrssjcoM3O+++26wYMjIkSNx1113+d0k6ZdgAjZ++SYYoYYTAREQAd8RcBfr2W6NkitXLrOLml6Qrj7ovps+3yhk4zuCAnTfuJd9ipxxxhnIkyePqc6ZmZxzzjkmONeZU/t8gBbVrVsXGzduxNdff41TTz01XSN37dpl+mEytYkFQyQiEE7Axi9fzbAIiIAIBJ1ANLvlQajcHXR/yK79Nr4jKEDPrjfoviwJdOvWDS+88AL69euHRx99NN3KzTwvwgruXbp0wfPPP5/lM3VB6hEoVKiQSVubM2dOpsq3bt3aHIc4cOBA6hkpjT0lYOOXr6fA9HAREAERSAEC7s55pKqqD3qkpIJ1nY3vCArQg+XDCbWWvY15Bv2XX34xxT/Y95i76hTulk+bNs3sqjKA4xl0Vn2W2Ecgf/78ptflzJkzMzXuhhtuwJtvvolff/3VPgiyKCYCNn75xgREN4uACIiACIiACBgCNr4jKECXc3tKgMWd2rVrZ9pqndj7mAXDypYtixkzZqBhw4ae6qGHJ49A9erVwRT2LVu2gMF6esKgnGfRmAK/bt265CmrkX1JwMYvX1+CllIiIAIiIAIikGIEbHxHUICeYk6YiuoeOnTI7J6y3RoDdQbm5cqVQ6NGjdC2bVuwmJzEXgIDBw4E/zRt2tQcYzgxU4IpbnfccYep4M5WbDa1ybB3VhNrmY1fvoklqNFEQAREwN8EuKHDVlt8T6RwA6dx48bawPH3tPlCOxvfERSg+8K1pIQI2EuAfc/r1auHL7/80rRQY9/78KMO77//PtiK7dxzz8WqVasy3GW3l5Asy4qAjV++Wdmsn4uACIhAEAgwu47dfNwCsdzEobhZl3x/ePnll4+3Zw0CE9kYHQEb3xEUoEfnA7paBEQgGwR++ukns0vOQnHul6/7GH4Js0DcmDFjULJkyWw8XbfYTsDGL1/b50z2iYAIiEBWBHbv3o1atWrhu+++M/WIWrZseTwQZ62iefPmYf/+/ahQoQI++eQTlChRIqtH6ucBJGDjO4IC9AA6skwWgWQR2LZtG1asWJHmqMMll1xivnwlIpARARu/fDXbIiACIhB0Avfffz+efPJJs4P+7LPPonDhwmmQsKtLz549MWXKFNx3330YPnx40JHJ/nQI2PiOoABdrh43Ajly5Mj2s7iLevTo0WzfrxtFQATsJWDjl6+9syXLREAERCAyAmeddRZ+//13bN68Gbly5Ur3Jh6Bq1y5MvLly4eNGzdG9mBdFSgCw4YNw8KFC7F06VJr7FaAbs1UJt+Qk08+OSYl/vzzz5ju182pR4At+Nhqj0UDWcFdIgLpEeDOySuvvGLaM0pEQAREQATsIMCgu1WrVqbtbmbSoUMHzJ071wTzEhEIAgEF6EGYZdkoAkkkwBXNWbNmoVu3bqhRo8ZxTcaPH4+7774brPLPxR0GYUOGDEmipho6kQQ2bdoE1iYoXrw4qlatmsihNZYIiIAIiIAPCBQtWtRUaX/zzTcz1aZFixZgQdl9+/b5QGup4CUBHoNctmwZdu7cad4P0xNm3b7wwgteqpH0ZytAT/oUSAERsJsAz5Zx9/OHH35AkSJFjLEMzs455xwcO3bMtF1jWxUecViwYAGuvPJKu4EE2DrO8aBBgzB69Gjs2bPHkOjUqRNefPFF8/+TJk0yrfjGjh2LatWqBZiUTBcBERAB+wmwBs2nn36KDRs2ZFilnVXe+X1w4YUXmna9EjsJsN5AmzZtsGTJEmPgiQWFw61mgM73R5tFAbrNsyvbRMAHBHjGjKvkK1euPK4Ne50zUBsxYgR69eqFzz77DHXq1AFXyZnGJrGPAM8RXn311WZlnGcNzzzzTHz++efo3Lnz8QD9iy++MC9i9I8BAwbYB0EWiYAIiIAIHCcwceJE3HrrrShfvjwee+wxMJXdrWfEY4/Tp0/Hv//9b2zfvt18T3BBV2Inge7du5vFeVbqv/nmm1GlSpVM2+7a7gsK0O30c1klAr4hwOD8iiuuMGnurrAXOoNy7qLmyZPH/POll14KVnnnarnEPgKs1MuKvVdddRUmTJiA0qVLm6MN4QE6rWYxIP6M6YwSERABERABewlwl7R9+/bm/YC7ojlz5jQ1aShsvcasK15zww03mGBdYi8B1iHioszatWtRpkwZew2N0DIF6BGC0mUiIALZI1CgQAE0b94cM2fONA84fPiwaaVy0UUXYdGiRccfyhXTV199Fb/99lv2BtJdviZQs2ZNc6bsv//9r+l3S0kvQOdiDiv1csdEIgIiIAIiYD8BtlhjRt2JhUDPOOMM3HPPPabVGgN4ib0E+K7II458D5QACtDlBSIgAp4SOPvss/+/vTuBt6nq/zj+eyLKkCkiMqWBokjSJBlKEVJSivLQJBUalCFSokmlQUopY26mRFSqh0iSFBUpc0qUISKi/q/vep59/sdxznGue4+7zz6f9Xp5da+7795rvdfWvb81/JZb0rx48WL3HAXl+p9w5DLmFi1a2OzZs23Dhg1JrQ83zxmB/PnzW/369W3y5MmhCkQL0Fu3bu1+QP/55585U1GeigACCCCQIwLKR6M/mjXXTHrp0qVzpB489NALKMeAfk+YOXPmoX+4D59IgO7DTqFKCARJ4MYbb3R7x3ROpQJz7TOaN2+eW8Jcu3btUFOVyVsjqF988UWQmk9b/iegWfM6derYlClT4gbo2uqgwRwviRyACCCAAAIIIBBsAW1969ixo82fP58kscYMerDfdlqHgA8EtKRZy5u980s1Mq4gzMvUqSoqq7sC9JtvvtkGDx7sg1pThewWqFGjhv3yyy+2atUqt6JCJXIGXVlcy5UrZ1WrViVbb3Z3APdDAAEEEEDAxwJdu3Z12yGVRFjb3bx8BD6uctKqxgx60mi5MQIIeAJK+vH000+7c6+1jOnee++1fPnyhYAUlCt7p7K4ar86JXgC+oGrbQ1KFKfVFNECdGX0115EvSu333578BBoEQIIIJDGAn379nWt79SpkxUtWtS8zxMh0R70Xr16JXIp16SowLJly9xRazrRJV7Ru6AEgkEuBOhB7l3ahgACCPhEYPv27aZZ9OXLl9sFF1xgl19+uTti78ILL3RZfMeNG+fyE1SpUsU+//zzUHZ/n1SfaiCAAAIIZFFAq6YUXC1ZssStmvM+P9CZ1/p6Opx9nUXelP72BQsWWL169Uy/K8R7H7xGKuN7kAsBepB7l7YhgAACPhLQMXoaHdcPYv2y5f3SpSrqY22FmDRpkjsTl4IAAgggECyBPn36uP/3a4WUZtC9zxNtZe/evRO9lOtSTEBL2rX1USf63H333e4c9PCVlinWnCxXlwA9y4TcAAEEEEAgMwJKFDd9+nS3H12j4ArIGzVqZM2bN+concxAci0CCCCAAAIBENDxu8pBs2jRogC0JutNIEDPuiF3QACBMIFcuXK5IEt7iLSETZ8nWtJhX1GiFlyHAAIIIIAAAgikg8DRRx/tTvoZPXp0OjT3gG0kQD8gERcggEBmBLSnTGXp0qWhPWaZ+f6g7yvKjEWQrl2xYoVVrFgxSE2iLQgggAACSRJ4//333Wxq2bJlrUWLFpka7E9SlbhtEgW0gk7b4Dhq97/IBOhJfNm4NQIIIIDAfwW0kuK8886z66+/3lq2bGkFCxaEBgEEEEAgjQWGDh1qAwcOdKe46OeDV9q1a2fDhw8Pfa6vKYmod0RnGpMFtumLFy+22rVr22OPPWa33XZbYNuZaMMI0BOV4joEEEAAgYMWKFGihP36669u+8MRRxzhsrgrWFdiGP0dBQEEEEAgvQR0rOq8efNs/fr1oeD7448/did9FC5c2OUlmTNnjv3www8uiG/fvn16AaVRazUg89lnn5mO3dWATMOGDd056N6qzEiKtm3bBlqHAD3Q3UvjEEAAAX8I7N2716ZOnepmRfTfXbt2ucC8VKlS1qZNG/dHR6xREEAAAQTSQ6BChQpuCfvMmTNDDdYZ6QrSpk2b5vYkb9682cqXL2+nnXaazZo1Kz1g0rCVkUfuHWjgXr9TBLkQoAe5d2kbAggg4EOBLVu22BtvvOGC9U8//dTVUD+MzzjjDLvhhhvcueg6goeCAAIIIBBcgQIFCljTpk33SQxWtWpV27Bhg/3yyy+hhjdp0sQWLlxo69atCy5GmrdMP/sPFJSHEw0bNizQYgToge5eGocAAgj4W2D58uX2+uuv28iRI92xa/oBnSdPHtu5c6e/K07tEEAAAQSyJKCBWC1nnzhxorvP1q1brVixYtasWTMbP3586N5aYTVu3Dh+LmRJm29OJQEC9FTqLeqKAAIIBFRAS97vuecee+6551yQHvTlawHtRpqFAAIIJCygZevKTbJ27Vq313jUqFFuu5MSx3Xu3Dl0H+1VV0b3H3/8MeF7cyECqSxAgJ7KvUfdEUAAgRQXmDt3rlvqnpGRYVr6/s8//1iRIkXst99+S/GWUX0EEEAAgXgCffv2tT59+rhl7vXq1bNHH33ULW1ftmzZPsdylixZ0ipVqmSzZ88GNE0E9LuA93uAVlrEShYXVA4C9KD2LO1CAAEEfCqgpewjRoxwf7TEXT+IdQybEgIps7uWN+bNm9entadaCCCAAALZIaBB2bPOOsu+//770O3uuusue/zxx0OfK4v7+eefb926dbP+/ftnx2O5h48F3n33XXvyySdd9v4///zT1VQnvyize9euXe3iiy/2ce2zr2oE6NlnyZ0QQAABBGIIbNu2zc2Sa7ZcP3gVlOvPqaee6oLy6667zo455hj8EEAAAQTSSGDHjh1uf7kSw9WsWdPq1q27T+snTZrksrzrbPRq1aqlkUz6NbVHjx42YMAA97uBigbuVbwtb9r+dt9991m/fv0Cj0OAHvgupoEIIIBAzgvkz5/fjYbrB2/x4sXtmmuucYF59erVc75y1AABBBBAAAEEckzg7bffdqvnlNm/S5cu7kQXHcGnoHzNmjX22muv2VNPPWXbt2+3t956y5TZP8iFAD3IvUvbEEAAAZ8IaMm6fqAqKFfCn9y5c/ukZlQDAQQQQAABBHJSQEvXP/roI3fWfe3ataNWZd68eW6pe/369W369Ok5Wd2kP5sAPenEPAABBBBAYNOmTZxtzmuAAAIIpLGAgi+VWrVquX3F3ueJktSpUyfRS7kuxQR0vN7pp59uH3zwQdyaN2jQwBYuXBj4RLIE6Cn2AlNdBBBAAAEEEEAAAQRSTUCZuLVkecmSJXbiiSe6zNz6PJGi6/bs2ZPIpVyTggIasLniiivcUXvxyrXXXmvjx48PJZBLwaYmVGUC9ISYuAgBBBBAIDMC2jOmUrp0aZfoxfs80Xto7xkFAQQQQCA4AkoAp0BbJ3iUKVPGJYRLNECXgpZAU4IpUKFCBXd6y9KlS+M2sHLlyi44X7lyZTAh/tcqAvRAdy+NQwABBHJGQDMj+vPtt98yU5IzXcBTEUAAAQQQSAmBm266yV555RW7//777aGHHoo6cPPAAw+4DO4dOnSwIUOGpES7DraSBOgHK8f3IYAAAgjEFChfvrz7Afvhhx+aRsa9zxMlC/roeKIOXIcAAggggEDQBVatWuX2oOtI1hNOOMFat27tfndQ0e8DY8aMsWXLltlRRx3l9qDrd4ogFwL0IPcubUMAAQQQQAABBBBAAAEEfC7wySefWKtWrWzdunX7zaDriFZtmRs7dqydc845Pm9J1qtHgJ51Q+6AAAIIIIAAAggggAACmRAYPXq09ezZ0wYPHmw6Zita0XFaHTt2tEcffdRatmyZibtzaSoK7Nq1yzIyMlyGfwXqCsyVr0AZ/NX/SiaXDoUAPR16mTYigAACCCCAAAIIIOAjgcaNG5vOtv7555/t8MMPj1qz3bt3W6lSpezcc8+1yZMn+6j2VAWB5AkQoCfPljsjgAACCMQQ2Lp1q/3+++9udDxaIYs7rw4CCCAQbAH9f75SpUouV0m8Uq9ePVuxYoVpnzIFgXQQIEBPh16mjQgggIAPBH777Tfr1auXO8P0119/jVkjzrv1QWdRBQQQQCDJAlqufOWVV9rIkSPjPklnX0+YMMF27tyZ5BpxewT8IUCA7o9+oBYIIIBAoAUUnNeqVcvNgOhc9Dx58tiOHTvc0sX169e7mXQF5t7MOVncA/060DgEEEDAihcvblWrVk1oBv2rr74y/RyhBENAvwccbEmHQXwC9IN9O/g+BBBAAIGEBe655x578skn3fmlgwYNsltuucVGjBhhe/fudbMiShbUvXt3a9CggY0aNSrh+3IhAggggEBqCjRs2NA+/vhjW7p0acxjszSoe9JJJ7k96AdaCp+aCulZ68MOOyxLDf/777+z9P1+/2YCdL/3EPVDAAEEAiBQuXJl27Jli61evdrNnrdr186GDx/uAnSvfPnll3bmmWe6QP6OO+4IQKtpAgIIIIBALAENxrZp08bNok+cONEqVqy4z6Xad3755Zfb119/ba+++qpdf/31YAZYoEuXLvbyyy+7AXy9FzrrXLPlWlGnbRAvvviiG+R/6qmnAqzw36YRoAe+i2kgAgggkPMC+fLlMyX6mTJliqtM+/bt7bXXXjMdqZI7d+5QBevXr2+bNm2yhQsX5nylqQECCCCAQNIEtLWpSZMmNm3aNPdz4Pzzz3ez5QrKvvvuO3fU1p49e9wRbO+8885+Z2MnrWLc+JALKPjWwPxHH33kVktEK3PmzLELL7zQnnnmGbv11lsPeR0P5QMJ0A+lNs9CAAEE0lSgcOHCdskll9iYMWOcgH4QP//887Z27Vo79thjQyrXXHONC+K3bduWplI0GwEEEEgfAR2jdtddd9lLL71kf/311z4N19FrN910kz3xxBOWN2/e9EFJw5aefvrpdvTRR9uMGTPitl7b4DZu3GjKSRDkQoAe5N6lbQgggIBPBE455RQrWrSo22+oohHwrl272ptvvmktWrQI1VJL4Tdv3uwSx1EQQAABBNJDYMOGDW6P+Zo1a1yDy5Ur52ZLS5QokR4Aad7K/PnzW/PmzQ+Yg6Z169b21ltv2R9//BFoMQL0QHcvjUMAAQT8IaA95/qhqsBbe9CVFKhKlSpWpkwZGzJkiPvv4MGD3ceNGjWyqVOn+qPi1AIBBBBAAAEEkiqgjP6FChWyZcuWWawEckoMd+KJJ9rWrVvdLHqQCwF6kHuXtiGAAAI+EdDZ51dffbWNHTs2NGOufejDhg0L7SvUfkQF73PnzrXq1av7pOZUAwEEEEDgUAhoubuOUtNydq24oqSPgLa3ZWRk2I033mgDBw405a0JLzrtRVshNIh/1VVXhbbLBVWIAD2oPUu7EEAAAZ8LKIO7srEqeFdiuJNPPtnuu+8+O/vss31ec6qHAAIIIJBdAkoY+txzz7l9xZolVbZ2ZW1XGTdunE2YMMH69etnFSpUyK5Hch+fCShjf82aNd3suAZnmjZtGsrirqP2Jk+e7AZvlM/ms88+s+OPP95nLcje6hCgZ68nd0MAAQQQQAABBBBAAIEEBHSc1ujRo00rqAoUKGDbt2+3G264IRSgz58/38466ywbMGCA3XvvvQnckUtSVWDx4sXWtm3bUAI4ZfNX0buhUq1aNXc8q/4b9EKAHvQepn0IIIAAAggggAACCPhM4JVXXnFLmmvUqGFDhw41ZfLW/uPwAF1VPu6446xSpUruCC5K8AWUTHbmzJm2bt0619jSpUtbnTp13J90KQTo6dLTtBMBBBBAAAEEEEAAAZ8IaDvTkiVLXNLQkiVLulpFC9Dr1q1rq1evtpUrV/qk5lQDgeQKEKAn15e7I4AAAgj8T0B7zPr37++O0vnpp59MCYGiFS1r27NnD24IIIAAAgEWOOqoo+ycc86x6dOnh1oZLUBXAjGdArJjx44Aa9A0BP5fgACdtwEBBBBAIOkCixYtcsvTtm3bFtpPFu+hShREQQABBBAIroDOvr7ooots4sSJcQP0hg0bmvaib9myJbgYtCwksHbtWjeIv2vXrpgqQV/uToDOPwgEEEAAgaQLNGnSxN555x277LLLrFevXi5juxICURBAAAEE0lPglFNOMR2fpdVVXomcQddKK+1BL1++vM2bNy89odKk1W+++ab16NHDli9fHrfF6bDKjgA9TV56mokAAgjkpECRIkWsWLFibq9h7ty5c7IqPBsBBBBAwAcC3bp1syeeeMKde33nnXe6GkUG6NoW1bNnT3vooYese/fuPqg1VUiGgI7Sa9mypVthp6PUKlasaAULFoz5qKAnDCRAT8Zbxj0RQAABBPYR0Gz5pZdeahkZGcgggAACCCBgGzdutKpVq7r/6nitFi1aWLNmzdxKq06dOrkz0JXpXVm8tU2qUKFCqAVUoFatWrZgwQKXp6Zr165pP5BPgB7QF51mIYAAAn4S0Dm2mhmZO3eun6pFXRBAAAEEclBg4cKF1rx5c9O+Y+/ca686mk0tU6aMTZkyJS3Ovs7BbsjxR+fLl88N1rCN4b9dQYCe468kFUAAAQSCLzBmzBg3QzJnzhzTSDkFAQQQQAABCSg7u2bK3333XVu1apUpSaj2nTdq1Midk06+kuC/J9oCV79+fVbZ/a+rCdCD/87TQgQQQMAXAkoO99JLL9nDDz/sfvHSL2AUBBBAAAEEEEhvgcaNG7vBmW+++Sa9IQjQ6X8EEEAAgUMlkCtXroQflQ4ZWhPG4EIEEEAAAQQCLqBj9M477zx74YUXrH379gFv7YGbxwz6gY24AgEEEEAgiwLaf56ZwjnomdHiWgQQQMD/AsrMfbBFA7cHOn7rYO/N9+W8wKxZs9xRrMrq36pVq9Aqu1i/O3AOes73GTVAAAEEEEAAAQQQQACBFBaIFWwp+FZCuGjF+5r+u3fv3hRuPVWPJ6B3I7yv412bDqvsmEHn3wsCCCCAAAIIIIAAAggkVWD16tX73f/pp5+2Z5991mVyb9OmjZUvX95do/3II0eOtIkTJ9rtt99unTt3tnLlyiW1ftw85wTq1q27Xxb/eLXhHPSc6yuejAACCCCAAAIIIIAAAgEU0DnnWs6ckZFhV1xxRdQWTpgwwVq2bGk6CeSqq64KoAJNQmB/AWbQeSsQQAABBBBAAAEEEEDgkAqcffbZpgSis2fPjvtcJQ/bs2ePffrpp4e0fjwMgZwSIEDPKXmeiwACCCCAAAIIIIBAmgoULFjQmjVr5payxyvXXnutvf322/b777+nqRTNTjcBAvR063HaiwACCCCAAAIIIIBADgsUKVLEjjvuOFu0aFHcmlSrVs3Wrl1rmzdvzuEa8/hDIfDHH3/YDz/84AZkYiUPJIv7oegJnoEAAggggAACCCCAAAJpI9CkSRObNm2a9e3b13r06BG13Y888oj17NnTGjdu7GbRKcEV+P777+3OO++0999/3+IdtUoW9+C+A7QMAQQQQAABBBBAAAEEckjgiy++sHPPPdd2795tlStXdgnjlMVdAZiyuL/xxhu2ZMkSy5Mnj82ZM8dq1KiRQzXlsckWWLNmjevfTZs2WenSpe2vv/6yDRs2mPIUaDZ948aN7r3Q54cffriRxT3ZPcL9EUAAAQQQQAABBBBAIO0EPvjgA3e82vr16/c7ZkvLm0uWLGnDhw+3Bg0apJ1NOjX41ltvtSFDhlifPn3sgQcesHbt2rl+37t3r2PQe9KxY0crVaqUvffee27QJsiFPehB7l3ahgACCCCAAAIIIICAjwV27txpOnJt5syZtm7dOldTzaJqn/GVV15p+fLl83HtqVp2CBx//PFuWfuKFSvcQE1kgK5naFVFlSpVrFu3bta7d+/seKxv70GA7tuuoWIIIIAAAggggAACCCCAQLAFjjzySLv44ott0qRJrqEdOnSwYcOGmQZvwmfLL730Ulu5cqXb+hDkQoAe5N6lbQgggAACCCCAAAIIIICAjwWKFStm9evXt4yMDFfLLl262KBBg1wwXrZs2VDNladgypQppkzvQS4E6EHuXdqGAAIIIIAAAggggAACCPhY4LTTTnNbGebOnetqOXjwYOvUqZObRW/btq37OyWOO+GEE9y+dB27F+RCgB7k3qVtCCCAAAIIIIAAAggggICPBZQATknhlCywQIECpqzu2peuj3XUXpkyZezll1+2qVOnurwEY8eO9XFrsl41AvSsG3IHBBBAAAEEEEAAAQQQQACBgxBQlvZbbrnFBg4caJdddpm7Q8+ePV1wrqRxKsrqX6hQIVuwYIFVrFjxIJ6SOt9CgJ46fUVNEUAAAQQQQAABBBBAAIG0EFB2//Hjx7vz0U8++WS744473Mx60AsBetB7mPYhgAACCCCAAAIIIIAAAgikhAABekp0E5VEAAEEEEAAAQQQQAABBIInULRoUTv11FNt1qxZwWvcQbSIAP0g0PgWBBBAAAEEEEAAAQQQQACBrAsULFjQmjZtaqNGjcr6zQJwBwL0AHQiTUAAAQQQQAABBBBAAAEEUlGgZs2aVrhwYZsxY0YqVj/b60yAnu2k3BABBBBAAAEEEEAAAQQQQCARAZ173rlzZ5s/f75Vq1YtkW8J9DUE6IHuXhqHAAIIIIAAAggggAACCPhbQGehZ2RkWLdu3ax58+ZWtmxZy5s3r78rnaTaEaAnCZbbIoAAAggggAACCCCAAAIIxBfIlStXwkQ6F33Pnj0JX5+KFxKgp2KvUWcEEEAAAQQQQAABBBBAIAAChx12WKZa8ffff2fq+lS7mAA91XqM+iKAAAIIIIAAAggggAACCARSgAA9kN1KoxBAAAEEEEAAAQQQQAABBFJNgAA91XqM+iKAAAIIIIAAAggggAACCARSgAA9kN1KoxBAAAEEEDKEtocAABMKSURBVEAAAQQQQAABBFJNgAA91XqM+iKAAAIIIIAAAggggAACCARSgAA9kN1KoxBAAAEEEEAAAQQQQAABBFJNgAA91XqM+iKAAAIIIIAAAggggAACCARSgAA9kN1KoxBAAAEEEEAAAQQQQAABBFJNgAA91XqM+iKAAAIIxBT4559/bMKECZaRkWHz5s2zDRs2mP6uZMmSdsYZZ9gVV1xhV155pR1++OGhe5QvX95Wr15tK1euNH3sx7Jq1SqrUKGClStXzvRxZHn55Zft+eeft2XLltnOnTutUKFCtmXLFuvTp489+OCD1rt3b/ex30rdunVt5syZ9tFHH5k+9lvx/FSvE044wfnGKs8995zdfvvt7suef7Lbk51+r732mrVr186uv/5608cUBBBAAIGcESBAzxl3nooAAgggkM0CP/74owvAP/vsM3fnqlWruqAqV65cLqhdsGCB/f3331apUiX7/vvvAxOgT5kyxS677DI78sgjrWHDhlakSBHLly+fvfDCCzkaoP/nP/+xCy+80C644ALTx9FKdgaY2fw6uduFB+j6fM6cOXbOOedEfdSZZ55pn3/+OQF6MjqCeyKAAAJpJECAnkadTVMRQACBoAr8+uuvboZ8zZo1LiB88cUX7eSTT96nub/88os9/vjj9swzz9hff/2VUgG66rt8+XI383/88cfv0y7NeA4fPtyGDh1q7du33+drctGfo48+2v05lCWRAF39tWPHDitbtqwbVPBb8QJ0vVsa4LnppptsyJAh+1Xz22+/tVNOOcVq1qzpgnRm0P3Wk9QHAQQQSB0BAvTU6StqigACCCAQQ+Cqq66yN998084991z78MMPLU+ePDGtPv74Yzv//PNTKkCP1/H16tVzS8T9tkw8kQDd7y+0F6DfeeedppUKGuxYv369HXHEEftUvVu3bvbYY4/Zs88+65a5E6D7vWepHwIIIOBfAQJ0//YNNUMAAQQQSEBAy9VPOukkt9f8q6++smrVqiXwXf9/Saw96NrDrr3sCjTXrl1rW7dutRIlSrgZ+vvuu89OPfXU/Z6j2eCXXnrJRo4c6fa1b9u2zYoXL+6W1V900UV2//337/M92i+vpehLly61jRs3uuXpZcqUcfuxFfTpe1Wi7UG/4YYb7PXXX4/a1mHDhpm+fqA96FqyPWjQILd0W88vXLiwm6Fv2rSpKSjVsnkV7eUfPXq0vfPOO24ftoJUfU3bCDp06GBt27bdpx7x6ha+5D3eEnfZDRw40MaNG+dWD2irglZFXHfddXbrrbfuNwgTvodagbLaru9VXY855hjTIE7fvn0zNVMfHqAXLVrU7eV/4403rFWrVqH2atvEcccdZ3v37rXZs2e7bRWxAnTlOejfv7+999579vPPP1v+/PndrHunTp2cebQiB9Vb76Lacuyxx7o8Cqpb48aNY+7hV730Hsrlyy+/tD/++MNKly7ttkN0797dmYSXeHvQE31PM/UPj4sRQAABBKIKEKDzYiCAAAIIpLTA008/bV26dHGBuQL0zJZYAXqDBg1s1qxZLghVAHbYYYfZN9984wJUBafTp0+3OnXq7BOoKeDUDL0CXc3mH3XUUS4Q0xJoBfh//vln6PoePXrYI4884patn3feeS6R3aZNm1ww+sMPP9jcuXOtdu3aMQN0LWlXQKh6aPn+xRdf7O6hoqBZ94wXoD/00EP2wAMPuOtPP/10F/xu3rzZlixZ4rYKhCfNU6DXpk0bl6hOAbyWy69bt84++eQTF5h27NjRJanziuqm4Pjdd991gWCjRo1CX9NzNMChEitA14CA9q/LTc9SUK9l/lodsX37dvd906ZN22cm2wswmzdv7nIMyF37wtVv6kcFqJdccokbZEi0hAfonTt3tooVK7q2hN9DbdTfde3a1c2eyyhagC4rPf/33393QbyWzSvg1vsiQ5koeA8vCs7V9oULF7p3Sia6Vg5VqlRxgxZ6TyJXT+zevdvlY9Csf4ECBdyzihUr5gL1FStWuEBdJmqPV2IF6Jl5TxN15ToEEEAAgdgCBOi8HQgggAACKS2g2dsRI0bYv//9b3vllVcy3ZZYAboCrxo1aoRmscODzxtvvNEFtAog//Wvf7kvKRu5AkcFQ/pYs6NeUVClv9NydBUF6potz507twu+NMMeXjTQUKpUKTdjrxIvi3u8WehYAfr48ePdLKwGELQ1QLP74UUBn9quQFNFQbsCXM32hhcNJqhNCujDBxR0TSJL3GPVXXVTHevXr28TJ060ggULuscq6FYiPA2U3Hvvvfboo4+GquMFmPqLSy+91EaNGuWCWhUNqqjuCngVmIZvcYj3woQH6BoIUoCsgForKtQ/Kq1bt7YxY8a44Fde0QJ09beCciUyVCDer18/N3CgosBdgysaeFDgryDeKxoUUM4EvVOaddcsvspPP/3k6uJllY8M0O+66y63+kB+GlzxBm40q96rVy83MCQDWXglWoCe2fc0niVfQwABBBBITIAAPTEnrkIAAQQQ8KmAAhrNIkebgUykygdzzJpmxxVYff311y45mIoCXS2j1tJwBXPxipaTK/g+7bTTXGB3oJLdAbpWGyxevNgNaGhgIytFR7wpedrdd9/tkvB55WADdG0NUJCrAPa7777bLymeZo8VeGpmWI7efnAvwFQwrxUI3uCGV5/bbrstlNleS9UTKZEBuvcM7Te/55573Gy4gl9tsdBAi9dPkTPoSuKnZH4aiNF2Bs18hxetZNCKBrVrxowZ7kvaLqE2aGAkWvb4t99+O7QsPjxA1z55bZPQKg85aOY8vChI1+CLBoHCt4REC9Az+54mYso1CCCAAALxBQjQeUMQQAABBFJaIJkBupZaKxDylqjv2bPHWWkWVUuFtTf38ssvd3+nYEiz6spGrpndFi1a7LfPNxzaGxhQYKvs65FZ58Ovzc4AXbPQ2seswFZnpefNmzeh/tcScwWPn376qVtSv2vXLrfvX/fT7K72UL/11ltZDtC95fTxjmdT1nfNYmuJvwZLVLwAU7PyClgji/al33HHHTEzsUdDiAzQNcutgFx9p8EZb3DiqaeeMs12xwrQteVAgyGxzqPXu6StA+oTPUMBvN4xbaHQs7TdIFrRKgz1YXiA7g0Uaam/Vh9EK9rzri0JykivwZVwv8hz0DPznib0InERAggggEBcAQJ0XhAEEEAAgZQWSNYSdyVv01Lh8H3jkVAKChXQeEWBmpK7ece4acZUS4m1H1jLrr3l8LpeS97197/99pv7du3V1hnbuk7LpsOPHcvOAF3J77S3XbO+ms1NpOi6Zs2ahZZUR/ueyMD4YGfQNbih1RBKNKdkd7GeJb+xY8e6VQvhAab2ymvGOlpftWvXzvWX+i2REhmg63u8903HqWm1hDy1H1+z3bECdG8QKfJ98eqggR8F59oKocEP3UvJ6K655hq3bSLagIO+V7kDNAseHqBrFYOW/ydSHn74YdMe83C/SJ/MvKeJPJNrEEAAAQTiCxCg84YggAACCKS0QDKSxM2fP9/OOusst0dcAaOyZXvLhhVke/uOvWzp4YDaH6yZS83uao+vPlfR8mUlNlNSOK9otlQz9AqCNGOqmXoVzRDre8uVK+c+T0aArhl77S1PpChjvfZ9a1ZWAxAK7rV/XTO9mj3XHurIGe+DDdAHDBjgst0fbIAeKwCPl6U8lkG0AP2DDz4wJRDUQIr2jCsr+uTJk/fpp8gl7koip5wGsQJ0BeZayRAtQNdecy3rj1aiBejeAIf6V+9wvKL+1J94Abq+luh7msi7xDUIIIAAAvEFCNB5QxBAAAEEUlogGcesaQZXgY5m0J944on9fGrVqmUK4qMF6JEXK3maZkK1t/rFF1+0m2++Oaa3AnF9XUHv1Vdf7ZKPZXeArszhSnCW6BJ3zZ5XrlzZzfBrpjhy/7RWGmh/d3YF6IkscdfAhRLTRVvinuwAXcv6texbz1dRMjttZwjvp8gA/UBL3LWEXRnV1SdKZKeBIW+Ju/bjawl8tBJtibuOw7v22mv3eX8S+QeemQGMWO9pIs/hGgQQQAABAnTeAQQQQACBgAtombP23mo/smYb8+TJE7PFCup0BJlXoiWJ075c7S/W7LyWMYcXBaxKsqZl7IkE6PreBx980B15FnkcWbRKetngdYyWZq2zO0DX/bwkcYnUX8nw5KrZWiVCiyzaJ61gMjJA975P3yvzaCVaFncvSZwGApSlXAFqePFm5mMliUt2gK66KKGbsqsrENcqBO99O1CSuBNPPNFd72Vw99rlzdTHShIXmSFf3zd16lRr0qSJu0X4EncNwGgFhpLlKfDXSodESmYCdN0v2nuayHO4BgEEEEAgvgAz6LwhCCCAAAIpL6DM1TqKSrOaChQ1Ux2ZdE3XaDb8ySefDO0RV8OjBeg6okqz58p2rUBEwaCK9osrKFKiNJXwAFcDA0qcpmPANAPqFf2dlkQrSNXybS0RVxCqhGsaWPCOEPOu1/5h7SPWsmgtiVfJziXuup/OKG/ZsqULML3jzMJfAgXB1atXd19XJm8lRlNQqTZ6R5RpJlnt6d69u/vWyABdbZStZt51vFi4ifesWMesaW++EvBp6bzq6vlrf7Z8lYE+1jFrhyJAj/UPJlaAvnPnTnfMmlYg9OzZ0/r27RvKR6A97GqTZs4VdGvpvFeU1E7J7XSeu5bIa8ZcRYn5dLydl0Mg8pg1DSoNGjTIHcWmgSYloAsvCuK1f18rH7x+iRagZ/Y9Tfn/kdAABBBAwAcCBOg+6ASqgAACCCCQdQEFgVpqrKXn2idetWpV04ylAksFGkrqpT2+kcnRogXomzdvdrPMuqcSdmnGXYm8FAgpA7qWfE+aNGmfAN3bC6+ztzVYoMBUe3c1k6zBAdVFwZi+rqPVFABr37H+qzro/kr4pSX7Cki111lL6ZMRoOue3tFe+lh10ICG2q198Bro0Oyr6qXiHVGmWW0F1cWLF7cvvvjCdA56ly5d3MBHtKzrGuDQrLu8ZKL2yl9HlKnECtCVPV9f02yznqV7a8WCBggUyOpzHa3nHbGmex1oBvhAX4/2Bkbbgx7vTY0VoOt7dFSagm8dzSYD2WjAQQNAei81cKMBj/CiturdW7RokQvOFXDrWjmovxRca3Y9MkDfvXu321ahQQ7lPNDqB/Wl3kdlv5er7qOBg8hj6sIHODL7nmb9XzF3QAABBBAgQOcdQAABBBAIjIBmdRWUaHZQwbBmf3Xus2aANQupGWsF8eH7qGOdg65ZRmW4VqDs7dvWUWJarq4jtV5//fV9AnQdszZixAiX3E0f69laXqz90q1atXLHWXnLjRV4DR061DRTreO6FKipTkpEd9FFF7ll9V5wnKwAXffV8zXTqkGETZs2uSBQmeeVsV2zt17wJkMdyaU/GkDQ3ysTvHwUDCpwjBagK2BV4KkgVIMUCgrDr4sVoKtuMtJqB82gayBAPgpKr7vuOrdVIHIbw4EC8AN9PdkBuu6vveT9+/d3OQY0C54/f36rWbOm6dgzmUcrCug1456RkeHeE73LWmGgv9NqDtlGBujefZSs8NVXX3WDVupfrYjQAJNOC1ByOK1Q8Eo0n8y+p4H5HwkNQQABBHJQgAA9B/F5NAIIIIAAAggggAACCCCAAAKeAAE67wICCCCAAAIIIIAAAggggAACPhAgQPdBJ1AFBBBAAAEEEEAAAQQQQAABBAjQeQcQQAABBBBAAAEEEEAAAQQQ8IEAAboPOoEqIIAAAggggAACCCCAAAIIIECAzjuAAAIIIIAAAggggAACCCCAgA8ECNB90AlUAQEEEEAAAQQQQAABBBBAAAECdN4BBBBAAAEEEEAAAQQQQAABBHwgQIDug06gCggggAACCCCAAAIIIIAAAggQoPMOIIAAAggggAACCCCAAAIIIOADAQJ0H3QCVUAAAQQQQAABBBBAAAEEEECAAJ13AAEEEEAAAQQQQAABBBBAAAEfCBCg+6ATqAICCCCAAAIIIIAAAggggAACBOi8AwgggAACCCCAAAIIIIAAAgj4QIAA3QedQBUQQAABBBBAAAEEEEAAAQQQIEDnHUAAAQQQQAABBBBAAAEEEEDABwIE6D7oBKqAAAIIIIAAAggggAACCCCAAAE67wACCCCAAAIIIIAAAggggAACPhAgQPdBJ1AFBBBAAAEEEEAAAQQQQAABBAjQeQcQQAABBBBAAAEEEEAAAQQQ8IEAAboPOoEqIIAAAggggAACCCCAAAIIIECAzjuAAAIIIIAAAggggAACCCCAgA8ECNB90AlUAQEEEEAAAQQQQAABBBBAAAECdN4BBBBAAAEEEEAAAQQQQAABBHwgQIDug06gCggggAACCCCAAAIIIIAAAggQoPMOIIAAAggggAACCCCAAAIIIOADAQJ0H3QCVUAAAQQQQAABBBBAAAEEEECAAJ13AAEEEEAAAQQQQAABBBBAAAEfCBCg+6ATqAICCCCAAAIIIIAAAggggAAC/wena3CMVx78ugAAAABJRU5ErkJggg==\" width=\"640\">"
      ],
      "text/plain": [
       "<IPython.core.display.HTML object>"
      ]
     },
     "metadata": {},
     "output_type": "display_data"
    }
   ],
   "source": [
    "plt.figure()\n",
    "plt.plot(accuracy_x_labels,accuracy_list,'-r')\n",
    "plt.xlabel('Classification Models')\n",
    "plt.ylabel('Accuracy')\n",
    "plt.xticks(rotation='vertical')\n",
    "plt.tight_layout()\n",
    "plt.show()"
   ]
  },
  {
   "cell_type": "markdown",
   "metadata": {},
   "source": [
    "## F1 Score Graph"
   ]
  },
  {
   "cell_type": "code",
   "execution_count": 112,
   "metadata": {},
   "outputs": [],
   "source": [
    "f1_random_forest=metrics.f1_score(Y_test,random_forest_predicted,average='weighted',labels=np.unique(random_forest_predicted))\n",
    "f1_decision_tree=metrics.f1_score(Y_test,decision_tree_predicted,average='weighted',labels=np.unique(decision_tree_predicted))\n",
    "f1_svm=metrics.f1_score(Y_test,svm_predicted,average='weighted',labels=np.unique(svm_predicted))\n",
    "f1_knn=metrics.f1_score(Y_test,knn_predicted,average='weighted',labels=np.unique(knn_predicted))\n",
    "f1_naive_bayes=metrics.f1_score(Y_test,naive_bayes_predicted,average='weighted',labels=np.unique(naive_bayes_predicted))\n",
    "f1_logistic=metrics.f1_score(Y_test,logistic_predicted,average='weighted',labels=np.unique(logistic_predicted))\n",
    "f1_isolation=metrics.f1_score(Y_test,isolation_predicted,average='weighted',labels=np.unique(isolation_predicted))"
   ]
  },
  {
   "cell_type": "code",
   "execution_count": 113,
   "metadata": {},
   "outputs": [],
   "source": [
    "f1_score_list=[f1_logistic,f1_isolation,f1_naive_bayes,f1_knn,f1_svm,f1_decision_tree,f1_random_forest]"
   ]
  },
  {
   "cell_type": "code",
   "execution_count": 114,
   "metadata": {},
   "outputs": [],
   "source": [
    "f1_score_x_labels=['logistic','isolation','naive_bayes','knn','svm','decision_tree','random_forest']"
   ]
  },
  {
   "cell_type": "code",
   "execution_count": 115,
   "metadata": {},
   "outputs": [
    {
     "data": {
      "application/javascript": [
       "/* Put everything inside the global mpl namespace */\n",
       "window.mpl = {};\n",
       "\n",
       "\n",
       "mpl.get_websocket_type = function() {\n",
       "    if (typeof(WebSocket) !== 'undefined') {\n",
       "        return WebSocket;\n",
       "    } else if (typeof(MozWebSocket) !== 'undefined') {\n",
       "        return MozWebSocket;\n",
       "    } else {\n",
       "        alert('Your browser does not have WebSocket support. ' +\n",
       "              'Please try Chrome, Safari or Firefox ≥ 6. ' +\n",
       "              'Firefox 4 and 5 are also supported but you ' +\n",
       "              'have to enable WebSockets in about:config.');\n",
       "    };\n",
       "}\n",
       "\n",
       "mpl.figure = function(figure_id, websocket, ondownload, parent_element) {\n",
       "    this.id = figure_id;\n",
       "\n",
       "    this.ws = websocket;\n",
       "\n",
       "    this.supports_binary = (this.ws.binaryType != undefined);\n",
       "\n",
       "    if (!this.supports_binary) {\n",
       "        var warnings = document.getElementById(\"mpl-warnings\");\n",
       "        if (warnings) {\n",
       "            warnings.style.display = 'block';\n",
       "            warnings.textContent = (\n",
       "                \"This browser does not support binary websocket messages. \" +\n",
       "                    \"Performance may be slow.\");\n",
       "        }\n",
       "    }\n",
       "\n",
       "    this.imageObj = new Image();\n",
       "\n",
       "    this.context = undefined;\n",
       "    this.message = undefined;\n",
       "    this.canvas = undefined;\n",
       "    this.rubberband_canvas = undefined;\n",
       "    this.rubberband_context = undefined;\n",
       "    this.format_dropdown = undefined;\n",
       "\n",
       "    this.image_mode = 'full';\n",
       "\n",
       "    this.root = $('<div/>');\n",
       "    this._root_extra_style(this.root)\n",
       "    this.root.attr('style', 'display: inline-block');\n",
       "\n",
       "    $(parent_element).append(this.root);\n",
       "\n",
       "    this._init_header(this);\n",
       "    this._init_canvas(this);\n",
       "    this._init_toolbar(this);\n",
       "\n",
       "    var fig = this;\n",
       "\n",
       "    this.waiting = false;\n",
       "\n",
       "    this.ws.onopen =  function () {\n",
       "            fig.send_message(\"supports_binary\", {value: fig.supports_binary});\n",
       "            fig.send_message(\"send_image_mode\", {});\n",
       "            if (mpl.ratio != 1) {\n",
       "                fig.send_message(\"set_dpi_ratio\", {'dpi_ratio': mpl.ratio});\n",
       "            }\n",
       "            fig.send_message(\"refresh\", {});\n",
       "        }\n",
       "\n",
       "    this.imageObj.onload = function() {\n",
       "            if (fig.image_mode == 'full') {\n",
       "                // Full images could contain transparency (where diff images\n",
       "                // almost always do), so we need to clear the canvas so that\n",
       "                // there is no ghosting.\n",
       "                fig.context.clearRect(0, 0, fig.canvas.width, fig.canvas.height);\n",
       "            }\n",
       "            fig.context.drawImage(fig.imageObj, 0, 0);\n",
       "        };\n",
       "\n",
       "    this.imageObj.onunload = function() {\n",
       "        fig.ws.close();\n",
       "    }\n",
       "\n",
       "    this.ws.onmessage = this._make_on_message_function(this);\n",
       "\n",
       "    this.ondownload = ondownload;\n",
       "}\n",
       "\n",
       "mpl.figure.prototype._init_header = function() {\n",
       "    var titlebar = $(\n",
       "        '<div class=\"ui-dialog-titlebar ui-widget-header ui-corner-all ' +\n",
       "        'ui-helper-clearfix\"/>');\n",
       "    var titletext = $(\n",
       "        '<div class=\"ui-dialog-title\" style=\"width: 100%; ' +\n",
       "        'text-align: center; padding: 3px;\"/>');\n",
       "    titlebar.append(titletext)\n",
       "    this.root.append(titlebar);\n",
       "    this.header = titletext[0];\n",
       "}\n",
       "\n",
       "\n",
       "\n",
       "mpl.figure.prototype._canvas_extra_style = function(canvas_div) {\n",
       "\n",
       "}\n",
       "\n",
       "\n",
       "mpl.figure.prototype._root_extra_style = function(canvas_div) {\n",
       "\n",
       "}\n",
       "\n",
       "mpl.figure.prototype._init_canvas = function() {\n",
       "    var fig = this;\n",
       "\n",
       "    var canvas_div = $('<div/>');\n",
       "\n",
       "    canvas_div.attr('style', 'position: relative; clear: both; outline: 0');\n",
       "\n",
       "    function canvas_keyboard_event(event) {\n",
       "        return fig.key_event(event, event['data']);\n",
       "    }\n",
       "\n",
       "    canvas_div.keydown('key_press', canvas_keyboard_event);\n",
       "    canvas_div.keyup('key_release', canvas_keyboard_event);\n",
       "    this.canvas_div = canvas_div\n",
       "    this._canvas_extra_style(canvas_div)\n",
       "    this.root.append(canvas_div);\n",
       "\n",
       "    var canvas = $('<canvas/>');\n",
       "    canvas.addClass('mpl-canvas');\n",
       "    canvas.attr('style', \"left: 0; top: 0; z-index: 0; outline: 0\")\n",
       "\n",
       "    this.canvas = canvas[0];\n",
       "    this.context = canvas[0].getContext(\"2d\");\n",
       "\n",
       "    var backingStore = this.context.backingStorePixelRatio ||\n",
       "\tthis.context.webkitBackingStorePixelRatio ||\n",
       "\tthis.context.mozBackingStorePixelRatio ||\n",
       "\tthis.context.msBackingStorePixelRatio ||\n",
       "\tthis.context.oBackingStorePixelRatio ||\n",
       "\tthis.context.backingStorePixelRatio || 1;\n",
       "\n",
       "    mpl.ratio = (window.devicePixelRatio || 1) / backingStore;\n",
       "\n",
       "    var rubberband = $('<canvas/>');\n",
       "    rubberband.attr('style', \"position: absolute; left: 0; top: 0; z-index: 1;\")\n",
       "\n",
       "    var pass_mouse_events = true;\n",
       "\n",
       "    canvas_div.resizable({\n",
       "        start: function(event, ui) {\n",
       "            pass_mouse_events = false;\n",
       "        },\n",
       "        resize: function(event, ui) {\n",
       "            fig.request_resize(ui.size.width, ui.size.height);\n",
       "        },\n",
       "        stop: function(event, ui) {\n",
       "            pass_mouse_events = true;\n",
       "            fig.request_resize(ui.size.width, ui.size.height);\n",
       "        },\n",
       "    });\n",
       "\n",
       "    function mouse_event_fn(event) {\n",
       "        if (pass_mouse_events)\n",
       "            return fig.mouse_event(event, event['data']);\n",
       "    }\n",
       "\n",
       "    rubberband.mousedown('button_press', mouse_event_fn);\n",
       "    rubberband.mouseup('button_release', mouse_event_fn);\n",
       "    // Throttle sequential mouse events to 1 every 20ms.\n",
       "    rubberband.mousemove('motion_notify', mouse_event_fn);\n",
       "\n",
       "    rubberband.mouseenter('figure_enter', mouse_event_fn);\n",
       "    rubberband.mouseleave('figure_leave', mouse_event_fn);\n",
       "\n",
       "    canvas_div.on(\"wheel\", function (event) {\n",
       "        event = event.originalEvent;\n",
       "        event['data'] = 'scroll'\n",
       "        if (event.deltaY < 0) {\n",
       "            event.step = 1;\n",
       "        } else {\n",
       "            event.step = -1;\n",
       "        }\n",
       "        mouse_event_fn(event);\n",
       "    });\n",
       "\n",
       "    canvas_div.append(canvas);\n",
       "    canvas_div.append(rubberband);\n",
       "\n",
       "    this.rubberband = rubberband;\n",
       "    this.rubberband_canvas = rubberband[0];\n",
       "    this.rubberband_context = rubberband[0].getContext(\"2d\");\n",
       "    this.rubberband_context.strokeStyle = \"#000000\";\n",
       "\n",
       "    this._resize_canvas = function(width, height) {\n",
       "        // Keep the size of the canvas, canvas container, and rubber band\n",
       "        // canvas in synch.\n",
       "        canvas_div.css('width', width)\n",
       "        canvas_div.css('height', height)\n",
       "\n",
       "        canvas.attr('width', width * mpl.ratio);\n",
       "        canvas.attr('height', height * mpl.ratio);\n",
       "        canvas.attr('style', 'width: ' + width + 'px; height: ' + height + 'px;');\n",
       "\n",
       "        rubberband.attr('width', width);\n",
       "        rubberband.attr('height', height);\n",
       "    }\n",
       "\n",
       "    // Set the figure to an initial 600x600px, this will subsequently be updated\n",
       "    // upon first draw.\n",
       "    this._resize_canvas(600, 600);\n",
       "\n",
       "    // Disable right mouse context menu.\n",
       "    $(this.rubberband_canvas).bind(\"contextmenu\",function(e){\n",
       "        return false;\n",
       "    });\n",
       "\n",
       "    function set_focus () {\n",
       "        canvas.focus();\n",
       "        canvas_div.focus();\n",
       "    }\n",
       "\n",
       "    window.setTimeout(set_focus, 100);\n",
       "}\n",
       "\n",
       "mpl.figure.prototype._init_toolbar = function() {\n",
       "    var fig = this;\n",
       "\n",
       "    var nav_element = $('<div/>');\n",
       "    nav_element.attr('style', 'width: 100%');\n",
       "    this.root.append(nav_element);\n",
       "\n",
       "    // Define a callback function for later on.\n",
       "    function toolbar_event(event) {\n",
       "        return fig.toolbar_button_onclick(event['data']);\n",
       "    }\n",
       "    function toolbar_mouse_event(event) {\n",
       "        return fig.toolbar_button_onmouseover(event['data']);\n",
       "    }\n",
       "\n",
       "    for(var toolbar_ind in mpl.toolbar_items) {\n",
       "        var name = mpl.toolbar_items[toolbar_ind][0];\n",
       "        var tooltip = mpl.toolbar_items[toolbar_ind][1];\n",
       "        var image = mpl.toolbar_items[toolbar_ind][2];\n",
       "        var method_name = mpl.toolbar_items[toolbar_ind][3];\n",
       "\n",
       "        if (!name) {\n",
       "            // put a spacer in here.\n",
       "            continue;\n",
       "        }\n",
       "        var button = $('<button/>');\n",
       "        button.addClass('ui-button ui-widget ui-state-default ui-corner-all ' +\n",
       "                        'ui-button-icon-only');\n",
       "        button.attr('role', 'button');\n",
       "        button.attr('aria-disabled', 'false');\n",
       "        button.click(method_name, toolbar_event);\n",
       "        button.mouseover(tooltip, toolbar_mouse_event);\n",
       "\n",
       "        var icon_img = $('<span/>');\n",
       "        icon_img.addClass('ui-button-icon-primary ui-icon');\n",
       "        icon_img.addClass(image);\n",
       "        icon_img.addClass('ui-corner-all');\n",
       "\n",
       "        var tooltip_span = $('<span/>');\n",
       "        tooltip_span.addClass('ui-button-text');\n",
       "        tooltip_span.html(tooltip);\n",
       "\n",
       "        button.append(icon_img);\n",
       "        button.append(tooltip_span);\n",
       "\n",
       "        nav_element.append(button);\n",
       "    }\n",
       "\n",
       "    var fmt_picker_span = $('<span/>');\n",
       "\n",
       "    var fmt_picker = $('<select/>');\n",
       "    fmt_picker.addClass('mpl-toolbar-option ui-widget ui-widget-content');\n",
       "    fmt_picker_span.append(fmt_picker);\n",
       "    nav_element.append(fmt_picker_span);\n",
       "    this.format_dropdown = fmt_picker[0];\n",
       "\n",
       "    for (var ind in mpl.extensions) {\n",
       "        var fmt = mpl.extensions[ind];\n",
       "        var option = $(\n",
       "            '<option/>', {selected: fmt === mpl.default_extension}).html(fmt);\n",
       "        fmt_picker.append(option);\n",
       "    }\n",
       "\n",
       "    // Add hover states to the ui-buttons\n",
       "    $( \".ui-button\" ).hover(\n",
       "        function() { $(this).addClass(\"ui-state-hover\");},\n",
       "        function() { $(this).removeClass(\"ui-state-hover\");}\n",
       "    );\n",
       "\n",
       "    var status_bar = $('<span class=\"mpl-message\"/>');\n",
       "    nav_element.append(status_bar);\n",
       "    this.message = status_bar[0];\n",
       "}\n",
       "\n",
       "mpl.figure.prototype.request_resize = function(x_pixels, y_pixels) {\n",
       "    // Request matplotlib to resize the figure. Matplotlib will then trigger a resize in the client,\n",
       "    // which will in turn request a refresh of the image.\n",
       "    this.send_message('resize', {'width': x_pixels, 'height': y_pixels});\n",
       "}\n",
       "\n",
       "mpl.figure.prototype.send_message = function(type, properties) {\n",
       "    properties['type'] = type;\n",
       "    properties['figure_id'] = this.id;\n",
       "    this.ws.send(JSON.stringify(properties));\n",
       "}\n",
       "\n",
       "mpl.figure.prototype.send_draw_message = function() {\n",
       "    if (!this.waiting) {\n",
       "        this.waiting = true;\n",
       "        this.ws.send(JSON.stringify({type: \"draw\", figure_id: this.id}));\n",
       "    }\n",
       "}\n",
       "\n",
       "\n",
       "mpl.figure.prototype.handle_save = function(fig, msg) {\n",
       "    var format_dropdown = fig.format_dropdown;\n",
       "    var format = format_dropdown.options[format_dropdown.selectedIndex].value;\n",
       "    fig.ondownload(fig, format);\n",
       "}\n",
       "\n",
       "\n",
       "mpl.figure.prototype.handle_resize = function(fig, msg) {\n",
       "    var size = msg['size'];\n",
       "    if (size[0] != fig.canvas.width || size[1] != fig.canvas.height) {\n",
       "        fig._resize_canvas(size[0], size[1]);\n",
       "        fig.send_message(\"refresh\", {});\n",
       "    };\n",
       "}\n",
       "\n",
       "mpl.figure.prototype.handle_rubberband = function(fig, msg) {\n",
       "    var x0 = msg['x0'] / mpl.ratio;\n",
       "    var y0 = (fig.canvas.height - msg['y0']) / mpl.ratio;\n",
       "    var x1 = msg['x1'] / mpl.ratio;\n",
       "    var y1 = (fig.canvas.height - msg['y1']) / mpl.ratio;\n",
       "    x0 = Math.floor(x0) + 0.5;\n",
       "    y0 = Math.floor(y0) + 0.5;\n",
       "    x1 = Math.floor(x1) + 0.5;\n",
       "    y1 = Math.floor(y1) + 0.5;\n",
       "    var min_x = Math.min(x0, x1);\n",
       "    var min_y = Math.min(y0, y1);\n",
       "    var width = Math.abs(x1 - x0);\n",
       "    var height = Math.abs(y1 - y0);\n",
       "\n",
       "    fig.rubberband_context.clearRect(\n",
       "        0, 0, fig.canvas.width, fig.canvas.height);\n",
       "\n",
       "    fig.rubberband_context.strokeRect(min_x, min_y, width, height);\n",
       "}\n",
       "\n",
       "mpl.figure.prototype.handle_figure_label = function(fig, msg) {\n",
       "    // Updates the figure title.\n",
       "    fig.header.textContent = msg['label'];\n",
       "}\n",
       "\n",
       "mpl.figure.prototype.handle_cursor = function(fig, msg) {\n",
       "    var cursor = msg['cursor'];\n",
       "    switch(cursor)\n",
       "    {\n",
       "    case 0:\n",
       "        cursor = 'pointer';\n",
       "        break;\n",
       "    case 1:\n",
       "        cursor = 'default';\n",
       "        break;\n",
       "    case 2:\n",
       "        cursor = 'crosshair';\n",
       "        break;\n",
       "    case 3:\n",
       "        cursor = 'move';\n",
       "        break;\n",
       "    }\n",
       "    fig.rubberband_canvas.style.cursor = cursor;\n",
       "}\n",
       "\n",
       "mpl.figure.prototype.handle_message = function(fig, msg) {\n",
       "    fig.message.textContent = msg['message'];\n",
       "}\n",
       "\n",
       "mpl.figure.prototype.handle_draw = function(fig, msg) {\n",
       "    // Request the server to send over a new figure.\n",
       "    fig.send_draw_message();\n",
       "}\n",
       "\n",
       "mpl.figure.prototype.handle_image_mode = function(fig, msg) {\n",
       "    fig.image_mode = msg['mode'];\n",
       "}\n",
       "\n",
       "mpl.figure.prototype.updated_canvas_event = function() {\n",
       "    // Called whenever the canvas gets updated.\n",
       "    this.send_message(\"ack\", {});\n",
       "}\n",
       "\n",
       "// A function to construct a web socket function for onmessage handling.\n",
       "// Called in the figure constructor.\n",
       "mpl.figure.prototype._make_on_message_function = function(fig) {\n",
       "    return function socket_on_message(evt) {\n",
       "        if (evt.data instanceof Blob) {\n",
       "            /* FIXME: We get \"Resource interpreted as Image but\n",
       "             * transferred with MIME type text/plain:\" errors on\n",
       "             * Chrome.  But how to set the MIME type?  It doesn't seem\n",
       "             * to be part of the websocket stream */\n",
       "            evt.data.type = \"image/png\";\n",
       "\n",
       "            /* Free the memory for the previous frames */\n",
       "            if (fig.imageObj.src) {\n",
       "                (window.URL || window.webkitURL).revokeObjectURL(\n",
       "                    fig.imageObj.src);\n",
       "            }\n",
       "\n",
       "            fig.imageObj.src = (window.URL || window.webkitURL).createObjectURL(\n",
       "                evt.data);\n",
       "            fig.updated_canvas_event();\n",
       "            fig.waiting = false;\n",
       "            return;\n",
       "        }\n",
       "        else if (typeof evt.data === 'string' && evt.data.slice(0, 21) == \"data:image/png;base64\") {\n",
       "            fig.imageObj.src = evt.data;\n",
       "            fig.updated_canvas_event();\n",
       "            fig.waiting = false;\n",
       "            return;\n",
       "        }\n",
       "\n",
       "        var msg = JSON.parse(evt.data);\n",
       "        var msg_type = msg['type'];\n",
       "\n",
       "        // Call the  \"handle_{type}\" callback, which takes\n",
       "        // the figure and JSON message as its only arguments.\n",
       "        try {\n",
       "            var callback = fig[\"handle_\" + msg_type];\n",
       "        } catch (e) {\n",
       "            console.log(\"No handler for the '\" + msg_type + \"' message type: \", msg);\n",
       "            return;\n",
       "        }\n",
       "\n",
       "        if (callback) {\n",
       "            try {\n",
       "                // console.log(\"Handling '\" + msg_type + \"' message: \", msg);\n",
       "                callback(fig, msg);\n",
       "            } catch (e) {\n",
       "                console.log(\"Exception inside the 'handler_\" + msg_type + \"' callback:\", e, e.stack, msg);\n",
       "            }\n",
       "        }\n",
       "    };\n",
       "}\n",
       "\n",
       "// from http://stackoverflow.com/questions/1114465/getting-mouse-location-in-canvas\n",
       "mpl.findpos = function(e) {\n",
       "    //this section is from http://www.quirksmode.org/js/events_properties.html\n",
       "    var targ;\n",
       "    if (!e)\n",
       "        e = window.event;\n",
       "    if (e.target)\n",
       "        targ = e.target;\n",
       "    else if (e.srcElement)\n",
       "        targ = e.srcElement;\n",
       "    if (targ.nodeType == 3) // defeat Safari bug\n",
       "        targ = targ.parentNode;\n",
       "\n",
       "    // jQuery normalizes the pageX and pageY\n",
       "    // pageX,Y are the mouse positions relative to the document\n",
       "    // offset() returns the position of the element relative to the document\n",
       "    var x = e.pageX - $(targ).offset().left;\n",
       "    var y = e.pageY - $(targ).offset().top;\n",
       "\n",
       "    return {\"x\": x, \"y\": y};\n",
       "};\n",
       "\n",
       "/*\n",
       " * return a copy of an object with only non-object keys\n",
       " * we need this to avoid circular references\n",
       " * http://stackoverflow.com/a/24161582/3208463\n",
       " */\n",
       "function simpleKeys (original) {\n",
       "  return Object.keys(original).reduce(function (obj, key) {\n",
       "    if (typeof original[key] !== 'object')\n",
       "        obj[key] = original[key]\n",
       "    return obj;\n",
       "  }, {});\n",
       "}\n",
       "\n",
       "mpl.figure.prototype.mouse_event = function(event, name) {\n",
       "    var canvas_pos = mpl.findpos(event)\n",
       "\n",
       "    if (name === 'button_press')\n",
       "    {\n",
       "        this.canvas.focus();\n",
       "        this.canvas_div.focus();\n",
       "    }\n",
       "\n",
       "    var x = canvas_pos.x * mpl.ratio;\n",
       "    var y = canvas_pos.y * mpl.ratio;\n",
       "\n",
       "    this.send_message(name, {x: x, y: y, button: event.button,\n",
       "                             step: event.step,\n",
       "                             guiEvent: simpleKeys(event)});\n",
       "\n",
       "    /* This prevents the web browser from automatically changing to\n",
       "     * the text insertion cursor when the button is pressed.  We want\n",
       "     * to control all of the cursor setting manually through the\n",
       "     * 'cursor' event from matplotlib */\n",
       "    event.preventDefault();\n",
       "    return false;\n",
       "}\n",
       "\n",
       "mpl.figure.prototype._key_event_extra = function(event, name) {\n",
       "    // Handle any extra behaviour associated with a key event\n",
       "}\n",
       "\n",
       "mpl.figure.prototype.key_event = function(event, name) {\n",
       "\n",
       "    // Prevent repeat events\n",
       "    if (name == 'key_press')\n",
       "    {\n",
       "        if (event.which === this._key)\n",
       "            return;\n",
       "        else\n",
       "            this._key = event.which;\n",
       "    }\n",
       "    if (name == 'key_release')\n",
       "        this._key = null;\n",
       "\n",
       "    var value = '';\n",
       "    if (event.ctrlKey && event.which != 17)\n",
       "        value += \"ctrl+\";\n",
       "    if (event.altKey && event.which != 18)\n",
       "        value += \"alt+\";\n",
       "    if (event.shiftKey && event.which != 16)\n",
       "        value += \"shift+\";\n",
       "\n",
       "    value += 'k';\n",
       "    value += event.which.toString();\n",
       "\n",
       "    this._key_event_extra(event, name);\n",
       "\n",
       "    this.send_message(name, {key: value,\n",
       "                             guiEvent: simpleKeys(event)});\n",
       "    return false;\n",
       "}\n",
       "\n",
       "mpl.figure.prototype.toolbar_button_onclick = function(name) {\n",
       "    if (name == 'download') {\n",
       "        this.handle_save(this, null);\n",
       "    } else {\n",
       "        this.send_message(\"toolbar_button\", {name: name});\n",
       "    }\n",
       "};\n",
       "\n",
       "mpl.figure.prototype.toolbar_button_onmouseover = function(tooltip) {\n",
       "    this.message.textContent = tooltip;\n",
       "};\n",
       "mpl.toolbar_items = [[\"Home\", \"Reset original view\", \"fa fa-home icon-home\", \"home\"], [\"Back\", \"Back to previous view\", \"fa fa-arrow-left icon-arrow-left\", \"back\"], [\"Forward\", \"Forward to next view\", \"fa fa-arrow-right icon-arrow-right\", \"forward\"], [\"\", \"\", \"\", \"\"], [\"Pan\", \"Pan axes with left mouse, zoom with right\", \"fa fa-arrows icon-move\", \"pan\"], [\"Zoom\", \"Zoom to rectangle\", \"fa fa-square-o icon-check-empty\", \"zoom\"], [\"\", \"\", \"\", \"\"], [\"Download\", \"Download plot\", \"fa fa-floppy-o icon-save\", \"download\"]];\n",
       "\n",
       "mpl.extensions = [\"eps\", \"jpeg\", \"pdf\", \"png\", \"ps\", \"raw\", \"svg\", \"tif\"];\n",
       "\n",
       "mpl.default_extension = \"png\";var comm_websocket_adapter = function(comm) {\n",
       "    // Create a \"websocket\"-like object which calls the given IPython comm\n",
       "    // object with the appropriate methods. Currently this is a non binary\n",
       "    // socket, so there is still some room for performance tuning.\n",
       "    var ws = {};\n",
       "\n",
       "    ws.close = function() {\n",
       "        comm.close()\n",
       "    };\n",
       "    ws.send = function(m) {\n",
       "        //console.log('sending', m);\n",
       "        comm.send(m);\n",
       "    };\n",
       "    // Register the callback with on_msg.\n",
       "    comm.on_msg(function(msg) {\n",
       "        //console.log('receiving', msg['content']['data'], msg);\n",
       "        // Pass the mpl event to the overridden (by mpl) onmessage function.\n",
       "        ws.onmessage(msg['content']['data'])\n",
       "    });\n",
       "    return ws;\n",
       "}\n",
       "\n",
       "mpl.mpl_figure_comm = function(comm, msg) {\n",
       "    // This is the function which gets called when the mpl process\n",
       "    // starts-up an IPython Comm through the \"matplotlib\" channel.\n",
       "\n",
       "    var id = msg.content.data.id;\n",
       "    // Get hold of the div created by the display call when the Comm\n",
       "    // socket was opened in Python.\n",
       "    var element = $(\"#\" + id);\n",
       "    var ws_proxy = comm_websocket_adapter(comm)\n",
       "\n",
       "    function ondownload(figure, format) {\n",
       "        window.open(figure.imageObj.src);\n",
       "    }\n",
       "\n",
       "    var fig = new mpl.figure(id, ws_proxy,\n",
       "                           ondownload,\n",
       "                           element.get(0));\n",
       "\n",
       "    // Call onopen now - mpl needs it, as it is assuming we've passed it a real\n",
       "    // web socket which is closed, not our websocket->open comm proxy.\n",
       "    ws_proxy.onopen();\n",
       "\n",
       "    fig.parent_element = element.get(0);\n",
       "    fig.cell_info = mpl.find_output_cell(\"<div id='\" + id + \"'></div>\");\n",
       "    if (!fig.cell_info) {\n",
       "        console.error(\"Failed to find cell for figure\", id, fig);\n",
       "        return;\n",
       "    }\n",
       "\n",
       "    var output_index = fig.cell_info[2]\n",
       "    var cell = fig.cell_info[0];\n",
       "\n",
       "};\n",
       "\n",
       "mpl.figure.prototype.handle_close = function(fig, msg) {\n",
       "    var width = fig.canvas.width/mpl.ratio\n",
       "    fig.root.unbind('remove')\n",
       "\n",
       "    // Update the output cell to use the data from the current canvas.\n",
       "    fig.push_to_output();\n",
       "    var dataURL = fig.canvas.toDataURL();\n",
       "    // Re-enable the keyboard manager in IPython - without this line, in FF,\n",
       "    // the notebook keyboard shortcuts fail.\n",
       "    IPython.keyboard_manager.enable()\n",
       "    $(fig.parent_element).html('<img src=\"' + dataURL + '\" width=\"' + width + '\">');\n",
       "    fig.close_ws(fig, msg);\n",
       "}\n",
       "\n",
       "mpl.figure.prototype.close_ws = function(fig, msg){\n",
       "    fig.send_message('closing', msg);\n",
       "    // fig.ws.close()\n",
       "}\n",
       "\n",
       "mpl.figure.prototype.push_to_output = function(remove_interactive) {\n",
       "    // Turn the data on the canvas into data in the output cell.\n",
       "    var width = this.canvas.width/mpl.ratio\n",
       "    var dataURL = this.canvas.toDataURL();\n",
       "    this.cell_info[1]['text/html'] = '<img src=\"' + dataURL + '\" width=\"' + width + '\">';\n",
       "}\n",
       "\n",
       "mpl.figure.prototype.updated_canvas_event = function() {\n",
       "    // Tell IPython that the notebook contents must change.\n",
       "    IPython.notebook.set_dirty(true);\n",
       "    this.send_message(\"ack\", {});\n",
       "    var fig = this;\n",
       "    // Wait a second, then push the new image to the DOM so\n",
       "    // that it is saved nicely (might be nice to debounce this).\n",
       "    setTimeout(function () { fig.push_to_output() }, 1000);\n",
       "}\n",
       "\n",
       "mpl.figure.prototype._init_toolbar = function() {\n",
       "    var fig = this;\n",
       "\n",
       "    var nav_element = $('<div/>');\n",
       "    nav_element.attr('style', 'width: 100%');\n",
       "    this.root.append(nav_element);\n",
       "\n",
       "    // Define a callback function for later on.\n",
       "    function toolbar_event(event) {\n",
       "        return fig.toolbar_button_onclick(event['data']);\n",
       "    }\n",
       "    function toolbar_mouse_event(event) {\n",
       "        return fig.toolbar_button_onmouseover(event['data']);\n",
       "    }\n",
       "\n",
       "    for(var toolbar_ind in mpl.toolbar_items){\n",
       "        var name = mpl.toolbar_items[toolbar_ind][0];\n",
       "        var tooltip = mpl.toolbar_items[toolbar_ind][1];\n",
       "        var image = mpl.toolbar_items[toolbar_ind][2];\n",
       "        var method_name = mpl.toolbar_items[toolbar_ind][3];\n",
       "\n",
       "        if (!name) { continue; };\n",
       "\n",
       "        var button = $('<button class=\"btn btn-default\" href=\"#\" title=\"' + name + '\"><i class=\"fa ' + image + ' fa-lg\"></i></button>');\n",
       "        button.click(method_name, toolbar_event);\n",
       "        button.mouseover(tooltip, toolbar_mouse_event);\n",
       "        nav_element.append(button);\n",
       "    }\n",
       "\n",
       "    // Add the status bar.\n",
       "    var status_bar = $('<span class=\"mpl-message\" style=\"text-align:right; float: right;\"/>');\n",
       "    nav_element.append(status_bar);\n",
       "    this.message = status_bar[0];\n",
       "\n",
       "    // Add the close button to the window.\n",
       "    var buttongrp = $('<div class=\"btn-group inline pull-right\"></div>');\n",
       "    var button = $('<button class=\"btn btn-mini btn-primary\" href=\"#\" title=\"Stop Interaction\"><i class=\"fa fa-power-off icon-remove icon-large\"></i></button>');\n",
       "    button.click(function (evt) { fig.handle_close(fig, {}); } );\n",
       "    button.mouseover('Stop Interaction', toolbar_mouse_event);\n",
       "    buttongrp.append(button);\n",
       "    var titlebar = this.root.find($('.ui-dialog-titlebar'));\n",
       "    titlebar.prepend(buttongrp);\n",
       "}\n",
       "\n",
       "mpl.figure.prototype._root_extra_style = function(el){\n",
       "    var fig = this\n",
       "    el.on(\"remove\", function(){\n",
       "\tfig.close_ws(fig, {});\n",
       "    });\n",
       "}\n",
       "\n",
       "mpl.figure.prototype._canvas_extra_style = function(el){\n",
       "    // this is important to make the div 'focusable\n",
       "    el.attr('tabindex', 0)\n",
       "    // reach out to IPython and tell the keyboard manager to turn it's self\n",
       "    // off when our div gets focus\n",
       "\n",
       "    // location in version 3\n",
       "    if (IPython.notebook.keyboard_manager) {\n",
       "        IPython.notebook.keyboard_manager.register_events(el);\n",
       "    }\n",
       "    else {\n",
       "        // location in version 2\n",
       "        IPython.keyboard_manager.register_events(el);\n",
       "    }\n",
       "\n",
       "}\n",
       "\n",
       "mpl.figure.prototype._key_event_extra = function(event, name) {\n",
       "    var manager = IPython.notebook.keyboard_manager;\n",
       "    if (!manager)\n",
       "        manager = IPython.keyboard_manager;\n",
       "\n",
       "    // Check for shift+enter\n",
       "    if (event.shiftKey && event.which == 13) {\n",
       "        this.canvas_div.blur();\n",
       "        event.shiftKey = false;\n",
       "        // Send a \"J\" for go to next cell\n",
       "        event.which = 74;\n",
       "        event.keyCode = 74;\n",
       "        manager.command_mode();\n",
       "        manager.handle_keydown(event);\n",
       "    }\n",
       "}\n",
       "\n",
       "mpl.figure.prototype.handle_save = function(fig, msg) {\n",
       "    fig.ondownload(fig, null);\n",
       "}\n",
       "\n",
       "\n",
       "mpl.find_output_cell = function(html_output) {\n",
       "    // Return the cell and output element which can be found *uniquely* in the notebook.\n",
       "    // Note - this is a bit hacky, but it is done because the \"notebook_saving.Notebook\"\n",
       "    // IPython event is triggered only after the cells have been serialised, which for\n",
       "    // our purposes (turning an active figure into a static one), is too late.\n",
       "    var cells = IPython.notebook.get_cells();\n",
       "    var ncells = cells.length;\n",
       "    for (var i=0; i<ncells; i++) {\n",
       "        var cell = cells[i];\n",
       "        if (cell.cell_type === 'code'){\n",
       "            for (var j=0; j<cell.output_area.outputs.length; j++) {\n",
       "                var data = cell.output_area.outputs[j];\n",
       "                if (data.data) {\n",
       "                    // IPython >= 3 moved mimebundle to data attribute of output\n",
       "                    data = data.data;\n",
       "                }\n",
       "                if (data['text/html'] == html_output) {\n",
       "                    return [cell, data, j];\n",
       "                }\n",
       "            }\n",
       "        }\n",
       "    }\n",
       "}\n",
       "\n",
       "// Register the function which deals with the matplotlib target/channel.\n",
       "// The kernel may be null if the page has been refreshed.\n",
       "if (IPython.notebook.kernel != null) {\n",
       "    IPython.notebook.kernel.comm_manager.register_target('matplotlib', mpl.mpl_figure_comm);\n",
       "}\n"
      ],
      "text/plain": [
       "<IPython.core.display.Javascript object>"
      ]
     },
     "metadata": {},
     "output_type": "display_data"
    },
    {
     "data": {
      "text/html": [
       "<img src=\"data:image/png;base64,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\" width=\"640\">"
      ],
      "text/plain": [
       "<IPython.core.display.HTML object>"
      ]
     },
     "metadata": {},
     "output_type": "display_data"
    }
   ],
   "source": [
    "plt.figure()\n",
    "plt.plot(f1_score_x_labels,f1_score_list,'-b')\n",
    "plt.xlabel('Classification Models')\n",
    "plt.ylabel('F1 Score')\n",
    "plt.xticks(rotation='vertical')\n",
    "plt.tight_layout()\n",
    "plt.show()"
   ]
  },
  {
   "cell_type": "markdown",
   "metadata": {},
   "source": [
    "### Creating a report"
   ]
  },
  {
   "cell_type": "code",
   "execution_count": 116,
   "metadata": {},
   "outputs": [],
   "source": [
    "data={'model':['Logistic','Isolation','Naive Bayes','KNN','SVM','Decision Tree','Random Forest'],\n",
    "     'Accuracy':accuracy_list,'F1 Score':f1_score_list}"
   ]
  },
  {
   "cell_type": "code",
   "execution_count": 117,
   "metadata": {},
   "outputs": [],
   "source": [
    "report_df=pd.DataFrame(data)"
   ]
  },
  {
   "cell_type": "code",
   "execution_count": 118,
   "metadata": {},
   "outputs": [],
   "source": [
    "report_df.set_index('model',inplace=True)"
   ]
  },
  {
   "cell_type": "code",
   "execution_count": 119,
   "metadata": {},
   "outputs": [],
   "source": [
    "report_df.sort_values(by='Accuracy',axis=0,ascending=False,inplace=True)"
   ]
  },
  {
   "cell_type": "code",
   "execution_count": 120,
   "metadata": {},
   "outputs": [
    {
     "data": {
      "text/html": [
       "<div>\n",
       "<style scoped>\n",
       "    .dataframe tbody tr th:only-of-type {\n",
       "        vertical-align: middle;\n",
       "    }\n",
       "\n",
       "    .dataframe tbody tr th {\n",
       "        vertical-align: top;\n",
       "    }\n",
       "\n",
       "    .dataframe thead th {\n",
       "        text-align: right;\n",
       "    }\n",
       "</style>\n",
       "<table border=\"1\" class=\"dataframe\">\n",
       "  <thead>\n",
       "    <tr style=\"text-align: right;\">\n",
       "      <th></th>\n",
       "      <th>Accuracy</th>\n",
       "      <th>F1 Score</th>\n",
       "    </tr>\n",
       "    <tr>\n",
       "      <th>model</th>\n",
       "      <th></th>\n",
       "      <th></th>\n",
       "    </tr>\n",
       "  </thead>\n",
       "  <tbody>\n",
       "    <tr>\n",
       "      <th>Random Forest</th>\n",
       "      <td>0.544304</td>\n",
       "      <td>0.536830</td>\n",
       "    </tr>\n",
       "    <tr>\n",
       "      <th>Naive Bayes</th>\n",
       "      <td>0.459916</td>\n",
       "      <td>0.477781</td>\n",
       "    </tr>\n",
       "    <tr>\n",
       "      <th>Decision Tree</th>\n",
       "      <td>0.459916</td>\n",
       "      <td>0.378324</td>\n",
       "    </tr>\n",
       "    <tr>\n",
       "      <th>KNN</th>\n",
       "      <td>0.455696</td>\n",
       "      <td>0.346699</td>\n",
       "    </tr>\n",
       "    <tr>\n",
       "      <th>Logistic</th>\n",
       "      <td>0.430380</td>\n",
       "      <td>0.601770</td>\n",
       "    </tr>\n",
       "    <tr>\n",
       "      <th>Isolation</th>\n",
       "      <td>0.430380</td>\n",
       "      <td>0.601770</td>\n",
       "    </tr>\n",
       "    <tr>\n",
       "      <th>SVM</th>\n",
       "      <td>0.430380</td>\n",
       "      <td>0.601770</td>\n",
       "    </tr>\n",
       "  </tbody>\n",
       "</table>\n",
       "</div>"
      ],
      "text/plain": [
       "               Accuracy  F1 Score\n",
       "model                            \n",
       "Random Forest  0.544304  0.536830\n",
       "Naive Bayes    0.459916  0.477781\n",
       "Decision Tree  0.459916  0.378324\n",
       "KNN            0.455696  0.346699\n",
       "Logistic       0.430380  0.601770\n",
       "Isolation      0.430380  0.601770\n",
       "SVM            0.430380  0.601770"
      ]
     },
     "execution_count": 120,
     "metadata": {},
     "output_type": "execute_result"
    }
   ],
   "source": [
    "report_df"
   ]
  },
  {
   "cell_type": "code",
   "execution_count": null,
   "metadata": {},
   "outputs": [],
   "source": []
  }
 ],
 "metadata": {
  "kernelspec": {
   "display_name": "Python 3",
   "language": "python",
   "name": "python3"
  },
  "language_info": {
   "codemirror_mode": {
    "name": "ipython",
    "version": 3
   },
   "file_extension": ".py",
   "mimetype": "text/x-python",
   "name": "python",
   "nbconvert_exporter": "python",
   "pygments_lexer": "ipython3",
   "version": "3.7.3"
  }
 },
 "nbformat": 4,
 "nbformat_minor": 2
}
